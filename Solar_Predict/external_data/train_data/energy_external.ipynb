{
 "metadata": {
  "language_info": {
   "codemirror_mode": {
    "name": "ipython",
    "version": 3
   },
   "file_extension": ".py",
   "mimetype": "text/x-python",
   "name": "python",
   "nbconvert_exporter": "python",
   "pygments_lexer": "ipython3",
   "version": "3.8.5"
  },
  "orig_nbformat": 2,
  "kernelspec": {
   "name": "python385jvsc74a57bd00a11f21c0450bb1ec4a8d90e5cdddc03f9c3302b58333d2d566c7a90a775328a",
   "display_name": "Python 3.8.5 64-bit ('base': conda)"
  }
 },
 "nbformat": 4,
 "nbformat_minor": 2,
 "cells": [
  {
   "cell_type": "code",
   "execution_count": 12,
   "metadata": {},
   "outputs": [],
   "source": [
    "import pandas as pd\n",
    "import numpy as np"
   ]
  },
  {
   "source": [
    "# Energy"
   ],
   "cell_type": "markdown",
   "metadata": {}
  },
  {
   "cell_type": "code",
   "execution_count": 13,
   "metadata": {},
   "outputs": [],
   "source": [
    "# # https://dacon.io/competitions/official/235720/codeshare/2583?page=1&dtype=recent 참고\n",
    "\n",
    "# load\n",
    "data1 = pd.read_csv('한국동서발전 시간대별 태양광 및 풍력 발전량 현황(2018_2019).csv', encoding='euc-kr')\n",
    "data2 = pd.read_csv('한국동서발전 시간대별 태양광 발전량 현황(2015_2017).csv', encoding='euc-kr')\n",
    "\n",
    "# convert name\n",
    "convert_name = {'당진태양광':'dangjin', '당진수상태양광':'dangjin_floating', '당진자재창고태양광':'dangjin_warehouse', '울산태양광':'ulsan'}"
   ]
  },
  {
   "cell_type": "code",
   "execution_count": 14,
   "metadata": {},
   "outputs": [],
   "source": [
    "def preprocess(energy_type):\n",
    "    # sample\n",
    "    data1_ = data1.loc[data1['태양광명'] == energy_type]\n",
    "    data2_ = data2.loc[data2['태양광명'] == energy_type]\n",
    "\n",
    "    # merge two data\n",
    "    data1_.drop(columns=['태양광명'], inplace=True)\n",
    "    data2_.drop(columns=['태양광명','용량(MW)'], inplace=True)\n",
    "    data = data2_.append(data1_)\n",
    "\n",
    "    # datetime\n",
    "    data['시간'] = pd.to_datetime(data['시간'])\n",
    "\n",
    "    # modify df\n",
    "    hours = [] # to store 'time'\n",
    "    values = [] # to store energy value\n",
    "\n",
    "    for i in range(data.shape[0]):\n",
    "        row = data.iloc[i]\n",
    "        day = row['시간']\n",
    "\n",
    "        for h in range(24): # loop over one row(one day)\n",
    "            hour = day.replace(hour=h)\n",
    "            hour += pd.Timedelta(1, unit='hour') # data is originaly 1~24. Change to 0~23.\n",
    "\n",
    "            hours.append(hour)\n",
    "            values.append(row[str(h+1)])\n",
    "\n",
    "    df = pd.DataFrame({'time':hours, convert_name[energy_type]:values})\n",
    "    return df.set_index('time')"
   ]
  },
  {
   "cell_type": "code",
   "execution_count": 15,
   "metadata": {
    "tags": []
   },
   "outputs": [
    {
     "output_type": "stream",
     "name": "stderr",
     "text": [
      "/home/yejoon/anaconda3/lib/python3.8/site-packages/pandas/core/frame.py:4308: SettingWithCopyWarning: \nA value is trying to be set on a copy of a slice from a DataFrame\n\nSee the caveats in the documentation: https://pandas.pydata.org/pandas-docs/stable/user_guide/indexing.html#returning-a-view-versus-a-copy\n  return super().drop(\n"
     ]
    }
   ],
   "source": [
    "dangjin = preprocess('당진태양광')\n",
    "dangjin_floating = preprocess('당진수상태양광')\n",
    "dangjin_warehouse = preprocess('당진자재창고태양광')\n",
    "ulsan = preprocess('울산태양광')"
   ]
  },
  {
   "cell_type": "code",
   "execution_count": 16,
   "metadata": {},
   "outputs": [
    {
     "output_type": "stream",
     "name": "stdout",
     "text": [
      "(40824, 1)\n(14592, 1)\n(40776, 1)\n(39408, 1)\n"
     ]
    }
   ],
   "source": [
    "# shape\n",
    "print(dangjin.shape)\n",
    "print(dangjin_floating.shape)\n",
    "print(dangjin_warehouse.shape)\n",
    "print(ulsan.shape)"
   ]
  },
  {
   "cell_type": "code",
   "execution_count": 17,
   "metadata": {},
   "outputs": [],
   "source": [
    "# merge\n",
    "dangjin_all = pd.concat([dangjin,dangjin_floating,dangjin_warehouse], axis=1, join='outer')\n",
    "\n",
    "# slice time \n",
    "dangjin_all = dangjin_all.loc[dangjin_all.index < pd.Timestamp('2018-03-02 00:00:00')]\n",
    "ulsan = ulsan.loc[ulsan.index < pd.Timestamp('2018-03-02 00:00:00')]"
   ]
  },
  {
   "source": [
    "## Fill na in dangjin_floating"
   ],
   "cell_type": "markdown",
   "metadata": {}
  },
  {
   "cell_type": "code",
   "execution_count": 18,
   "metadata": {},
   "outputs": [
    {
     "output_type": "stream",
     "name": "stdout",
     "text": [
      "dangjin                  0\ndangjin_floating     26232\ndangjin_warehouse        0\ndtype: int64\nulsan    0\ndtype: int64\n"
     ]
    }
   ],
   "source": [
    "print(dangjin_all.isna().sum())\n",
    "print(ulsan.isna().sum())"
   ]
  },
  {
   "cell_type": "code",
   "execution_count": 19,
   "metadata": {},
   "outputs": [
    {
     "output_type": "execute_result",
     "data": {
      "text/plain": [
       "0.48344334791995036"
      ]
     },
     "metadata": {},
     "execution_count": 19
    }
   ],
   "source": [
    "dangjin_all_mean_series = dangjin_all.mean(axis=0)\n",
    "\n",
    "djdjw_to_djflt = dangjin_all_mean_series['dangjin_floating']  / (dangjin_all_mean_series['dangjin'] + dangjin_all_mean_series['dangjin_warehouse'])\n",
    "\n",
    "djdjw_to_djflt"
   ]
  },
  {
   "cell_type": "code",
   "execution_count": 20,
   "metadata": {},
   "outputs": [
    {
     "output_type": "stream",
     "name": "stderr",
     "text": [
      "/home/yejoon/anaconda3/lib/python3.8/site-packages/pandas/core/indexing.py:1676: SettingWithCopyWarning: \nA value is trying to be set on a copy of a slice from a DataFrame.\nTry using .loc[row_indexer,col_indexer] = value instead\n\nSee the caveats in the documentation: https://pandas.pydata.org/pandas-docs/stable/user_guide/indexing.html#returning-a-view-versus-a-copy\n  self._setitem_single_column(ilocs[0], value, pi)\n"
     ]
    }
   ],
   "source": [
    "na_dangjin_floating = dangjin_all.loc[dangjin_all['dangjin_floating'].isna()] # df where dangjin_floating = na\n",
    "na_dangjin_floating.loc[:,'dangjin_floating'] = (na_dangjin_floating['dangjin'] + na_dangjin_floating['dangjin_warehouse']) * djdjw_to_djflt\n",
    "\n",
    "dangjin_all_filled = dangjin_all.copy()\n",
    "dangjin_all_filled[dangjin_all_filled['dangjin_floating'].isna()] = na_dangjin_floating"
   ]
  },
  {
   "cell_type": "code",
   "execution_count": 21,
   "metadata": {},
   "outputs": [
    {
     "output_type": "execute_result",
     "data": {
      "text/plain": [
       "                     dangjin  dangjin_floating  dangjin_warehouse\n",
       "time                                                             \n",
       "2015-01-01 01:00:00        0               0.0                0.0\n",
       "2015-01-01 02:00:00        0               0.0                0.0\n",
       "2015-01-01 03:00:00        0               0.0                0.0\n",
       "2015-01-01 04:00:00        0               0.0                0.0\n",
       "2015-01-01 05:00:00        0               0.0                0.0\n",
       "...                      ...               ...                ...\n",
       "2018-03-01 19:00:00        0              11.0                2.0\n",
       "2018-03-01 20:00:00        0               0.0                0.0\n",
       "2018-03-01 21:00:00        0               0.0                0.0\n",
       "2018-03-01 22:00:00        0               0.0                0.0\n",
       "2018-03-01 23:00:00        0               0.0                0.0\n",
       "\n",
       "[27671 rows x 3 columns]"
      ],
      "text/html": "<div>\n<style scoped>\n    .dataframe tbody tr th:only-of-type {\n        vertical-align: middle;\n    }\n\n    .dataframe tbody tr th {\n        vertical-align: top;\n    }\n\n    .dataframe thead th {\n        text-align: right;\n    }\n</style>\n<table border=\"1\" class=\"dataframe\">\n  <thead>\n    <tr style=\"text-align: right;\">\n      <th></th>\n      <th>dangjin</th>\n      <th>dangjin_floating</th>\n      <th>dangjin_warehouse</th>\n    </tr>\n    <tr>\n      <th>time</th>\n      <th></th>\n      <th></th>\n      <th></th>\n    </tr>\n  </thead>\n  <tbody>\n    <tr>\n      <th>2015-01-01 01:00:00</th>\n      <td>0</td>\n      <td>0.0</td>\n      <td>0.0</td>\n    </tr>\n    <tr>\n      <th>2015-01-01 02:00:00</th>\n      <td>0</td>\n      <td>0.0</td>\n      <td>0.0</td>\n    </tr>\n    <tr>\n      <th>2015-01-01 03:00:00</th>\n      <td>0</td>\n      <td>0.0</td>\n      <td>0.0</td>\n    </tr>\n    <tr>\n      <th>2015-01-01 04:00:00</th>\n      <td>0</td>\n      <td>0.0</td>\n      <td>0.0</td>\n    </tr>\n    <tr>\n      <th>2015-01-01 05:00:00</th>\n      <td>0</td>\n      <td>0.0</td>\n      <td>0.0</td>\n    </tr>\n    <tr>\n      <th>...</th>\n      <td>...</td>\n      <td>...</td>\n      <td>...</td>\n    </tr>\n    <tr>\n      <th>2018-03-01 19:00:00</th>\n      <td>0</td>\n      <td>11.0</td>\n      <td>2.0</td>\n    </tr>\n    <tr>\n      <th>2018-03-01 20:00:00</th>\n      <td>0</td>\n      <td>0.0</td>\n      <td>0.0</td>\n    </tr>\n    <tr>\n      <th>2018-03-01 21:00:00</th>\n      <td>0</td>\n      <td>0.0</td>\n      <td>0.0</td>\n    </tr>\n    <tr>\n      <th>2018-03-01 22:00:00</th>\n      <td>0</td>\n      <td>0.0</td>\n      <td>0.0</td>\n    </tr>\n    <tr>\n      <th>2018-03-01 23:00:00</th>\n      <td>0</td>\n      <td>0.0</td>\n      <td>0.0</td>\n    </tr>\n  </tbody>\n</table>\n<p>27671 rows × 3 columns</p>\n</div>"
     },
     "metadata": {},
     "execution_count": 21
    }
   ],
   "source": [
    "dangjin_all_filled"
   ]
  },
  {
   "source": [
    "# Fcst"
   ],
   "cell_type": "markdown",
   "metadata": {}
  },
  {
   "cell_type": "code",
   "execution_count": 30,
   "metadata": {},
   "outputs": [
    {
     "output_type": "execute_result",
     "data": {
      "text/plain": [
       "['./dangjin_2015/석문면_3시간기온_201501_201512.csv',\n",
       " './dangjin_2015/석문면_습도_201501_201512.csv',\n",
       " './dangjin_2015/석문면_풍속_201501_201512.csv',\n",
       " './dangjin_2015/석문면_풍향_201501_201512.csv',\n",
       " './dangjin_2015/석문면_하늘상태_201501_201512.csv',\n",
       " './dangjin_2016/석문면_3시간기온_201601_201612.csv',\n",
       " './dangjin_2016/석문면_습도_201601_201612.csv',\n",
       " './dangjin_2016/석문면_풍속_201601_201612.csv',\n",
       " './dangjin_2016/석문면_풍향_201601_201612.csv',\n",
       " './dangjin_2016/석문면_하늘상태_201601_201612.csv',\n",
       " './dangjin_2017/석문면_3시간기온_201701_201712.csv',\n",
       " './dangjin_2017/석문면_습도_201701_201712.csv',\n",
       " './dangjin_2017/석문면_풍속_201701_201712.csv',\n",
       " './dangjin_2017/석문면_풍향_201701_201712.csv',\n",
       " './dangjin_2017/석문면_하늘상태_201701_201712.csv',\n",
       " './dangjin_2018/석문면_3시간기온_201801_201802.csv',\n",
       " './dangjin_2018/석문면_습도_201801_201802.csv',\n",
       " './dangjin_2018/석문면_풍속_201801_201802.csv',\n",
       " './dangjin_2018/석문면_풍향_201801_201802.csv',\n",
       " './dangjin_2018/석문면_하늘상태_201801_201802.csv']"
      ]
     },
     "metadata": {},
     "execution_count": 30
    }
   ],
   "source": [
    "from glob import glob\n",
    "dj_path = sorted(glob('./dangjin_*/*.csv'))\n",
    "dj_path"
   ]
  },
  {
   "cell_type": "code",
   "execution_count": 68,
   "metadata": {},
   "outputs": [
    {
     "output_type": "execute_result",
     "data": {
      "text/plain": [
       "       day  hour  forecast  value\n",
       "0        1     2         4   -2.4\n",
       "20       1     5         4   -3.0\n",
       "39       1     8         4   -5.0\n",
       "57       1    11         4   -5.9\n",
       "74       1    14         4   -5.7\n",
       "...    ...   ...       ...    ...\n",
       "52439   31    11         4   -1.3\n",
       "52456   31    14         4   -2.0\n",
       "52472   31    17         4   -2.2\n",
       "52487   31    20         4    1.0\n",
       "52509   31    23         4    4.1\n",
       "\n",
       "[2839 rows x 4 columns]"
      ],
      "text/html": "<div>\n<style scoped>\n    .dataframe tbody tr th:only-of-type {\n        vertical-align: middle;\n    }\n\n    .dataframe tbody tr th {\n        vertical-align: top;\n    }\n\n    .dataframe thead th {\n        text-align: right;\n    }\n</style>\n<table border=\"1\" class=\"dataframe\">\n  <thead>\n    <tr style=\"text-align: right;\">\n      <th></th>\n      <th>day</th>\n      <th>hour</th>\n      <th>forecast</th>\n      <th>value</th>\n    </tr>\n  </thead>\n  <tbody>\n    <tr>\n      <th>0</th>\n      <td>1</td>\n      <td>2</td>\n      <td>4</td>\n      <td>-2.4</td>\n    </tr>\n    <tr>\n      <th>20</th>\n      <td>1</td>\n      <td>5</td>\n      <td>4</td>\n      <td>-3.0</td>\n    </tr>\n    <tr>\n      <th>39</th>\n      <td>1</td>\n      <td>8</td>\n      <td>4</td>\n      <td>-5.0</td>\n    </tr>\n    <tr>\n      <th>57</th>\n      <td>1</td>\n      <td>11</td>\n      <td>4</td>\n      <td>-5.9</td>\n    </tr>\n    <tr>\n      <th>74</th>\n      <td>1</td>\n      <td>14</td>\n      <td>4</td>\n      <td>-5.7</td>\n    </tr>\n    <tr>\n      <th>...</th>\n      <td>...</td>\n      <td>...</td>\n      <td>...</td>\n      <td>...</td>\n    </tr>\n    <tr>\n      <th>52439</th>\n      <td>31</td>\n      <td>11</td>\n      <td>4</td>\n      <td>-1.3</td>\n    </tr>\n    <tr>\n      <th>52456</th>\n      <td>31</td>\n      <td>14</td>\n      <td>4</td>\n      <td>-2.0</td>\n    </tr>\n    <tr>\n      <th>52472</th>\n      <td>31</td>\n      <td>17</td>\n      <td>4</td>\n      <td>-2.2</td>\n    </tr>\n    <tr>\n      <th>52487</th>\n      <td>31</td>\n      <td>20</td>\n      <td>4</td>\n      <td>1.0</td>\n    </tr>\n    <tr>\n      <th>52509</th>\n      <td>31</td>\n      <td>23</td>\n      <td>4</td>\n      <td>4.1</td>\n    </tr>\n  </tbody>\n</table>\n<p>2839 rows × 4 columns</p>\n</div>"
     },
     "metadata": {},
     "execution_count": 68
    }
   ],
   "source": [
    "data = pd.read_csv(dj_path[0], header=0, names=['day','hour','forecast','value'])\n",
    "\n",
    "# use the most recent fcst (forget about data leakage)\n",
    "data = data.loc[data['forecast'] ==4.0]\n",
    "\n",
    "# to make datetime\n",
    "data['hour'] = data['hour'].apply(lambda x: int(x//100))\n",
    "data['forecast'] = data['forecast'].astype('int')\n",
    "data['day'] = data['day'].applly(lambda x:)"
   ]
  },
  {
   "cell_type": "code",
   "execution_count": 81,
   "metadata": {},
   "outputs": [
    {
     "output_type": "execute_result",
     "data": {
      "text/plain": [
       "array([' 1', ' 2', ' 3', ' 4', ' 5', ' 6', ' 7', ' 8', ' 9', ' 10', ' 11',\n",
       "       ' 12', ' 13', ' 14', ' 15', ' 16', ' 17', ' 18', ' 19', ' 20',\n",
       "       ' 21', ' 22', ' 23', ' 24', ' 25', ' 26', ' 27', ' 28', ' 29',\n",
       "       ' 30', ' 31'], dtype=object)"
      ]
     },
     "metadata": {},
     "execution_count": 81
    }
   ],
   "source": [
    "data['day'].unique()"
   ]
  },
  {
   "cell_type": "code",
   "execution_count": 83,
   "metadata": {},
   "outputs": [
    {
     "output_type": "execute_result",
     "data": {
      "text/plain": [
       "      day  hour  forecast  value\n",
       "0       1     2         4   -2.4\n",
       "20      1     5         4   -3.0\n",
       "39      1     8         4   -5.0\n",
       "57      1    11         4   -5.9\n",
       "74      1    14         4   -5.7\n",
       "...    ..   ...       ...    ...\n",
       "47999   1    11         4    5.9\n",
       "48016   1    14         4    5.7\n",
       "48032   1    17         4    6.7\n",
       "48047   1    20         4    9.3\n",
       "48069   1    23         4    9.8\n",
       "\n",
       "[96 rows x 4 columns]"
      ],
      "text/html": "<div>\n<style scoped>\n    .dataframe tbody tr th:only-of-type {\n        vertical-align: middle;\n    }\n\n    .dataframe tbody tr th {\n        vertical-align: top;\n    }\n\n    .dataframe thead th {\n        text-align: right;\n    }\n</style>\n<table border=\"1\" class=\"dataframe\">\n  <thead>\n    <tr style=\"text-align: right;\">\n      <th></th>\n      <th>day</th>\n      <th>hour</th>\n      <th>forecast</th>\n      <th>value</th>\n    </tr>\n  </thead>\n  <tbody>\n    <tr>\n      <th>0</th>\n      <td>1</td>\n      <td>2</td>\n      <td>4</td>\n      <td>-2.4</td>\n    </tr>\n    <tr>\n      <th>20</th>\n      <td>1</td>\n      <td>5</td>\n      <td>4</td>\n      <td>-3.0</td>\n    </tr>\n    <tr>\n      <th>39</th>\n      <td>1</td>\n      <td>8</td>\n      <td>4</td>\n      <td>-5.0</td>\n    </tr>\n    <tr>\n      <th>57</th>\n      <td>1</td>\n      <td>11</td>\n      <td>4</td>\n      <td>-5.9</td>\n    </tr>\n    <tr>\n      <th>74</th>\n      <td>1</td>\n      <td>14</td>\n      <td>4</td>\n      <td>-5.7</td>\n    </tr>\n    <tr>\n      <th>...</th>\n      <td>...</td>\n      <td>...</td>\n      <td>...</td>\n      <td>...</td>\n    </tr>\n    <tr>\n      <th>47999</th>\n      <td>1</td>\n      <td>11</td>\n      <td>4</td>\n      <td>5.9</td>\n    </tr>\n    <tr>\n      <th>48016</th>\n      <td>1</td>\n      <td>14</td>\n      <td>4</td>\n      <td>5.7</td>\n    </tr>\n    <tr>\n      <th>48032</th>\n      <td>1</td>\n      <td>17</td>\n      <td>4</td>\n      <td>6.7</td>\n    </tr>\n    <tr>\n      <th>48047</th>\n      <td>1</td>\n      <td>20</td>\n      <td>4</td>\n      <td>9.3</td>\n    </tr>\n    <tr>\n      <th>48069</th>\n      <td>1</td>\n      <td>23</td>\n      <td>4</td>\n      <td>9.8</td>\n    </tr>\n  </tbody>\n</table>\n<p>96 rows × 4 columns</p>\n</div>"
     },
     "metadata": {},
     "execution_count": 83
    }
   ],
   "source": [
    "data.loc[data['day'] == ' 1']"
   ]
  }
 ]
}