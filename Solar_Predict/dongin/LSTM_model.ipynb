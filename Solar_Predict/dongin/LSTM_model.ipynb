{
 "cells": [
  {
   "cell_type": "markdown",
   "metadata": {
    "id": "2Pmxv2ioyCRw"
   },
   "source": [
    "##### Copyright 2019 The TensorFlow Authors."
   ]
  },
  {
   "cell_type": "code",
   "execution_count": 3,
   "metadata": {
    "cellView": "form",
    "execution": {
     "iopub.execute_input": "2020-11-12T06:10:44.127199Z",
     "iopub.status.busy": "2020-11-12T06:10:44.126424Z",
     "iopub.status.idle": "2020-11-12T06:10:44.128997Z",
     "shell.execute_reply": "2020-11-12T06:10:44.128377Z"
    },
    "id": "b-2ShX25yNWf"
   },
   "outputs": [],
   "source": [
    "#@title Licensed under the Apache License, Version 2.0 (the \"License\");\n",
    "# you may not use this file except in compliance with the License.\n",
    "# You may obtain a copy of the License at\n",
    "#\n",
    "# https://www.apache.org/licenses/LICENSE-2.0\n",
    "#\n",
    "# Unless required by applicable law or agreed to in writing, software\n",
    "# distributed under the License is distributed on an \"AS IS\" BASIS,\n",
    "# WITHOUT WARRANTIES OR CONDITIONS OF ANY KIND, either express or implied.\n",
    "# See the License for the specific language governing permissions and\n",
    "# limitations under the License."
   ]
  },
  {
   "cell_type": "markdown",
   "metadata": {
    "id": "pa49bUnKyRgF"
   },
   "source": [
    "# 시계열 예측"
   ]
  },
  {
   "cell_type": "markdown",
   "metadata": {
    "id": "GU8C5qm_4vZb"
   },
   "source": [
    "이 튜토리얼에서는 TensorFlow를 사용한 시계열 예측을 소개합니다. Convolutional/Recurrent Neural Network(CNN 및 RNN)를 포함하여 몇 가지 다른 스타일의 모델을 빌드합니다.\n",
    "\n",
    "이 내용은 각각 하위 항목이 있는 두 부분으로 나누어 생각합니다.\n",
    "\n",
    "- 단일 타임스텝 예측:\n",
    "    - 단일 특성\n",
    "    - 모든 특성\n",
    "- 다중 스텝 예측:\n",
    "    - 싱글샷: 모두 한 번에 예측합니다.\n",
    "    - 자가 회귀: 한 번에 하나의 예측을 수행하고 결과를 모델로 피드백합니다."
   ]
  },
  {
   "cell_type": "markdown",
   "metadata": {
    "id": "XVhK72Pu1cJL"
   },
   "source": [
    "## 설정"
   ]
  },
  {
   "cell_type": "code",
   "execution_count": 4,
   "metadata": {
    "execution": {
     "iopub.execute_input": "2020-11-12T06:10:44.134678Z",
     "iopub.status.busy": "2020-11-12T06:10:44.133975Z",
     "iopub.status.idle": "2020-11-12T06:10:50.647608Z",
     "shell.execute_reply": "2020-11-12T06:10:50.647006Z"
    },
    "id": "7rZnJaGTWQw0"
   },
   "outputs": [],
   "source": [
    "import os\n",
    "import datetime\n",
    "\n",
    "import IPython\n",
    "import IPython.display\n",
    "import matplotlib as mpl\n",
    "import matplotlib.pyplot as plt\n",
    "import numpy as np\n",
    "import pandas as pd\n",
    "import seaborn as sns\n",
    "import tensorflow as tf\n",
    "import pickle\n",
    "from glob import glob\n",
    "\n",
    "mpl.rcParams['figure.figsize'] = (8, 6)\n",
    "mpl.rcParams['axes.grid'] = False"
   ]
  },
  {
   "cell_type": "code",
   "execution_count": 5,
   "metadata": {},
   "outputs": [],
   "source": [
    "with open('../witt_preprocessing/pickles/dangjin_fcst_data.pkl','rb') as f:\n",
    "    dangjin_fcst = pickle.load(f)\n",
    "with open('../witt_preprocessing/pickles/dangjin_obs_data.pkl','rb') as f:\n",
    "    dangjin_obs = pickle.load(f)\n",
    "with open('../witt_preprocessing/pickles/ulsan_fcst_data.pkl','rb') as f:\n",
    "    ulsan_fcst = pickle.load(f)\n",
    "with open('../witt_preprocessing/pickles/ulsan_obs_data.pkl', 'rb') as f:\n",
    "    ulsan_obs = pickle.load(f)\n",
    "\n",
    "energy = pd.read_csv(glob('../original_dataset/energy.csv')[0])"
   ]
  },
  {
   "cell_type": "code",
   "execution_count": 6,
   "metadata": {},
   "outputs": [],
   "source": [
    "with open('../witt_preprocessing/pickles/dangjin_merged.pkl','rb') as f:\n",
    "    dangjin = pickle.load(f)\n",
    "with open('../witt_preprocessing/pickles/ulsan_merged.pkl','rb') as f:\n",
    "    ulsan = pickle.load(f)"
   ]
  },
  {
   "cell_type": "code",
   "execution_count": 7,
   "metadata": {},
   "outputs": [
    {
     "data": {
      "text/html": [
       "<div>\n",
       "<style scoped>\n",
       "    .dataframe tbody tr th:only-of-type {\n",
       "        vertical-align: middle;\n",
       "    }\n",
       "\n",
       "    .dataframe tbody tr th {\n",
       "        vertical-align: top;\n",
       "    }\n",
       "\n",
       "    .dataframe thead th {\n",
       "        text-align: right;\n",
       "    }\n",
       "</style>\n",
       "<table border=\"1\" class=\"dataframe\">\n",
       "  <thead>\n",
       "    <tr style=\"text-align: right;\">\n",
       "      <th></th>\n",
       "      <th>Temperature_obs</th>\n",
       "      <th>Humidity_obs</th>\n",
       "      <th>Cloud_obs</th>\n",
       "      <th>Wind_X_obs</th>\n",
       "      <th>Wind_Y_obs</th>\n",
       "      <th>Temperature_fcst</th>\n",
       "      <th>Humidity_fcst</th>\n",
       "      <th>Cloud_fcst</th>\n",
       "      <th>Wind_X_fcst</th>\n",
       "      <th>Wind_Y_fcst</th>\n",
       "      <th>dangjin_floating</th>\n",
       "      <th>dangjin_warehouse</th>\n",
       "      <th>dangjin</th>\n",
       "      <th>Day_cos</th>\n",
       "      <th>Day_sin</th>\n",
       "      <th>Year_cos</th>\n",
       "      <th>Year_sin</th>\n",
       "    </tr>\n",
       "  </thead>\n",
       "  <tbody>\n",
       "    <tr>\n",
       "      <th>count</th>\n",
       "      <td>25607.000000</td>\n",
       "      <td>25607.000000</td>\n",
       "      <td>25607.000000</td>\n",
       "      <td>25607.000000</td>\n",
       "      <td>25607.000000</td>\n",
       "      <td>25607.000000</td>\n",
       "      <td>25607.000000</td>\n",
       "      <td>25607.000000</td>\n",
       "      <td>2.560700e+04</td>\n",
       "      <td>25607.000000</td>\n",
       "      <td>25607.000000</td>\n",
       "      <td>25607.000000</td>\n",
       "      <td>25607.000000</td>\n",
       "      <td>2.560700e+04</td>\n",
       "      <td>2.560700e+04</td>\n",
       "      <td>25607.000000</td>\n",
       "      <td>25607.000000</td>\n",
       "    </tr>\n",
       "    <tr>\n",
       "      <th>mean</th>\n",
       "      <td>12.835175</td>\n",
       "      <td>77.500020</td>\n",
       "      <td>5.237365</td>\n",
       "      <td>0.744474</td>\n",
       "      <td>-90.356806</td>\n",
       "      <td>12.971250</td>\n",
       "      <td>72.937029</td>\n",
       "      <td>5.063108</td>\n",
       "      <td>5.173052e-01</td>\n",
       "      <td>-52.207618</td>\n",
       "      <td>121.890030</td>\n",
       "      <td>92.272113</td>\n",
       "      <td>139.612059</td>\n",
       "      <td>-3.772116e-05</td>\n",
       "      <td>1.010736e-05</td>\n",
       "      <td>0.952302</td>\n",
       "      <td>0.265206</td>\n",
       "    </tr>\n",
       "    <tr>\n",
       "      <th>std</th>\n",
       "      <td>9.737095</td>\n",
       "      <td>16.933049</td>\n",
       "      <td>2.071087</td>\n",
       "      <td>3.007667</td>\n",
       "      <td>127.613644</td>\n",
       "      <td>10.165007</td>\n",
       "      <td>20.379468</td>\n",
       "      <td>3.567911</td>\n",
       "      <td>1.827555e+00</td>\n",
       "      <td>106.334208</td>\n",
       "      <td>191.915027</td>\n",
       "      <td>146.296212</td>\n",
       "      <td>220.437588</td>\n",
       "      <td>7.071086e-01</td>\n",
       "      <td>7.071325e-01</td>\n",
       "      <td>0.041645</td>\n",
       "      <td>0.145096</td>\n",
       "    </tr>\n",
       "    <tr>\n",
       "      <th>min</th>\n",
       "      <td>-14.000000</td>\n",
       "      <td>10.000000</td>\n",
       "      <td>2.763537</td>\n",
       "      <td>-27.136384</td>\n",
       "      <td>-275.837623</td>\n",
       "      <td>-19.300000</td>\n",
       "      <td>10.000000</td>\n",
       "      <td>0.000000</td>\n",
       "      <td>-1.170000e+01</td>\n",
       "      <td>-272.510860</td>\n",
       "      <td>0.000000</td>\n",
       "      <td>0.000000</td>\n",
       "      <td>0.000000</td>\n",
       "      <td>-1.000000e+00</td>\n",
       "      <td>-1.000000e+00</td>\n",
       "      <td>0.860961</td>\n",
       "      <td>0.017213</td>\n",
       "    </tr>\n",
       "    <tr>\n",
       "      <th>25%</th>\n",
       "      <td>4.666667</td>\n",
       "      <td>65.000000</td>\n",
       "      <td>2.763537</td>\n",
       "      <td>-1.108191</td>\n",
       "      <td>-211.017883</td>\n",
       "      <td>4.700000</td>\n",
       "      <td>57.750000</td>\n",
       "      <td>2.000000</td>\n",
       "      <td>-3.857637e-16</td>\n",
       "      <td>-116.286849</td>\n",
       "      <td>0.000000</td>\n",
       "      <td>0.000000</td>\n",
       "      <td>0.000000</td>\n",
       "      <td>-7.071068e-01</td>\n",
       "      <td>-7.071068e-01</td>\n",
       "      <td>0.922640</td>\n",
       "      <td>0.137279</td>\n",
       "    </tr>\n",
       "    <tr>\n",
       "      <th>50%</th>\n",
       "      <td>13.000000</td>\n",
       "      <td>80.000000</td>\n",
       "      <td>6.184945</td>\n",
       "      <td>0.705372</td>\n",
       "      <td>-96.404156</td>\n",
       "      <td>13.600000</td>\n",
       "      <td>76.000000</td>\n",
       "      <td>5.000000</td>\n",
       "      <td>4.000000e-01</td>\n",
       "      <td>0.000000</td>\n",
       "      <td>0.000000</td>\n",
       "      <td>0.000000</td>\n",
       "      <td>0.000000</td>\n",
       "      <td>-1.836970e-16</td>\n",
       "      <td>1.224647e-16</td>\n",
       "      <td>0.962309</td>\n",
       "      <td>0.271958</td>\n",
       "    </tr>\n",
       "    <tr>\n",
       "      <th>75%</th>\n",
       "      <td>21.000000</td>\n",
       "      <td>91.666667</td>\n",
       "      <td>7.369212</td>\n",
       "      <td>2.192509</td>\n",
       "      <td>27.030766</td>\n",
       "      <td>21.500000</td>\n",
       "      <td>92.000000</td>\n",
       "      <td>8.000000</td>\n",
       "      <td>1.436485e+00</td>\n",
       "      <td>6.840403</td>\n",
       "      <td>191.000000</td>\n",
       "      <td>145.000000</td>\n",
       "      <td>227.000000</td>\n",
       "      <td>7.071068e-01</td>\n",
       "      <td>7.071068e-01</td>\n",
       "      <td>0.990532</td>\n",
       "      <td>0.385663</td>\n",
       "    </tr>\n",
       "    <tr>\n",
       "      <th>max</th>\n",
       "      <td>35.000000</td>\n",
       "      <td>100.000000</td>\n",
       "      <td>7.961345</td>\n",
       "      <td>18.317424</td>\n",
       "      <td>104.260109</td>\n",
       "      <td>36.800000</td>\n",
       "      <td>99.000000</td>\n",
       "      <td>10.000000</td>\n",
       "      <td>9.584865e+00</td>\n",
       "      <td>103.366188</td>\n",
       "      <td>753.000000</td>\n",
       "      <td>593.000000</td>\n",
       "      <td>867.000000</td>\n",
       "      <td>1.000000e+00</td>\n",
       "      <td>1.000000e+00</td>\n",
       "      <td>0.999852</td>\n",
       "      <td>0.508671</td>\n",
       "    </tr>\n",
       "  </tbody>\n",
       "</table>\n",
       "</div>"
      ],
      "text/plain": [
       "       Temperature_obs  Humidity_obs     Cloud_obs    Wind_X_obs  \\\n",
       "count     25607.000000  25607.000000  25607.000000  25607.000000   \n",
       "mean         12.835175     77.500020      5.237365      0.744474   \n",
       "std           9.737095     16.933049      2.071087      3.007667   \n",
       "min         -14.000000     10.000000      2.763537    -27.136384   \n",
       "25%           4.666667     65.000000      2.763537     -1.108191   \n",
       "50%          13.000000     80.000000      6.184945      0.705372   \n",
       "75%          21.000000     91.666667      7.369212      2.192509   \n",
       "max          35.000000    100.000000      7.961345     18.317424   \n",
       "\n",
       "         Wind_Y_obs  Temperature_fcst  Humidity_fcst    Cloud_fcst  \\\n",
       "count  25607.000000      25607.000000   25607.000000  25607.000000   \n",
       "mean     -90.356806         12.971250      72.937029      5.063108   \n",
       "std      127.613644         10.165007      20.379468      3.567911   \n",
       "min     -275.837623        -19.300000      10.000000      0.000000   \n",
       "25%     -211.017883          4.700000      57.750000      2.000000   \n",
       "50%      -96.404156         13.600000      76.000000      5.000000   \n",
       "75%       27.030766         21.500000      92.000000      8.000000   \n",
       "max      104.260109         36.800000      99.000000     10.000000   \n",
       "\n",
       "        Wind_X_fcst   Wind_Y_fcst  dangjin_floating  dangjin_warehouse  \\\n",
       "count  2.560700e+04  25607.000000      25607.000000       25607.000000   \n",
       "mean   5.173052e-01    -52.207618        121.890030          92.272113   \n",
       "std    1.827555e+00    106.334208        191.915027         146.296212   \n",
       "min   -1.170000e+01   -272.510860          0.000000           0.000000   \n",
       "25%   -3.857637e-16   -116.286849          0.000000           0.000000   \n",
       "50%    4.000000e-01      0.000000          0.000000           0.000000   \n",
       "75%    1.436485e+00      6.840403        191.000000         145.000000   \n",
       "max    9.584865e+00    103.366188        753.000000         593.000000   \n",
       "\n",
       "            dangjin       Day_cos       Day_sin      Year_cos      Year_sin  \n",
       "count  25607.000000  2.560700e+04  2.560700e+04  25607.000000  25607.000000  \n",
       "mean     139.612059 -3.772116e-05  1.010736e-05      0.952302      0.265206  \n",
       "std      220.437588  7.071086e-01  7.071325e-01      0.041645      0.145096  \n",
       "min        0.000000 -1.000000e+00 -1.000000e+00      0.860961      0.017213  \n",
       "25%        0.000000 -7.071068e-01 -7.071068e-01      0.922640      0.137279  \n",
       "50%        0.000000 -1.836970e-16  1.224647e-16      0.962309      0.271958  \n",
       "75%      227.000000  7.071068e-01  7.071068e-01      0.990532      0.385663  \n",
       "max      867.000000  1.000000e+00  1.000000e+00      0.999852      0.508671  "
      ]
     },
     "execution_count": 7,
     "metadata": {},
     "output_type": "execute_result"
    }
   ],
   "source": [
    "dangjin.describe()"
   ]
  },
  {
   "cell_type": "code",
   "execution_count": 8,
   "metadata": {},
   "outputs": [
    {
     "data": {
      "text/html": [
       "<div>\n",
       "<style scoped>\n",
       "    .dataframe tbody tr th:only-of-type {\n",
       "        vertical-align: middle;\n",
       "    }\n",
       "\n",
       "    .dataframe tbody tr th {\n",
       "        vertical-align: top;\n",
       "    }\n",
       "\n",
       "    .dataframe thead th {\n",
       "        text-align: right;\n",
       "    }\n",
       "</style>\n",
       "<table border=\"1\" class=\"dataframe\">\n",
       "  <thead>\n",
       "    <tr style=\"text-align: right;\">\n",
       "      <th></th>\n",
       "      <th>Temperature_obs</th>\n",
       "      <th>Humidity_obs</th>\n",
       "      <th>Cloud_obs</th>\n",
       "      <th>Wind_X_obs</th>\n",
       "      <th>Wind_Y_obs</th>\n",
       "      <th>Temperature_fcst</th>\n",
       "      <th>Humidity_fcst</th>\n",
       "      <th>Cloud_fcst</th>\n",
       "      <th>Wind_X_fcst</th>\n",
       "      <th>Wind_Y_fcst</th>\n",
       "      <th>ulsan</th>\n",
       "      <th>Day_cos</th>\n",
       "      <th>Day_sin</th>\n",
       "      <th>Year_cos</th>\n",
       "      <th>Year_sin</th>\n",
       "    </tr>\n",
       "  </thead>\n",
       "  <tbody>\n",
       "    <tr>\n",
       "      <th>count</th>\n",
       "      <td>25607.000000</td>\n",
       "      <td>25607.000000</td>\n",
       "      <td>25607.000000</td>\n",
       "      <td>25607.000000</td>\n",
       "      <td>25607.000000</td>\n",
       "      <td>25607.000000</td>\n",
       "      <td>25607.000000</td>\n",
       "      <td>25607.000000</td>\n",
       "      <td>2.560700e+04</td>\n",
       "      <td>25607.000000</td>\n",
       "      <td>25607.000000</td>\n",
       "      <td>2.560700e+04</td>\n",
       "      <td>2.560700e+04</td>\n",
       "      <td>25607.000000</td>\n",
       "      <td>25607.000000</td>\n",
       "    </tr>\n",
       "    <tr>\n",
       "      <th>mean</th>\n",
       "      <td>15.291534</td>\n",
       "      <td>67.784877</td>\n",
       "      <td>4.961895</td>\n",
       "      <td>0.859955</td>\n",
       "      <td>-108.859927</td>\n",
       "      <td>15.017765</td>\n",
       "      <td>67.346468</td>\n",
       "      <td>5.053892</td>\n",
       "      <td>7.442592e-01</td>\n",
       "      <td>-76.117369</td>\n",
       "      <td>64.143906</td>\n",
       "      <td>-3.772116e-05</td>\n",
       "      <td>1.010736e-05</td>\n",
       "      <td>0.952302</td>\n",
       "      <td>0.265206</td>\n",
       "    </tr>\n",
       "    <tr>\n",
       "      <th>std</th>\n",
       "      <td>8.306525</td>\n",
       "      <td>18.908509</td>\n",
       "      <td>2.766208</td>\n",
       "      <td>2.922984</td>\n",
       "      <td>126.906321</td>\n",
       "      <td>8.772860</td>\n",
       "      <td>23.195849</td>\n",
       "      <td>4.006174</td>\n",
       "      <td>1.824742e+00</td>\n",
       "      <td>114.307369</td>\n",
       "      <td>100.988217</td>\n",
       "      <td>7.071086e-01</td>\n",
       "      <td>7.071325e-01</td>\n",
       "      <td>0.041645</td>\n",
       "      <td>0.145096</td>\n",
       "    </tr>\n",
       "    <tr>\n",
       "      <th>min</th>\n",
       "      <td>-12.000000</td>\n",
       "      <td>5.000000</td>\n",
       "      <td>1.721060</td>\n",
       "      <td>-23.854947</td>\n",
       "      <td>-275.837623</td>\n",
       "      <td>-12.000000</td>\n",
       "      <td>7.000000</td>\n",
       "      <td>0.000000</td>\n",
       "      <td>-1.014868e+01</td>\n",
       "      <td>-272.510860</td>\n",
       "      <td>0.000000</td>\n",
       "      <td>-1.000000e+00</td>\n",
       "      <td>-1.000000e+00</td>\n",
       "      <td>0.860961</td>\n",
       "      <td>0.017213</td>\n",
       "    </tr>\n",
       "    <tr>\n",
       "      <th>25%</th>\n",
       "      <td>9.000000</td>\n",
       "      <td>55.000000</td>\n",
       "      <td>1.721060</td>\n",
       "      <td>-0.728115</td>\n",
       "      <td>-236.926471</td>\n",
       "      <td>8.200000</td>\n",
       "      <td>50.000000</td>\n",
       "      <td>0.000000</td>\n",
       "      <td>-3.673940e-16</td>\n",
       "      <td>-205.692035</td>\n",
       "      <td>0.000000</td>\n",
       "      <td>-7.071068e-01</td>\n",
       "      <td>-7.071068e-01</td>\n",
       "      <td>0.922640</td>\n",
       "      <td>0.137279</td>\n",
       "    </tr>\n",
       "    <tr>\n",
       "      <th>50%</th>\n",
       "      <td>16.000000</td>\n",
       "      <td>70.000000</td>\n",
       "      <td>5.293747</td>\n",
       "      <td>1.003696</td>\n",
       "      <td>-130.336470</td>\n",
       "      <td>15.700000</td>\n",
       "      <td>70.000000</td>\n",
       "      <td>6.000000</td>\n",
       "      <td>9.396926e-01</td>\n",
       "      <td>-68.404029</td>\n",
       "      <td>0.000000</td>\n",
       "      <td>-1.836970e-16</td>\n",
       "      <td>1.224647e-16</td>\n",
       "      <td>0.962309</td>\n",
       "      <td>0.271958</td>\n",
       "    </tr>\n",
       "    <tr>\n",
       "      <th>75%</th>\n",
       "      <td>22.000000</td>\n",
       "      <td>83.333333</td>\n",
       "      <td>7.807171</td>\n",
       "      <td>2.417215</td>\n",
       "      <td>16.957416</td>\n",
       "      <td>21.800000</td>\n",
       "      <td>88.000000</td>\n",
       "      <td>9.000000</td>\n",
       "      <td>1.915111e+00</td>\n",
       "      <td>6.840403</td>\n",
       "      <td>101.000000</td>\n",
       "      <td>7.071068e-01</td>\n",
       "      <td>7.071068e-01</td>\n",
       "      <td>0.990532</td>\n",
       "      <td>0.385663</td>\n",
       "    </tr>\n",
       "    <tr>\n",
       "      <th>max</th>\n",
       "      <td>35.000000</td>\n",
       "      <td>100.000000</td>\n",
       "      <td>8.638197</td>\n",
       "      <td>30.258103</td>\n",
       "      <td>104.260109</td>\n",
       "      <td>36.500000</td>\n",
       "      <td>98.000000</td>\n",
       "      <td>10.000000</td>\n",
       "      <td>8.100000e+00</td>\n",
       "      <td>103.366188</td>\n",
       "      <td>392.000000</td>\n",
       "      <td>1.000000e+00</td>\n",
       "      <td>1.000000e+00</td>\n",
       "      <td>0.999852</td>\n",
       "      <td>0.508671</td>\n",
       "    </tr>\n",
       "  </tbody>\n",
       "</table>\n",
       "</div>"
      ],
      "text/plain": [
       "       Temperature_obs  Humidity_obs     Cloud_obs    Wind_X_obs  \\\n",
       "count     25607.000000  25607.000000  25607.000000  25607.000000   \n",
       "mean         15.291534     67.784877      4.961895      0.859955   \n",
       "std           8.306525     18.908509      2.766208      2.922984   \n",
       "min         -12.000000      5.000000      1.721060    -23.854947   \n",
       "25%           9.000000     55.000000      1.721060     -0.728115   \n",
       "50%          16.000000     70.000000      5.293747      1.003696   \n",
       "75%          22.000000     83.333333      7.807171      2.417215   \n",
       "max          35.000000    100.000000      8.638197     30.258103   \n",
       "\n",
       "         Wind_Y_obs  Temperature_fcst  Humidity_fcst    Cloud_fcst  \\\n",
       "count  25607.000000      25607.000000   25607.000000  25607.000000   \n",
       "mean    -108.859927         15.017765      67.346468      5.053892   \n",
       "std      126.906321          8.772860      23.195849      4.006174   \n",
       "min     -275.837623        -12.000000       7.000000      0.000000   \n",
       "25%     -236.926471          8.200000      50.000000      0.000000   \n",
       "50%     -130.336470         15.700000      70.000000      6.000000   \n",
       "75%       16.957416         21.800000      88.000000      9.000000   \n",
       "max      104.260109         36.500000      98.000000     10.000000   \n",
       "\n",
       "        Wind_X_fcst   Wind_Y_fcst         ulsan       Day_cos       Day_sin  \\\n",
       "count  2.560700e+04  25607.000000  25607.000000  2.560700e+04  2.560700e+04   \n",
       "mean   7.442592e-01    -76.117369     64.143906 -3.772116e-05  1.010736e-05   \n",
       "std    1.824742e+00    114.307369    100.988217  7.071086e-01  7.071325e-01   \n",
       "min   -1.014868e+01   -272.510860      0.000000 -1.000000e+00 -1.000000e+00   \n",
       "25%   -3.673940e-16   -205.692035      0.000000 -7.071068e-01 -7.071068e-01   \n",
       "50%    9.396926e-01    -68.404029      0.000000 -1.836970e-16  1.224647e-16   \n",
       "75%    1.915111e+00      6.840403    101.000000  7.071068e-01  7.071068e-01   \n",
       "max    8.100000e+00    103.366188    392.000000  1.000000e+00  1.000000e+00   \n",
       "\n",
       "           Year_cos      Year_sin  \n",
       "count  25607.000000  25607.000000  \n",
       "mean       0.952302      0.265206  \n",
       "std        0.041645      0.145096  \n",
       "min        0.860961      0.017213  \n",
       "25%        0.922640      0.137279  \n",
       "50%        0.962309      0.271958  \n",
       "75%        0.990532      0.385663  \n",
       "max        0.999852      0.508671  "
      ]
     },
     "execution_count": 8,
     "metadata": {},
     "output_type": "execute_result"
    }
   ],
   "source": [
    "ulsan.describe()"
   ]
  },
  {
   "cell_type": "markdown",
   "metadata": {
    "id": "2rbL8bSGDHy3"
   },
   "source": [
    "### 데이터 분할"
   ]
  },
  {
   "cell_type": "markdown",
   "metadata": {
    "id": "qoFJZmXBaxCc"
   },
   "source": [
    "훈련, 검증 및 테스트 세트에 `(70%, 20%, 10%)` 분할을 사용합니다. 분할하기 전에 데이터가 임의로 셔플되지 **않습니다**. 이것은 두 가지 이유 때문입니다.\n",
    "\n",
    "1. 데이터를 연속된 샘플의 창으로 자르는 것이 여전히 가능합니다.\n",
    "2. 모델을 훈련한 후 수집된 데이터를 바탕으로 평가하므로 검증/테스트 결과가 보다 현실적입니다."
   ]
  },
  {
   "cell_type": "code",
   "execution_count": 9,
   "metadata": {},
   "outputs": [
    {
     "data": {
      "text/plain": [
       "(25607, 25607)"
      ]
     },
     "execution_count": 9,
     "metadata": {},
     "output_type": "execute_result"
    }
   ],
   "source": [
    "len(dangjin), len(ulsan)"
   ]
  },
  {
   "cell_type": "code",
   "execution_count": 10,
   "metadata": {},
   "outputs": [],
   "source": [
    "dangjin = dangjin.iloc[:,1:]\n",
    "ulsan = ulsan.iloc[:,1:]              ### 이후 처리를 위해 Time 정보 날림  ->  day, year  /  cos, sin 으로 사용"
   ]
  },
  {
   "cell_type": "code",
   "execution_count": 81,
   "metadata": {},
   "outputs": [],
   "source": [
    "dangjin_column_indices = {name: i for i, name in enumerate(dangjin.columns)}\n",
    "ulsan_column_indices = {name: i for i, name in enumerate(ulsan.columns)}\n",
    "\n",
    "n = len(dangjin) # 25607로 같음.\n",
    "\n",
    "train_dangjin = dangjin[0:int(n*0.7)]\n",
    "train_ulsan = ulsan[0:int(n*0.7)]\n",
    "val_dangjin = dangjin[int(n*0.7):int(n*0.9)]\n",
    "val_ulsan = ulsan[int(n*0.7):int(n*0.9)]\n",
    "test_dangjin = dangjin[int(n*0.9):]\n",
    "test_ulsan = ulsan[int(n*0.9):]\n",
    "\n",
    "#num_features = dangjin.shape[1]\n",
    "num_features = ulsan.shape[1]"
   ]
  },
  {
   "cell_type": "markdown",
   "metadata": {
    "id": "-eFckdUUHWmT"
   },
   "source": [
    "### 데이터 정규화\n",
    "\n",
    "신경망을 훈련하기 전에 특성의 크기를 정하는 것이 중요합니다. 정규화는 이 크기 조정을 수행하는 일반적인 방법입니다. 평균을 빼고 각 특성의 표준 편차로 나눕니다."
   ]
  },
  {
   "cell_type": "markdown",
   "metadata": {
    "id": "mxbIic5TMlxx"
   },
   "source": [
    "모델이 검증 및 테스트 세트의 값에 액세스할 수 없도록 훈련 데이터를 사용해서만 평균 및 표준 편차를 계산해야 합니다.\n",
    "\n",
    "또한 모델이 훈련할 때 훈련 세트의 미래 값에 액세스할 수 없어야 하고 이 정규화가 이동 평균을 사용하여 수행되어야 한다고 말할 수도 있습니다. 이 내용은 본 튜토리얼의 중점 사항이 아니며, 검증 및 테스트 세트가 있기 때문에 (다소) 정직한 메트릭을 얻을 수 있습니다. 따라서 단순화를 위해 이 튜토리얼에서는 단순 평균을 사용합니다."
   ]
  },
  {
   "cell_type": "code",
   "execution_count": 12,
   "metadata": {},
   "outputs": [
    {
     "data": {
      "text/plain": [
       "(17,)"
      ]
     },
     "execution_count": 12,
     "metadata": {},
     "output_type": "execute_result"
    }
   ],
   "source": [
    "train_dangjin.std(numeric_only=True).shape"
   ]
  },
  {
   "cell_type": "code",
   "execution_count": 13,
   "metadata": {
    "execution": {
     "iopub.execute_input": "2020-11-12T06:10:57.121260Z",
     "iopub.status.busy": "2020-11-12T06:10:57.120466Z",
     "iopub.status.idle": "2020-11-12T06:10:57.156649Z",
     "shell.execute_reply": "2020-11-12T06:10:57.155983Z"
    },
    "id": "Eji6njXvHusN"
   },
   "outputs": [],
   "source": [
    "train_mean_dangjin = train_dangjin.mean()\n",
    "train_std_dangjin = train_dangjin.std()\n",
    "\n",
    "train_dangjin = (train_dangjin - train_mean_dangjin) / train_std_dangjin\n",
    "val_dangjin = (val_dangjin - train_mean_dangjin) / train_std_dangjin\n",
    "test_dangjin = (test_dangjin - train_mean_dangjin) / train_std_dangjin"
   ]
  },
  {
   "cell_type": "code",
   "execution_count": 14,
   "metadata": {},
   "outputs": [],
   "source": [
    "train_mean_ulsan = train_ulsan.mean()\n",
    "train_std_ulsan = train_ulsan.std()\n",
    "\n",
    "train_ulsan = (train_ulsan - train_mean_ulsan) / train_std_ulsan\n",
    "val_ulsan = (val_ulsan - train_mean_ulsan) / train_std_ulsan\n",
    "test_ulsan = (test_ulsan - train_mean_ulsan) / train_std_ulsan"
   ]
  },
  {
   "cell_type": "markdown",
   "metadata": {
    "id": "G6ufs8kk9JQw"
   },
   "source": [
    "이제 특성의 분포를 살펴봅니다. 일부 특성은 꼬리가 길지만 `-9999` 풍속 값과 같은 명백한 오류는 없습니다."
   ]
  },
  {
   "cell_type": "code",
   "execution_count": 15,
   "metadata": {},
   "outputs": [
    {
     "data": {
      "image/png": "[encoded data removed]",
      "text/plain": [
       "<Figure size 864x432 with 1 Axes>"
      ]
     },
     "metadata": {
      "needs_background": "light"
     },
     "output_type": "display_data"
    }
   ],
   "source": [
    "dangjin_std = (dangjin - train_mean_dangjin) / train_std_dangjin\n",
    "dangjin_std = dangjin_std.melt(var_name='Column', value_name='Normalized')\n",
    "plt.figure(figsize=(12, 6))\n",
    "ax = sns.violinplot(x='Column', y='Normalized', data=dangjin_std)\n",
    "_ = ax.set_xticklabels(dangjin.keys(), rotation=90)"
   ]
  },
  {
   "cell_type": "code",
   "execution_count": 16,
   "metadata": {},
   "outputs": [
    {
     "data": {
      "image/png": "[encoded data removed]",
      "text/plain": [
       "<Figure size 864x432 with 1 Axes>"
      ]
     },
     "metadata": {
      "needs_background": "light"
     },
     "output_type": "display_data"
    }
   ],
   "source": [
    "ulsan_std = (ulsan - train_mean_ulsan) / train_std_ulsan\n",
    "ulsan_std = ulsan_std.melt(var_name='Column', value_name='Normalized')\n",
    "plt.figure(figsize=(12, 6))\n",
    "ax = sns.violinplot(x='Column', y='Normalized', data=ulsan_std)\n",
    "_ = ax.set_xticklabels(ulsan.keys(), rotation=90)"
   ]
  },
  {
   "cell_type": "markdown",
   "metadata": {
    "id": "ZBBmdxZ2HgfJ"
   },
   "source": [
    "## 데이터 창 작업\n",
    "\n",
    "이 튜토리얼의 모델은 데이터의 연속된 샘플 창을 기반으로 일련의 예측을 수행합니다.\n",
    "\n",
    "입력 창의 주요 특성은 다음과 같습니다.\n",
    "\n",
    "- 입력 및 레이블 창의 너비(타임스텝 수)\n",
    "- 각 사이의 시간 오프셋\n",
    "- 입력, 레이블 또는 둘 모두로 사용되는 특성\n",
    "\n",
    "이 튜토리얼은 다양한 모델(선형, DNN, CNN 및 RNN 모델 포함)을 빌드하고 다음 두 가지 목적으로 이 모델을 사용합니다.\n",
    "\n",
    "- *단일 출력* 및 *다중 출력* 예측\n",
    "- *단일 타임스텝* 및 *다중 타임스텝* 예측\n",
    "\n",
    "이 섹션에서는 모든 모델에 재사용할 수 있도록 데이터 창 작업을 구현하는 부분에 중점을 둡니다.\n"
   ]
  },
  {
   "cell_type": "markdown",
   "metadata": {
    "id": "YAhGUVx1jtOy"
   },
   "source": [
    "작업 및 모델 유형에 따라 다양한 데이터 창을 생성할 수 있습니다. 다음은 몇 가지 예입니다.\n",
    "\n",
    "1. 예를 들어, 24시간의 기록이 주어졌을 때 앞으로 24시간의 미래를 단일 예측하려면 다음과 같은 창을 정의할 수 있습니다.\n",
    "\n",
    "![One prediction 24h into the future.](https://www.tensorflow.org/tutorials/structured_data/images/raw_window_24h.png)\n",
    "\n",
    "1. 6시간의 기록이 주어졌을 때 앞으로 1시간의 미래를 예측하는 모델에는 다음과 같은 창이 필요합니다.\n",
    "\n",
    "![One prediction 1h into the future.](https://www.tensorflow.org/tutorials/structured_data/images/raw_window_1h.png)"
   ]
  },
  {
   "cell_type": "markdown",
   "metadata": {
    "id": "sa2BbfNZt8wy"
   },
   "source": [
    "이 섹션의 나머지 부분에서는 `WindowGenerator` 클래스를 정의합니다. 이 클래스는 다음을 수행할 수 있습니다.\n",
    "\n",
    "1. 위의 다이어그램과 같이 인덱스와 오프셋을 처리합니다.\n",
    "2. 특성 창을 `(features, labels)` 쌍으로 분할합니다.\n",
    "3. 결과 창의 내용을 플롯합니다.\n",
    "4. `tf.data.Dataset`를 사용하여 훈련, 평가 및 테스트 데이터로부터 이러한 창을 여러 배치로 효율적으로 생성합니다."
   ]
  },
  {
   "cell_type": "markdown",
   "metadata": {
    "id": "rfx3jGjyziUF"
   },
   "source": [
    "### 1. 인덱스 및 오프셋\n",
    "\n",
    "우선 `WindowGenerator` 클래스를 만듭니다. `__init__` 메서드에는 입력 및 레이블 인덱스에 필요한 모든 논리가 포함됩니다.\n",
    "\n",
    "또한 train, eval 및 test 데이터 프레임을 입력으로 사용합니다. 이러한 데이터 프레임은 나중에 창의 `tf.data.Dataset`로 변환됩니다."
   ]
  },
  {
   "cell_type": "code",
   "execution_count": 17,
   "metadata": {
    "execution": {
     "iopub.execute_input": "2020-11-12T06:11:02.653701Z",
     "iopub.status.busy": "2020-11-12T06:11:02.652951Z",
     "iopub.status.idle": "2020-11-12T06:11:02.655124Z",
     "shell.execute_reply": "2020-11-12T06:11:02.655538Z"
    },
    "id": "Kem30j8QHxyW"
   },
   "outputs": [],
   "source": [
    "class WindowGenerator():\n",
    "    def __init__(self, input_width, label_width, shift,\n",
    "                 train_df, val_df, test_df, label_columns=None):\n",
    "        # Store the raw data.\n",
    "        self.train_df = train_df\n",
    "        self.val_df = val_df\n",
    "        self.test_df = test_df\n",
    "\n",
    "        # Work out the label column indices.\n",
    "        self.label_columns = label_columns\n",
    "        if label_columns is not None:\n",
    "            self.label_columns_indices = {name: i for i, name in enumerate(label_columns)}\n",
    "        self.column_indices = {name: i for i, name in enumerate(train_df.columns)}\n",
    "\n",
    "        # Work out the window parameters.\n",
    "        self.input_width = input_width\n",
    "        self.label_width = label_width\n",
    "        self.shift = shift\n",
    "\n",
    "        self.total_window_size = input_width + shift\n",
    "\n",
    "        self.input_slice = slice(0, input_width)\n",
    "        self.input_indices = np.arange(self.total_window_size)[self.input_slice]\n",
    "\n",
    "        self.label_start = self.total_window_size - self.label_width\n",
    "        self.labels_slice = slice(self.label_start, None)\n",
    "        self.label_indices = np.arange(self.total_window_size)[self.labels_slice]\n",
    "\n",
    "    def __repr__(self):\n",
    "        return '\\n'.join([\n",
    "            f'Total window size: {self.total_window_size}',\n",
    "            f'Input indices: {self.input_indices}',\n",
    "            f'Label indices: {self.label_indices}',\n",
    "            f'Label column name(s): {self.label_columns}'])"
   ]
  },
  {
   "cell_type": "markdown",
   "metadata": {
    "id": "yVJgblsYzL1g"
   },
   "source": [
    "이 섹션의 시작 부분에서 다이어그램에 나타낸 두 개의 창을 만드는 코드는 다음과 같습니다."
   ]
  },
  {
   "cell_type": "markdown",
   "metadata": {},
   "source": [
    "dangjin의 경우 energy의 값을 **dangjin**으로"
   ]
  },
  {
   "cell_type": "code",
   "execution_count": 18,
   "metadata": {},
   "outputs": [
    {
     "data": {
      "text/plain": [
       "Total window size: 48\n",
       "Input indices: [ 0  1  2  3  4  5  6  7  8  9 10 11 12 13 14 15 16 17 18 19 20 21 22 23]\n",
       "Label indices: [47]\n",
       "Label column name(s): ['dangjin']"
      ]
     },
     "execution_count": 18,
     "metadata": {},
     "output_type": "execute_result"
    }
   ],
   "source": [
    "dangjin_w1 = WindowGenerator(input_width=24, label_width=1, shift=24, \n",
    "                     train_df=train_dangjin, val_df=val_dangjin, test_df=test_dangjin, label_columns=['dangjin'])\n",
    "dangjin_w1"
   ]
  },
  {
   "cell_type": "code",
   "execution_count": 19,
   "metadata": {
    "execution": {
     "iopub.execute_input": "2020-11-12T06:11:02.668378Z",
     "iopub.status.busy": "2020-11-12T06:11:02.667519Z",
     "iopub.status.idle": "2020-11-12T06:11:02.670981Z",
     "shell.execute_reply": "2020-11-12T06:11:02.670368Z"
    },
    "id": "viwKsYeAKFUn"
   },
   "outputs": [
    {
     "data": {
      "text/plain": [
       "Total window size: 7\n",
       "Input indices: [0 1 2 3 4 5]\n",
       "Label indices: [6]\n",
       "Label column name(s): ['dangjin']"
      ]
     },
     "execution_count": 19,
     "metadata": {},
     "output_type": "execute_result"
    }
   ],
   "source": [
    "dangjin_w2 = WindowGenerator(input_width=6, label_width=1, shift=1,\n",
    "                     train_df=train_dangjin, val_df=val_dangjin, test_df=test_dangjin, label_columns=['dangjin'])\n",
    "dangjin_w2"
   ]
  },
  {
   "cell_type": "code",
   "execution_count": 20,
   "metadata": {},
   "outputs": [
    {
     "data": {
      "text/plain": [
       "Total window size: 48\n",
       "Input indices: [ 0  1  2  3  4  5  6  7  8  9 10 11 12 13 14 15 16 17 18 19 20 21 22 23]\n",
       "Label indices: [47]\n",
       "Label column name(s): ['ulsan']"
      ]
     },
     "execution_count": 20,
     "metadata": {},
     "output_type": "execute_result"
    }
   ],
   "source": [
    "ulsan_w1 = WindowGenerator(input_width=24, label_width=1, shift=24, \n",
    "                     train_df=train_ulsan, val_df=val_ulsan, test_df=test_ulsan, label_columns=['ulsan'])\n",
    "ulsan_w1"
   ]
  },
  {
   "cell_type": "code",
   "execution_count": 21,
   "metadata": {},
   "outputs": [
    {
     "data": {
      "text/plain": [
       "Total window size: 7\n",
       "Input indices: [0 1 2 3 4 5]\n",
       "Label indices: [6]\n",
       "Label column name(s): ['ulsan']"
      ]
     },
     "execution_count": 21,
     "metadata": {},
     "output_type": "execute_result"
    }
   ],
   "source": [
    "ulsan_w2 = WindowGenerator(input_width=6, label_width=1, shift=1,\n",
    "                     train_df=train_ulsan, val_df=val_ulsan, test_df=test_ulsan, label_columns=['ulsan'])\n",
    "ulsan_w2"
   ]
  },
  {
   "cell_type": "markdown",
   "metadata": {
    "id": "kJaUyTWQJd-L"
   },
   "source": [
    "### 2. 분할\n",
    "\n",
    "연속적인 입력 목록이 주어지면 `split_window` 메서드는 이 목록을 입력 창과 레이블 창으로 변환합니다.\n",
    "\n",
    "위의 예제 `w2`는 다음과 같이 분할됩니다.\n",
    "\n",
    "![The initial window is all consecuitive samples, this splits it into an (inputs, labels) pairs](https://github.com/tensorflow/docs-l10n/blob/master/site/ko/tutorials/structured_data/images/split_window.png?raw=true)\n",
    "\n",
    "이 다이어그램에는 데이터의 `features` 축이 나와 있지 않지만 이 `split_window` 함수는 단일 출력과 다중 출력 예에서 모두 사용될 수 있도록 `label_columns`를 처리합니다."
   ]
  },
  {
   "cell_type": "code",
   "execution_count": 22,
   "metadata": {
    "execution": {
     "iopub.execute_input": "2020-11-12T06:11:02.677128Z",
     "iopub.status.busy": "2020-11-12T06:11:02.676334Z",
     "iopub.status.idle": "2020-11-12T06:11:02.678959Z",
     "shell.execute_reply": "2020-11-12T06:11:02.678437Z"
    },
    "id": "W4KbxfzqkXPW"
   },
   "outputs": [],
   "source": [
    "def split_window(self, features):\n",
    "    inputs = features[:, self.input_slice, :]\n",
    "    labels = features[:, self.labels_slice, :]\n",
    "    if self.label_columns is not None:\n",
    "        labels = tf.stack(\n",
    "            [labels[:, :, self.column_indices[name]] for name in self.label_columns], axis=-1)\n",
    "\n",
    "    # Slicing doesn't preserve static shape information, so set the shapes\n",
    "    # manually. This way the `tf.data.Datasets` are easier to inspect.\n",
    "    inputs.set_shape([None, self.input_width, None])\n",
    "    labels.set_shape([None, self.label_width, None])\n",
    "\n",
    "    return inputs, labels\n",
    "\n",
    "WindowGenerator.split_window = split_window"
   ]
  },
  {
   "cell_type": "markdown",
   "metadata": {
    "id": "G6U6VtVuM15s"
   },
   "source": [
    "다음을 사용해 보세요."
   ]
  },
  {
   "cell_type": "code",
   "execution_count": 23,
   "metadata": {},
   "outputs": [
    {
     "name": "stdout",
     "output_type": "stream",
     "text": [
      "All shapes are: (batch, time, features)\n",
      "Window shape: (3, 7, 17)\n",
      "Inputs shape: (3, 6, 17)\n",
      "labels shape: (3, 1, 1)\n"
     ]
    }
   ],
   "source": [
    "# Stack three slices, the length of the total window:\n",
    "dangjin_example_window = tf.stack([np.array(train_dangjin[:dangjin_w2.total_window_size]),\n",
    "                           np.array(train_dangjin[100:100+dangjin_w2.total_window_size]),\n",
    "                           np.array(train_dangjin[200:200+dangjin_w2.total_window_size])])\n",
    "\n",
    "\n",
    "dangjin_example_inputs, dangjin_example_labels = dangjin_w2.split_window(dangjin_example_window)\n",
    "\n",
    "print('All shapes are: (batch, time, features)')\n",
    "print(f'Window shape: {dangjin_example_window.shape}')\n",
    "print(f'Inputs shape: {dangjin_example_inputs.shape}')\n",
    "print(f'labels shape: {dangjin_example_labels.shape}')"
   ]
  },
  {
   "cell_type": "code",
   "execution_count": 24,
   "metadata": {},
   "outputs": [
    {
     "name": "stdout",
     "output_type": "stream",
     "text": [
      "All shapes are: (batch, time, features)\n",
      "Window shape: (3, 7, 15)\n",
      "Inputs shape: (3, 6, 15)\n",
      "labels shape: (3, 1, 1)\n"
     ]
    }
   ],
   "source": [
    "# Stack three slices, the length of the total window:\n",
    "ulsan_example_window = tf.stack([np.array(train_ulsan[:ulsan_w2.total_window_size]),\n",
    "                           np.array(train_ulsan[100:100+ulsan_w2.total_window_size]),\n",
    "                           np.array(train_ulsan[200:200+ulsan_w2.total_window_size])])\n",
    "\n",
    "\n",
    "ulsan_example_inputs, ulsan_example_labels = ulsan_w2.split_window(ulsan_example_window)\n",
    "\n",
    "print('All shapes are: (batch, time, features)')\n",
    "print(f'Window shape: {ulsan_example_window.shape}')\n",
    "print(f'Inputs shape: {ulsan_example_inputs.shape}')\n",
    "print(f'labels shape: {ulsan_example_labels.shape}')"
   ]
  },
  {
   "cell_type": "code",
   "execution_count": 25,
   "metadata": {},
   "outputs": [
    {
     "data": {
      "text/plain": [
       "<tf.Tensor: shape=(3, 1, 1), dtype=float64, numpy=\n",
       "array([[[-0.63503355]],\n",
       "\n",
       "       [[ 0.45712062]],\n",
       "\n",
       "       [[ 1.9662791 ]]])>"
      ]
     },
     "execution_count": 25,
     "metadata": {},
     "output_type": "execute_result"
    }
   ],
   "source": [
    "ulsan_example_labels"
   ]
  },
  {
   "cell_type": "markdown",
   "metadata": {
    "id": "xtMk1ffk2Mmd"
   },
   "source": [
    "일반적으로 TensorFlow의 데이터는 가장 바깥 쪽 인덱스가 여러 예제(\"배치\" 차원)에 걸쳐 있는 배열로 구성됩니다. 중간 인덱스는 \"시간\" 또는 \"공간\"(너비, 높이) 차원입니다. 가장 안쪽 인덱스는 특성입니다.\n",
    "\n",
    "위의 코드는 두 배치의 7-타임스텝 창을 사용하며 각 타임스텝에는 17개(danjin), 15개(ulsan)의 특성이 있습니다. 그러면 이것을 한 배치의 6-타임스텝과 17개 및 15개의 특성 입력 및 1-타임스텝 1-특성 레이블로 분할합니다. 레이블에는 하나의 특성만 있는데, `WindowGenerator`가 `label_columns=['dangjin' 또는 'ulsan']`로 초기화되었기 때문입니다. 우선 이 튜토리얼에서는 단일 출력 레이블을 예측하는 모델을 빌드합니다."
   ]
  },
  {
   "cell_type": "markdown",
   "metadata": {
    "id": "tFZukGXrJoGo"
   },
   "source": [
    "### 3. 플롯하기\n",
    "\n",
    "다음은 분할 창을 간단하게 시각화할 수 있는 플롯 메서드입니다."
   ]
  },
  {
   "cell_type": "code",
   "execution_count": 26,
   "metadata": {
    "execution": {
     "iopub.execute_input": "2020-11-12T06:11:02.693717Z",
     "iopub.status.busy": "2020-11-12T06:11:02.693084Z",
     "iopub.status.idle": "2020-11-12T06:11:02.695833Z",
     "shell.execute_reply": "2020-11-12T06:11:02.695227Z"
    },
    "id": "fmgd1qkYUWT7"
   },
   "outputs": [],
   "source": [
    "dangjin_w2.example = dangjin_example_inputs, dangjin_example_labels\n",
    "ulsan_w2.example = ulsan_example_inputs, ulsan_example_labels"
   ]
  },
  {
   "cell_type": "code",
   "execution_count": 27,
   "metadata": {
    "execution": {
     "iopub.execute_input": "2020-11-12T06:11:02.704470Z",
     "iopub.status.busy": "2020-11-12T06:11:02.703692Z",
     "iopub.status.idle": "2020-11-12T06:11:02.705764Z",
     "shell.execute_reply": "2020-11-12T06:11:02.706254Z"
    },
    "id": "jIrYccI-Hm3B"
   },
   "outputs": [],
   "source": [
    "def plot(self, model=None, plot_col='Temperature_obs', max_subplots=3):\n",
    "    inputs, labels = self.example\n",
    "    plt.figure(figsize=(12, 8))\n",
    "    plot_col_index = self.column_indices[plot_col]\n",
    "    max_n = min(max_subplots, len(inputs))\n",
    "    for n in range(max_n):\n",
    "        plt.subplot(3, 1, n+1)\n",
    "        plt.ylabel(f'{plot_col} [normed]')\n",
    "        plt.plot(self.input_indices, inputs[n, :, plot_col_index], label='Inputs', marker='.', zorder=-10)\n",
    "\n",
    "        if self.label_columns:\n",
    "            label_col_index = self.label_columns_indices.get(plot_col, None)\n",
    "        else:\n",
    "            label_col_index = plot_col_index\n",
    "\n",
    "        if label_col_index is None:\n",
    "            continue\n",
    "\n",
    "        plt.scatter(self.label_indices, labels[n, :, label_col_index], edgecolors='k', label='Labels', c='#2ca02c', s=64)\n",
    "        if model is not None:\n",
    "            predictions = model(inputs)\n",
    "            plt.scatter(self.label_indices, predictions[n, :, label_col_index], marker='X', edgecolors='k', \n",
    "                        label='Predictions', c='#ff7f0e', s=64)\n",
    "\n",
    "        if n == 0:\n",
    "            plt.legend()\n",
    "\n",
    "    plt.xlabel('Time')\n",
    "\n",
    "WindowGenerator.plot = plot"
   ]
  },
  {
   "cell_type": "code",
   "execution_count": 28,
   "metadata": {
    "execution": {
     "iopub.execute_input": "2020-11-12T06:11:02.724691Z",
     "iopub.status.busy": "2020-11-12T06:11:02.724032Z",
     "iopub.status.idle": "2020-11-12T06:11:03.064235Z",
     "shell.execute_reply": "2020-11-12T06:11:03.064687Z"
    },
    "id": "XjTqUnglOOni"
   },
   "outputs": [
    {
     "data": {
      "image/png": "[encoded data removed]",
      "text/plain": [
       "<Figure size 864x576 with 3 Axes>"
      ]
     },
     "metadata": {
      "needs_background": "light"
     },
     "output_type": "display_data"
    }
   ],
   "source": [
    "dangjin_w2.plot()  # 위의 define에서 default를 Temperature_obs로 설정. dangjin과 ulsan을 구분하기위해."
   ]
  },
  {
   "cell_type": "markdown",
   "metadata": {
    "id": "UqiqcPOldPG6"
   },
   "source": [
    "다른 열을 플롯할 수 있지만 예제 창 `dangjin_w2`, `ulsan_w2` 구성에는 `각각의 energy` 열에 대한 레이블만 있습니다."
   ]
  },
  {
   "cell_type": "markdown",
   "metadata": {
    "id": "HXvctEuK68vX"
   },
   "source": [
    "이 플롯은 항목이 참조하는 시간을 기준으로 입력, 레이블 및 (나중에) 예측값을 정렬합니다."
   ]
  },
  {
   "cell_type": "code",
   "execution_count": 29,
   "metadata": {
    "execution": {
     "iopub.execute_input": "2020-11-12T06:11:03.081924Z",
     "iopub.status.busy": "2020-11-12T06:11:03.081150Z",
     "iopub.status.idle": "2020-11-12T06:11:03.345557Z",
     "shell.execute_reply": "2020-11-12T06:11:03.345986Z"
    },
    "id": "EBRe4wnlfCH8"
   },
   "outputs": [
    {
     "data": {
      "image/png": "[encoded data removed]",
      "text/plain": [
       "<Figure size 864x576 with 3 Axes>"
      ]
     },
     "metadata": {
      "needs_background": "light"
     },
     "output_type": "display_data"
    }
   ],
   "source": [
    "dangjin_w2.plot(plot_col='dangjin')"
   ]
  },
  {
   "cell_type": "code",
   "execution_count": 30,
   "metadata": {},
   "outputs": [
    {
     "data": {
      "image/png": "[encoded data removed]",
      "text/plain": [
       "<Figure size 864x576 with 3 Axes>"
      ]
     },
     "metadata": {
      "needs_background": "light"
     },
     "output_type": "display_data"
    }
   ],
   "source": [
    "ulsan_w2.plot(plot_col='ulsan')"
   ]
  },
  {
   "cell_type": "code",
   "execution_count": null,
   "metadata": {},
   "outputs": [],
   "source": []
  },
  {
   "cell_type": "code",
   "execution_count": null,
   "metadata": {},
   "outputs": [],
   "source": []
  },
  {
   "cell_type": "code",
   "execution_count": null,
   "metadata": {},
   "outputs": [],
   "source": []
  },
  {
   "cell_type": "code",
   "execution_count": null,
   "metadata": {},
   "outputs": [],
   "source": []
  },
  {
   "cell_type": "markdown",
   "metadata": {},
   "source": [
    "# 여기서 부터는 ulsan 데이터로만 테스트..... (dangjin에도 이중 작업 필요.)\n",
    "#### 그러나, 당진 데이터에는 dangjin, dangjin_floating, dangjin_warehouse의 값 고려해야함.\n",
    "#### 우선, 도큐먼트대로 수행\n",
    "#### Baseline, Dense, LSTM, Residual LSTM으로 실험."
   ]
  },
  {
   "cell_type": "code",
   "execution_count": null,
   "metadata": {},
   "outputs": [],
   "source": []
  },
  {
   "cell_type": "markdown",
   "metadata": {
    "id": "xCvD-UaUzYMw"
   },
   "source": [
    "### 4. `tf.data.Dataset` 만들기"
   ]
  },
  {
   "cell_type": "markdown",
   "metadata": {
    "id": "kLO3SFR9Osdf"
   },
   "source": [
    "마지막으로, 이 `make_dataset` 메서드는 시계열 `DataFrame`을 가져와 `preprocessing.timeseries_dataset_from_array` 함수를 이용해 `(input_window, label_window)` 쌍의 `tf.data.Dataset`로 변환합니다."
   ]
  },
  {
   "cell_type": "code",
   "execution_count": 31,
   "metadata": {
    "execution": {
     "iopub.execute_input": "2020-11-12T06:11:03.351765Z",
     "iopub.status.busy": "2020-11-12T06:11:03.351069Z",
     "iopub.status.idle": "2020-11-12T06:11:03.353519Z",
     "shell.execute_reply": "2020-11-12T06:11:03.353022Z"
    },
    "id": "35qoSQeRVfJg"
   },
   "outputs": [],
   "source": [
    "def make_dataset(self, data):\n",
    "    data = np.array(data, dtype=np.float32)\n",
    "    ds = tf.keras.preprocessing.timeseries_dataset_from_array(\n",
    "        data=data,\n",
    "        targets=None,\n",
    "        sequence_length=self.total_window_size,\n",
    "        sequence_stride=1,\n",
    "        shuffle=True,\n",
    "        batch_size=32,)\n",
    "\n",
    "    ds = ds.map(self.split_window)\n",
    "\n",
    "    return ds\n",
    "\n",
    "WindowGenerator.make_dataset = make_dataset"
   ]
  },
  {
   "cell_type": "markdown",
   "metadata": {
    "id": "LvsxQwJaCift"
   },
   "source": [
    "`WindowGenerator` 객체는 훈련, 검증 및 테스트 데이터를 보유합니다. 위의 `make_dataset` 메서드를 사용하여 `tf.data.Datasets`로 여기에 액세스하기 위한 특성을 추가합니다. 또한 간편한 액세스와 플롯을 위한 표준 예제 배치를 추가합니다."
   ]
  },
  {
   "cell_type": "code",
   "execution_count": 32,
   "metadata": {
    "execution": {
     "iopub.execute_input": "2020-11-12T06:11:03.360415Z",
     "iopub.status.busy": "2020-11-12T06:11:03.359755Z",
     "iopub.status.idle": "2020-11-12T06:11:03.362318Z",
     "shell.execute_reply": "2020-11-12T06:11:03.361749Z"
    },
    "id": "2jZ2KkqGCfzu"
   },
   "outputs": [],
   "source": [
    "@property\n",
    "def train(self):\n",
    "    return self.make_dataset(self.train_df==train_ulsan)\n",
    "\n",
    "@property\n",
    "def val(self):\n",
    "    return self.make_dataset(self.val_df==val_ulsan)\n",
    "\n",
    "@property\n",
    "def test(self):\n",
    "    return self.make_dataset(self.test_df==test_ulsan)\n",
    "\n",
    "@property\n",
    "def example(self):\n",
    "    \"\"\"Get and cache an example batch of `inputs, labels` for plotting.\"\"\"\n",
    "    result = getattr(self, '_example', None) \n",
    "    if result is None:\n",
    "      # No example batch was found, so get one from the `.train` dataset\n",
    "      result = next(iter(self.train))\n",
    "      # And cache it for next time\n",
    "      self._example = result\n",
    "    return result\n",
    "\n",
    "WindowGenerator.train = train\n",
    "WindowGenerator.val = val\n",
    "WindowGenerator.test = test\n",
    "WindowGenerator.example = example"
   ]
  },
  {
   "cell_type": "markdown",
   "metadata": {
    "id": "fF_Vj6Iw3Y2w"
   },
   "source": [
    "이제 `WindowGenerator` 객체가 `tf.data.Dataset` 객체에 대한 액세스 권한을 부여하므로 데이터를 쉽게 반복할 수 있습니다.\n",
    "\n",
    "`Dataset.element_spec` 속성은 데이터세트 요소의 구조, `dtypes` 및 형상을 알려줍니다."
   ]
  },
  {
   "cell_type": "code",
   "execution_count": 33,
   "metadata": {
    "execution": {
     "iopub.execute_input": "2020-11-12T06:11:03.366072Z",
     "iopub.status.busy": "2020-11-12T06:11:03.365471Z",
     "iopub.status.idle": "2020-11-12T06:11:03.499146Z",
     "shell.execute_reply": "2020-11-12T06:11:03.498665Z"
    },
    "id": "daJ0-U383YVs"
   },
   "outputs": [
    {
     "name": "stdout",
     "output_type": "stream",
     "text": [
      "WARNING:tensorflow:AutoGraph could not transform <bound method split_window of Total window size: 7\n",
      "Input indices: [0 1 2 3 4 5]\n",
      "Label indices: [6]\n",
      "Label column name(s): ['ulsan']> and will run it as-is.\n",
      "Please report this to the TensorFlow team. When filing the bug, set the verbosity to 10 (on Linux, `export AUTOGRAPH_VERBOSITY=10`) and attach the full output.\n",
      "Cause: module 'gast' has no attribute 'Index'\n",
      "To silence this warning, decorate the function with @tf.autograph.experimental.do_not_convert\n",
      "WARNING: AutoGraph could not transform <bound method split_window of Total window size: 7\n",
      "Input indices: [0 1 2 3 4 5]\n",
      "Label indices: [6]\n",
      "Label column name(s): ['ulsan']> and will run it as-is.\n",
      "Please report this to the TensorFlow team. When filing the bug, set the verbosity to 10 (on Linux, `export AUTOGRAPH_VERBOSITY=10`) and attach the full output.\n",
      "Cause: module 'gast' has no attribute 'Index'\n",
      "To silence this warning, decorate the function with @tf.autograph.experimental.do_not_convert\n"
     ]
    },
    {
     "data": {
      "text/plain": [
       "(TensorSpec(shape=(None, 6, 15), dtype=tf.float32, name=None),\n",
       " TensorSpec(shape=(None, 1, 1), dtype=tf.float32, name=None))"
      ]
     },
     "execution_count": 33,
     "metadata": {},
     "output_type": "execute_result"
    }
   ],
   "source": [
    "# Each element is an (inputs, label) pair\n",
    "ulsan_w2.train.element_spec"
   ]
  },
  {
   "cell_type": "markdown",
   "metadata": {
    "id": "XKTx3_Z7ua-n"
   },
   "source": [
    "`Dataset`를 반복하면 구체적인 배치가 생성됩니다."
   ]
  },
  {
   "cell_type": "code",
   "execution_count": 34,
   "metadata": {
    "execution": {
     "iopub.execute_input": "2020-11-12T06:11:03.503468Z",
     "iopub.status.busy": "2020-11-12T06:11:03.502838Z",
     "iopub.status.idle": "2020-11-12T06:11:03.579718Z",
     "shell.execute_reply": "2020-11-12T06:11:03.579105Z"
    },
    "id": "6gtKXEgf4Iml"
   },
   "outputs": [
    {
     "name": "stdout",
     "output_type": "stream",
     "text": [
      "Inputs shape (batch, time, features): (32, 6, 15)\n",
      "Labels shape (batch, time, features): (32, 1, 1)\n"
     ]
    }
   ],
   "source": [
    "for ulsan_example_inputs, ulsan_example_labels in ulsan_w2.train.take(1):\n",
    "    print(f'Inputs shape (batch, time, features): {ulsan_example_inputs.shape}')\n",
    "    print(f'Labels shape (batch, time, features): {ulsan_example_labels.shape}')"
   ]
  },
  {
   "cell_type": "markdown",
   "metadata": {
    "id": "LyuGuJUgjUK3"
   },
   "source": [
    "## 단일 스텝 모델\n",
    "\n",
    "이러한 종류의 데이터를 기반으로 빌드할 수 있는 가장 간단한 모델은 현재 조건에만 기초하여 미래로 1 타임스텝(1시간) 진행된 단일 특성 값을 예측하는 모델입니다.\n",
    "\n",
    "따라서 1시간 미래의 `energy` 값을 예측하는 모델을 빌드하는 것으로 시작하겠습니다.\n",
    "\n",
    "![Predict the next time step](https://www.tensorflow.org/tutorials/structured_data/images/narrow_window.png)\n",
    "\n",
    "다음과 같은 단일 스텝 `(input, label)` 쌍을 생성하도록 `WindowGenerator` 객체를 구성합니다."
   ]
  },
  {
   "cell_type": "code",
   "execution_count": 35,
   "metadata": {
    "execution": {
     "iopub.execute_input": "2020-11-12T06:11:03.585020Z",
     "iopub.status.busy": "2020-11-12T06:11:03.584176Z",
     "iopub.status.idle": "2020-11-12T06:11:03.588535Z",
     "shell.execute_reply": "2020-11-12T06:11:03.588976Z"
    },
    "id": "G5QX1G1JTPCr"
   },
   "outputs": [
    {
     "data": {
      "text/plain": [
       "Total window size: 2\n",
       "Input indices: [0]\n",
       "Label indices: [1]\n",
       "Label column name(s): ['ulsan']"
      ]
     },
     "execution_count": 35,
     "metadata": {},
     "output_type": "execute_result"
    }
   ],
   "source": [
    "single_step_window = WindowGenerator(\n",
    "    input_width=1, label_width=1, shift=1, train_df=train_ulsan, val_df=val_ulsan, test_df=test_ulsan, label_columns=['ulsan'])\n",
    "single_step_window\n",
    "\n",
    "# single_step_window = WindowGenerator(\n",
    "#     input_width=1, label_width=1, shift=1,\n",
    "#     label_columns=['T (degC)'])\n",
    "# single_step_window"
   ]
  },
  {
   "cell_type": "markdown",
   "metadata": {
    "id": "RKTm8ajVGw4N"
   },
   "source": [
    "`window` 객체는 훈련, 검증 및 테스트 세트로부터 `tf.data.Datasets`를 생성하므로 데이터 배치를 쉽게 반복할 수 있습니다.\n"
   ]
  },
  {
   "cell_type": "code",
   "execution_count": 37,
   "metadata": {
    "execution": {
     "iopub.execute_input": "2020-11-12T06:11:03.593090Z",
     "iopub.status.busy": "2020-11-12T06:11:03.592486Z",
     "iopub.status.idle": "2020-11-12T06:11:03.660669Z",
     "shell.execute_reply": "2020-11-12T06:11:03.660078Z"
    },
    "id": "Do4ILUaBF8oc"
   },
   "outputs": [
    {
     "name": "stdout",
     "output_type": "stream",
     "text": [
      "Inputs shape (batch, time, features): (32, 1, 15)\n",
      "Labels shape (batch, time, features): (32, 1, 1)\n"
     ]
    }
   ],
   "source": [
    "for example_inputs, example_labels in single_step_window.train.take(1):\n",
    "    print(f'Inputs shape (batch, time, features): {example_inputs.shape}')\n",
    "    print(f'Labels shape (batch, time, features): {example_labels.shape}')"
   ]
  },
  {
   "cell_type": "markdown",
   "metadata": {
    "id": "D1bbPiR3VAm_"
   },
   "source": [
    "### 기준\n",
    "\n",
    "훈련 가능한 모델을 빌드하기 전에 나중에 더 복잡한 모델과 비교하기 위한 포인트로 성능 기준을 갖는 것이 좋습니다.\n",
    "\n",
    "첫 번째 작업은 모든 특성의 현재 값을 고려하여 1시간 미래의 energy를 예측하는 것입니다. 현재 값에는 현재 energy가 포함됩니다.\n",
    "\n",
    "따라서 예측으로 현재 energy를 반환하여 \"변화 없음\"을 예측하는 모델로 시작하겠습니다. /// 온도는 천천히 변하기 때문에 이것은 합리적인 기준입니다. 물론, 더 미래로 들어가면 이 기준의 예측 효과는 떨어질 것입니다.\n",
    "\n",
    "![Send the input to the output](https://www.tensorflow.org/tutorials/structured_data/images/baseline.png)"
   ]
  },
  {
   "cell_type": "code",
   "execution_count": 38,
   "metadata": {
    "execution": {
     "iopub.execute_input": "2020-11-12T06:11:03.665981Z",
     "iopub.status.busy": "2020-11-12T06:11:03.665386Z",
     "iopub.status.idle": "2020-11-12T06:11:03.667868Z",
     "shell.execute_reply": "2020-11-12T06:11:03.667396Z"
    },
    "id": "9TybQaIsi3yg"
   },
   "outputs": [],
   "source": [
    "class Baseline(tf.keras.Model):\n",
    "    def __init__(self, label_index=None):\n",
    "        super().__init__()\n",
    "        self.label_index = label_index\n",
    "\n",
    "    def call(self, inputs):\n",
    "        if self.label_index is None:\n",
    "            return inputs\n",
    "        result = inputs[:, :, self.label_index]\n",
    "        return result[:, :, tf.newaxis]"
   ]
  },
  {
   "cell_type": "markdown",
   "metadata": {
    "id": "0vb3f948i8p8"
   },
   "source": [
    "이 모델을 인스턴스화하고 평가합니다."
   ]
  },
  {
   "cell_type": "code",
   "execution_count": 39,
   "metadata": {
    "execution": {
     "iopub.execute_input": "2020-11-12T06:11:03.673013Z",
     "iopub.status.busy": "2020-11-12T06:11:03.672400Z",
     "iopub.status.idle": "2020-11-12T06:11:05.565569Z",
     "shell.execute_reply": "2020-11-12T06:11:05.564915Z"
    },
    "id": "IS3-QKc4sX0D"
   },
   "outputs": [
    {
     "name": "stdout",
     "output_type": "stream",
     "text": [
      "WARNING:tensorflow:AutoGraph could not transform <bound method Baseline.call of <__main__.Baseline object at 0x000001AC09A59E20>> and will run it as-is.\n",
      "Please report this to the TensorFlow team. When filing the bug, set the verbosity to 10 (on Linux, `export AUTOGRAPH_VERBOSITY=10`) and attach the full output.\n",
      "Cause: module 'gast' has no attribute 'Index'\n",
      "To silence this warning, decorate the function with @tf.autograph.experimental.do_not_convert\n",
      "WARNING: AutoGraph could not transform <bound method Baseline.call of <__main__.Baseline object at 0x000001AC09A59E20>> and will run it as-is.\n",
      "Please report this to the TensorFlow team. When filing the bug, set the verbosity to 10 (on Linux, `export AUTOGRAPH_VERBOSITY=10`) and attach the full output.\n",
      "Cause: module 'gast' has no attribute 'Index'\n",
      "To silence this warning, decorate the function with @tf.autograph.experimental.do_not_convert\n",
      "161/161 [==============================] - 0s 2ms/step - loss: 0.0000e+00 - mean_absolute_error: 0.0000e+00\n",
      "80/80 - 0s - loss: 0.0000e+00 - mean_absolute_error: 0.0000e+00\n"
     ]
    }
   ],
   "source": [
    "baseline = Baseline(label_index=ulsan_column_indices['ulsan'])\n",
    "\n",
    "baseline.compile(loss=tf.losses.MeanSquaredError(),\n",
    "                 metrics=[tf.metrics.MeanAbsoluteError()])\n",
    "\n",
    "val_performance = {}\n",
    "performance = {}\n",
    "val_performance['Baseline'] = baseline.evaluate(single_step_window.val)\n",
    "performance['Baseline'] = baseline.evaluate(single_step_window.test, verbose=2)"
   ]
  },
  {
   "cell_type": "markdown",
   "metadata": {
    "id": "nhBxQcCSs7Ec"
   },
   "source": [
    "몇 가지 성능 메트릭을 출력했지만 모델이 얼마나 잘 동작하는지에 대한 느낌은 주지 않습니다.\n",
    "\n",
    "`WindowGenerator`에는 플롯 메서드가 있지만 단일 샘플만으로는 플롯이 그다지 흥미롭지 않습니다. 따라서 한 번에 24시간 범위의 연속 입력과 레이블을 생성하는 더 넓은 `WindowGenerator`를 만듭니다.\n",
    "\n",
    "`wide_window`는 모델이 동작하는 방식을 변화시키지 않습니다. 이 모델은 단일 입력 타임스텝을 기반으로 1시간 미래를 예측합니다. 여기서 `time` 축은 `batch` 축과 같은 역할을 합니다. 각 예측은 타임스텝 사이의 상호 작용 없이 독립적으로 이루어집니다."
   ]
  },
  {
   "cell_type": "code",
   "execution_count": 40,
   "metadata": {
    "execution": {
     "iopub.execute_input": "2020-11-12T06:11:05.571752Z",
     "iopub.status.busy": "2020-11-12T06:11:05.570906Z",
     "iopub.status.idle": "2020-11-12T06:11:05.574680Z",
     "shell.execute_reply": "2020-11-12T06:11:05.574002Z"
    },
    "id": "C8jNR5uuJ5Zp"
   },
   "outputs": [
    {
     "data": {
      "text/plain": [
       "Total window size: 25\n",
       "Input indices: [ 0  1  2  3  4  5  6  7  8  9 10 11 12 13 14 15 16 17 18 19 20 21 22 23]\n",
       "Label indices: [ 1  2  3  4  5  6  7  8  9 10 11 12 13 14 15 16 17 18 19 20 21 22 23 24]\n",
       "Label column name(s): ['ulsan']"
      ]
     },
     "execution_count": 40,
     "metadata": {},
     "output_type": "execute_result"
    }
   ],
   "source": [
    "wide_window = WindowGenerator(\n",
    "    input_width=24, label_width=24, shift=1, train_df=train_ulsan, val_df=val_ulsan, test_df=test_ulsan, label_columns=['ulsan'])\n",
    "\n",
    "wide_window"
   ]
  },
  {
   "cell_type": "markdown",
   "metadata": {
    "id": "ZAnj7CFZkuYv"
   },
   "source": [
    "이 확장된 창은 어떠한 코드 변경 없이 동일한 `baseline` 모델에 직접 전달할 수 있습니다. 이는 입력과 레이블이 동일한 수의 타임스텝을 가지며 기준이 입력을 출력으로 전달하기 때문에 가능합니다.\n",
    "\n",
    "![One prediction 1h into the future, ever hour.](https://www.tensorflow.org/tutorials/structured_data/images/last_window.png)"
   ]
  },
  {
   "cell_type": "code",
   "execution_count": 41,
   "metadata": {
    "execution": {
     "iopub.execute_input": "2020-11-12T06:11:05.580132Z",
     "iopub.status.busy": "2020-11-12T06:11:05.579099Z",
     "iopub.status.idle": "2020-11-12T06:11:05.650050Z",
     "shell.execute_reply": "2020-11-12T06:11:05.649546Z"
    },
    "id": "sGKdvdg087qs"
   },
   "outputs": [
    {
     "name": "stdout",
     "output_type": "stream",
     "text": [
      "Input shape: (32, 1, 15)\n",
      "Output shape: (32, 1, 1)\n"
     ]
    }
   ],
   "source": [
    "print('Input shape:', single_step_window.example[0].shape)\n",
    "print('Output shape:', baseline(single_step_window.example[0]).shape)"
   ]
  },
  {
   "cell_type": "markdown",
   "metadata": {
    "id": "SKqQHX1K0JW-"
   },
   "source": [
    "기준 모델의 예측값을 플롯하면 1시간씩 오른쪽으로 이동한 단순한 레이블임을 알 수 있습니다."
   ]
  },
  {
   "cell_type": "code",
   "execution_count": 42,
   "metadata": {
    "execution": {
     "iopub.execute_input": "2020-11-12T06:11:05.655437Z",
     "iopub.status.busy": "2020-11-12T06:11:05.654398Z",
     "iopub.status.idle": "2020-11-12T06:11:06.084015Z",
     "shell.execute_reply": "2020-11-12T06:11:06.083457Z"
    },
    "id": "jQyAPVLgWTOZ"
   },
   "outputs": [
    {
     "data": {
      "image/png": "[encoded data removed]",
      "text/plain": [
       "<Figure size 864x576 with 3 Axes>"
      ]
     },
     "metadata": {
      "needs_background": "light"
     },
     "output_type": "display_data"
    }
   ],
   "source": [
    "wide_window.plot(baseline, plot_col='ulsan')"
   ]
  },
  {
   "cell_type": "markdown",
   "metadata": {},
   "source": [
    "# energy는 변화가 별로 없음.."
   ]
  },
  {
   "cell_type": "markdown",
   "metadata": {
    "id": "e93TLUhfAVg2"
   },
   "source": [
    "위의 세 가지 예제 플롯에서 단일 스텝 모델은 24시간 동안 실행됩니다. 이에 관해 몇 가지 설명이 필요합니다.\n",
    "\n",
    "- 파란색 \"입력\" 라인은 각 타임스텝의 입력 energy를 보여줍니다. 이 모델은 모든 특성을 수신하며 이 플롯은 energy만 표시합니다.\n",
    "- 녹색 \"레이블\" 점은 목표 예측값을 나타냅니다. 이러한 점은 입력 시간이 아니라 예측 시간에 표시됩니다. 레이블의 범위가 입력에 상대적으로 한 스텝 이동하는 이유가 여기에 있습니다.\n",
    "- 주황색 \"예측\" 십자는 각 출력 타임스텝에 대한 모델의 예측입니다. 모델이 완벽하게 예측하는 경우 예측값은 \"레이블\" 바로 위에 놓여집니다."
   ]
  },
  {
   "cell_type": "markdown",
   "metadata": {
    "id": "E4aOJScj52Yu"
   },
   "source": [
    "### 선형 모델\n",
    "\n",
    "이 작업에 적용할 수 있는 가장 간단한 **훈련 가능한** 모델은 입력과 출력 사이에 선형 변환을 삽입하는 것입니다. 이 경우 타임스텝의 출력은 해당 스텝에만 의존합니다.\n",
    "\n",
    "![A single step prediction](https://www.tensorflow.org/tutorials/structured_data/images/narrow_window.png)\n",
    "\n",
    "`activation` 세트가 없는 `layers.Dense`는 선형 모델입니다. 레이어는 데이터의 마지막 축을 `(batch, time, inputs)`에서 `(batch, time, units)`로만 변환하며, `batch` 및 `time` 축의 모든 항목에 독립적으로 적용됩니다."
   ]
  },
  {
   "cell_type": "code",
   "execution_count": 43,
   "metadata": {
    "execution": {
     "iopub.execute_input": "2020-11-12T06:11:06.096044Z",
     "iopub.status.busy": "2020-11-12T06:11:06.095249Z",
     "iopub.status.idle": "2020-11-12T06:11:06.100719Z",
     "shell.execute_reply": "2020-11-12T06:11:06.100142Z"
    },
    "id": "6341OXuQ5xA9"
   },
   "outputs": [],
   "source": [
    "linear = tf.keras.Sequential([\n",
    "    tf.keras.layers.Dense(units=1)\n",
    "])"
   ]
  },
  {
   "cell_type": "code",
   "execution_count": 44,
   "metadata": {
    "execution": {
     "iopub.execute_input": "2020-11-12T06:11:06.109125Z",
     "iopub.status.busy": "2020-11-12T06:11:06.106559Z",
     "iopub.status.idle": "2020-11-12T06:11:06.345598Z",
     "shell.execute_reply": "2020-11-12T06:11:06.345035Z"
    },
    "id": "KwaOM8RucUSn"
   },
   "outputs": [
    {
     "name": "stdout",
     "output_type": "stream",
     "text": [
      "Input shape: (32, 1, 15)\n",
      "Output shape: (32, 1, 1)\n"
     ]
    }
   ],
   "source": [
    "print('Input shape:', single_step_window.example[0].shape)\n",
    "print('Output shape:', linear(single_step_window.example[0]).shape)"
   ]
  },
  {
   "cell_type": "markdown",
   "metadata": {
    "id": "OMZTYIj3bYLg"
   },
   "source": [
    "이 튜토리얼은 많은 모델을 훈련하므로 훈련 절차를 하나의 함수 패키지로 만듭니다."
   ]
  },
  {
   "cell_type": "code",
   "execution_count": 45,
   "metadata": {
    "execution": {
     "iopub.execute_input": "2020-11-12T06:11:06.352294Z",
     "iopub.status.busy": "2020-11-12T06:11:06.351625Z",
     "iopub.status.idle": "2020-11-12T06:11:06.353665Z",
     "shell.execute_reply": "2020-11-12T06:11:06.354070Z"
    },
    "id": "CbCL6VIrk-Gt"
   },
   "outputs": [],
   "source": [
    "MAX_EPOCHS = 20\n",
    "\n",
    "def compile_and_fit(model, window, patience=5):\n",
    "    early_stopping = tf.keras.callbacks.EarlyStopping(monitor='val_loss', patience=patience, mode='min')\n",
    "\n",
    "    model.compile(loss=tf.losses.MeanSquaredError(),\n",
    "                optimizer=tf.optimizers.Adam(),\n",
    "                metrics=[tf.metrics.MeanAbsoluteError()])\n",
    "\n",
    "    history = model.fit(window.train, epochs=MAX_EPOCHS,\n",
    "                      validation_data=window.val,\n",
    "                      callbacks=[early_stopping])\n",
    "    return history"
   ]
  },
  {
   "cell_type": "markdown",
   "metadata": {
    "id": "OobVjM-schwj"
   },
   "source": [
    "모델을 훈련하고 성능을 평가합니다."
   ]
  },
  {
   "cell_type": "code",
   "execution_count": 46,
   "metadata": {
    "execution": {
     "iopub.execute_input": "2020-11-12T06:11:06.364010Z",
     "iopub.status.busy": "2020-11-12T06:11:06.363291Z",
     "iopub.status.idle": "2020-11-12T06:11:39.511017Z",
     "shell.execute_reply": "2020-11-12T06:11:39.511474Z"
    },
    "id": "9agbz2qB9bLS"
   },
   "outputs": [
    {
     "name": "stdout",
     "output_type": "stream",
     "text": [
      "Epoch 1/20\n",
      "561/561 [==============================] - 0s 748us/step - loss: 0.0050 - mean_absolute_error: 0.0169 - val_loss: 2.7750e-18 - val_mean_absolute_error: 2.3279e-11\n",
      "Epoch 2/20\n",
      "561/561 [==============================] - 0s 693us/step - loss: 0.0000e+00 - mean_absolute_error: 0.0000e+00 - val_loss: 2.7750e-18 - val_mean_absolute_error: 2.3279e-11\n",
      "Epoch 3/20\n",
      "561/561 [==============================] - 0s 668us/step - loss: 0.0000e+00 - mean_absolute_error: 0.0000e+00 - val_loss: 2.7750e-18 - val_mean_absolute_error: 2.3279e-11\n",
      "Epoch 4/20\n",
      "561/561 [==============================] - 0s 656us/step - loss: 0.0000e+00 - mean_absolute_error: 0.0000e+00 - val_loss: 2.7750e-18 - val_mean_absolute_error: 2.3279e-11\n",
      "Epoch 5/20\n",
      "561/561 [==============================] - 0s 664us/step - loss: 0.0000e+00 - mean_absolute_error: 0.0000e+00 - val_loss: 2.7750e-18 - val_mean_absolute_error: 2.3279e-11\n",
      "Epoch 6/20\n",
      "561/561 [==============================] - 0s 662us/step - loss: 0.0000e+00 - mean_absolute_error: 0.0000e+00 - val_loss: 2.7750e-18 - val_mean_absolute_error: 2.3279e-11\n",
      "161/161 [==============================] - 0s 446us/step - loss: 2.7750e-18 - mean_absolute_error: 2.3279e-11\n",
      "80/80 - 0s - loss: 0.0000e+00 - mean_absolute_error: 0.0000e+00\n"
     ]
    }
   ],
   "source": [
    "history = compile_and_fit(linear, single_step_window)\n",
    "\n",
    "val_performance['Linear'] = linear.evaluate(single_step_window.val)\n",
    "performance['Linear'] = linear.evaluate(single_step_window.test, verbose=2)"
   ]
  },
  {
   "cell_type": "markdown",
   "metadata": {
    "id": "7U9XukYh8beN"
   },
   "source": [
    "`baseline` 모델과 마찬가지로 선형 모델은 넓은 범위의 배치에서 호출할 수 있습니다. 이러한 방식으로 모델은 연속적인 타임스텝에 대해 일련의 독립적인 예측을 수행합니다. `time` 축은 다른 `batch` 축처럼 작동합니다. 각 타임스텝에서 예측 사이에 상호 작용은 없습니다.\n",
    "\n",
    "![A single step prediction](https://www.tensorflow.org/tutorials/structured_data/images/wide_window.png)"
   ]
  },
  {
   "cell_type": "code",
   "execution_count": 47,
   "metadata": {
    "execution": {
     "iopub.execute_input": "2020-11-12T06:11:39.516624Z",
     "iopub.status.busy": "2020-11-12T06:11:39.515937Z",
     "iopub.status.idle": "2020-11-12T06:11:39.519470Z",
     "shell.execute_reply": "2020-11-12T06:11:39.518973Z"
    },
    "id": "K9UVM5Sw9KQN"
   },
   "outputs": [
    {
     "name": "stdout",
     "output_type": "stream",
     "text": [
      "Input shape: (32, 24, 15)\n",
      "Output shape: (32, 24, 1)\n"
     ]
    }
   ],
   "source": [
    "print('Input shape:', wide_window.example[0].shape)\n",
    "print('Output shape:', baseline(wide_window.example[0]).shape)"
   ]
  },
  {
   "cell_type": "markdown",
   "metadata": {
    "id": "X-CGj85oKaOG"
   },
   "source": [
    "다음은 `wide_widow`에 대한 예제 예측값을 플롯한 내용입니다. 많은 경우 예측이 단순히 입력 온도를 반환하는 것보다는 분명히 더 낮지만 몇 가지 경우에는 더 나쁘다는 사실에 주목하세요."
   ]
  },
  {
   "cell_type": "code",
   "execution_count": 48,
   "metadata": {
    "execution": {
     "iopub.execute_input": "2020-11-12T06:11:39.532832Z",
     "iopub.status.busy": "2020-11-12T06:11:39.532207Z",
     "iopub.status.idle": "2020-11-12T06:11:39.878322Z",
     "shell.execute_reply": "2020-11-12T06:11:39.878773Z"
    },
    "id": "bCC8VVo-OvwV"
   },
   "outputs": [
    {
     "data": {
      "image/png": "[encoded data removed]",
      "text/plain": [
       "<Figure size 864x576 with 3 Axes>"
      ]
     },
     "metadata": {
      "needs_background": "light"
     },
     "output_type": "display_data"
    }
   ],
   "source": [
    "wide_window.plot(linear, plot_col='ulsan')"
   ]
  },
  {
   "cell_type": "markdown",
   "metadata": {
    "id": "Is51vU8EMl6c"
   },
   "source": [
    "선형 모델의 한 가지 장점은 해석하기가 상대적으로 간단하다는 것입니다. 레이어의 가중치를 가져와 각 입력에 할당된 가중치를 볼 수 있습니다."
   ]
  },
  {
   "cell_type": "code",
   "execution_count": 49,
   "metadata": {
    "execution": {
     "iopub.execute_input": "2020-11-12T06:11:39.884518Z",
     "iopub.status.busy": "2020-11-12T06:11:39.883886Z",
     "iopub.status.idle": "2020-11-12T06:11:40.058334Z",
     "shell.execute_reply": "2020-11-12T06:11:40.058766Z"
    },
    "id": "d4uCTbsmK8VI"
   },
   "outputs": [
    {
     "data": {
      "image/png": "[encoded data removed]",
      "text/plain": [
       "<Figure size 576x432 with 1 Axes>"
      ]
     },
     "metadata": {
      "needs_background": "light"
     },
     "output_type": "display_data"
    }
   ],
   "source": [
    "plt.bar(x = range(len(train_ulsan.columns)), height=linear.layers[0].kernel[:,0].numpy())\n",
    "axis = plt.gca()\n",
    "axis.set_xticks(range(len(train_ulsan.columns)))\n",
    "_ = axis.set_xticklabels(train_ulsan.columns, rotation=90)"
   ]
  },
  {
   "cell_type": "markdown",
   "metadata": {},
   "source": [
    "# 원래 튜토리얼은\n",
    "![](https://www.tensorflow.org/tutorials/structured_data/time_series_files/output_d4uCTbsmK8VI_0.png)"
   ]
  },
  {
   "cell_type": "markdown",
   "metadata": {
    "id": "Ylng7215boIY"
   },
   "source": [
    "때로 모델은 입력 `T (degC)`에 가장 많은 가중치를 두지 않습니다. 이것은 무작위 초기화의 위험 중 하나입니다. "
   ]
  },
  {
   "cell_type": "markdown",
   "metadata": {
    "id": "W18e6da1cNbw"
   },
   "source": [
    "### 밀집\n",
    "\n",
    "실제로 여러 타임스텝에서 동작하는 모델을 적용하기 전에 더 깊고 강력한 단일 입력 스텝 모델의 성능을 확인하는 것이 좋습니다.\n",
    "\n",
    "다음 모델은 입력과 출력 사이에 몇 개의 `Dense` 레이어를 쌓는다는 점을 제외하면 `linear` 모델과 유사합니다. "
   ]
  },
  {
   "cell_type": "code",
   "execution_count": 50,
   "metadata": {
    "execution": {
     "iopub.execute_input": "2020-11-12T06:11:40.067852Z",
     "iopub.status.busy": "2020-11-12T06:11:40.067229Z",
     "iopub.status.idle": "2020-11-12T06:12:23.129623Z",
     "shell.execute_reply": "2020-11-12T06:12:23.128888Z"
    },
    "id": "Z86WkYp7cNAD"
   },
   "outputs": [
    {
     "name": "stdout",
     "output_type": "stream",
     "text": [
      "Epoch 1/20\n",
      "561/561 [==============================] - 1s 909us/step - loss: 0.0103 - mean_absolute_error: 0.0188 - val_loss: 0.0000e+00 - val_mean_absolute_error: 0.0000e+00\n",
      "Epoch 2/20\n",
      "561/561 [==============================] - 0s 767us/step - loss: 0.0000e+00 - mean_absolute_error: 0.0000e+00 - val_loss: 0.0000e+00 - val_mean_absolute_error: 0.0000e+00\n",
      "Epoch 3/20\n",
      "561/561 [==============================] - 0s 764us/step - loss: 0.0000e+00 - mean_absolute_error: 0.0000e+00 - val_loss: 0.0000e+00 - val_mean_absolute_error: 0.0000e+00\n",
      "Epoch 4/20\n",
      "561/561 [==============================] - 0s 769us/step - loss: 0.0000e+00 - mean_absolute_error: 0.0000e+00 - val_loss: 0.0000e+00 - val_mean_absolute_error: 0.0000e+00\n",
      "Epoch 5/20\n",
      "561/561 [==============================] - 0s 757us/step - loss: 0.0000e+00 - mean_absolute_error: 0.0000e+00 - val_loss: 0.0000e+00 - val_mean_absolute_error: 0.0000e+00\n",
      "Epoch 6/20\n",
      "561/561 [==============================] - 0s 775us/step - loss: 0.0000e+00 - mean_absolute_error: 0.0000e+00 - val_loss: 0.0000e+00 - val_mean_absolute_error: 0.0000e+00\n",
      "161/161 [==============================] - 0s 502us/step - loss: 0.0000e+00 - mean_absolute_error: 0.0000e+00\n",
      "80/80 - 0s - loss: 0.0000e+00 - mean_absolute_error: 0.0000e+00\n"
     ]
    }
   ],
   "source": [
    "dense = tf.keras.Sequential([\n",
    "    tf.keras.layers.Dense(units=64, activation='relu'),\n",
    "    tf.keras.layers.Dense(units=64, activation='relu'),\n",
    "    tf.keras.layers.Dense(units=1)\n",
    "])\n",
    "\n",
    "history = compile_and_fit(dense, single_step_window)\n",
    "\n",
    "val_performance['Dense'] = dense.evaluate(single_step_window.val)\n",
    "performance['Dense'] = dense.evaluate(single_step_window.test, verbose=2)"
   ]
  },
  {
   "cell_type": "markdown",
   "metadata": {
    "id": "j5dv_whJdswH"
   },
   "source": [
    "### 다중 스텝 밀집\n",
    "\n",
    "단일 타임스텝 모델에는 입력의 현재 값에 대한 컨텍스트가 없습니다. 시간에 따라 입력 특성이 어떻게 변하는지 볼 수 없습니다. 이 문제를 해결하려면 모델이 예측을 수행할 때 여러 타임스텝에 액세스해야 합니다.\n",
    "\n",
    "![Three time steps are used for each prediction.](https://www.tensorflow.org/tutorials/structured_data/images/conv_window.png)\n"
   ]
  },
  {
   "cell_type": "markdown",
   "metadata": {
    "id": "Zac-ti8agbJ7"
   },
   "source": [
    "`baseline` , `linear` 및 `dense` 모델은 각 타임스텝을 독립적으로 처리했습니다. 여기서 모델은 단일 출력을 생성하기 위해 여러 타임스텝을 입력으로 사용합니다.\n",
    "\n",
    "3시간의 입력과 1시간의 레이블 배치를 생성하는 `WindowGenerator`를 만듭니다."
   ]
  },
  {
   "cell_type": "markdown",
   "metadata": {
    "id": "gtN4BwZ37niR"
   },
   "source": [
    "`Window`의 `shift` 매개변수는 두 창의 끝에 상대적입니다.\n"
   ]
  },
  {
   "cell_type": "code",
   "execution_count": 51,
   "metadata": {
    "execution": {
     "iopub.execute_input": "2020-11-12T06:12:23.135910Z",
     "iopub.status.busy": "2020-11-12T06:12:23.135144Z",
     "iopub.status.idle": "2020-11-12T06:12:23.138364Z",
     "shell.execute_reply": "2020-11-12T06:12:23.137654Z"
    },
    "id": "lBh0j5djUKY2"
   },
   "outputs": [
    {
     "data": {
      "text/plain": [
       "Total window size: 4\n",
       "Input indices: [0 1 2]\n",
       "Label indices: [3]\n",
       "Label column name(s): ['ulsan']"
      ]
     },
     "execution_count": 51,
     "metadata": {},
     "output_type": "execute_result"
    }
   ],
   "source": [
    "CONV_WIDTH = 3\n",
    "conv_window = WindowGenerator(\n",
    "    input_width=CONV_WIDTH,\n",
    "    label_width=1,\n",
    "    shift=1,\n",
    "    train_df=train_ulsan,\n",
    "    val_df=val_ulsan,\n",
    "    test_df=test_ulsan,\n",
    "    label_columns=['ulsan'])\n",
    "\n",
    "conv_window"
   ]
  },
  {
   "cell_type": "code",
   "execution_count": 52,
   "metadata": {
    "execution": {
     "iopub.execute_input": "2020-11-12T06:12:23.141956Z",
     "iopub.status.busy": "2020-11-12T06:12:23.141368Z",
     "iopub.status.idle": "2020-11-12T06:12:23.567267Z",
     "shell.execute_reply": "2020-11-12T06:12:23.567747Z"
    },
    "id": "dCQ5gvs68Xkd"
   },
   "outputs": [
    {
     "data": {
      "text/plain": [
       "Text(0.5, 1.0, 'Given 3h as input, predict 1h into the future.')"
      ]
     },
     "execution_count": 52,
     "metadata": {},
     "output_type": "execute_result"
    },
    {
     "data": {
      "image/png": "[encoded data removed]",
      "text/plain": [
       "<Figure size 864x576 with 3 Axes>"
      ]
     },
     "metadata": {
      "needs_background": "light"
     },
     "output_type": "display_data"
    }
   ],
   "source": [
    "conv_window.plot(plot_col='ulsan')\n",
    "plt.title(\"Given 3h as input, predict 1h into the future.\")"
   ]
  },
  {
   "cell_type": "markdown",
   "metadata": {
    "id": "We0HdMxKeqB_"
   },
   "source": [
    "`layers.Flatten`을 모델의 첫 번째 레이어로 추가하여 다중 입력 스텝 창에서 `dense` 모델을 훈련할 수 있습니다."
   ]
  },
  {
   "cell_type": "code",
   "execution_count": 53,
   "metadata": {
    "execution": {
     "iopub.execute_input": "2020-11-12T06:12:23.577831Z",
     "iopub.status.busy": "2020-11-12T06:12:23.577134Z",
     "iopub.status.idle": "2020-11-12T06:12:23.582688Z",
     "shell.execute_reply": "2020-11-12T06:12:23.582142Z"
    },
    "id": "oNQnUOkOnC1G"
   },
   "outputs": [],
   "source": [
    "multi_step_dense = tf.keras.Sequential([\n",
    "    # Shape: (time, features) => (time*features)\n",
    "    tf.keras.layers.Flatten(),\n",
    "    tf.keras.layers.Dense(units=32, activation='relu'),\n",
    "    tf.keras.layers.Dense(units=32, activation='relu'),\n",
    "    tf.keras.layers.Dense(units=1),\n",
    "    # Add back the time dimension.\n",
    "    # Shape: (outputs) => (1, outputs)\n",
    "    tf.keras.layers.Reshape([1, -1]),\n",
    "])"
   ]
  },
  {
   "cell_type": "code",
   "execution_count": 54,
   "metadata": {
    "execution": {
     "iopub.execute_input": "2020-11-12T06:12:23.588719Z",
     "iopub.status.busy": "2020-11-12T06:12:23.587373Z",
     "iopub.status.idle": "2020-11-12T06:12:23.617721Z",
     "shell.execute_reply": "2020-11-12T06:12:23.617187Z"
    },
    "id": "cayD74luo4Vq"
   },
   "outputs": [
    {
     "name": "stdout",
     "output_type": "stream",
     "text": [
      "Input shape: (32, 3, 15)\n",
      "Output shape: (32, 1, 1)\n"
     ]
    }
   ],
   "source": [
    "print('Input shape:', conv_window.example[0].shape)\n",
    "print('Output shape:', multi_step_dense(conv_window.example[0]).shape)"
   ]
  },
  {
   "cell_type": "code",
   "execution_count": 55,
   "metadata": {
    "execution": {
     "iopub.execute_input": "2020-11-12T06:12:23.626746Z",
     "iopub.status.busy": "2020-11-12T06:12:23.626144Z",
     "iopub.status.idle": "2020-11-12T06:13:06.689558Z",
     "shell.execute_reply": "2020-11-12T06:13:06.690077Z"
    },
    "id": "fu91yEbRo9-J"
   },
   "outputs": [
    {
     "name": "stdout",
     "output_type": "stream",
     "text": [
      "  1/160 [..............................] - ETA: 0s - loss: 0.0000e+00 - mean_absolute_error: 0.0000e+00WARNING:tensorflow:Callbacks method `on_test_batch_end` is slow compared to the batch time (batch time: 0.0000s vs `on_test_batch_end` time: 0.0010s). Check your callbacks.\n",
      "160/160 [==============================] - 0s 474us/step - loss: 0.0000e+00 - mean_absolute_error: 0.0000e+00\n",
      "80/80 - 0s - loss: 0.0000e+00 - mean_absolute_error: 0.0000e+00\n"
     ]
    }
   ],
   "source": [
    "history = compile_and_fit(multi_step_dense, conv_window)\n",
    "\n",
    "IPython.display.clear_output()\n",
    "val_performance['Multi step dense'] = multi_step_dense.evaluate(conv_window.val)\n",
    "performance['Multi step dense'] = multi_step_dense.evaluate(conv_window.test, verbose=2)"
   ]
  },
  {
   "cell_type": "code",
   "execution_count": 56,
   "metadata": {
    "execution": {
     "iopub.execute_input": "2020-11-12T06:13:06.703798Z",
     "iopub.status.busy": "2020-11-12T06:13:06.703064Z",
     "iopub.status.idle": "2020-11-12T06:13:07.073542Z",
     "shell.execute_reply": "2020-11-12T06:13:07.073953Z"
    },
    "id": "tnqdXYT6pkEh"
   },
   "outputs": [
    {
     "data": {
      "image/png": "[encoded data removed]",
      "text/plain": [
       "<Figure size 864x576 with 3 Axes>"
      ]
     },
     "metadata": {
      "needs_background": "light"
     },
     "output_type": "display_data"
    }
   ],
   "source": [
    "conv_window.plot(multi_step_dense, plot_col='ulsan')"
   ]
  },
  {
   "cell_type": "markdown",
   "metadata": {
    "id": "gWfrsP8mq8lV"
   },
   "source": [
    "이 접근법의 주된 단점은 결과적인 모델이 정확히 이 형상의 입력 창에서만 실행될 수 있다는 것입니다. "
   ]
  },
  {
   "cell_type": "code",
   "execution_count": 57,
   "metadata": {
    "execution": {
     "iopub.execute_input": "2020-11-12T06:13:07.083312Z",
     "iopub.status.busy": "2020-11-12T06:13:07.082319Z",
     "iopub.status.idle": "2020-11-12T06:13:07.102366Z",
     "shell.execute_reply": "2020-11-12T06:13:07.101668Z"
    },
    "id": "j-q6tz5Yq8Jk"
   },
   "outputs": [
    {
     "name": "stdout",
     "output_type": "stream",
     "text": [
      "Input shape: (32, 24, 15)\n",
      "\n",
      "InvalidArgumentError:Matrix size-incompatible: In[0]: [32,360], In[1]: [45,32] [Op:MatMul]\n"
     ]
    }
   ],
   "source": [
    "print('Input shape:', wide_window.example[0].shape)\n",
    "try:\n",
    "    print('Output shape:', multi_step_dense(wide_window.example[0]).shape)\n",
    "except Exception as e:\n",
    "    print(f'\\n{type(e).__name__}:{e}')"
   ]
  },
  {
   "cell_type": "markdown",
   "metadata": {
    "id": "bvvajm3ip_8V"
   },
   "source": [
    "다음 섹션의 컨볼루셔널 모델은 이 문제를 해결합니다."
   ]
  },
  {
   "cell_type": "markdown",
   "metadata": {
    "id": "CrpU6gwSJome"
   },
   "source": [
    "### 컨볼루션 신경망\n",
    "\n",
    "컨볼루션 레이어(`layers.Conv1D`)도 각 예측에 대한 입력으로 여러 타임스텝을 사용합니다."
   ]
  },
  {
   "cell_type": "markdown",
   "metadata": {
    "id": "cdLBwoaHmsWb"
   },
   "source": [
    "다음은 컨볼루션으로 다시 작성한 `multi_step_dense`와 **동일한** 모델입니다.\n",
    "\n",
    "다음 변경 사항에 주목하세요.\n",
    "\n",
    "- `layers.Flatten`과 첫 번째 `layers.Dense`는 `layers.Conv1D`로 대체됩니다.\n",
    "- 컨볼루션이 출력에서 시간 축을 유지하므로 `layers.Reshape`는 이 더 이상 필요하지 않습니다."
   ]
  },
  {
   "cell_type": "code",
   "execution_count": 58,
   "metadata": {
    "execution": {
     "iopub.execute_input": "2020-11-12T06:13:07.112377Z",
     "iopub.status.busy": "2020-11-12T06:13:07.111699Z",
     "iopub.status.idle": "2020-11-12T06:13:07.116644Z",
     "shell.execute_reply": "2020-11-12T06:13:07.116171Z"
    },
    "id": "5azaMBj4ac9t"
   },
   "outputs": [],
   "source": [
    "conv_model = tf.keras.Sequential([\n",
    "    tf.keras.layers.Conv1D(filters=32,\n",
    "                           kernel_size=(CONV_WIDTH,),\n",
    "                           activation='relu'),\n",
    "    tf.keras.layers.Dense(units=32, activation='relu'),\n",
    "    tf.keras.layers.Dense(units=1),\n",
    "])"
   ]
  },
  {
   "cell_type": "markdown",
   "metadata": {
    "id": "ftaH6B5ECRiK"
   },
   "source": [
    "예제 배치에서 실행하여 모델이 예상된 형상으로 출력을 생성하는지 확인합니다."
   ]
  },
  {
   "cell_type": "code",
   "execution_count": 59,
   "metadata": {
    "execution": {
     "iopub.execute_input": "2020-11-12T06:13:07.255804Z",
     "iopub.status.busy": "2020-11-12T06:13:07.255015Z",
     "iopub.status.idle": "2020-11-12T06:13:07.300665Z",
     "shell.execute_reply": "2020-11-12T06:13:07.300065Z"
    },
    "id": "5YNgt1-e98lH"
   },
   "outputs": [
    {
     "name": "stdout",
     "output_type": "stream",
     "text": [
      "Conv model on `conv_window`\n",
      "Input shape: (32, 3, 15)\n",
      "Output shape: (32, 1, 1)\n"
     ]
    }
   ],
   "source": [
    "print(\"Conv model on `conv_window`\")\n",
    "print('Input shape:', conv_window.example[0].shape)\n",
    "print('Output shape:', conv_model(conv_window.example[0]).shape)"
   ]
  },
  {
   "cell_type": "markdown",
   "metadata": {
    "id": "5m4kC-jGCY3x"
   },
   "source": [
    "`conv_window`에서 훈련하고 평가하면 `multi_step_dense` 모델과 유사한 성능을 제공해야 합니다."
   ]
  },
  {
   "cell_type": "code",
   "execution_count": 60,
   "metadata": {
    "execution": {
     "iopub.execute_input": "2020-11-12T06:13:07.310431Z",
     "iopub.status.busy": "2020-11-12T06:13:07.309701Z",
     "iopub.status.idle": "2020-11-12T06:14:53.861352Z",
     "shell.execute_reply": "2020-11-12T06:14:53.861897Z"
    },
    "id": "QDVWdm4paUW7"
   },
   "outputs": [
    {
     "name": "stdout",
     "output_type": "stream",
     "text": [
      "Epoch 1/20\n",
      "521/561 [==========================>...] - ETA: 0s - loss: 0.0026 - mean_absolute_error: 0.0106WARNING:tensorflow:Callbacks method `on_test_batch_end` is slow compared to the batch time (batch time: 0.0000s vs `on_test_batch_end` time: 0.0010s). Check your callbacks.\n",
      "561/561 [==============================] - 0s 879us/step - loss: 0.0024 - mean_absolute_error: 0.0098 - val_loss: 0.0000e+00 - val_mean_absolute_error: 0.0000e+00\n",
      "Epoch 2/20\n",
      "561/561 [==============================] - 0s 765us/step - loss: 0.0000e+00 - mean_absolute_error: 0.0000e+00 - val_loss: 0.0000e+00 - val_mean_absolute_error: 0.0000e+00\n",
      "Epoch 3/20\n",
      "561/561 [==============================] - 0s 776us/step - loss: 0.0000e+00 - mean_absolute_error: 0.0000e+00 - val_loss: 0.0000e+00 - val_mean_absolute_error: 0.0000e+00\n",
      "Epoch 4/20\n",
      "561/561 [==============================] - 0s 763us/step - loss: 0.0000e+00 - mean_absolute_error: 0.0000e+00 - val_loss: 0.0000e+00 - val_mean_absolute_error: 0.0000e+00\n",
      "Epoch 5/20\n",
      "561/561 [==============================] - 0s 740us/step - loss: 0.0000e+00 - mean_absolute_error: 0.0000e+00 - val_loss: 0.0000e+00 - val_mean_absolute_error: 0.0000e+00\n",
      "Epoch 6/20\n",
      "561/561 [==============================] - 0s 778us/step - loss: 0.0000e+00 - mean_absolute_error: 0.0000e+00 - val_loss: 0.0000e+00 - val_mean_absolute_error: 0.0000e+00\n",
      "160/160 [==============================] - 0s 486us/step - loss: 0.0000e+00 - mean_absolute_error: 0.0000e+00\n",
      "80/80 - 0s - loss: 0.0000e+00 - mean_absolute_error: 0.0000e+00\n"
     ]
    }
   ],
   "source": [
    "history = compile_and_fit(conv_model, conv_window)\n",
    "\n",
    "#IPython.display.clear_output()\n",
    "val_performance['Conv'] = conv_model.evaluate(conv_window.val)\n",
    "performance['Conv'] = conv_model.evaluate(conv_window.test, verbose=2)"
   ]
  },
  {
   "cell_type": "markdown",
   "metadata": {
    "id": "sYRipDeXs0Kr"
   },
   "source": [
    "이 `conv_model`과 `multi_step_dense` 모델의 차이점은 `conv_model`은 모든 길이의 입력에서 실행될 수 있다는 것입니다. 컨볼루셔널 레이어는 입력의 슬라이딩 윈도우에 적용됩니다.\n",
    "\n",
    "![Executing a convolutional model on a sequence](https://www.tensorflow.org/tutorials/structured_data/images/wide_conv_window.png)\n",
    "\n",
    "더 넓은 입력에서 실행하면 더 넓은 출력이 생성됩니다."
   ]
  },
  {
   "cell_type": "code",
   "execution_count": 61,
   "metadata": {
    "execution": {
     "iopub.execute_input": "2020-11-12T06:14:53.871222Z",
     "iopub.status.busy": "2020-11-12T06:14:53.868949Z",
     "iopub.status.idle": "2020-11-12T06:14:53.910056Z",
     "shell.execute_reply": "2020-11-12T06:14:53.909422Z"
    },
    "id": "hoqccxx9r5jF"
   },
   "outputs": [
    {
     "name": "stdout",
     "output_type": "stream",
     "text": [
      "Wide window\n",
      "Input shape: (32, 24, 15)\n",
      "Labels shape: (32, 24, 1)\n",
      "Output shape: (32, 22, 1)\n"
     ]
    }
   ],
   "source": [
    "print(\"Wide window\")\n",
    "print('Input shape:', wide_window.example[0].shape)\n",
    "print('Labels shape:', wide_window.example[1].shape)\n",
    "print('Output shape:', conv_model(wide_window.example[0]).shape)"
   ]
  },
  {
   "cell_type": "markdown",
   "metadata": {
    "id": "h_WGxtLIHhRF"
   },
   "source": [
    "출력은 입력보다 짧습니다. 훈련 또는 플롯 작업을 수행하려면 레이블과 예상의 길이가 동일해야 합니다. 따라서 레이블과 예측 길이가 일치하도록 몇 개의 추가 입력 타임스텝으로 넓은 창을 생성하는 `WindowGenerator`를 빌드합니다. "
   ]
  },
  {
   "cell_type": "code",
   "execution_count": 62,
   "metadata": {
    "execution": {
     "iopub.execute_input": "2020-11-12T06:14:53.916374Z",
     "iopub.status.busy": "2020-11-12T06:14:53.915463Z",
     "iopub.status.idle": "2020-11-12T06:14:53.918614Z",
     "shell.execute_reply": "2020-11-12T06:14:53.919013Z"
    },
    "id": "_VPvJ_VwTc0f"
   },
   "outputs": [
    {
     "data": {
      "text/plain": [
       "Total window size: 27\n",
       "Input indices: [ 0  1  2  3  4  5  6  7  8  9 10 11 12 13 14 15 16 17 18 19 20 21 22 23\n",
       " 24 25]\n",
       "Label indices: [ 3  4  5  6  7  8  9 10 11 12 13 14 15 16 17 18 19 20 21 22 23 24 25 26]\n",
       "Label column name(s): ['ulsan']"
      ]
     },
     "execution_count": 62,
     "metadata": {},
     "output_type": "execute_result"
    }
   ],
   "source": [
    "LABEL_WIDTH = 24\n",
    "INPUT_WIDTH = LABEL_WIDTH + (CONV_WIDTH - 1)\n",
    "wide_conv_window = WindowGenerator(\n",
    "    input_width=INPUT_WIDTH,\n",
    "    label_width=LABEL_WIDTH,\n",
    "    shift=1,\n",
    "    train_df=train_ulsan,\n",
    "    val_df=val_ulsan,\n",
    "    test_df=test_ulsan,\n",
    "    label_columns=['ulsan'])\n",
    "\n",
    "wide_conv_window"
   ]
  },
  {
   "cell_type": "code",
   "execution_count": 63,
   "metadata": {
    "execution": {
     "iopub.execute_input": "2020-11-12T06:14:53.923589Z",
     "iopub.status.busy": "2020-11-12T06:14:53.922938Z",
     "iopub.status.idle": "2020-11-12T06:14:54.003110Z",
     "shell.execute_reply": "2020-11-12T06:14:54.003515Z"
    },
    "id": "gtqlWYXeKXej"
   },
   "outputs": [
    {
     "name": "stdout",
     "output_type": "stream",
     "text": [
      "Wide conv window\n",
      "Input shape: (32, 26, 15)\n",
      "Labels shape: (32, 24, 1)\n",
      "Output shape: (32, 24, 1)\n"
     ]
    }
   ],
   "source": [
    "print(\"Wide conv window\")\n",
    "print('Input shape:', wide_conv_window.example[0].shape)\n",
    "print('Labels shape:', wide_conv_window.example[1].shape)\n",
    "print('Output shape:', conv_model(wide_conv_window.example[0]).shape)"
   ]
  },
  {
   "cell_type": "markdown",
   "metadata": {
    "id": "yzxbbS56cSBV"
   },
   "source": [
    "이제 더 넓은 창에 모델의 예측값을 플롯할 수 있습니다. 첫 번째 예측 전 3개의 입력 타임스텝에 주목하세요. 여기서 모든 예측은 이전 3개의 타임스텝에 기초합니다."
   ]
  },
  {
   "cell_type": "code",
   "execution_count": 64,
   "metadata": {
    "execution": {
     "iopub.execute_input": "2020-11-12T06:14:54.017815Z",
     "iopub.status.busy": "2020-11-12T06:14:54.016775Z",
     "iopub.status.idle": "2020-11-12T06:14:54.375705Z",
     "shell.execute_reply": "2020-11-12T06:14:54.376149Z"
    },
    "id": "gR7VyL45UuEe"
   },
   "outputs": [
    {
     "data": {
      "image/png": "[encoded data removed]",
      "text/plain": [
       "<Figure size 864x576 with 3 Axes>"
      ]
     },
     "metadata": {
      "needs_background": "light"
     },
     "output_type": "display_data"
    }
   ],
   "source": [
    "wide_conv_window.plot(conv_model, plot_col='ulsan')"
   ]
  },
  {
   "cell_type": "markdown",
   "metadata": {
    "id": "H4crpOcoMlSe"
   },
   "source": [
    "### 순환 신경망\n",
    "\n",
    "Recurrent Neural Network(RNN)는 시계열 데이터에 적합한 신경망 유형입니다. RNN은 시계열을 단계별로 처리하여 타임스텝 사이에서 내부 상태를 유지합니다.\n",
    "\n",
    "자세한 내용은 [텍스트 생성 튜토리얼](https://www.tensorflow.org/tutorials/text/text_generation) 또는 [RNN 가이드](https://www.tensorflow.org/guide/keras/rnn)를 읽어보세요.\n",
    "\n",
    "이 튜토리얼에서는 [Long Short Term Memory](https://www.tensorflow.org/versions/r2.0/api_docs/python/tf/keras/layers/LSTM)(LSTM)이라는 RNN 레이어를 사용합니다."
   ]
  },
  {
   "cell_type": "markdown",
   "metadata": {
    "id": "vfQbHSMb1ATa"
   },
   "source": [
    "모든 keras RNN 레이어에 대한 중요한 생성자 인수는 `return_sequences` 인수입니다. 이 설정은 다음 두 가지 방법 중 하나로 레이어를 구성할 수 있습니다.\n",
    "\n",
    "1. 기본값인 `False`인 경우 레이어는 최종 타임스텝의 출력만 반환하여 단일 예측을 수행하기 전에 모델이 내부 상태를 준비할 시간을 줍니다.\n",
    "\n",
    "![An lstm warming up and making a single prediction](https://www.tensorflow.org/tutorials/structured_data/images/lstm_1_window.png)\n",
    "\n",
    "1. `True`이면 레이어가 각 입력에 대한 출력을 반환합니다. 다음과 같은 경우에 유용합니다.\n",
    "\n",
    "- RNN 레이어 쌓기\n",
    "- 여러 타임스텝에서 동시에 모델 훈련\n",
    "\n",
    "![An lstm making a prediction after every timestep](https://www.tensorflow.org/tutorials/structured_data/images/lstm_many_window.png)"
   ]
  },
  {
   "cell_type": "code",
   "execution_count": 65,
   "metadata": {
    "execution": {
     "iopub.execute_input": "2020-11-12T06:14:54.393011Z",
     "iopub.status.busy": "2020-11-12T06:14:54.391958Z",
     "iopub.status.idle": "2020-11-12T06:14:54.397306Z",
     "shell.execute_reply": "2020-11-12T06:14:54.396830Z"
    },
    "id": "DXKLCJy8nWNU"
   },
   "outputs": [],
   "source": [
    "lstm_model = tf.keras.models.Sequential([\n",
    "    # Shape [batch, time, features] => [batch, time, lstm_units]\n",
    "    tf.keras.layers.LSTM(32, return_sequences=True),\n",
    "    # Shape => [batch, time, features]\n",
    "    tf.keras.layers.Dense(units=1)\n",
    "])"
   ]
  },
  {
   "cell_type": "markdown",
   "metadata": {
    "id": "F124B00KZcLC"
   },
   "source": [
    "`return_sequences=True`이면 모델을 한 번에 24시간 분량 데이터에 대해 훈련할 수 있습니다.\n",
    "\n",
    "참고: 이 경우에는 모델 성능의 관점에서 기대할 것이 없습니다. 첫 번째 타임스텝에서 모델이 이전 스텝에 액세스할 수 없으므로 이전에 표시한 단순한 `linear` 및 `dense` 모델보다 더 나을 것이 없기 때문입니다."
   ]
  },
  {
   "cell_type": "code",
   "execution_count": 66,
   "metadata": {
    "execution": {
     "iopub.execute_input": "2020-11-12T06:14:54.405415Z",
     "iopub.status.busy": "2020-11-12T06:14:54.402689Z",
     "iopub.status.idle": "2020-11-12T06:14:54.620257Z",
     "shell.execute_reply": "2020-11-12T06:14:54.620655Z"
    },
    "id": "eZEROCQVYV6q"
   },
   "outputs": [
    {
     "name": "stdout",
     "output_type": "stream",
     "text": [
      "Input shape: (32, 24, 15)\n",
      "Output shape: (32, 24, 1)\n"
     ]
    }
   ],
   "source": [
    "print('Input shape:', wide_window.example[0].shape)\n",
    "print('Output shape:', lstm_model(wide_window.example[0]).shape)"
   ]
  },
  {
   "cell_type": "code",
   "execution_count": 67,
   "metadata": {
    "execution": {
     "iopub.execute_input": "2020-11-12T06:14:54.631110Z",
     "iopub.status.busy": "2020-11-12T06:14:54.630002Z",
     "iopub.status.idle": "2020-11-12T06:16:21.358489Z",
     "shell.execute_reply": "2020-11-12T06:16:21.359018Z"
    },
    "id": "uvdWRl1e9WJl"
   },
   "outputs": [
    {
     "name": "stdout",
     "output_type": "stream",
     "text": [
      "Epoch 1/20\n",
      "560/560 [==============================] - 3s 4ms/step - loss: 0.0175 - mean_absolute_error: 0.0478 - val_loss: 4.6984e-04 - val_mean_absolute_error: 0.0093\n",
      "Epoch 2/20\n",
      "560/560 [==============================] - 2s 4ms/step - loss: 1.4352e-04 - mean_absolute_error: 0.0058 - val_loss: 1.9948e-05 - val_mean_absolute_error: 0.0025\n",
      "Epoch 3/20\n",
      "560/560 [==============================] - 2s 4ms/step - loss: 5.6445e-06 - mean_absolute_error: 0.0013 - val_loss: 1.0682e-06 - val_mean_absolute_error: 8.5885e-04\n",
      "Epoch 4/20\n",
      "560/560 [==============================] - 2s 4ms/step - loss: 6.3740e-07 - mean_absolute_error: 6.7236e-04 - val_loss: 3.8798e-07 - val_mean_absolute_error: 5.3493e-04\n",
      "Epoch 5/20\n",
      "560/560 [==============================] - 2s 4ms/step - loss: 2.7749e-07 - mean_absolute_error: 4.4676e-04 - val_loss: 1.9891e-07 - val_mean_absolute_error: 3.7015e-04\n",
      "Epoch 6/20\n",
      "560/560 [==============================] - 2s 4ms/step - loss: 1.5486e-07 - mean_absolute_error: 3.1761e-04 - val_loss: 1.1842e-07 - val_mean_absolute_error: 2.7213e-04\n",
      "Epoch 7/20\n",
      "560/560 [==============================] - 2s 4ms/step - loss: 9.1234e-08 - mean_absolute_error: 2.3306e-04 - val_loss: 6.7083e-08 - val_mean_absolute_error: 1.9587e-04\n",
      "Epoch 8/20\n",
      "560/560 [==============================] - 2s 4ms/step - loss: 4.8924e-08 - mean_absolute_error: 1.6236e-04 - val_loss: 3.3514e-08 - val_mean_absolute_error: 1.3042e-04\n",
      "Epoch 9/20\n",
      "560/560 [==============================] - 2s 4ms/step - loss: 2.3319e-08 - mean_absolute_error: 1.0375e-04 - val_loss: 1.5330e-08 - val_mean_absolute_error: 8.0640e-05\n",
      "Epoch 10/20\n",
      "560/560 [==============================] - 2s 4ms/step - loss: 1.0907e-08 - mean_absolute_error: 6.3864e-05 - val_loss: 7.7469e-09 - val_mean_absolute_error: 5.2137e-05\n",
      "Epoch 11/20\n",
      "560/560 [==============================] - 2s 4ms/step - loss: 6.2790e-09 - mean_absolute_error: 4.8291e-05 - val_loss: 5.2885e-09 - val_mean_absolute_error: 4.6648e-05\n",
      "Epoch 12/20\n",
      "560/560 [==============================] - 2s 4ms/step - loss: 3.2006e-07 - mean_absolute_error: 2.7109e-04 - val_loss: 5.1567e-09 - val_mean_absolute_error: 5.2472e-05\n",
      "Epoch 13/20\n",
      "560/560 [==============================] - 2s 4ms/step - loss: 2.0488e-06 - mean_absolute_error: 6.5215e-04 - val_loss: 5.8461e-05 - val_mean_absolute_error: 0.0075\n",
      "Epoch 14/20\n",
      "560/560 [==============================] - 2s 4ms/step - loss: 3.9523e-06 - mean_absolute_error: 8.3497e-04 - val_loss: 8.2993e-08 - val_mean_absolute_error: 2.7811e-04\n",
      "Epoch 15/20\n",
      "560/560 [==============================] - 2s 4ms/step - loss: 3.8995e-06 - mean_absolute_error: 6.9539e-04 - val_loss: 2.8875e-06 - val_mean_absolute_error: 0.0017\n",
      "Epoch 16/20\n",
      "560/560 [==============================] - 2s 4ms/step - loss: 1.8398e-06 - mean_absolute_error: 4.1259e-04 - val_loss: 2.1415e-07 - val_mean_absolute_error: 4.5452e-04\n",
      "Epoch 17/20\n",
      "560/560 [==============================] - 2s 4ms/step - loss: 3.6894e-06 - mean_absolute_error: 7.0399e-04 - val_loss: 3.1868e-09 - val_mean_absolute_error: 4.8064e-05\n",
      "Epoch 18/20\n",
      "560/560 [==============================] - 2s 4ms/step - loss: 3.1648e-06 - mean_absolute_error: 6.5988e-04 - val_loss: 3.2207e-09 - val_mean_absolute_error: 4.8722e-05\n",
      "Epoch 19/20\n",
      "560/560 [==============================] - 2s 4ms/step - loss: 2.8964e-06 - mean_absolute_error: 6.3502e-04 - val_loss: 3.1808e-09 - val_mean_absolute_error: 4.8531e-05\n",
      "Epoch 20/20\n",
      "560/560 [==============================] - 2s 4ms/step - loss: 2.8431e-06 - mean_absolute_error: 6.2699e-04 - val_loss: 3.1575e-09 - val_mean_absolute_error: 4.8471e-05\n",
      "160/160 [==============================] - 0s 1ms/step - loss: 3.1575e-09 - mean_absolute_error: 4.8471e-05\n",
      "80/80 - 0s - loss: 3.1575e-09 - mean_absolute_error: 4.8471e-05\n"
     ]
    }
   ],
   "source": [
    "history = compile_and_fit(lstm_model, wide_window)\n",
    "\n",
    "#IPython.display.clear_output()\n",
    "val_performance['LSTM'] = lstm_model.evaluate(wide_window.val)\n",
    "performance['LSTM'] = lstm_model.evaluate(wide_window.test, verbose=2)"
   ]
  },
  {
   "cell_type": "code",
   "execution_count": 72,
   "metadata": {
    "execution": {
     "iopub.execute_input": "2020-11-12T06:16:21.373085Z",
     "iopub.status.busy": "2020-11-12T06:16:21.372379Z",
     "iopub.status.idle": "2020-11-12T06:16:21.726964Z",
     "shell.execute_reply": "2020-11-12T06:16:21.727399Z"
    },
    "id": "NwAOWCVgB26e"
   },
   "outputs": [
    {
     "data": {
      "image/png": "[encoded data removed]",
      "text/plain": [
       "<Figure size 864x576 with 3 Axes>"
      ]
     },
     "metadata": {
      "needs_background": "light"
     },
     "output_type": "display_data"
    }
   ],
   "source": [
    "wide_window.plot(lstm_model, plot_col='ulsan')"
   ]
  },
  {
   "cell_type": "markdown",
   "metadata": {
    "id": "pYglOCKehi8F"
   },
   "source": [
    "### 성능"
   ]
  },
  {
   "cell_type": "markdown",
   "metadata": {
    "id": "2pCk0_rwhi8H"
   },
   "source": [
    "이 데이터세트를 사용하면 일반적으로 각 모델의 성능이 이전 모델보다 약간 더 좋습니다."
   ]
  },
  {
   "cell_type": "code",
   "execution_count": 73,
   "metadata": {
    "execution": {
     "iopub.execute_input": "2020-11-12T06:16:21.751267Z",
     "iopub.status.busy": "2020-11-12T06:16:21.747990Z",
     "iopub.status.idle": "2020-11-12T06:16:21.892120Z",
     "shell.execute_reply": "2020-11-12T06:16:21.891640Z"
    },
    "id": "JjEkt488hi8I"
   },
   "outputs": [
    {
     "data": {
      "image/png": "[encoded data removed]",
      "text/plain": [
       "<Figure size 576x432 with 1 Axes>"
      ]
     },
     "metadata": {
      "needs_background": "light"
     },
     "output_type": "display_data"
    }
   ],
   "source": [
    "x = np.arange(len(performance))\n",
    "width = 0.3\n",
    "metric_name = 'mean_absolute_error'\n",
    "metric_index = lstm_model.metrics_names.index('mean_absolute_error')\n",
    "val_mae = [v[metric_index] for v in val_performance.values()]\n",
    "test_mae = [v[metric_index] for v in performance.values()]\n",
    "\n",
    "plt.ylabel('mean_absolute_error [T (degC), normalized]')\n",
    "plt.bar(x - 0.17, val_mae, width, label='Validation')\n",
    "plt.bar(x + 0.17, test_mae, width, label='Test')\n",
    "plt.xticks(ticks=x, labels=performance.keys(),\n",
    "           rotation=45)\n",
    "_ = plt.legend()"
   ]
  },
  {
   "cell_type": "markdown",
   "metadata": {},
   "source": [
    "# 원래는\n",
    "![](https://www.tensorflow.org/tutorials/structured_data/time_series_files/output_JjEkt488hi8I_0.png)"
   ]
  },
  {
   "cell_type": "code",
   "execution_count": 74,
   "metadata": {
    "execution": {
     "iopub.execute_input": "2020-11-12T06:16:21.896603Z",
     "iopub.status.busy": "2020-11-12T06:16:21.895979Z",
     "iopub.status.idle": "2020-11-12T06:16:21.898000Z",
     "shell.execute_reply": "2020-11-12T06:16:21.898458Z"
    },
    "id": "cBMCpsdphi8L"
   },
   "outputs": [
    {
     "name": "stdout",
     "output_type": "stream",
     "text": [
      "Baseline    : 0.0000\n",
      "Linear      : 0.0000\n",
      "Dense       : 0.0000\n",
      "Multi step dense: 0.0000\n",
      "Conv        : 0.0000\n",
      "LSTM        : 0.0000\n"
     ]
    }
   ],
   "source": [
    "for name, value in performance.items():\n",
    "    print(f'{name:12s}: {value[1]:0.4f}')"
   ]
  },
  {
   "cell_type": "markdown",
   "metadata": {
    "id": "b5rUJ_2YMWzG"
   },
   "source": [
    "### 다중 출력 모델\n",
    "\n",
    "지금까지 모델은 모두 단일 타임스텝에 대해 단일 출력 특성 `energy(ulsan)`를 예측했습니다.\n",
    "\n",
    "이러한 모든 모델은 간단히 출력 레이어의 단위 수를 변경하고 `labels`에 모든 특성을 포함하도록 훈련 창을 조정하여 여러 특성을 예측하도록 변환할 수 있습니다.\n"
   ]
  },
  {
   "cell_type": "code",
   "execution_count": 76,
   "metadata": {
    "execution": {
     "iopub.execute_input": "2020-11-12T06:16:21.903155Z",
     "iopub.status.busy": "2020-11-12T06:16:21.902605Z",
     "iopub.status.idle": "2020-11-12T06:16:21.970508Z",
     "shell.execute_reply": "2020-11-12T06:16:21.969842Z"
    },
    "id": "9Gk0Z91xjOwv"
   },
   "outputs": [
    {
     "name": "stdout",
     "output_type": "stream",
     "text": [
      "Inputs shape (batch, time, features): (32, 24, 15)\n",
      "Labels shape (batch, time, features): (32, 24, 15)\n"
     ]
    }
   ],
   "source": [
    "single_step_window = WindowGenerator(input_width=1, label_width=1, shift=1, train_df=train_ulsan, val_df=val_ulsan, test_df=test_ulsan)\n",
    "    # `WindowGenerator` returns all features as labels if you \n",
    "    # don't set the `label_columns` argument.\n",
    "    \n",
    "wide_window = WindowGenerator(input_width=24, label_width=24, shift=1, train_df=train_ulsan, val_df=val_ulsan, test_df=test_ulsan)\n",
    "\n",
    "for example_inputs, example_labels in wide_window.train.take(1):\n",
    "    print(f'Inputs shape (batch, time, features): {example_inputs.shape}')\n",
    "    print(f'Labels shape (batch, time, features): {example_labels.shape}')"
   ]
  },
  {
   "cell_type": "markdown",
   "metadata": {
    "id": "XmcjHfDskX1N"
   },
   "source": [
    "레이블의 `features` 축은 이제 1이 아닌 입력과 동일한 깊이를 갖습니다."
   ]
  },
  {
   "cell_type": "markdown",
   "metadata": {
    "id": "9k7S5IHNhSNF"
   },
   "source": [
    "#### 기준\n",
    "\n",
    "여기서는 동일한 기준 모델을 사용할 수 있지만 이번에는 특정 `label_index`를 선택하는 대신 모든 특성을 반복합니다."
   ]
  },
  {
   "cell_type": "code",
   "execution_count": 85,
   "metadata": {
    "execution": {
     "iopub.execute_input": "2020-11-12T06:16:21.976664Z",
     "iopub.status.busy": "2020-11-12T06:16:21.976037Z",
     "iopub.status.idle": "2020-11-12T06:16:21.993632Z",
     "shell.execute_reply": "2020-11-12T06:16:21.994057Z"
    },
    "id": "sqqB9W-pjr5i"
   },
   "outputs": [],
   "source": [
    "baseline = Baseline()\n",
    "baseline.compile(loss=tf.losses.MeanSquaredError(),\n",
    "                 metrics=[tf.metrics.MeanAbsoluteError()])"
   ]
  },
  {
   "cell_type": "code",
   "execution_count": 86,
   "metadata": {
    "execution": {
     "iopub.execute_input": "2020-11-12T06:16:21.998559Z",
     "iopub.status.busy": "2020-11-12T06:16:21.997853Z",
     "iopub.status.idle": "2020-11-12T06:16:23.484358Z",
     "shell.execute_reply": "2020-11-12T06:16:23.484788Z"
    },
    "id": "ltQdgaqQjQWu"
   },
   "outputs": [
    {
     "name": "stdout",
     "output_type": "stream",
     "text": [
      "160/160 [==============================] - 0s 1ms/step - loss: 0.0000e+00 - mean_absolute_error: 0.0000e+00\n",
      "80/80 - 0s - loss: 0.0000e+00 - mean_absolute_error: 0.0000e+00\n"
     ]
    }
   ],
   "source": [
    "val_performance = {}\n",
    "performance = {}\n",
    "val_performance['Baseline'] = baseline.evaluate(wide_window.val)\n",
    "performance['Baseline'] = baseline.evaluate(wide_window.test, verbose=2)"
   ]
  },
  {
   "cell_type": "markdown",
   "metadata": {
    "id": "dfbCrf5q3P6n"
   },
   "source": [
    "#### 밀집"
   ]
  },
  {
   "cell_type": "code",
   "execution_count": 87,
   "metadata": {
    "execution": {
     "iopub.execute_input": "2020-11-12T06:16:23.493833Z",
     "iopub.status.busy": "2020-11-12T06:16:23.493137Z",
     "iopub.status.idle": "2020-11-12T06:16:23.497366Z",
     "shell.execute_reply": "2020-11-12T06:16:23.497837Z"
    },
    "id": "NdpzH1dYjdIN"
   },
   "outputs": [],
   "source": [
    "dense = tf.keras.Sequential([\n",
    "    tf.keras.layers.Dense(units=64, activation='relu'),\n",
    "    tf.keras.layers.Dense(units=64, activation='relu'),\n",
    "    tf.keras.layers.Dense(units=num_features)\n",
    "])"
   ]
  },
  {
   "cell_type": "code",
   "execution_count": 88,
   "metadata": {
    "execution": {
     "iopub.execute_input": "2020-11-12T06:16:23.507048Z",
     "iopub.status.busy": "2020-11-12T06:16:23.506380Z",
     "iopub.status.idle": "2020-11-12T06:17:20.656455Z",
     "shell.execute_reply": "2020-11-12T06:17:20.656952Z"
    },
    "id": "6uHuU9Cd3PTo"
   },
   "outputs": [
    {
     "name": "stdout",
     "output_type": "stream",
     "text": [
      "Epoch 1/20\n",
      "561/561 [==============================] - 1s 893us/step - loss: 0.0000e+00 - mean_absolute_error: 0.0000e+00 - val_loss: 0.0000e+00 - val_mean_absolute_error: 0.0000e+00\n",
      "Epoch 2/20\n",
      "561/561 [==============================] - 0s 759us/step - loss: 0.0000e+00 - mean_absolute_error: 0.0000e+00 - val_loss: 0.0000e+00 - val_mean_absolute_error: 0.0000e+00\n",
      "Epoch 3/20\n",
      "561/561 [==============================] - 0s 745us/step - loss: 0.0000e+00 - mean_absolute_error: 0.0000e+00 - val_loss: 0.0000e+00 - val_mean_absolute_error: 0.0000e+00\n",
      "Epoch 4/20\n",
      "561/561 [==============================] - 0s 748us/step - loss: 0.0000e+00 - mean_absolute_error: 0.0000e+00 - val_loss: 0.0000e+00 - val_mean_absolute_error: 0.0000e+00\n",
      "Epoch 5/20\n",
      "561/561 [==============================] - 0s 747us/step - loss: 0.0000e+00 - mean_absolute_error: 0.0000e+00 - val_loss: 0.0000e+00 - val_mean_absolute_error: 0.0000e+00\n",
      "Epoch 6/20\n",
      "561/561 [==============================] - 0s 766us/step - loss: 0.0000e+00 - mean_absolute_error: 0.0000e+00 - val_loss: 0.0000e+00 - val_mean_absolute_error: 0.0000e+00\n",
      "161/161 [==============================] - 0s 471us/step - loss: 0.0000e+00 - mean_absolute_error: 0.0000e+00\n",
      "80/80 - 0s - loss: 0.0000e+00 - mean_absolute_error: 0.0000e+00\n"
     ]
    }
   ],
   "source": [
    "history = compile_and_fit(dense, single_step_window)\n",
    "\n",
    "#IPython.display.clear_output()\n",
    "val_performance['Dense'] = dense.evaluate(single_step_window.val)\n",
    "performance['Dense'] = dense.evaluate(single_step_window.test, verbose=2)"
   ]
  },
  {
   "cell_type": "markdown",
   "metadata": {
    "id": "dsc9pur_mHsx"
   },
   "source": [
    "#### RNN\n"
   ]
  },
  {
   "cell_type": "code",
   "execution_count": 89,
   "metadata": {
    "execution": {
     "iopub.execute_input": "2020-11-12T06:17:20.669001Z",
     "iopub.status.busy": "2020-11-12T06:17:20.668389Z",
     "iopub.status.idle": "2020-11-12T06:18:55.768241Z",
     "shell.execute_reply": "2020-11-12T06:18:55.767739Z"
    },
    "id": "4QbGLMyomXaz"
   },
   "outputs": [
    {
     "name": "stdout",
     "output_type": "stream",
     "text": [
      "Epoch 1/20\n",
      "560/560 [==============================] - 3s 5ms/step - loss: 0.0386 - mean_absolute_error: 0.0731 - val_loss: 0.0014 - val_mean_absolute_error: 0.0130\n",
      "Epoch 2/20\n",
      "560/560 [==============================] - 2s 4ms/step - loss: 3.2481e-04 - mean_absolute_error: 0.0053 - val_loss: 1.3905e-05 - val_mean_absolute_error: 0.0015\n",
      "Epoch 3/20\n",
      "560/560 [==============================] - 2s 4ms/step - loss: 4.7626e-06 - mean_absolute_error: 9.6609e-04 - val_loss: 1.7302e-06 - val_mean_absolute_error: 6.7460e-04\n",
      "Epoch 4/20\n",
      "560/560 [==============================] - 2s 4ms/step - loss: 1.1339e-06 - mean_absolute_error: 5.6520e-04 - val_loss: 7.7198e-07 - val_mean_absolute_error: 4.8613e-04\n",
      "Epoch 5/20\n",
      "560/560 [==============================] - 2s 4ms/step - loss: 6.1073e-07 - mean_absolute_error: 4.3713e-04 - val_loss: 4.8965e-07 - val_mean_absolute_error: 3.9458e-04\n",
      "Epoch 6/20\n",
      "560/560 [==============================] - 2s 4ms/step - loss: 4.1468e-07 - mean_absolute_error: 3.6355e-04 - val_loss: 3.5231e-07 - val_mean_absolute_error: 3.3838e-04\n",
      "Epoch 7/20\n",
      "560/560 [==============================] - 2s 4ms/step - loss: 3.0723e-07 - mean_absolute_error: 3.2046e-04 - val_loss: 2.6748e-07 - val_mean_absolute_error: 3.0463e-04\n",
      "Epoch 8/20\n",
      "560/560 [==============================] - 2s 4ms/step - loss: 2.3575e-07 - mean_absolute_error: 2.9155e-04 - val_loss: 2.0662e-07 - val_mean_absolute_error: 2.7862e-04\n",
      "Epoch 9/20\n",
      "560/560 [==============================] - 2s 4ms/step - loss: 1.8184e-07 - mean_absolute_error: 2.6588e-04 - val_loss: 1.5856e-07 - val_mean_absolute_error: 2.5294e-04\n",
      "Epoch 10/20\n",
      "560/560 [==============================] - 2s 4ms/step - loss: 1.3825e-07 - mean_absolute_error: 2.3962e-04 - val_loss: 1.1914e-07 - val_mean_absolute_error: 2.2592e-04\n",
      "Epoch 11/20\n",
      "560/560 [==============================] - 2s 4ms/step - loss: 1.0726e-07 - mean_absolute_error: 2.1951e-04 - val_loss: 8.7649e-08 - val_mean_absolute_error: 1.9785e-04\n",
      "Epoch 12/20\n",
      "560/560 [==============================] - 2s 4ms/step - loss: 9.9712e-08 - mean_absolute_error: 2.1424e-04 - val_loss: 6.4295e-08 - val_mean_absolute_error: 1.7060e-04\n",
      "Epoch 13/20\n",
      "560/560 [==============================] - 2s 4ms/step - loss: 1.5901e-07 - mean_absolute_error: 2.4048e-04 - val_loss: 4.8418e-08 - val_mean_absolute_error: 1.4770e-04\n",
      "Epoch 14/20\n",
      "560/560 [==============================] - 2s 4ms/step - loss: 2.4134e-07 - mean_absolute_error: 2.6310e-04 - val_loss: 4.1531e-08 - val_mean_absolute_error: 1.3957e-04\n",
      "Epoch 15/20\n",
      "560/560 [==============================] - 2s 4ms/step - loss: 2.9786e-07 - mean_absolute_error: 2.9738e-04 - val_loss: 5.3369e-07 - val_mean_absolute_error: 5.7602e-04\n",
      "Epoch 16/20\n",
      "560/560 [==============================] - 2s 4ms/step - loss: 3.5440e-07 - mean_absolute_error: 3.1458e-04 - val_loss: 2.5304e-08 - val_mean_absolute_error: 1.0714e-04\n",
      "Epoch 17/20\n",
      "560/560 [==============================] - 2s 4ms/step - loss: 4.4064e-07 - mean_absolute_error: 3.9830e-04 - val_loss: 5.6172e-08 - val_mean_absolute_error: 1.9107e-04\n",
      "Epoch 18/20\n",
      "560/560 [==============================] - 2s 4ms/step - loss: 5.0902e-07 - mean_absolute_error: 4.4029e-04 - val_loss: 5.7527e-08 - val_mean_absolute_error: 1.9344e-04\n",
      "Epoch 19/20\n",
      "560/560 [==============================] - 2s 4ms/step - loss: 5.4815e-07 - mean_absolute_error: 4.5362e-04 - val_loss: 3.3905e-08 - val_mean_absolute_error: 1.4817e-04\n",
      "Epoch 20/20\n",
      "560/560 [==============================] - 2s 4ms/step - loss: 6.1255e-07 - mean_absolute_error: 4.5159e-04 - val_loss: 3.2933e-08 - val_mean_absolute_error: 1.4886e-04\n",
      "160/160 [==============================] - 0s 1ms/step - loss: 3.2933e-08 - mean_absolute_error: 1.4886e-04\n",
      "80/80 - 0s - loss: 3.2933e-08 - mean_absolute_error: 1.4886e-04\n",
      "\n",
      "Wall time: 48.8 s\n"
     ]
    }
   ],
   "source": [
    "%%time\n",
    "wide_window = WindowGenerator(\n",
    "    input_width=24, label_width=24, shift=1, train_df=train_ulsan, val_df=val_ulsan, test_df=test_ulsan)\n",
    "\n",
    "lstm_model = tf.keras.models.Sequential([\n",
    "    # Shape [batch, time, features] => [batch, time, lstm_units]\n",
    "    tf.keras.layers.LSTM(32, return_sequences=True),\n",
    "    # Shape => [batch, time, features]\n",
    "    tf.keras.layers.Dense(units=num_features)\n",
    "])\n",
    "\n",
    "history = compile_and_fit(lstm_model, wide_window)\n",
    "\n",
    "#IPython.display.clear_output()\n",
    "val_performance['LSTM'] = lstm_model.evaluate( wide_window.val)\n",
    "performance['LSTM'] = lstm_model.evaluate( wide_window.test, verbose=2)\n",
    "\n",
    "print()"
   ]
  },
  {
   "cell_type": "markdown",
   "metadata": {
    "id": "UwhY2f_Nn0_K"
   },
   "source": [
    "<a id=\"residual\"></a>\n",
    "\n",
    "#### 고급: 잔여 연결\n",
    "\n",
    "이전의 `Baseline` 모델은 시퀀스가 타임스텝 사이에서 크게 변하지 않는다는 사실을 이용했습니다. 지금까지 이 튜토리얼에서 훈련한 모든 모델은 무작위로 초기화된 다음, 출력이 이전 타임스텝에서 약간 변경된다는 사실을 학습해야 했습니다.\n",
    "\n",
    "신중한 초기화로 이 문제를 해결할 수 있지만 모델 구조로 빌드하는 것이 더 간단합니다.\n",
    "\n",
    "시계열 분석에서는 다음 값을 예측하는 대신 다음 타임스텝에서 값이 어떻게 달라지는 지를 예측하는 모델을 빌드하는 것이 일반적입니다. 마찬가지로 딥러닝에서 \"잔여 네트워크(Residual networks)\" 또는 \"ResNets\"는 각 레이어가 모델의 누적 결과에 추가되는 아키텍처를 나타냅니다.\n",
    "\n",
    "이것은 변화가 작아야 한다는 사실을 이용하는 방법입니다.\n",
    "\n",
    "![A model with a residual connection](https://www.tensorflow.org/tutorials/structured_data/images/residual.png)\n",
    "\n",
    "기본적으로, `Baseline`과 일치하도록 모델을 초기화합니다. 그러면 이 작업에서 약간 더 나은 성능으로 모델이 더 빨리 수렴하는 데 도움이 됩니다."
   ]
  },
  {
   "cell_type": "markdown",
   "metadata": {
    "id": "yP58A_ORx0kM"
   },
   "source": [
    "이 접근 방식은 이 튜토리얼에서 설명하는 모든 모델과 연계하여 사용할 수 있습니다.\n",
    "\n",
    "여기서는 LSTM 모델에 적용합니다. `tf.initializers.zeros`를 사용하여 초기 예측하는 변경이 작고 잔류 연결을 억제하지 않도록 한다는 점에 주목하세요. `zeros`가 마지막 레이어에서만 사용되기 때문에 여기에서 그래디언트에 대한 대칭성이 깨질 우려는 없습니다."
   ]
  },
  {
   "cell_type": "code",
   "execution_count": 90,
   "metadata": {
    "execution": {
     "iopub.execute_input": "2020-11-12T06:18:55.773883Z",
     "iopub.status.busy": "2020-11-12T06:18:55.773258Z",
     "iopub.status.idle": "2020-11-12T06:18:55.775051Z",
     "shell.execute_reply": "2020-11-12T06:18:55.775469Z"
    },
    "id": "7YlfnDQC22TQ"
   },
   "outputs": [],
   "source": [
    "class ResidualWrapper(tf.keras.Model):\n",
    "    def __init__(self, model):\n",
    "        super().__init__()\n",
    "        self.model = model\n",
    "\n",
    "    def call(self, inputs, *args, **kwargs):\n",
    "        delta = self.model(inputs, *args, **kwargs)\n",
    "\n",
    "        # The prediction for each timestep is the input\n",
    "        # from the previous time step plus the delta\n",
    "        # calculated by the model.\n",
    "        return inputs + delta"
   ]
  },
  {
   "cell_type": "code",
   "execution_count": 91,
   "metadata": {
    "execution": {
     "iopub.execute_input": "2020-11-12T06:18:55.787611Z",
     "iopub.status.busy": "2020-11-12T06:18:55.787032Z",
     "iopub.status.idle": "2020-11-12T06:19:48.628980Z",
     "shell.execute_reply": "2020-11-12T06:19:48.628388Z"
    },
    "id": "NNeH02pspc9B"
   },
   "outputs": [
    {
     "name": "stdout",
     "output_type": "stream",
     "text": [
      "Epoch 1/20\n",
      "560/560 [==============================] - 3s 5ms/step - loss: 0.0000e+00 - mean_absolute_error: 0.0000e+00 - val_loss: 0.0000e+00 - val_mean_absolute_error: 0.0000e+00\n",
      "Epoch 2/20\n",
      "560/560 [==============================] - 2s 4ms/step - loss: 0.0000e+00 - mean_absolute_error: 0.0000e+00 - val_loss: 0.0000e+00 - val_mean_absolute_error: 0.0000e+00\n",
      "Epoch 3/20\n",
      "560/560 [==============================] - 2s 4ms/step - loss: 0.0000e+00 - mean_absolute_error: 0.0000e+00 - val_loss: 0.0000e+00 - val_mean_absolute_error: 0.0000e+00\n",
      "Epoch 4/20\n",
      "560/560 [==============================] - 2s 4ms/step - loss: 0.0000e+00 - mean_absolute_error: 0.0000e+00 - val_loss: 0.0000e+00 - val_mean_absolute_error: 0.0000e+00\n",
      "Epoch 5/20\n",
      "560/560 [==============================] - 2s 4ms/step - loss: 0.0000e+00 - mean_absolute_error: 0.0000e+00 - val_loss: 0.0000e+00 - val_mean_absolute_error: 0.0000e+00\n",
      "Epoch 6/20\n",
      "560/560 [==============================] - 2s 4ms/step - loss: 0.0000e+00 - mean_absolute_error: 0.0000e+00 - val_loss: 0.0000e+00 - val_mean_absolute_error: 0.0000e+00\n",
      "160/160 [==============================] - 0s 1ms/step - loss: 0.0000e+00 - mean_absolute_error: 0.0000e+00\n",
      "80/80 - 0s - loss: 0.0000e+00 - mean_absolute_error: 0.0000e+00\n",
      "\n",
      "Wall time: 16.5 s\n"
     ]
    }
   ],
   "source": [
    "%%time\n",
    "residual_lstm = ResidualWrapper(\n",
    "    tf.keras.Sequential([\n",
    "    tf.keras.layers.LSTM(32, return_sequences=True),\n",
    "    tf.keras.layers.Dense(\n",
    "        num_features,\n",
    "        # The predicted deltas should start small\n",
    "        # So initialize the output layer with zeros\n",
    "        kernel_initializer=tf.initializers.zeros)\n",
    "]))\n",
    "\n",
    "history = compile_and_fit(residual_lstm, wide_window)\n",
    "\n",
    "#IPython.display.clear_output()\n",
    "val_performance['Residual LSTM'] = residual_lstm.evaluate(wide_window.val)\n",
    "performance['Residual LSTM'] = residual_lstm.evaluate(wide_window.test, verbose=2)\n",
    "print()"
   ]
  },
  {
   "cell_type": "markdown",
   "metadata": {
    "id": "I42Er9Du6co1"
   },
   "source": [
    "#### 성능"
   ]
  },
  {
   "cell_type": "markdown",
   "metadata": {
    "id": "LZxR38P_6pUi"
   },
   "source": [
    "다음은 이러한 다중 출력 모델의 전반적인 성능입니다."
   ]
  },
  {
   "cell_type": "code",
   "execution_count": 92,
   "metadata": {
    "execution": {
     "iopub.execute_input": "2020-11-12T06:19:48.648881Z",
     "iopub.status.busy": "2020-11-12T06:19:48.641987Z",
     "iopub.status.idle": "2020-11-12T06:19:48.784523Z",
     "shell.execute_reply": "2020-11-12T06:19:48.783919Z"
    },
    "id": "6XgTK9tnr7rc"
   },
   "outputs": [
    {
     "data": {
      "image/png": "[encoded data removed]",
      "text/plain": [
       "<Figure size 576x432 with 1 Axes>"
      ]
     },
     "metadata": {
      "needs_background": "light"
     },
     "output_type": "display_data"
    }
   ],
   "source": [
    "x = np.arange(len(performance))\n",
    "width = 0.3\n",
    "\n",
    "metric_name = 'mean_absolute_error'\n",
    "metric_index = lstm_model.metrics_names.index('mean_absolute_error')\n",
    "val_mae = [v[metric_index] for v in val_performance.values()]\n",
    "test_mae = [v[metric_index] for v in performance.values()]\n",
    "\n",
    "plt.bar(x - 0.17, val_mae, width, label='Validation')\n",
    "plt.bar(x + 0.17, test_mae, width, label='Test')\n",
    "plt.xticks(ticks=x, labels=performance.keys(), rotation=45)\n",
    "plt.ylabel('MAE (average over all outputs)')\n",
    "_ = plt.legend()"
   ]
  },
  {
   "cell_type": "code",
   "execution_count": 93,
   "metadata": {
    "execution": {
     "iopub.execute_input": "2020-11-12T06:19:48.788906Z",
     "iopub.status.busy": "2020-11-12T06:19:48.788226Z",
     "iopub.status.idle": "2020-11-12T06:19:48.791204Z",
     "shell.execute_reply": "2020-11-12T06:19:48.790722Z"
    },
    "id": "URz3ajCc6kBj"
   },
   "outputs": [
    {
     "name": "stdout",
     "output_type": "stream",
     "text": [
      "Baseline       : 0.0000\n",
      "Dense          : 0.0000\n",
      "LSTM           : 0.0001\n",
      "Residual LSTM  : 0.0000\n"
     ]
    }
   ],
   "source": [
    "for name, value in performance.items():\n",
    "    print(f'{name:15s}: {value[1]:0.4f}')"
   ]
  },
  {
   "cell_type": "markdown",
   "metadata": {
    "id": "_Vt2MJhNxwPU"
   },
   "source": [
    "위의 성능은 모든 모델 출력에 대한 평균입니다."
   ]
  },
  {
   "cell_type": "markdown",
   "metadata": {},
   "source": [
    "___\n",
    "___\n",
    "___"
   ]
  },
  {
   "cell_type": "markdown",
   "metadata": {},
   "source": [
    "___\n",
    "___\n",
    "___"
   ]
  },
  {
   "cell_type": "markdown",
   "metadata": {},
   "source": [
    "___\n",
    "___\n",
    "___"
   ]
  },
  {
   "cell_type": "code",
   "execution_count": null,
   "metadata": {},
   "outputs": [],
   "source": []
  },
  {
   "cell_type": "code",
   "execution_count": null,
   "metadata": {},
   "outputs": [],
   "source": []
  },
  {
   "cell_type": "code",
   "execution_count": null,
   "metadata": {},
   "outputs": [],
   "source": []
  },
  {
   "cell_type": "code",
   "execution_count": null,
   "metadata": {},
   "outputs": [],
   "source": []
  },
  {
   "cell_type": "code",
   "execution_count": null,
   "metadata": {},
   "outputs": [],
   "source": []
  },
  {
   "cell_type": "code",
   "execution_count": null,
   "metadata": {},
   "outputs": [],
   "source": []
  },
  {
   "cell_type": "code",
   "execution_count": null,
   "metadata": {},
   "outputs": [],
   "source": []
  },
  {
   "cell_type": "markdown",
   "metadata": {
    "id": "eYokb7Om2YbK"
   },
   "source": [
    "## 다중 스텝 모델\n",
    "\n",
    "이전 섹션의 단일 출력 및 다중 출력 모델은 모두 미래 1시간의 **단일 타임스텝 예측**을 수행했습니다.\n",
    "\n",
    "이 섹션에서는 이러한 모델을 확장하여 **다중 타임스텝 예측**을 수행하는 방법을 살펴봅니다.\n",
    "\n",
    "다중 스텝 예측에서 모델은 일정 범위의 미래 값을 예측하는 방법을 학습해야 합니다. 따라서 한 미래 시점만 예측하는 단일 스텝 모델과 달리 다중 스텝 모델은 미래 값의 시퀀스를 예측합니다.\n",
    "\n",
    "대략적으로 두 가지 접근 방식이 있습니다.\n",
    "\n",
    "1. 전체 시계열이 한 번에 예측되는 싱글샷 예측\n",
    "2. 모델이 단일 스텝 예측만 수행하고 출력이 입력으로 피드백되는 자기 회귀적 예측\n",
    "\n",
    "이 섹션에서는 모든 모델이 **모든 출력 타임스텝에 걸쳐 모든 특성**을 예측합니다.\n"
   ]
  },
  {
   "cell_type": "markdown",
   "metadata": {
    "id": "WFsDAwVt4_rq"
   },
   "source": [
    "다중 스텝 모델의 경우, 훈련 데이터는 다시 시간별 샘플로 구성됩니다. 그러나 여기에서 모델은 과거의 24시간을 고려하여 미래 24시간을 예측하는 방법을 학습합니다.\n",
    "\n",
    "다음은 데이터세트로부터 이러한 조각을 생성하는 `Window` 객체입니다."
   ]
  },
  {
   "cell_type": "code",
   "execution_count": null,
   "metadata": {
    "execution": {
     "iopub.execute_input": "2020-11-12T06:19:48.795910Z",
     "iopub.status.busy": "2020-11-12T06:19:48.795210Z",
     "iopub.status.idle": "2020-11-12T06:19:49.194061Z",
     "shell.execute_reply": "2020-11-12T06:19:49.194481Z"
    },
    "id": "1cFYtsz6XiGw"
   },
   "outputs": [],
   "source": [
    "OUT_STEPS = 24\n",
    "multi_window = WindowGenerator(input_width=24,\n",
    "                               label_width=OUT_STEPS,\n",
    "                               shift=OUT_STEPS)\n",
    "\n",
    "multi_window.plot()\n",
    "multi_window"
   ]
  },
  {
   "cell_type": "markdown",
   "metadata": {
    "id": "5lg8SInh9Jzd"
   },
   "source": [
    "### 기준"
   ]
  },
  {
   "cell_type": "markdown",
   "metadata": {
    "id": "axwpoWYOApJL"
   },
   "source": [
    "이 작업의 간단한 기준은 필요한 출력 타임스텝 수에 대해 마지막 입력 타임스텝을 반복하는 것입니다.\n",
    "\n",
    "![Repeat the last input, for each output step](https://www.tensorflow.org/tutorials/structured_data/images/multistep_last.png)"
   ]
  },
  {
   "cell_type": "code",
   "execution_count": null,
   "metadata": {
    "execution": {
     "iopub.execute_input": "2020-11-12T06:19:49.202982Z",
     "iopub.status.busy": "2020-11-12T06:19:49.202282Z",
     "iopub.status.idle": "2020-11-12T06:19:51.639912Z",
     "shell.execute_reply": "2020-11-12T06:19:51.640366Z"
    },
    "id": "_5iaHSaJ9Rxv"
   },
   "outputs": [],
   "source": [
    "class MultiStepLastBaseline(tf.keras.Model):\n",
    "  def call(self, inputs):\n",
    "    return tf.tile(inputs[:, -1:, :], [1, OUT_STEPS, 1])\n",
    "\n",
    "last_baseline = MultiStepLastBaseline()\n",
    "last_baseline.compile(loss=tf.losses.MeanSquaredError(),\n",
    "                      metrics=[tf.metrics.MeanAbsoluteError()])\n",
    "\n",
    "multi_val_performance = {}\n",
    "multi_performance = {}\n",
    "\n",
    "multi_val_performance['Last'] = last_baseline.evaluate(multi_window.val)\n",
    "multi_performance['Last'] = last_baseline.evaluate(multi_window.val, verbose=0)\n",
    "multi_window.plot(last_baseline)"
   ]
  },
  {
   "cell_type": "markdown",
   "metadata": {
    "id": "AvHZ93ObAfMA"
   },
   "source": [
    "이 작업은 24시간이 주어졌을 때 24시간을 예측하는 것이므로 또 다른 간단한 접근 방법은 내일도 비슷하다는 가정 하에 전날을 반복하는 것입니다.\n",
    "\n",
    "![Repeat the previous day](https://www.tensorflow.org/tutorials/structured_data/images/multistep_repeat.png)"
   ]
  },
  {
   "cell_type": "code",
   "execution_count": null,
   "metadata": {
    "execution": {
     "iopub.execute_input": "2020-11-12T06:19:51.648721Z",
     "iopub.status.busy": "2020-11-12T06:19:51.647655Z",
     "iopub.status.idle": "2020-11-12T06:19:53.458613Z",
     "shell.execute_reply": "2020-11-12T06:19:53.459038Z"
    },
    "id": "L8Y1uMhGwIRs"
   },
   "outputs": [],
   "source": [
    "class RepeatBaseline(tf.keras.Model):\n",
    "  def call(self, inputs):\n",
    "    return inputs\n",
    "\n",
    "repeat_baseline = RepeatBaseline()\n",
    "repeat_baseline.compile(loss=tf.losses.MeanSquaredError(),\n",
    "                        metrics=[tf.metrics.MeanAbsoluteError()])\n",
    "\n",
    "multi_val_performance['Repeat'] = repeat_baseline.evaluate(multi_window.val)\n",
    "multi_performance['Repeat'] = repeat_baseline.evaluate(multi_window.test, verbose=0)\n",
    "multi_window.plot(repeat_baseline)"
   ]
  },
  {
   "cell_type": "markdown",
   "metadata": {
    "id": "tbndS-ct9C2Q"
   },
   "source": [
    "### 싱글샷 모델\n",
    "\n",
    "이 문제에 대한 한 가지 높은 수준의 접근 방법은 모델이 한 번에 전체 시퀀스 예측을 수행하는 \"싱글샷\" 모델을 사용하는 것입니다.\n",
    "\n",
    "이 모델은 `OUT_STEPS*features` 출력 단위를 이용해 `layers.Dense`로 효율적으로 구현할 수 있습니다. 이 모델은 이 출력의 형상을 필요한 `(OUTPUT_STEPS, features)`로 바꾸기만 하면 됩니다."
   ]
  },
  {
   "cell_type": "markdown",
   "metadata": {
    "id": "NCKS4m1VKrDQ"
   },
   "source": [
    "#### 선형\n",
    "\n",
    "마지막 입력 타임스텝을 기반으로 하는 단순한 선형 모델은 기준 모델보다 성능이 더 좋지만 강력하지 못합니다. 이 모델은 선형 프로젝션을 이용해 단일 입력 타임스텝으로부터 `OUTPUT_STEPS` 타임스텝을 예측해야 합니다. 주로 하루 중 시간과 연중 시간을 기반으로 하는 행동의 저차원 조각만 캡처할 수 있습니다.\n",
    "\n",
    "![Predct all timesteps from the last time-step](https://www.tensorflow.org/tutorials/structured_data/images/multistep_dense.png)"
   ]
  },
  {
   "cell_type": "code",
   "execution_count": null,
   "metadata": {
    "execution": {
     "iopub.execute_input": "2020-11-12T06:19:53.468265Z",
     "iopub.status.busy": "2020-11-12T06:19:53.467506Z",
     "iopub.status.idle": "2020-11-12T06:20:37.947202Z",
     "shell.execute_reply": "2020-11-12T06:20:37.947597Z"
    },
    "id": "kfRz_WVhIQcd"
   },
   "outputs": [],
   "source": [
    "multi_linear_model = tf.keras.Sequential([\n",
    "    # Take the last time-step.\n",
    "    # Shape [batch, time, features] => [batch, 1, features]\n",
    "    tf.keras.layers.Lambda(lambda x: x[:, -1:, :]),\n",
    "    # Shape => [batch, 1, out_steps*features]\n",
    "    tf.keras.layers.Dense(OUT_STEPS*num_features,\n",
    "                          kernel_initializer=tf.initializers.zeros),\n",
    "    # Shape => [batch, out_steps, features]\n",
    "    tf.keras.layers.Reshape([OUT_STEPS, num_features])\n",
    "])\n",
    "\n",
    "history = compile_and_fit(multi_linear_model, multi_window)\n",
    "\n",
    "IPython.display.clear_output()\n",
    "multi_val_performance['Linear'] = multi_linear_model.evaluate(multi_window.val)\n",
    "multi_performance['Linear'] = multi_linear_model.evaluate(multi_window.test, verbose=0)\n",
    "multi_window.plot(multi_linear_model)"
   ]
  },
  {
   "cell_type": "markdown",
   "metadata": {
    "id": "zi2TMHk2IRrh"
   },
   "source": [
    "#### 밀집\n",
    "\n",
    "입력과 출력 사이에 `layers.Dense`를 추가하면 선현 모델이 더 강력해지지만 여전히 단일 입력에 기반합니다."
   ]
  },
  {
   "cell_type": "code",
   "execution_count": null,
   "metadata": {
    "execution": {
     "iopub.execute_input": "2020-11-12T06:20:37.957479Z",
     "iopub.status.busy": "2020-11-12T06:20:37.955859Z",
     "iopub.status.idle": "2020-11-12T06:21:35.163911Z",
     "shell.execute_reply": "2020-11-12T06:21:35.164348Z"
    },
    "id": "jezm-BKaGj91"
   },
   "outputs": [],
   "source": [
    "multi_dense_model = tf.keras.Sequential([\n",
    "    # Take the last time step.\n",
    "    # Shape [batch, time, features] => [batch, 1, features]\n",
    "    tf.keras.layers.Lambda(lambda x: x[:, -1:, :]),\n",
    "    # Shape => [batch, 1, dense_units]\n",
    "    tf.keras.layers.Dense(512, activation='relu'),\n",
    "    # Shape => [batch, out_steps*features]\n",
    "    tf.keras.layers.Dense(OUT_STEPS*num_features,\n",
    "                          kernel_initializer=tf.initializers.zeros),\n",
    "    # Shape => [batch, out_steps, features]\n",
    "    tf.keras.layers.Reshape([OUT_STEPS, num_features])\n",
    "])\n",
    "\n",
    "history = compile_and_fit(multi_dense_model, multi_window)\n",
    "\n",
    "IPython.display.clear_output()\n",
    "multi_val_performance['Dense'] = multi_dense_model.evaluate(multi_window.val)\n",
    "multi_performance['Dense'] = multi_dense_model.evaluate(multi_window.test, verbose=0)\n",
    "multi_window.plot(multi_dense_model)"
   ]
  },
  {
   "cell_type": "markdown",
   "metadata": {
    "id": "icsBAjCzMaMl"
   },
   "source": [
    "#### CNN"
   ]
  },
  {
   "cell_type": "markdown",
   "metadata": {
    "id": "34lCZrWYNBwd"
   },
   "source": [
    "컨볼루션 모델은 고정 너비 기록을 기반으로 예측을 수행하므로 시간에 따라 상황이 어떻게 변하는지 볼 수 있어 밀집 모델보다 성능을 높일 수 있습니다.\n",
    "\n",
    "![A convolutional model sees how things change over time](https://www.tensorflow.org/tutorials/structured_data/images/multistep_conv.png)"
   ]
  },
  {
   "cell_type": "code",
   "execution_count": null,
   "metadata": {
    "execution": {
     "iopub.execute_input": "2020-11-12T06:21:35.177749Z",
     "iopub.status.busy": "2020-11-12T06:21:35.176526Z",
     "iopub.status.idle": "2020-11-12T06:22:20.774608Z",
     "shell.execute_reply": "2020-11-12T06:22:20.775065Z"
    },
    "id": "0xJoIP6PMWMI"
   },
   "outputs": [],
   "source": [
    "CONV_WIDTH = 3\n",
    "multi_conv_model = tf.keras.Sequential([\n",
    "    # Shape [batch, time, features] => [batch, CONV_WIDTH, features]\n",
    "    tf.keras.layers.Lambda(lambda x: x[:, -CONV_WIDTH:, :]),\n",
    "    # Shape => [batch, 1, conv_units]\n",
    "    tf.keras.layers.Conv1D(256, activation='relu', kernel_size=(CONV_WIDTH)),\n",
    "    # Shape => [batch, 1,  out_steps*features]\n",
    "    tf.keras.layers.Dense(OUT_STEPS*num_features,\n",
    "                          kernel_initializer=tf.initializers.zeros),\n",
    "    # Shape => [batch, out_steps, features]\n",
    "    tf.keras.layers.Reshape([OUT_STEPS, num_features])\n",
    "])\n",
    "\n",
    "history = compile_and_fit(multi_conv_model, multi_window)\n",
    "\n",
    "IPython.display.clear_output()\n",
    "\n",
    "multi_val_performance['Conv'] = multi_conv_model.evaluate(multi_window.val)\n",
    "multi_performance['Conv'] = multi_conv_model.evaluate(multi_window.test, verbose=0)\n",
    "multi_window.plot(multi_conv_model)"
   ]
  },
  {
   "cell_type": "markdown",
   "metadata": {
    "id": "weBjeZAFJOP4"
   },
   "source": [
    "#### RNN"
   ]
  },
  {
   "cell_type": "markdown",
   "metadata": {
    "id": "8022xOKxOO92"
   },
   "source": [
    "반복 모델은 모델이 수행하는 예측과 관련이 있는 경우 긴 입력 기록을 사용하는 방법을 학습할 수 있습니다. 여기서 모델은 다음 24시간에 대한 단일 예측을 수행하기 전에 24시간 동안 내부 상태를 축적합니다.\n",
    "\n",
    "이 싱글샷 형식에서 LSTM은 마지막 타임스텝에서만 출력을 생성하면 되므로 `return_sequences=False`를 설정합니다.\n",
    "\n",
    "![The lstm accumulates state over the input window, and makes a single prediction for the next 24h](https://github.com/tensorflow/docs-l10n/blob/master/site/ko/tutorials/structured_data/images/multistep_lstm.png?raw=true)\n"
   ]
  },
  {
   "cell_type": "code",
   "execution_count": null,
   "metadata": {
    "execution": {
     "iopub.execute_input": "2020-11-12T06:22:20.787135Z",
     "iopub.status.busy": "2020-11-12T06:22:20.786450Z",
     "iopub.status.idle": "2020-11-12T06:23:25.317858Z",
     "shell.execute_reply": "2020-11-12T06:23:25.318346Z"
    },
    "id": "Bf1ks6RTzF64"
   },
   "outputs": [],
   "source": [
    "multi_lstm_model = tf.keras.Sequential([\n",
    "    # Shape [batch, time, features] => [batch, lstm_units]\n",
    "    # Adding more `lstm_units` just overfits more quickly.\n",
    "    tf.keras.layers.LSTM(32, return_sequences=False),\n",
    "    # Shape => [batch, out_steps*features]\n",
    "    tf.keras.layers.Dense(OUT_STEPS*num_features,\n",
    "                          kernel_initializer=tf.initializers.zeros),\n",
    "    # Shape => [batch, out_steps, features]\n",
    "    tf.keras.layers.Reshape([OUT_STEPS, num_features])\n",
    "])\n",
    "\n",
    "history = compile_and_fit(multi_lstm_model, multi_window)\n",
    "\n",
    "IPython.display.clear_output()\n",
    "\n",
    "multi_val_performance['LSTM'] = multi_lstm_model.evaluate(multi_window.val)\n",
    "multi_performance['LSTM'] = multi_lstm_model.evaluate(multi_window.test, verbose=0)\n",
    "multi_window.plot(multi_lstm_model)"
   ]
  },
  {
   "cell_type": "markdown",
   "metadata": {
    "id": "d5n-1cDW12Vo"
   },
   "source": [
    "### 고급: 자기 회귀 모델\n",
    "\n",
    "위의 모델은 모두 한 번에 전체 출력 시퀀스를 예측합니다.\n",
    "\n",
    "경우에 따라 모델이 이 예측을 여러 타임스텝으로 분해하는 것이 도움이 될 수 있습니다. 그러면 이전의 [RNN(Recurrent Neural Networks)을 이용한 시퀀스 생성](https://arxiv.org/abs/1308.0850)에서와 같이 각 모델의 출력을 각 스텝에서 자체 피드백할 수 있어 이전 예측을 조건부로 예측을 수행할 수 있습니다.\n",
    "\n",
    "이 형태의 모델이 갖는 한 가지 분명한 장점은 다양한 길이의 출력을 생성하도록 설정할 수 있다는 것입니다.\n",
    "\n",
    "이 튜토리얼의 전반부에서 훈련한 단일 스텝 다중 출력 모델 중 하나를 가져와 자기 회귀 피드백 루프에서 실행할 수 있지만 여기서는 이를 수행하도록 명시적으로 훈련된 모델을 빌드하는 데 중점을 둘 것입니다.\n",
    "\n",
    "![Feedback a model's output to its input](https://www.tensorflow.org/tutorials/structured_data/images/multistep_autoregressive.png)\n"
   ]
  },
  {
   "cell_type": "markdown",
   "metadata": {
    "id": "PKRreBbULRXY"
   },
   "source": [
    "#### RNN\n",
    "\n",
    "이 튜토리얼에서는 자기 회귀 RNN 모델만 빌드하지만 이 패턴은 단일 타임스텝을 출력하도록 설계된 모든 모델에 적용할 수 있습니다.\n",
    "\n",
    "이 모델은 단일 스텝 `LSTM` 모델과 기본 형태가 동일하여 `LSTM` 다음에 `LSTM` 출력을 모델 예측으로 변환하는 `layers.Dense`가 이어집니다.\n",
    "\n",
    "`layers.LSTM`은 상태와 시퀀스 결과를 자동으로 관리하는 더 높은 수준의 `layers.RNN`에서 래핑된 `layers.LSTMCell`입니다(자세한 내용은 [Keras RNN](https://www.tensorflow.org/guide/keras/rnn) 참조).\n",
    "\n",
    "이 경우 모델은 각 스텝에 대한 입력을 수동으로 관리해야 하므로 더 낮은 수준의 단일 타임스텝 인터페이스에 대해 `layers.LSTMCell`를 직접 사용합니다."
   ]
  },
  {
   "cell_type": "code",
   "execution_count": null,
   "metadata": {
    "execution": {
     "iopub.execute_input": "2020-11-12T06:23:25.324361Z",
     "iopub.status.busy": "2020-11-12T06:23:25.323778Z",
     "iopub.status.idle": "2020-11-12T06:23:25.325821Z",
     "shell.execute_reply": "2020-11-12T06:23:25.325402Z"
    },
    "id": "s5tz3Nu0R5JG"
   },
   "outputs": [],
   "source": [
    "class FeedBack(tf.keras.Model):\n",
    "  def __init__(self, units, out_steps):\n",
    "    super().__init__()\n",
    "    self.out_steps = out_steps\n",
    "    self.units = units\n",
    "    self.lstm_cell = tf.keras.layers.LSTMCell(units)\n",
    "    # Also wrap the LSTMCell in an RNN to simplify the `warmup` method.\n",
    "    self.lstm_rnn = tf.keras.layers.RNN(self.lstm_cell, return_state=True)\n",
    "    self.dense = tf.keras.layers.Dense(num_features)"
   ]
  },
  {
   "cell_type": "code",
   "execution_count": null,
   "metadata": {
    "execution": {
     "iopub.execute_input": "2020-11-12T06:23:25.331360Z",
     "iopub.status.busy": "2020-11-12T06:23:25.330741Z",
     "iopub.status.idle": "2020-11-12T06:23:25.342338Z",
     "shell.execute_reply": "2020-11-12T06:23:25.341873Z"
    },
    "id": "2OXVM9G1U7xR"
   },
   "outputs": [],
   "source": [
    "feedback_model = FeedBack(units=32, out_steps=OUT_STEPS)"
   ]
  },
  {
   "cell_type": "markdown",
   "metadata": {
    "id": "ph5uFSfTUNho"
   },
   "source": [
    "이 모델에 필요한 첫 번째 메서드는 입력을 기반으로 내부 상태를 초기화하는 `warmup` 메서드입니다. 일단 훈련되면 이 상태는 입력 기록의 관련 부분을 캡처합니다. 이는 앞서 알아본 단일 스텝 `LSTM` 모델과 동일합니다."
   ]
  },
  {
   "cell_type": "code",
   "execution_count": null,
   "metadata": {
    "execution": {
     "iopub.execute_input": "2020-11-12T06:23:25.346690Z",
     "iopub.status.busy": "2020-11-12T06:23:25.346113Z",
     "iopub.status.idle": "2020-11-12T06:23:25.347767Z",
     "shell.execute_reply": "2020-11-12T06:23:25.348185Z"
    },
    "id": "vM2K_LLdRjDZ"
   },
   "outputs": [],
   "source": [
    "def warmup(self, inputs):\n",
    "  # inputs.shape => (batch, time, features)\n",
    "  # x.shape => (batch, lstm_units)\n",
    "  x, *state = self.lstm_rnn(inputs)\n",
    "\n",
    "  # predictions.shape => (batch, features)\n",
    "  prediction = self.dense(x)\n",
    "  return prediction, state\n",
    "\n",
    "FeedBack.warmup = warmup"
   ]
  },
  {
   "cell_type": "markdown",
   "metadata": {
    "id": "6JkaSYaZ9eB7"
   },
   "source": [
    "이 메서드는 단일 타임스텝 예측과 LSTM의 내부 상태를 반환합니다."
   ]
  },
  {
   "cell_type": "code",
   "execution_count": null,
   "metadata": {
    "execution": {
     "iopub.execute_input": "2020-11-12T06:23:25.352527Z",
     "iopub.status.busy": "2020-11-12T06:23:25.351909Z",
     "iopub.status.idle": "2020-11-12T06:23:25.385112Z",
     "shell.execute_reply": "2020-11-12T06:23:25.384684Z"
    },
    "id": "w9Fz6NTKXXwU"
   },
   "outputs": [],
   "source": [
    "prediction, state = feedback_model.warmup(multi_window.example[0])\n",
    "prediction.shape"
   ]
  },
  {
   "cell_type": "markdown",
   "metadata": {
    "id": "S_ZdvPjdX3y3"
   },
   "source": [
    "`RNN`의 상태 및 초기 예측을 사용하여 이제 이전의 각 스텝에서 수행한 예측을 입력으로 제공하여 모델을 계속 반복할 수 있습니다.\n",
    "\n",
    "출력 예측을 수집하는 가장 간단한 방법은 Python 목록을 사용하고 루프 후에 `tf.stack`을 사용하는 것입니다."
   ]
  },
  {
   "cell_type": "markdown",
   "metadata": {
    "id": "yotTad3nZXQU"
   },
   "source": [
    "참고: 이와 같이 Python 목록을 쌓는 것은 훈련을 위해 `Model.compile(..., run_eagerly=True)`를 사용하거나 고정 길이의 출력을 통해 즉시 실행하는 경우에만 효과가 있습니다. 동적 출력 길이의 경우 Python 목록 대신 `tf.TensorArray`를 사용하고 Python `range` 대신 `tf.range`를 사용해야 합니다."
   ]
  },
  {
   "cell_type": "code",
   "execution_count": null,
   "metadata": {
    "execution": {
     "iopub.execute_input": "2020-11-12T06:23:25.391224Z",
     "iopub.status.busy": "2020-11-12T06:23:25.390571Z",
     "iopub.status.idle": "2020-11-12T06:23:25.392282Z",
     "shell.execute_reply": "2020-11-12T06:23:25.392674Z"
    },
    "id": "g1GRDu3mZtr9"
   },
   "outputs": [],
   "source": [
    "def call(self, inputs, training=None):\n",
    "  # Use a TensorArray to capture dynamically unrolled outputs.\n",
    "  predictions = []\n",
    "  # Initialize the lstm state\n",
    "  prediction, state = self.warmup(inputs)\n",
    "\n",
    "  # Insert the first prediction\n",
    "  predictions.append(prediction)\n",
    "\n",
    "  # Run the rest of the prediction steps\n",
    "  for n in range(1, self.out_steps):\n",
    "    # Use the last prediction as input.\n",
    "    x = prediction\n",
    "    # Execute one lstm step.\n",
    "    x, state = self.lstm_cell(x, states=state,\n",
    "                              training=training)\n",
    "    # Convert the lstm output to a prediction.\n",
    "    prediction = self.dense(x)\n",
    "    # Add the prediction to the output\n",
    "    predictions.append(prediction)\n",
    "\n",
    "  # predictions.shape => (time, batch, features)\n",
    "  predictions = tf.stack(predictions)\n",
    "  # predictions.shape => (batch, time, features)\n",
    "  predictions = tf.transpose(predictions, [1, 0, 2])\n",
    "  return predictions\n",
    "\n",
    "FeedBack.call = call"
   ]
  },
  {
   "cell_type": "markdown",
   "metadata": {
    "id": "Ubop-YWp15XW"
   },
   "source": [
    "예제 입력에서 이 모델을 테스트 실행합니다."
   ]
  },
  {
   "cell_type": "code",
   "execution_count": null,
   "metadata": {
    "execution": {
     "iopub.execute_input": "2020-11-12T06:23:25.396790Z",
     "iopub.status.busy": "2020-11-12T06:23:25.396206Z",
     "iopub.status.idle": "2020-11-12T06:23:25.433236Z",
     "shell.execute_reply": "2020-11-12T06:23:25.433691Z"
    },
    "id": "Xja83zEYaM2D"
   },
   "outputs": [],
   "source": [
    "print('Output shape (batch, time, features): ', feedback_model(multi_window.example[0]).shape)"
   ]
  },
  {
   "cell_type": "markdown",
   "metadata": {
    "id": "qMs0rYB8be9M"
   },
   "source": [
    "이제 모델을 훈련합니다."
   ]
  },
  {
   "cell_type": "code",
   "execution_count": null,
   "metadata": {
    "execution": {
     "iopub.execute_input": "2020-11-12T06:23:25.442814Z",
     "iopub.status.busy": "2020-11-12T06:23:25.442213Z",
     "iopub.status.idle": "2020-11-12T06:28:25.069704Z",
     "shell.execute_reply": "2020-11-12T06:28:25.070181Z"
    },
    "id": "VBRVG2hnNyrO"
   },
   "outputs": [],
   "source": [
    "history = compile_and_fit(feedback_model, multi_window)\n",
    "\n",
    "IPython.display.clear_output()\n",
    "\n",
    "multi_val_performance['AR LSTM'] = feedback_model.evaluate(multi_window.val)\n",
    "multi_performance['AR LSTM'] = feedback_model.evaluate(multi_window.test, verbose=0)\n",
    "multi_window.plot(feedback_model)"
   ]
  },
  {
   "cell_type": "markdown",
   "metadata": {
    "id": "hGjcJsAQJUkI"
   },
   "source": [
    "### 성능"
   ]
  },
  {
   "cell_type": "markdown",
   "metadata": {
    "id": "sODAwr2ndtDB"
   },
   "source": [
    "이 문제에 대해 모델 복잡성이 증가함에 따라 분명히 이득이 감소합니다."
   ]
  },
  {
   "cell_type": "code",
   "execution_count": null,
   "metadata": {
    "execution": {
     "iopub.execute_input": "2020-11-12T06:28:25.089388Z",
     "iopub.status.busy": "2020-11-12T06:28:25.088746Z",
     "iopub.status.idle": "2020-11-12T06:28:25.231991Z",
     "shell.execute_reply": "2020-11-12T06:28:25.232558Z"
    },
    "id": "WZwWBA8S6B3L"
   },
   "outputs": [],
   "source": [
    "x = np.arange(len(multi_performance))\n",
    "width = 0.3\n",
    "\n",
    "\n",
    "metric_name = 'mean_absolute_error'\n",
    "metric_index = lstm_model.metrics_names.index('mean_absolute_error')\n",
    "val_mae = [v[metric_index] for v in multi_val_performance.values()]\n",
    "test_mae = [v[metric_index] for v in multi_performance.values()]\n",
    "\n",
    "plt.bar(x - 0.17, val_mae, width, label='Validation')\n",
    "plt.bar(x + 0.17, test_mae, width, label='Test')\n",
    "plt.xticks(ticks=x, labels=multi_performance.keys(),\n",
    "           rotation=45)\n",
    "plt.ylabel(f'MAE (average over all times and outputs)')\n",
    "_ = plt.legend()"
   ]
  },
  {
   "cell_type": "markdown",
   "metadata": {
    "id": "Zq3hUsedCEmJ"
   },
   "source": [
    "이 튜토리얼의 전반부에서 소개한 다중 출력 모델에 대한 메트릭은 모든 출력 특성에 평균화된 성능을 보여줍니다. 이러한 성능은 유사하지만 출력 타임스텝에서도 평균화됩니다. "
   ]
  },
  {
   "cell_type": "code",
   "execution_count": null,
   "metadata": {
    "execution": {
     "iopub.execute_input": "2020-11-12T06:28:25.237717Z",
     "iopub.status.busy": "2020-11-12T06:28:25.236947Z",
     "iopub.status.idle": "2020-11-12T06:28:25.240245Z",
     "shell.execute_reply": "2020-11-12T06:28:25.239641Z"
    },
    "id": "jKq3eAIvH4Db"
   },
   "outputs": [],
   "source": [
    "for name, value in multi_performance.items():\n",
    "  print(f'{name:8s}: {value[1]:0.4f}')"
   ]
  },
  {
   "cell_type": "markdown",
   "metadata": {
    "id": "MpBFwfnaHP23"
   },
   "source": [
    "밀집 모델에서 컨볼루션 및 반복 모델로 이동하여 얻은 이득은 몇 퍼센트(있다고 하더라도)에 불과하며 자기 회귀 모델의 성능은 분명히 더 나빴습니다. 따라서 이러한 더 복잡한 접근 방법은 **이** 문제에서는 가치가 없을 수도 있지만 시도해 보기 전에는 알 수 있는 방법이 없었으며 이러한 모델은 **다른 특정** 문제에 도움이 될 수 있습니다."
   ]
  },
  {
   "cell_type": "markdown",
   "metadata": {
    "id": "pOzaIRYBhqwg"
   },
   "source": [
    "## 다음 단계\n",
    "\n",
    "이 튜토리얼에서는 TensorFlow를 사용한 시계열 예측에 대해 간단히 소개했습니다.\n",
    "\n",
    "- 자세한 내용은 다음을 참조하세요.\n",
    "    - [Scikit-Learn, Keras 및 TensorFlow를 이용한 머시러닝 실무](https://www.oreilly.com/library/view/hands-on-machine-learning/9781492032632/)(2차 개정 버전), 챕터 15\n",
    "    - [Python을 이용한 딥러닝](https://www.manning.com/books/deep-learning-with-python) 챕터 6\n",
    "    - [Udacity의 딥러닝 TensorFlow 개론](https://www.udacity.com/course/intro-to-tensorflow-for-deep-learning--ud187) 레슨 8 및 [연습 노트북](https://github.com/tensorflow/examples/tree/master/courses/udacity_intro_to_tensorflow_for_deep_learning)\n",
    "- 또한 TensorFlow에서 [기존의 시계열 모델](https://otexts.com/fpp2/index.html)은 모두 구현할 수 있다는 점을 기억하세요. 이 튜토리얼에서는 TensdorFlow의 내장 기능에 초점을 맞추었습니다."
   ]
  }
 ],
 "metadata": {
  "accelerator": "GPU",
  "colab": {
   "collapsed_sections": [],
   "name": "time_series.ipynb",
   "toc_visible": true
  },
  "kernelspec": {
   "display_name": "dacon",
   "language": "python",
   "name": "dacon"
  },
  "language_info": {
   "codemirror_mode": {
    "name": "ipython",
    "version": 3
   },
   "file_extension": ".py",
   "mimetype": "text/x-python",
   "name": "python",
   "nbconvert_exporter": "python",
   "pygments_lexer": "ipython3",
   "version": "3.8.8"
  }
 },
 "nbformat": 4,
 "nbformat_minor": 1
}
