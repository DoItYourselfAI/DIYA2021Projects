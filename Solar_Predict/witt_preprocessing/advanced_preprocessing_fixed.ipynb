{
 "cells": [
  {
   "cell_type": "markdown",
   "metadata": {},
   "source": [
    "# Advanced preprocessing"
   ]
  },
  {
   "cell_type": "markdown",
   "metadata": {},
   "source": [
    "# Table of Contents\n",
    "- Load data\n",
    "- Merge duplicated rows in `fcst` using mean / most recent fcst\n",
    "- Convert the measure of `Cloud` in `fcst` to `obs`\n",
    "- Interpolate fcst\n",
    "- Convert dtype of 'time' in `energy`\n",
    "- Merge fcst, obs, and energy\n",
    "- Fill missing values in using ffill\n",
    "- Add seasonality (day and year)"
   ]
  },
  {
   "cell_type": "markdown",
   "metadata": {},
   "source": [
    "## Load data\n",
    "- from basic_processing.ipynb"
   ]
  },
  {
   "cell_type": "code",
   "execution_count": 1,
   "metadata": {},
   "outputs": [],
   "source": [
    "import pickle\n",
    "from glob import glob\n",
    "import pandas as pd\n",
    "import matplotlib.pyplot as plt\n",
    "import numpy as np\n",
    "\n",
    "import warnings\n",
    "warnings.filterwarnings('ignore')"
   ]
  },
  {
   "cell_type": "code",
   "execution_count": 2,
   "metadata": {},
   "outputs": [],
   "source": [
    "with open('pickles/basic/dangjin_fcst_data.pkl','rb') as f:\n",
    "    dangjin_fcst = pickle.load(f)\n",
    "with open('pickles/basic/dangjin_obs_data.pkl','rb') as f:\n",
    "    dangjin_obs = pickle.load(f)\n",
    "with open('pickles/basic/ulsan_fcst_data.pkl','rb') as f:\n",
    "    ulsan_fcst = pickle.load(f)\n",
    "with open('pickles/basic/ulsan_obs_data.pkl', 'rb') as f:\n",
    "    ulsan_obs = pickle.load(f)\n",
    "\n",
    "energy = pd.read_csv(glob('../original_dataset/energy.csv')[0])"
   ]
  },
  {
   "cell_type": "markdown",
   "metadata": {},
   "source": [
    "## Merge duplicated rows in `fcst` using the most recent forecast"
   ]
  },
  {
   "cell_type": "code",
   "execution_count": 3,
   "metadata": {},
   "outputs": [
    {
     "output_type": "execute_result",
     "data": {
      "text/plain": [
       "                   time       Forecast time  Temperature  Humidity  Cloud  \\\n",
       "209 2018-03-03 12:00:00 2018-03-02 20:00:00          9.0      55.0    2.0   \n",
       "\n",
       "       Wind_X      Wind_Y  \n",
       "209 -0.412067  103.844592  "
      ],
      "text/html": "<div>\n<style scoped>\n    .dataframe tbody tr th:only-of-type {\n        vertical-align: middle;\n    }\n\n    .dataframe tbody tr th {\n        vertical-align: top;\n    }\n\n    .dataframe thead th {\n        text-align: right;\n    }\n</style>\n<table border=\"1\" class=\"dataframe\">\n  <thead>\n    <tr style=\"text-align: right;\">\n      <th></th>\n      <th>time</th>\n      <th>Forecast time</th>\n      <th>Temperature</th>\n      <th>Humidity</th>\n      <th>Cloud</th>\n      <th>Wind_X</th>\n      <th>Wind_Y</th>\n    </tr>\n  </thead>\n  <tbody>\n    <tr>\n      <th>209</th>\n      <td>2018-03-03 12:00:00</td>\n      <td>2018-03-02 20:00:00</td>\n      <td>9.0</td>\n      <td>55.0</td>\n      <td>2.0</td>\n      <td>-0.412067</td>\n      <td>103.844592</td>\n    </tr>\n  </tbody>\n</table>\n</div>"
     },
     "metadata": {},
     "execution_count": 3
    }
   ],
   "source": [
    "def merge_to_recent(data, time, due_hour = 21):\n",
    "    '''\n",
    "    @warning\n",
    "    data에 'Forecast time'(기상 예측이 이루어진 시점) column이 존재해야 함.\n",
    "\n",
    "    @description\n",
    "    fcst에서 'time'이 중복되는 row들을 하나로 통합한다.\n",
    "    이때, 가장 최근의 fcst data로 통합한다. (즉, 가장 최근의 fcst data 이외의 row는 모두 삭제한다.)\n",
    "    '가장 최근'이라는 것은, 해당 'time'의 전날의 due_hour까지다. \n",
    "    예를 들어 2021-05-02 14:00:00(=time)를 예측하고, due_hour = 21이라면,\n",
    "    2021-05-01 21:00:00 전까지의 row 중 가장 최근의 fcst로 통합한다.\n",
    "\n",
    "    @parameters\n",
    "    data: pd.DataFrame ; 통합이 이루어질 dataframe\n",
    "    time: pd.Timestamp ; 통합하려는 time\n",
    "    due_hour: int ; description 참고\n",
    "\n",
    "    @return\n",
    "    pd.Series ; 통합된 하나의 row\n",
    "\n",
    "    '''\n",
    "    # data only with the given time\n",
    "    data_only_with_time = data.loc[data['time'] == time]\n",
    "    \n",
    "    # shift time\n",
    "    time = time - pd.Timedelta(1, unit='days') # shifting 1 day to the past (yesterday)\n",
    "    time = time.replace(hour=due_hour) # change 'hour' to DUE_HOUR\n",
    "\n",
    "    # most recent forecast\n",
    "    return data_only_with_time[data_only_with_time['Forecast time'] <= time].iloc[-1:,]\n",
    "\n",
    "\n",
    "# example\n",
    "TIME = pd.Timestamp('2018-03-03-12:00:00')\n",
    "merge_to_recent(dangjin_fcst, TIME, due_hour=21)"
   ]
  },
  {
   "cell_type": "code",
   "execution_count": 4,
   "metadata": {},
   "outputs": [
    {
     "output_type": "execute_result",
     "data": {
      "text/plain": [
       "                    time  Temperature  Humidity  Cloud    Wind_X        Wind_Y\n",
       "0    2018-03-02 00:00:00         -2.0      50.0    1.0  5.298564 -1.366635e+02\n",
       "1    2018-03-02 03:00:00         -3.0      55.0    1.0  4.667902 -1.214867e+02\n",
       "2    2018-03-02 06:00:00         -4.0      60.0    1.0  4.069439 -4.301988e+01\n",
       "3    2018-03-02 09:00:00         -2.0      55.0    1.0  1.100000 -8.817457e-14\n",
       "4    2018-03-02 12:00:00          2.0      45.0    1.0 -0.190809 -2.542414e+02\n",
       "...                  ...          ...       ...    ...       ...           ...\n",
       "8780 2021-03-03 12:00:00          7.0      40.0    1.0 -3.176148 -2.278957e+01\n",
       "8781 2021-03-03 15:00:00          8.0      40.0    1.0 -3.593860 -1.305939e+02\n",
       "8782 2021-03-03 18:00:00          5.0      55.0    1.0 -1.905256 -1.050000e+02\n",
       "8783 2021-03-03 21:00:00          1.0      80.0    1.0 -1.826397  4.520453e+01\n",
       "8784 2021-03-04 00:00:00          1.0      80.0    1.0 -1.854190  7.135968e+01\n",
       "\n",
       "[8785 rows x 6 columns]"
      ],
      "text/html": "<div>\n<style scoped>\n    .dataframe tbody tr th:only-of-type {\n        vertical-align: middle;\n    }\n\n    .dataframe tbody tr th {\n        vertical-align: top;\n    }\n\n    .dataframe thead th {\n        text-align: right;\n    }\n</style>\n<table border=\"1\" class=\"dataframe\">\n  <thead>\n    <tr style=\"text-align: right;\">\n      <th></th>\n      <th>time</th>\n      <th>Temperature</th>\n      <th>Humidity</th>\n      <th>Cloud</th>\n      <th>Wind_X</th>\n      <th>Wind_Y</th>\n    </tr>\n  </thead>\n  <tbody>\n    <tr>\n      <th>0</th>\n      <td>2018-03-02 00:00:00</td>\n      <td>-2.0</td>\n      <td>50.0</td>\n      <td>1.0</td>\n      <td>5.298564</td>\n      <td>-1.366635e+02</td>\n    </tr>\n    <tr>\n      <th>1</th>\n      <td>2018-03-02 03:00:00</td>\n      <td>-3.0</td>\n      <td>55.0</td>\n      <td>1.0</td>\n      <td>4.667902</td>\n      <td>-1.214867e+02</td>\n    </tr>\n    <tr>\n      <th>2</th>\n      <td>2018-03-02 06:00:00</td>\n      <td>-4.0</td>\n      <td>60.0</td>\n      <td>1.0</td>\n      <td>4.069439</td>\n      <td>-4.301988e+01</td>\n    </tr>\n    <tr>\n      <th>3</th>\n      <td>2018-03-02 09:00:00</td>\n      <td>-2.0</td>\n      <td>55.0</td>\n      <td>1.0</td>\n      <td>1.100000</td>\n      <td>-8.817457e-14</td>\n    </tr>\n    <tr>\n      <th>4</th>\n      <td>2018-03-02 12:00:00</td>\n      <td>2.0</td>\n      <td>45.0</td>\n      <td>1.0</td>\n      <td>-0.190809</td>\n      <td>-2.542414e+02</td>\n    </tr>\n    <tr>\n      <th>...</th>\n      <td>...</td>\n      <td>...</td>\n      <td>...</td>\n      <td>...</td>\n      <td>...</td>\n      <td>...</td>\n    </tr>\n    <tr>\n      <th>8780</th>\n      <td>2021-03-03 12:00:00</td>\n      <td>7.0</td>\n      <td>40.0</td>\n      <td>1.0</td>\n      <td>-3.176148</td>\n      <td>-2.278957e+01</td>\n    </tr>\n    <tr>\n      <th>8781</th>\n      <td>2021-03-03 15:00:00</td>\n      <td>8.0</td>\n      <td>40.0</td>\n      <td>1.0</td>\n      <td>-3.593860</td>\n      <td>-1.305939e+02</td>\n    </tr>\n    <tr>\n      <th>8782</th>\n      <td>2021-03-03 18:00:00</td>\n      <td>5.0</td>\n      <td>55.0</td>\n      <td>1.0</td>\n      <td>-1.905256</td>\n      <td>-1.050000e+02</td>\n    </tr>\n    <tr>\n      <th>8783</th>\n      <td>2021-03-03 21:00:00</td>\n      <td>1.0</td>\n      <td>80.0</td>\n      <td>1.0</td>\n      <td>-1.826397</td>\n      <td>4.520453e+01</td>\n    </tr>\n    <tr>\n      <th>8784</th>\n      <td>2021-03-04 00:00:00</td>\n      <td>1.0</td>\n      <td>80.0</td>\n      <td>1.0</td>\n      <td>-1.854190</td>\n      <td>7.135968e+01</td>\n    </tr>\n  </tbody>\n</table>\n<p>8785 rows × 6 columns</p>\n</div>"
     },
     "metadata": {},
     "execution_count": 4
    }
   ],
   "source": [
    "# apply merge_to_recent (dangjin_fcst)\n",
    "\n",
    "# create a new merged df\n",
    "dangjin_fcst_unique_recent = pd.DataFrame()\n",
    "\n",
    "for time in dangjin_fcst['time'].unique():\n",
    "    to_append = merge_to_recent(dangjin_fcst, time)\n",
    "    dangjin_fcst_unique_recent = dangjin_fcst_unique_recent.append(to_append)\n",
    "\n",
    "# reset index and drop 'Forecast time'\n",
    "dangjin_fcst_unique_recent =  dangjin_fcst_unique_recent.reset_index(drop=True)\n",
    "dangjin_fcst_unique_recent =  dangjin_fcst_unique_recent.drop('Forecast time', axis=1)\n",
    "dangjin_fcst_unique_recent"
   ]
  },
  {
   "cell_type": "code",
   "execution_count": 5,
   "metadata": {},
   "outputs": [
    {
     "output_type": "execute_result",
     "data": {
      "text/plain": [
       "                    time  Temperature  Humidity  Cloud    Wind_X      Wind_Y\n",
       "0    2018-03-02 00:00:00          0.0      40.0    2.0  1.010290 -202.011846\n",
       "1    2018-03-02 03:00:00         -1.0      45.0    2.0  0.872657 -261.511292\n",
       "2    2018-03-02 06:00:00         -1.0      45.0    1.0  1.006547 -252.027422\n",
       "3    2018-03-02 09:00:00          0.0      35.0    1.0  1.225671 -205.692035\n",
       "4    2018-03-02 12:00:00          6.0      25.0    1.0  1.160653 -182.296887\n",
       "...                  ...          ...       ...    ...       ...         ...\n",
       "8780 2021-03-03 12:00:00          9.0      45.0    3.0  0.377795   82.381331\n",
       "8781 2021-03-03 15:00:00          9.0      45.0    3.0 -1.075104  103.627427\n",
       "8782 2021-03-03 18:00:00          8.0      55.0    3.0 -1.165822  103.461868\n",
       "8783 2021-03-03 21:00:00          6.0      65.0    3.0 -0.590453   98.866955\n",
       "8784 2021-03-04 00:00:00          4.0      80.0    3.0 -0.693188  -26.164543\n",
       "\n",
       "[8785 rows x 6 columns]"
      ],
      "text/html": "<div>\n<style scoped>\n    .dataframe tbody tr th:only-of-type {\n        vertical-align: middle;\n    }\n\n    .dataframe tbody tr th {\n        vertical-align: top;\n    }\n\n    .dataframe thead th {\n        text-align: right;\n    }\n</style>\n<table border=\"1\" class=\"dataframe\">\n  <thead>\n    <tr style=\"text-align: right;\">\n      <th></th>\n      <th>time</th>\n      <th>Temperature</th>\n      <th>Humidity</th>\n      <th>Cloud</th>\n      <th>Wind_X</th>\n      <th>Wind_Y</th>\n    </tr>\n  </thead>\n  <tbody>\n    <tr>\n      <th>0</th>\n      <td>2018-03-02 00:00:00</td>\n      <td>0.0</td>\n      <td>40.0</td>\n      <td>2.0</td>\n      <td>1.010290</td>\n      <td>-202.011846</td>\n    </tr>\n    <tr>\n      <th>1</th>\n      <td>2018-03-02 03:00:00</td>\n      <td>-1.0</td>\n      <td>45.0</td>\n      <td>2.0</td>\n      <td>0.872657</td>\n      <td>-261.511292</td>\n    </tr>\n    <tr>\n      <th>2</th>\n      <td>2018-03-02 06:00:00</td>\n      <td>-1.0</td>\n      <td>45.0</td>\n      <td>1.0</td>\n      <td>1.006547</td>\n      <td>-252.027422</td>\n    </tr>\n    <tr>\n      <th>3</th>\n      <td>2018-03-02 09:00:00</td>\n      <td>0.0</td>\n      <td>35.0</td>\n      <td>1.0</td>\n      <td>1.225671</td>\n      <td>-205.692035</td>\n    </tr>\n    <tr>\n      <th>4</th>\n      <td>2018-03-02 12:00:00</td>\n      <td>6.0</td>\n      <td>25.0</td>\n      <td>1.0</td>\n      <td>1.160653</td>\n      <td>-182.296887</td>\n    </tr>\n    <tr>\n      <th>...</th>\n      <td>...</td>\n      <td>...</td>\n      <td>...</td>\n      <td>...</td>\n      <td>...</td>\n      <td>...</td>\n    </tr>\n    <tr>\n      <th>8780</th>\n      <td>2021-03-03 12:00:00</td>\n      <td>9.0</td>\n      <td>45.0</td>\n      <td>3.0</td>\n      <td>0.377795</td>\n      <td>82.381331</td>\n    </tr>\n    <tr>\n      <th>8781</th>\n      <td>2021-03-03 15:00:00</td>\n      <td>9.0</td>\n      <td>45.0</td>\n      <td>3.0</td>\n      <td>-1.075104</td>\n      <td>103.627427</td>\n    </tr>\n    <tr>\n      <th>8782</th>\n      <td>2021-03-03 18:00:00</td>\n      <td>8.0</td>\n      <td>55.0</td>\n      <td>3.0</td>\n      <td>-1.165822</td>\n      <td>103.461868</td>\n    </tr>\n    <tr>\n      <th>8783</th>\n      <td>2021-03-03 21:00:00</td>\n      <td>6.0</td>\n      <td>65.0</td>\n      <td>3.0</td>\n      <td>-0.590453</td>\n      <td>98.866955</td>\n    </tr>\n    <tr>\n      <th>8784</th>\n      <td>2021-03-04 00:00:00</td>\n      <td>4.0</td>\n      <td>80.0</td>\n      <td>3.0</td>\n      <td>-0.693188</td>\n      <td>-26.164543</td>\n    </tr>\n  </tbody>\n</table>\n<p>8785 rows × 6 columns</p>\n</div>"
     },
     "metadata": {},
     "execution_count": 5
    }
   ],
   "source": [
    "# apply merge_to_recent (ulsan_fcst)\n",
    "\n",
    "# create a new merged df\n",
    "ulsan_fcst_unique_recent = pd.DataFrame()\n",
    "\n",
    "for time in dangjin_fcst['time'].unique():\n",
    "    to_append = merge_to_recent(ulsan_fcst, time)\n",
    "    ulsan_fcst_unique_recent = ulsan_fcst_unique_recent.append(to_append)\n",
    "\n",
    "# reset index and drop 'Forecast time'\n",
    "ulsan_fcst_unique_recent =  ulsan_fcst_unique_recent.reset_index(drop=True)\n",
    "ulsan_fcst_unique_recent =  ulsan_fcst_unique_recent.drop('Forecast time', axis=1)\n",
    "ulsan_fcst_unique_recent"
   ]
  },
  {
   "cell_type": "markdown",
   "metadata": {},
   "source": [
    "## Convert the measure of `Cloud` in `fcst` to `obs`\n",
    "- `fcst`와 `obs`에서 `Cloud`의 단위는 다르다.\n",
    "- `fcst`와 `obs`를 따로 input으로 넣는 경우 크게 상관 없으나, 이 둘을 합쳐서 쓰는 경우에는 단위가 통일되는 것이 좋아 보인다.  \n",
    "- fcst: 1-맑음, 2-구름보통, 3-구름많음, 4-흐림  \n",
    "- obs: 10분위(0~10); 낮을 수록 구름 적음\n",
    "\n",
    "### method\n",
    "- Cloud_fcst -> Cloud_obs\n",
    "- Cloud_fcst = x (x=1,2,3,4)일 때 Cloud_obs의 mean으로 변환"
   ]
  },
  {
   "cell_type": "code",
   "execution_count": 6,
   "metadata": {},
   "outputs": [
    {
     "output_type": "execute_result",
     "data": {
      "text/plain": [
       "({1.0: 2.7635372029606544,\n",
       "  2.0: 3.8820678513731823,\n",
       "  3.0: 6.18494516450648,\n",
       "  4.0: 7.961345381526105},\n",
       " {2.0: 3.5910064239828694,\n",
       "  1.0: 1.721059516023545,\n",
       "  3.0: 6.145117540687161,\n",
       "  4.0: 8.638197424892704})"
      ]
     },
     "metadata": {},
     "execution_count": 6
    }
   ],
   "source": [
    "# get dictionary to convert from cloud_fcst to cloud_obs\n",
    "\n",
    "# merge (note that this is not the 'real' merged data)\n",
    "dangjin_merged_for_cloud = pd.merge(dangjin_fcst_unique_recent, dangjin_obs, on='time', suffixes=('_fcst','_obs'))\n",
    "ulsan_merged_for_cloud = pd.merge(ulsan_fcst_unique_recent, ulsan_obs, on='time', suffixes=('_fcst','_obs'))\n",
    "\n",
    "# mean\n",
    "def cloud_from_fcst_to_obs(data):\n",
    "    '''\n",
    "    @parameter\n",
    "    data: pd.DataFrame; data should contain both 'Cloud_fcst' and 'Cloud_obs'\n",
    "\n",
    "    @return\n",
    "    dictionary ; its key is the value of 'Cloud_fcst', its value is the value of 'Cloud_obs'\n",
    "    '''\n",
    "\n",
    "    # dropna\n",
    "    data.dropna(inplace=True)\n",
    "    # unique cloud_fcsts\n",
    "    cloud_fcsts = data['Cloud_fcst'].unique()\n",
    "    # dict to convert from fcst to obs\n",
    "    convert = {cloud_fcst:0 for cloud_fcst in cloud_fcsts}\n",
    "\n",
    "    # mean\n",
    "    for cloud_fcst in cloud_fcsts:\n",
    "        sliced_df = data[data['Cloud_fcst'] == cloud_fcst]\n",
    "        convert[cloud_fcst] = sliced_df['Cloud_obs'].mean()\n",
    "\n",
    "    return convert\n",
    "\n",
    "dangjin_convert_cloud = cloud_from_fcst_to_obs(dangjin_merged_for_cloud)\n",
    "ulsan_convert_cloud = cloud_from_fcst_to_obs(ulsan_merged_for_cloud)\n",
    "dangjin_convert_cloud, ulsan_convert_cloud"
   ]
  },
  {
   "cell_type": "code",
   "execution_count": 7,
   "metadata": {},
   "outputs": [
    {
     "output_type": "display_data",
     "data": {
      "text/plain": "0       2.763537\n1       2.763537\n2       2.763537\n3       2.763537\n4       2.763537\n          ...   \n8780    2.763537\n8781    2.763537\n8782    2.763537\n8783    2.763537\n8784    2.763537\nName: Cloud, Length: 8785, dtype: float64"
     },
     "metadata": {}
    },
    {
     "output_type": "display_data",
     "data": {
      "text/plain": "0       3.591006\n1       3.591006\n2       1.721060\n3       1.721060\n4       1.721060\n          ...   \n8780    6.145118\n8781    6.145118\n8782    6.145118\n8783    6.145118\n8784    6.145118\nName: Cloud, Length: 8785, dtype: float64"
     },
     "metadata": {}
    }
   ],
   "source": [
    "# apply the convert-dictionary\n",
    "dangjin_fcst_unique_recent['Cloud'].replace(dangjin_convert_cloud, inplace=True)\n",
    "ulsan_fcst_unique_recent['Cloud'].replace(ulsan_convert_cloud, inplace=True)\n",
    "display(dangjin_fcst_unique_recent['Cloud'])\n",
    "display(ulsan_fcst_unique_recent['Cloud'])"
   ]
  },
  {
   "cell_type": "markdown",
   "metadata": {},
   "source": [
    "## Interpolate fcst"
   ]
  },
  {
   "cell_type": "code",
   "execution_count": 8,
   "metadata": {},
   "outputs": [],
   "source": [
    "# index of interpolated df\n",
    "strt_time = dangjin_fcst_unique_recent['time'].iloc[0]\n",
    "end_time = dangjin_fcst_unique_recent['time'].iloc[-1]\n",
    "date_range = pd.date_range(strt_time, end_time, freq='H')"
   ]
  },
  {
   "cell_type": "code",
   "execution_count": 9,
   "metadata": {},
   "outputs": [],
   "source": [
    "# interpolate\n",
    "\n",
    "## empty df\n",
    "dangjin_fcst_interpolated = pd.DataFrame(index=date_range)\n",
    "ulsan_fcst_interpolated = pd.DataFrame(index=date_range)\n",
    "\n",
    "## join empty df with original df\n",
    "dangjin_fcst_unique_recent_ = dangjin_fcst_unique_recent.set_index('time')\n",
    "dangjin_fcst_interpolated = dangjin_fcst_interpolated.join(dangjin_fcst_unique_recent_)\n",
    "\n",
    "ulsan_fcst_unique_recent_ = ulsan_fcst_unique_recent.set_index('time')\n",
    "ulsan_fcst_interpolated = ulsan_fcst_interpolated.join(ulsan_fcst_unique_recent_)\n",
    "\n",
    "## interpolate (linear > quadratic)\n",
    "dangjin_fcst_interpolated.interpolate(method='linear', inplace=True, axis=0)\n",
    "ulsan_fcst_interpolated.interpolate(method='linear', inplace=True, axis=0)"
   ]
  },
  {
   "cell_type": "code",
   "execution_count": 10,
   "metadata": {},
   "outputs": [],
   "source": [
    "# reset index and add index as 'time' column\n",
    "dangjin_fcst_interpolated.reset_index(inplace=True)\n",
    "ulsan_fcst_interpolated.reset_index(inplace=True)\n",
    "\n",
    "dangjin_fcst_interpolated['time'] = dangjin_fcst_interpolated['index']\n",
    "dangjin_fcst_interpolated.drop(columns='index', inplace=True)\n",
    "\n",
    "ulsan_fcst_interpolated['time'] = ulsan_fcst_interpolated['index']\n",
    "ulsan_fcst_interpolated.drop(columns='index', inplace=True)"
   ]
  },
  {
   "cell_type": "code",
   "execution_count": 11,
   "metadata": {},
   "outputs": [
    {
     "output_type": "execute_result",
     "data": {
      "text/plain": [
       "<AxesSubplot:>"
      ]
     },
     "metadata": {},
     "execution_count": 11
    },
    {
     "output_type": "display_data",
     "data": {
      "text/plain": "<Figure size 432x288 with 1 Axes>",
      "image/svg+xml": "<?xml version=\"1.0\" encoding=\"utf-8\" standalone=\"no\"?>\n<!DOCTYPE svg PUBLIC \"-//W3C//DTD SVG 1.1//EN\"\n  \"http://www.w3.org/Graphics/SVG/1.1/DTD/svg11.dtd\">\n<!-- Created with matplotlib (https://matplotlib.org/) -->\n<svg height=\"248.518125pt\" version=\"1.1\" viewBox=\"0 0 370.942187 248.518125\" width=\"370.942187pt\" xmlns=\"http://www.w3.org/2000/svg\" xmlns:xlink=\"http://www.w3.org/1999/xlink\">\n <metadata>\n  <rdf:RDF xmlns:cc=\"http://creativecommons.org/ns#\" xmlns:dc=\"http://purl.org/dc/elements/1.1/\" xmlns:rdf=\"http://www.w3.org/1999/02/22-rdf-syntax-ns#\">\n   <cc:Work>\n    <dc:type rdf:resource=\"http://purl.org/dc/dcmitype/StillImage\"/>\n    <dc:date>2021-05-26T19:09:06.426310</dc:date>\n    <dc:format>image/svg+xml</dc:format>\n    <dc:creator>\n     <cc:Agent>\n      <dc:title>Matplotlib v3.3.4, https://matplotlib.org/</dc:title>\n     </cc:Agent>\n    </dc:creator>\n   </cc:Work>\n  </rdf:RDF>\n </metadata>\n <defs>\n  <style type=\"text/css\">*{stroke-linecap:butt;stroke-linejoin:round;}</style>\n </defs>\n <g id=\"figure_1\">\n  <g id=\"patch_1\">\n   <path d=\"M 0 248.518125 \nL 370.942187 248.518125 \nL 370.942187 0 \nL 0 0 \nz\n\" style=\"fill:none;\"/>\n  </g>\n  <g id=\"axes_1\">\n   <g id=\"patch_2\">\n    <path d=\"M 28.942188 224.64 \nL 363.742188 224.64 \nL 363.742188 7.2 \nL 28.942188 7.2 \nz\n\" style=\"fill:#ffffff;\"/>\n   </g>\n   <g id=\"matplotlib.axis_1\">\n    <g id=\"xtick_1\">\n     <g id=\"line2d_1\">\n      <defs>\n       <path d=\"M 0 0 \nL 0 3.5 \n\" id=\"m9920b8f107\" style=\"stroke:#000000;stroke-width:0.8;\"/>\n      </defs>\n      <g>\n       <use style=\"stroke:#000000;stroke-width:0.8;\" x=\"44.160369\" xlink:href=\"#m9920b8f107\" y=\"224.64\"/>\n      </g>\n     </g>\n     <g id=\"text_1\">\n      <!-- 0 -->\n      <g transform=\"translate(40.979119 239.238437)scale(0.1 -0.1)\">\n       <defs>\n        <path d=\"M 31.78125 66.40625 \nQ 24.171875 66.40625 20.328125 58.90625 \nQ 16.5 51.421875 16.5 36.375 \nQ 16.5 21.390625 20.328125 13.890625 \nQ 24.171875 6.390625 31.78125 6.390625 \nQ 39.453125 6.390625 43.28125 13.890625 \nQ 47.125 21.390625 47.125 36.375 \nQ 47.125 51.421875 43.28125 58.90625 \nQ 39.453125 66.40625 31.78125 66.40625 \nz\nM 31.78125 74.21875 \nQ 44.046875 74.21875 50.515625 64.515625 \nQ 56.984375 54.828125 56.984375 36.375 \nQ 56.984375 17.96875 50.515625 8.265625 \nQ 44.046875 -1.421875 31.78125 -1.421875 \nQ 19.53125 -1.421875 13.0625 8.265625 \nQ 6.59375 17.96875 6.59375 36.375 \nQ 6.59375 54.828125 13.0625 64.515625 \nQ 19.53125 74.21875 31.78125 74.21875 \nz\n\" id=\"DejaVuSans-48\"/>\n       </defs>\n       <use xlink:href=\"#DejaVuSans-48\"/>\n      </g>\n     </g>\n    </g>\n    <g id=\"xtick_2\">\n     <g id=\"line2d_2\">\n      <g>\n       <use style=\"stroke:#000000;stroke-width:0.8;\" x=\"110.326377\" xlink:href=\"#m9920b8f107\" y=\"224.64\"/>\n      </g>\n     </g>\n     <g id=\"text_2\">\n      <!-- 5 -->\n      <g transform=\"translate(107.145127 239.238437)scale(0.1 -0.1)\">\n       <defs>\n        <path d=\"M 10.796875 72.90625 \nL 49.515625 72.90625 \nL 49.515625 64.59375 \nL 19.828125 64.59375 \nL 19.828125 46.734375 \nQ 21.96875 47.46875 24.109375 47.828125 \nQ 26.265625 48.1875 28.421875 48.1875 \nQ 40.625 48.1875 47.75 41.5 \nQ 54.890625 34.8125 54.890625 23.390625 \nQ 54.890625 11.625 47.5625 5.09375 \nQ 40.234375 -1.421875 26.90625 -1.421875 \nQ 22.3125 -1.421875 17.546875 -0.640625 \nQ 12.796875 0.140625 7.71875 1.703125 \nL 7.71875 11.625 \nQ 12.109375 9.234375 16.796875 8.0625 \nQ 21.484375 6.890625 26.703125 6.890625 \nQ 35.15625 6.890625 40.078125 11.328125 \nQ 45.015625 15.765625 45.015625 23.390625 \nQ 45.015625 31 40.078125 35.4375 \nQ 35.15625 39.890625 26.703125 39.890625 \nQ 22.75 39.890625 18.8125 39.015625 \nQ 14.890625 38.140625 10.796875 36.28125 \nz\n\" id=\"DejaVuSans-53\"/>\n       </defs>\n       <use xlink:href=\"#DejaVuSans-53\"/>\n      </g>\n     </g>\n    </g>\n    <g id=\"xtick_3\">\n     <g id=\"line2d_3\">\n      <g>\n       <use style=\"stroke:#000000;stroke-width:0.8;\" x=\"176.492385\" xlink:href=\"#m9920b8f107\" y=\"224.64\"/>\n      </g>\n     </g>\n     <g id=\"text_3\">\n      <!-- 10 -->\n      <g transform=\"translate(170.129885 239.238437)scale(0.1 -0.1)\">\n       <defs>\n        <path d=\"M 12.40625 8.296875 \nL 28.515625 8.296875 \nL 28.515625 63.921875 \nL 10.984375 60.40625 \nL 10.984375 69.390625 \nL 28.421875 72.90625 \nL 38.28125 72.90625 \nL 38.28125 8.296875 \nL 54.390625 8.296875 \nL 54.390625 0 \nL 12.40625 0 \nz\n\" id=\"DejaVuSans-49\"/>\n       </defs>\n       <use xlink:href=\"#DejaVuSans-49\"/>\n       <use x=\"63.623047\" xlink:href=\"#DejaVuSans-48\"/>\n      </g>\n     </g>\n    </g>\n    <g id=\"xtick_4\">\n     <g id=\"line2d_4\">\n      <g>\n       <use style=\"stroke:#000000;stroke-width:0.8;\" x=\"242.658393\" xlink:href=\"#m9920b8f107\" y=\"224.64\"/>\n      </g>\n     </g>\n     <g id=\"text_4\">\n      <!-- 15 -->\n      <g transform=\"translate(236.295893 239.238437)scale(0.1 -0.1)\">\n       <use xlink:href=\"#DejaVuSans-49\"/>\n       <use x=\"63.623047\" xlink:href=\"#DejaVuSans-53\"/>\n      </g>\n     </g>\n    </g>\n    <g id=\"xtick_5\">\n     <g id=\"line2d_5\">\n      <g>\n       <use style=\"stroke:#000000;stroke-width:0.8;\" x=\"308.824401\" xlink:href=\"#m9920b8f107\" y=\"224.64\"/>\n      </g>\n     </g>\n     <g id=\"text_5\">\n      <!-- 20 -->\n      <g transform=\"translate(302.461901 239.238437)scale(0.1 -0.1)\">\n       <defs>\n        <path d=\"M 19.1875 8.296875 \nL 53.609375 8.296875 \nL 53.609375 0 \nL 7.328125 0 \nL 7.328125 8.296875 \nQ 12.9375 14.109375 22.625 23.890625 \nQ 32.328125 33.6875 34.8125 36.53125 \nQ 39.546875 41.84375 41.421875 45.53125 \nQ 43.3125 49.21875 43.3125 52.78125 \nQ 43.3125 58.59375 39.234375 62.25 \nQ 35.15625 65.921875 28.609375 65.921875 \nQ 23.96875 65.921875 18.8125 64.3125 \nQ 13.671875 62.703125 7.8125 59.421875 \nL 7.8125 69.390625 \nQ 13.765625 71.78125 18.9375 73 \nQ 24.125 74.21875 28.421875 74.21875 \nQ 39.75 74.21875 46.484375 68.546875 \nQ 53.21875 62.890625 53.21875 53.421875 \nQ 53.21875 48.921875 51.53125 44.890625 \nQ 49.859375 40.875 45.40625 35.40625 \nQ 44.1875 33.984375 37.640625 27.21875 \nQ 31.109375 20.453125 19.1875 8.296875 \nz\n\" id=\"DejaVuSans-50\"/>\n       </defs>\n       <use xlink:href=\"#DejaVuSans-50\"/>\n       <use x=\"63.623047\" xlink:href=\"#DejaVuSans-48\"/>\n      </g>\n     </g>\n    </g>\n   </g>\n   <g id=\"matplotlib.axis_2\">\n    <g id=\"ytick_1\">\n     <g id=\"line2d_6\">\n      <defs>\n       <path d=\"M 0 0 \nL -3.5 0 \n\" id=\"ma28c8c8226\" style=\"stroke:#000000;stroke-width:0.8;\"/>\n      </defs>\n      <g>\n       <use style=\"stroke:#000000;stroke-width:0.8;\" x=\"28.942188\" xlink:href=\"#ma28c8c8226\" y=\"214.756364\"/>\n      </g>\n     </g>\n     <g id=\"text_6\">\n      <!-- −4 -->\n      <g transform=\"translate(7.2 218.555582)scale(0.1 -0.1)\">\n       <defs>\n        <path d=\"M 10.59375 35.5 \nL 73.1875 35.5 \nL 73.1875 27.203125 \nL 10.59375 27.203125 \nz\n\" id=\"DejaVuSans-8722\"/>\n        <path d=\"M 37.796875 64.3125 \nL 12.890625 25.390625 \nL 37.796875 25.390625 \nz\nM 35.203125 72.90625 \nL 47.609375 72.90625 \nL 47.609375 25.390625 \nL 58.015625 25.390625 \nL 58.015625 17.1875 \nL 47.609375 17.1875 \nL 47.609375 0 \nL 37.796875 0 \nL 37.796875 17.1875 \nL 4.890625 17.1875 \nL 4.890625 26.703125 \nz\n\" id=\"DejaVuSans-52\"/>\n       </defs>\n       <use xlink:href=\"#DejaVuSans-8722\"/>\n       <use x=\"83.789062\" xlink:href=\"#DejaVuSans-52\"/>\n      </g>\n     </g>\n    </g>\n    <g id=\"ytick_2\">\n     <g id=\"line2d_7\">\n      <g>\n       <use style=\"stroke:#000000;stroke-width:0.8;\" x=\"28.942188\" xlink:href=\"#ma28c8c8226\" y=\"186.517403\"/>\n      </g>\n     </g>\n     <g id=\"text_7\">\n      <!-- −3 -->\n      <g transform=\"translate(7.2 190.316621)scale(0.1 -0.1)\">\n       <defs>\n        <path d=\"M 40.578125 39.3125 \nQ 47.65625 37.796875 51.625 33 \nQ 55.609375 28.21875 55.609375 21.1875 \nQ 55.609375 10.40625 48.1875 4.484375 \nQ 40.765625 -1.421875 27.09375 -1.421875 \nQ 22.515625 -1.421875 17.65625 -0.515625 \nQ 12.796875 0.390625 7.625 2.203125 \nL 7.625 11.71875 \nQ 11.71875 9.328125 16.59375 8.109375 \nQ 21.484375 6.890625 26.8125 6.890625 \nQ 36.078125 6.890625 40.9375 10.546875 \nQ 45.796875 14.203125 45.796875 21.1875 \nQ 45.796875 27.640625 41.28125 31.265625 \nQ 36.765625 34.90625 28.71875 34.90625 \nL 20.21875 34.90625 \nL 20.21875 43.015625 \nL 29.109375 43.015625 \nQ 36.375 43.015625 40.234375 45.921875 \nQ 44.09375 48.828125 44.09375 54.296875 \nQ 44.09375 59.90625 40.109375 62.90625 \nQ 36.140625 65.921875 28.71875 65.921875 \nQ 24.65625 65.921875 20.015625 65.03125 \nQ 15.375 64.15625 9.8125 62.3125 \nL 9.8125 71.09375 \nQ 15.4375 72.65625 20.34375 73.4375 \nQ 25.25 74.21875 29.59375 74.21875 \nQ 40.828125 74.21875 47.359375 69.109375 \nQ 53.90625 64.015625 53.90625 55.328125 \nQ 53.90625 49.265625 50.4375 45.09375 \nQ 46.96875 40.921875 40.578125 39.3125 \nz\n\" id=\"DejaVuSans-51\"/>\n       </defs>\n       <use xlink:href=\"#DejaVuSans-8722\"/>\n       <use x=\"83.789062\" xlink:href=\"#DejaVuSans-51\"/>\n      </g>\n     </g>\n    </g>\n    <g id=\"ytick_3\">\n     <g id=\"line2d_8\">\n      <g>\n       <use style=\"stroke:#000000;stroke-width:0.8;\" x=\"28.942188\" xlink:href=\"#ma28c8c8226\" y=\"158.278442\"/>\n      </g>\n     </g>\n     <g id=\"text_8\">\n      <!-- −2 -->\n      <g transform=\"translate(7.2 162.07766)scale(0.1 -0.1)\">\n       <use xlink:href=\"#DejaVuSans-8722\"/>\n       <use x=\"83.789062\" xlink:href=\"#DejaVuSans-50\"/>\n      </g>\n     </g>\n    </g>\n    <g id=\"ytick_4\">\n     <g id=\"line2d_9\">\n      <g>\n       <use style=\"stroke:#000000;stroke-width:0.8;\" x=\"28.942188\" xlink:href=\"#ma28c8c8226\" y=\"130.039481\"/>\n      </g>\n     </g>\n     <g id=\"text_9\">\n      <!-- −1 -->\n      <g transform=\"translate(7.2 133.838699)scale(0.1 -0.1)\">\n       <use xlink:href=\"#DejaVuSans-8722\"/>\n       <use x=\"83.789062\" xlink:href=\"#DejaVuSans-49\"/>\n      </g>\n     </g>\n    </g>\n    <g id=\"ytick_5\">\n     <g id=\"line2d_10\">\n      <g>\n       <use style=\"stroke:#000000;stroke-width:0.8;\" x=\"28.942188\" xlink:href=\"#ma28c8c8226\" y=\"101.800519\"/>\n      </g>\n     </g>\n     <g id=\"text_10\">\n      <!-- 0 -->\n      <g transform=\"translate(15.579688 105.599738)scale(0.1 -0.1)\">\n       <use xlink:href=\"#DejaVuSans-48\"/>\n      </g>\n     </g>\n    </g>\n    <g id=\"ytick_6\">\n     <g id=\"line2d_11\">\n      <g>\n       <use style=\"stroke:#000000;stroke-width:0.8;\" x=\"28.942188\" xlink:href=\"#ma28c8c8226\" y=\"73.561558\"/>\n      </g>\n     </g>\n     <g id=\"text_11\">\n      <!-- 1 -->\n      <g transform=\"translate(15.579688 77.360777)scale(0.1 -0.1)\">\n       <use xlink:href=\"#DejaVuSans-49\"/>\n      </g>\n     </g>\n    </g>\n    <g id=\"ytick_7\">\n     <g id=\"line2d_12\">\n      <g>\n       <use style=\"stroke:#000000;stroke-width:0.8;\" x=\"28.942188\" xlink:href=\"#ma28c8c8226\" y=\"45.322597\"/>\n      </g>\n     </g>\n     <g id=\"text_12\">\n      <!-- 2 -->\n      <g transform=\"translate(15.579688 49.121816)scale(0.1 -0.1)\">\n       <use xlink:href=\"#DejaVuSans-50\"/>\n      </g>\n     </g>\n    </g>\n    <g id=\"ytick_8\">\n     <g id=\"line2d_13\">\n      <g>\n       <use style=\"stroke:#000000;stroke-width:0.8;\" x=\"28.942188\" xlink:href=\"#ma28c8c8226\" y=\"17.083636\"/>\n      </g>\n     </g>\n     <g id=\"text_13\">\n      <!-- 3 -->\n      <g transform=\"translate(15.579688 20.882855)scale(0.1 -0.1)\">\n       <use xlink:href=\"#DejaVuSans-51\"/>\n      </g>\n     </g>\n    </g>\n   </g>\n   <g id=\"line2d_14\">\n    <path clip-path=\"url(#p585fd3c83a)\" d=\"M 44.160369 158.278442 \nL 57.393571 167.691429 \nL 70.626772 177.104416 \nL 83.859974 186.517403 \nL 97.093176 195.93039 \nL 110.326377 205.343377 \nL 123.559579 214.756364 \nL 136.79278 195.93039 \nL 150.025982 177.104416 \nL 163.259184 158.278442 \nL 176.492385 120.626494 \nL 189.725587 82.974545 \nL 202.958788 45.322597 \nL 216.19199 35.90961 \nL 229.425191 26.496623 \nL 242.658393 17.083636 \nL 255.891595 35.90961 \nL 269.124796 54.735584 \nL 282.357998 73.561558 \nL 295.591199 92.387532 \nL 308.824401 111.213506 \nL 322.057603 130.039481 \nL 335.290804 139.452468 \nL 348.524006 148.865455 \n\" style=\"fill:none;stroke:#1f77b4;stroke-linecap:square;stroke-width:1.5;\"/>\n   </g>\n   <g id=\"patch_3\">\n    <path d=\"M 28.942188 224.64 \nL 28.942188 7.2 \n\" style=\"fill:none;stroke:#000000;stroke-linecap:square;stroke-linejoin:miter;stroke-width:0.8;\"/>\n   </g>\n   <g id=\"patch_4\">\n    <path d=\"M 363.742188 224.64 \nL 363.742188 7.2 \n\" style=\"fill:none;stroke:#000000;stroke-linecap:square;stroke-linejoin:miter;stroke-width:0.8;\"/>\n   </g>\n   <g id=\"patch_5\">\n    <path d=\"M 28.942188 224.64 \nL 363.742188 224.64 \n\" style=\"fill:none;stroke:#000000;stroke-linecap:square;stroke-linejoin:miter;stroke-width:0.8;\"/>\n   </g>\n   <g id=\"patch_6\">\n    <path d=\"M 28.942188 7.2 \nL 363.742188 7.2 \n\" style=\"fill:none;stroke:#000000;stroke-linecap:square;stroke-linejoin:miter;stroke-width:0.8;\"/>\n   </g>\n  </g>\n </g>\n <defs>\n  <clipPath id=\"p585fd3c83a\">\n   <rect height=\"217.44\" width=\"334.8\" x=\"28.942188\" y=\"7.2\"/>\n  </clipPath>\n </defs>\n</svg>\n",
      "image/png": "[encoded data removed]"
     },
     "metadata": {
      "needs_background": "light"
     }
    }
   ],
   "source": [
    "dangjin_fcst_interpolated['Temperature'][:24].plot()"
   ]
  },
  {
   "cell_type": "code",
   "execution_count": 12,
   "metadata": {},
   "outputs": [],
   "source": [
    "# obs not need interpolation, but for code simplciity\n",
    "dangjin_obs_interpolated = dangjin_obs\n",
    "ulsan_obs_interpolated = ulsan_obs"
   ]
  },
  {
   "cell_type": "markdown",
   "metadata": {},
   "source": [
    "## Convert dtype of 'time' in `energy`\n",
    "- 'time' of `energy` is 'object'. \n",
    "- However, `pd.to_datetime` doesn't accepts '24:00:00' as an hour. Instead accepts '00:00:00'.\n",
    "- Therefore, custom function is needed."
   ]
  },
  {
   "cell_type": "code",
   "execution_count": 13,
   "metadata": {},
   "outputs": [
    {
     "output_type": "stream",
     "name": "stdout",
     "text": [
      "2018-03-02 00:00:00\n"
     ]
    }
   ],
   "source": [
    "def to_datetime_for_energy(date_str):\n",
    "    if date_str[11:13] == '24':\n",
    "        date_str = date_str[0:11] + '00' + date_str[13:]\n",
    "        return pd.to_datetime(date_str) + pd.Timedelta(1, unit='days')\n",
    "\n",
    "    else:\n",
    "        return pd.to_datetime(date_str)\n",
    "\n",
    "print(to_datetime_for_energy('2018-03-01 24:00:00'))"
   ]
  },
  {
   "cell_type": "code",
   "execution_count": 14,
   "metadata": {},
   "outputs": [],
   "source": [
    "energy['time'] = energy['time'].apply(to_datetime_for_energy)"
   ]
  },
  {
   "cell_type": "markdown",
   "metadata": {},
   "source": [
    "## Fill missing values - obs\n",
    "- Fill missing values in `obs` with `fcst`.\n",
    " Fill missing values - obs\n",
    "- Fill missing values in `obs` with `fcst`.\n",
    "- `fsct`에는 na가 없다는 점을 이용\n",
    "- @dongi\n"
   ]
  },
  {
   "cell_type": "code",
   "execution_count": 15,
   "metadata": {},
   "outputs": [
    {
     "output_type": "stream",
     "name": "stdout",
     "text": [
      "Temperature    0\nHumidity       0\nCloud          0\nWind_X         0\nWind_Y         0\ntime           0\ndtype: int64\nTemperature    0\nHumidity       0\nCloud          0\nWind_X         0\nWind_Y         0\ntime           0\ndtype: int64\ntime              0\nTemperature      37\nHumidity         35\nCloud          3970\nWind_X           36\nWind_Y           36\ndtype: int64\ntime             0\nTemperature      4\nHumidity         1\nCloud          825\nWind_X           1\nWind_Y           1\ndtype: int64\n"
     ]
    }
   ],
   "source": [
    "# count na\n",
    "print(dangjin_fcst_interpolated.isna().sum())\n",
    "print(ulsan_fcst_interpolated.isna().sum())\n",
    "print(dangjin_obs_interpolated.isna().sum())\n",
    "print(ulsan_obs_interpolated.isna().sum())"
   ]
  },
  {
   "cell_type": "code",
   "execution_count": 16,
   "metadata": {},
   "outputs": [
    {
     "output_type": "execute_result",
     "data": {
      "text/plain": [
       "(array([2450., 1231.,    7.,   24.,   79.,   12.,   39.,    5.,  110.,\n",
       "          13.]),\n",
       " array([17591.        , 17693.05416667, 17795.10833333, 17897.1625    ,\n",
       "        17999.21666667, 18101.27083333, 18203.325     , 18305.37916667,\n",
       "        18407.43333333, 18509.4875    , 18611.54166667]),\n",
       " <BarContainer object of 10 artists>)"
      ]
     },
     "metadata": {},
     "execution_count": 16
    },
    {
     "output_type": "display_data",
     "data": {
      "text/plain": "<Figure size 1728x360 with 1 Axes>",
      "image/svg+xml": "<?xml version=\"1.0\" encoding=\"utf-8\" standalone=\"no\"?>\n<!DOCTYPE svg PUBLIC \"-//W3C//DTD SVG 1.1//EN\"\n  \"http://www.w3.org/Graphics/SVG/1.1/DTD/svg11.dtd\">\n<!-- Created with matplotlib (https://matplotlib.org/) -->\n<svg height=\"302.878125pt\" version=\"1.1\" viewBox=\"0 0 1386.05 302.878125\" width=\"1386.05pt\" xmlns=\"http://www.w3.org/2000/svg\" xmlns:xlink=\"http://www.w3.org/1999/xlink\">\n <metadata>\n  <rdf:RDF xmlns:cc=\"http://creativecommons.org/ns#\" xmlns:dc=\"http://purl.org/dc/elements/1.1/\" xmlns:rdf=\"http://www.w3.org/1999/02/22-rdf-syntax-ns#\">\n   <cc:Work>\n    <dc:type rdf:resource=\"http://purl.org/dc/dcmitype/StillImage\"/>\n    <dc:date>2021-05-26T19:09:12.075936</dc:date>\n    <dc:format>image/svg+xml</dc:format>\n    <dc:creator>\n     <cc:Agent>\n      <dc:title>Matplotlib v3.3.4, https://matplotlib.org/</dc:title>\n     </cc:Agent>\n    </dc:creator>\n   </cc:Work>\n  </rdf:RDF>\n </metadata>\n <defs>\n  <style type=\"text/css\">*{stroke-linecap:butt;stroke-linejoin:round;}</style>\n </defs>\n <g id=\"figure_1\">\n  <g id=\"patch_1\">\n   <path d=\"M 0 302.878125 \nL 1386.05 302.878125 \nL 1386.05 0 \nL 0 0 \nz\n\" style=\"fill:none;\"/>\n  </g>\n  <g id=\"axes_1\">\n   <g id=\"patch_2\">\n    <path d=\"M 39.65 279 \nL 1378.85 279 \nL 1378.85 7.2 \nL 39.65 7.2 \nz\n\" style=\"fill:#ffffff;\"/>\n   </g>\n   <g id=\"patch_3\">\n    <path clip-path=\"url(#p24c2adedab)\" d=\"M 100.522727 279 \nL 222.268182 279 \nL 222.268182 20.142857 \nL 100.522727 20.142857 \nz\n\" style=\"fill:#1f77b4;\"/>\n   </g>\n   <g id=\"patch_4\">\n    <path clip-path=\"url(#p24c2adedab)\" d=\"M 222.268182 279 \nL 344.013636 279 \nL 344.013636 148.937493 \nL 222.268182 148.937493 \nz\n\" style=\"fill:#1f77b4;\"/>\n   </g>\n   <g id=\"patch_5\">\n    <path clip-path=\"url(#p24c2adedab)\" d=\"M 344.013636 279 \nL 465.759091 279 \nL 465.759091 278.260408 \nL 344.013636 278.260408 \nz\n\" style=\"fill:#1f77b4;\"/>\n   </g>\n   <g id=\"patch_6\">\n    <path clip-path=\"url(#p24c2adedab)\" d=\"M 465.759091 279 \nL 587.504545 279 \nL 587.504545 276.464257 \nL 465.759091 276.464257 \nz\n\" style=\"fill:#1f77b4;\"/>\n   </g>\n   <g id=\"patch_7\">\n    <path clip-path=\"url(#p24c2adedab)\" d=\"M 587.504545 279 \nL 709.25 279 \nL 709.25 270.653178 \nL 587.504545 270.653178 \nz\n\" style=\"fill:#1f77b4;\"/>\n   </g>\n   <g id=\"patch_8\">\n    <path clip-path=\"url(#p24c2adedab)\" d=\"M 709.25 279 \nL 830.995455 279 \nL 830.995455 277.732128 \nL 709.25 277.732128 \nz\n\" style=\"fill:#1f77b4;\"/>\n   </g>\n   <g id=\"patch_9\">\n    <path clip-path=\"url(#p24c2adedab)\" d=\"M 830.995455 279 \nL 952.740909 279 \nL 952.740909 274.879417 \nL 830.995455 274.879417 \nz\n\" style=\"fill:#1f77b4;\"/>\n   </g>\n   <g id=\"patch_10\">\n    <path clip-path=\"url(#p24c2adedab)\" d=\"M 952.740909 279 \nL 1074.486364 279 \nL 1074.486364 278.47172 \nL 952.740909 278.47172 \nz\n\" style=\"fill:#1f77b4;\"/>\n   </g>\n   <g id=\"patch_11\">\n    <path clip-path=\"url(#p24c2adedab)\" d=\"M 1074.486364 279 \nL 1196.231818 279 \nL 1196.231818 267.377843 \nL 1074.486364 267.377843 \nz\n\" style=\"fill:#1f77b4;\"/>\n   </g>\n   <g id=\"patch_12\">\n    <path clip-path=\"url(#p24c2adedab)\" d=\"M 1196.231818 279 \nL 1317.977273 279 \nL 1317.977273 277.626472 \nL 1196.231818 277.626472 \nz\n\" style=\"fill:#1f77b4;\"/>\n   </g>\n   <g id=\"matplotlib.axis_1\">\n    <g id=\"xtick_1\">\n     <g id=\"line2d_1\">\n      <defs>\n       <path d=\"M 0 0 \nL 0 3.5 \n\" id=\"me9139c778e\" style=\"stroke:#000000;stroke-width:0.8;\"/>\n      </defs>\n      <g>\n       <use style=\"stroke:#000000;stroke-width:0.8;\" x=\"173.292639\" xlink:href=\"#me9139c778e\" y=\"279\"/>\n      </g>\n     </g>\n     <g id=\"text_1\">\n      <!-- 2018-05 -->\n      <g transform=\"translate(152.401233 293.598437)scale(0.1 -0.1)\">\n       <defs>\n        <path d=\"M 19.1875 8.296875 \nL 53.609375 8.296875 \nL 53.609375 0 \nL 7.328125 0 \nL 7.328125 8.296875 \nQ 12.9375 14.109375 22.625 23.890625 \nQ 32.328125 33.6875 34.8125 36.53125 \nQ 39.546875 41.84375 41.421875 45.53125 \nQ 43.3125 49.21875 43.3125 52.78125 \nQ 43.3125 58.59375 39.234375 62.25 \nQ 35.15625 65.921875 28.609375 65.921875 \nQ 23.96875 65.921875 18.8125 64.3125 \nQ 13.671875 62.703125 7.8125 59.421875 \nL 7.8125 69.390625 \nQ 13.765625 71.78125 18.9375 73 \nQ 24.125 74.21875 28.421875 74.21875 \nQ 39.75 74.21875 46.484375 68.546875 \nQ 53.21875 62.890625 53.21875 53.421875 \nQ 53.21875 48.921875 51.53125 44.890625 \nQ 49.859375 40.875 45.40625 35.40625 \nQ 44.1875 33.984375 37.640625 27.21875 \nQ 31.109375 20.453125 19.1875 8.296875 \nz\n\" id=\"DejaVuSans-50\"/>\n        <path d=\"M 31.78125 66.40625 \nQ 24.171875 66.40625 20.328125 58.90625 \nQ 16.5 51.421875 16.5 36.375 \nQ 16.5 21.390625 20.328125 13.890625 \nQ 24.171875 6.390625 31.78125 6.390625 \nQ 39.453125 6.390625 43.28125 13.890625 \nQ 47.125 21.390625 47.125 36.375 \nQ 47.125 51.421875 43.28125 58.90625 \nQ 39.453125 66.40625 31.78125 66.40625 \nz\nM 31.78125 74.21875 \nQ 44.046875 74.21875 50.515625 64.515625 \nQ 56.984375 54.828125 56.984375 36.375 \nQ 56.984375 17.96875 50.515625 8.265625 \nQ 44.046875 -1.421875 31.78125 -1.421875 \nQ 19.53125 -1.421875 13.0625 8.265625 \nQ 6.59375 17.96875 6.59375 36.375 \nQ 6.59375 54.828125 13.0625 64.515625 \nQ 19.53125 74.21875 31.78125 74.21875 \nz\n\" id=\"DejaVuSans-48\"/>\n        <path d=\"M 12.40625 8.296875 \nL 28.515625 8.296875 \nL 28.515625 63.921875 \nL 10.984375 60.40625 \nL 10.984375 69.390625 \nL 28.421875 72.90625 \nL 38.28125 72.90625 \nL 38.28125 8.296875 \nL 54.390625 8.296875 \nL 54.390625 0 \nL 12.40625 0 \nz\n\" id=\"DejaVuSans-49\"/>\n        <path d=\"M 31.78125 34.625 \nQ 24.75 34.625 20.71875 30.859375 \nQ 16.703125 27.09375 16.703125 20.515625 \nQ 16.703125 13.921875 20.71875 10.15625 \nQ 24.75 6.390625 31.78125 6.390625 \nQ 38.8125 6.390625 42.859375 10.171875 \nQ 46.921875 13.96875 46.921875 20.515625 \nQ 46.921875 27.09375 42.890625 30.859375 \nQ 38.875 34.625 31.78125 34.625 \nz\nM 21.921875 38.8125 \nQ 15.578125 40.375 12.03125 44.71875 \nQ 8.5 49.078125 8.5 55.328125 \nQ 8.5 64.0625 14.71875 69.140625 \nQ 20.953125 74.21875 31.78125 74.21875 \nQ 42.671875 74.21875 48.875 69.140625 \nQ 55.078125 64.0625 55.078125 55.328125 \nQ 55.078125 49.078125 51.53125 44.71875 \nQ 48 40.375 41.703125 38.8125 \nQ 48.828125 37.15625 52.796875 32.3125 \nQ 56.78125 27.484375 56.78125 20.515625 \nQ 56.78125 9.90625 50.3125 4.234375 \nQ 43.84375 -1.421875 31.78125 -1.421875 \nQ 19.734375 -1.421875 13.25 4.234375 \nQ 6.78125 9.90625 6.78125 20.515625 \nQ 6.78125 27.484375 10.78125 32.3125 \nQ 14.796875 37.15625 21.921875 38.8125 \nz\nM 18.3125 54.390625 \nQ 18.3125 48.734375 21.84375 45.5625 \nQ 25.390625 42.390625 31.78125 42.390625 \nQ 38.140625 42.390625 41.71875 45.5625 \nQ 45.3125 48.734375 45.3125 54.390625 \nQ 45.3125 60.0625 41.71875 63.234375 \nQ 38.140625 66.40625 31.78125 66.40625 \nQ 25.390625 66.40625 21.84375 63.234375 \nQ 18.3125 60.0625 18.3125 54.390625 \nz\n\" id=\"DejaVuSans-56\"/>\n        <path d=\"M 4.890625 31.390625 \nL 31.203125 31.390625 \nL 31.203125 23.390625 \nL 4.890625 23.390625 \nz\n\" id=\"DejaVuSans-45\"/>\n        <path d=\"M 10.796875 72.90625 \nL 49.515625 72.90625 \nL 49.515625 64.59375 \nL 19.828125 64.59375 \nL 19.828125 46.734375 \nQ 21.96875 47.46875 24.109375 47.828125 \nQ 26.265625 48.1875 28.421875 48.1875 \nQ 40.625 48.1875 47.75 41.5 \nQ 54.890625 34.8125 54.890625 23.390625 \nQ 54.890625 11.625 47.5625 5.09375 \nQ 40.234375 -1.421875 26.90625 -1.421875 \nQ 22.3125 -1.421875 17.546875 -0.640625 \nQ 12.796875 0.140625 7.71875 1.703125 \nL 7.71875 11.625 \nQ 12.109375 9.234375 16.796875 8.0625 \nQ 21.484375 6.890625 26.703125 6.890625 \nQ 35.15625 6.890625 40.078125 11.328125 \nQ 45.015625 15.765625 45.015625 23.390625 \nQ 45.015625 31 40.078125 35.4375 \nQ 35.15625 39.890625 26.703125 39.890625 \nQ 22.75 39.890625 18.8125 39.015625 \nQ 14.890625 38.140625 10.796875 36.28125 \nz\n\" id=\"DejaVuSans-53\"/>\n       </defs>\n       <use xlink:href=\"#DejaVuSans-50\"/>\n       <use x=\"63.623047\" xlink:href=\"#DejaVuSans-48\"/>\n       <use x=\"127.246094\" xlink:href=\"#DejaVuSans-49\"/>\n       <use x=\"190.869141\" xlink:href=\"#DejaVuSans-56\"/>\n       <use x=\"254.492188\" xlink:href=\"#DejaVuSans-45\"/>\n       <use x=\"290.576172\" xlink:href=\"#DejaVuSans-48\"/>\n       <use x=\"354.199219\" xlink:href=\"#DejaVuSans-53\"/>\n      </g>\n     </g>\n    </g>\n    <g id=\"xtick_2\">\n     <g id=\"line2d_2\">\n      <g>\n       <use style=\"stroke:#000000;stroke-width:0.8;\" x=\"320.025413\" xlink:href=\"#me9139c778e\" y=\"279\"/>\n      </g>\n     </g>\n     <g id=\"text_2\">\n      <!-- 2018-09 -->\n      <g transform=\"translate(299.134006 293.598437)scale(0.1 -0.1)\">\n       <defs>\n        <path d=\"M 10.984375 1.515625 \nL 10.984375 10.5 \nQ 14.703125 8.734375 18.5 7.8125 \nQ 22.3125 6.890625 25.984375 6.890625 \nQ 35.75 6.890625 40.890625 13.453125 \nQ 46.046875 20.015625 46.78125 33.40625 \nQ 43.953125 29.203125 39.59375 26.953125 \nQ 35.25 24.703125 29.984375 24.703125 \nQ 19.046875 24.703125 12.671875 31.3125 \nQ 6.296875 37.9375 6.296875 49.421875 \nQ 6.296875 60.640625 12.9375 67.421875 \nQ 19.578125 74.21875 30.609375 74.21875 \nQ 43.265625 74.21875 49.921875 64.515625 \nQ 56.59375 54.828125 56.59375 36.375 \nQ 56.59375 19.140625 48.40625 8.859375 \nQ 40.234375 -1.421875 26.421875 -1.421875 \nQ 22.703125 -1.421875 18.890625 -0.6875 \nQ 15.09375 0.046875 10.984375 1.515625 \nz\nM 30.609375 32.421875 \nQ 37.25 32.421875 41.125 36.953125 \nQ 45.015625 41.5 45.015625 49.421875 \nQ 45.015625 57.28125 41.125 61.84375 \nQ 37.25 66.40625 30.609375 66.40625 \nQ 23.96875 66.40625 20.09375 61.84375 \nQ 16.21875 57.28125 16.21875 49.421875 \nQ 16.21875 41.5 20.09375 36.953125 \nQ 23.96875 32.421875 30.609375 32.421875 \nz\n\" id=\"DejaVuSans-57\"/>\n       </defs>\n       <use xlink:href=\"#DejaVuSans-50\"/>\n       <use x=\"63.623047\" xlink:href=\"#DejaVuSans-48\"/>\n       <use x=\"127.246094\" xlink:href=\"#DejaVuSans-49\"/>\n       <use x=\"190.869141\" xlink:href=\"#DejaVuSans-56\"/>\n       <use x=\"254.492188\" xlink:href=\"#DejaVuSans-45\"/>\n       <use x=\"290.576172\" xlink:href=\"#DejaVuSans-48\"/>\n       <use x=\"354.199219\" xlink:href=\"#DejaVuSans-57\"/>\n      </g>\n     </g>\n    </g>\n    <g id=\"xtick_3\">\n     <g id=\"line2d_3\">\n      <g>\n       <use style=\"stroke:#000000;stroke-width:0.8;\" x=\"465.565237\" xlink:href=\"#me9139c778e\" y=\"279\"/>\n      </g>\n     </g>\n     <g id=\"text_3\">\n      <!-- 2019-01 -->\n      <g transform=\"translate(444.67383 293.598437)scale(0.1 -0.1)\">\n       <use xlink:href=\"#DejaVuSans-50\"/>\n       <use x=\"63.623047\" xlink:href=\"#DejaVuSans-48\"/>\n       <use x=\"127.246094\" xlink:href=\"#DejaVuSans-49\"/>\n       <use x=\"190.869141\" xlink:href=\"#DejaVuSans-57\"/>\n       <use x=\"254.492188\" xlink:href=\"#DejaVuSans-45\"/>\n       <use x=\"290.576172\" xlink:href=\"#DejaVuSans-48\"/>\n       <use x=\"354.199219\" xlink:href=\"#DejaVuSans-49\"/>\n      </g>\n     </g>\n    </g>\n    <g id=\"xtick_4\">\n     <g id=\"line2d_4\">\n      <g>\n       <use style=\"stroke:#000000;stroke-width:0.8;\" x=\"608.719162\" xlink:href=\"#me9139c778e\" y=\"279\"/>\n      </g>\n     </g>\n     <g id=\"text_4\">\n      <!-- 2019-05 -->\n      <g transform=\"translate(587.827756 293.598437)scale(0.1 -0.1)\">\n       <use xlink:href=\"#DejaVuSans-50\"/>\n       <use x=\"63.623047\" xlink:href=\"#DejaVuSans-48\"/>\n       <use x=\"127.246094\" xlink:href=\"#DejaVuSans-49\"/>\n       <use x=\"190.869141\" xlink:href=\"#DejaVuSans-57\"/>\n       <use x=\"254.492188\" xlink:href=\"#DejaVuSans-45\"/>\n       <use x=\"290.576172\" xlink:href=\"#DejaVuSans-48\"/>\n       <use x=\"354.199219\" xlink:href=\"#DejaVuSans-53\"/>\n      </g>\n     </g>\n    </g>\n    <g id=\"xtick_5\">\n     <g id=\"line2d_5\">\n      <g>\n       <use style=\"stroke:#000000;stroke-width:0.8;\" x=\"755.451935\" xlink:href=\"#me9139c778e\" y=\"279\"/>\n      </g>\n     </g>\n     <g id=\"text_5\">\n      <!-- 2019-09 -->\n      <g transform=\"translate(734.560529 293.598437)scale(0.1 -0.1)\">\n       <use xlink:href=\"#DejaVuSans-50\"/>\n       <use x=\"63.623047\" xlink:href=\"#DejaVuSans-48\"/>\n       <use x=\"127.246094\" xlink:href=\"#DejaVuSans-49\"/>\n       <use x=\"190.869141\" xlink:href=\"#DejaVuSans-57\"/>\n       <use x=\"254.492188\" xlink:href=\"#DejaVuSans-45\"/>\n       <use x=\"290.576172\" xlink:href=\"#DejaVuSans-48\"/>\n       <use x=\"354.199219\" xlink:href=\"#DejaVuSans-57\"/>\n      </g>\n     </g>\n    </g>\n    <g id=\"xtick_6\">\n     <g id=\"line2d_6\">\n      <g>\n       <use style=\"stroke:#000000;stroke-width:0.8;\" x=\"900.991759\" xlink:href=\"#me9139c778e\" y=\"279\"/>\n      </g>\n     </g>\n     <g id=\"text_6\">\n      <!-- 2020-01 -->\n      <g transform=\"translate(880.100353 293.598437)scale(0.1 -0.1)\">\n       <use xlink:href=\"#DejaVuSans-50\"/>\n       <use x=\"63.623047\" xlink:href=\"#DejaVuSans-48\"/>\n       <use x=\"127.246094\" xlink:href=\"#DejaVuSans-50\"/>\n       <use x=\"190.869141\" xlink:href=\"#DejaVuSans-48\"/>\n       <use x=\"254.492188\" xlink:href=\"#DejaVuSans-45\"/>\n       <use x=\"290.576172\" xlink:href=\"#DejaVuSans-48\"/>\n       <use x=\"354.199219\" xlink:href=\"#DejaVuSans-49\"/>\n      </g>\n     </g>\n    </g>\n    <g id=\"xtick_7\">\n     <g id=\"line2d_7\">\n      <g>\n       <use style=\"stroke:#000000;stroke-width:0.8;\" x=\"1045.338634\" xlink:href=\"#me9139c778e\" y=\"279\"/>\n      </g>\n     </g>\n     <g id=\"text_7\">\n      <!-- 2020-05 -->\n      <g transform=\"translate(1024.447228 293.598437)scale(0.1 -0.1)\">\n       <use xlink:href=\"#DejaVuSans-50\"/>\n       <use x=\"63.623047\" xlink:href=\"#DejaVuSans-48\"/>\n       <use x=\"127.246094\" xlink:href=\"#DejaVuSans-50\"/>\n       <use x=\"190.869141\" xlink:href=\"#DejaVuSans-48\"/>\n       <use x=\"254.492188\" xlink:href=\"#DejaVuSans-45\"/>\n       <use x=\"290.576172\" xlink:href=\"#DejaVuSans-48\"/>\n       <use x=\"354.199219\" xlink:href=\"#DejaVuSans-53\"/>\n      </g>\n     </g>\n    </g>\n    <g id=\"xtick_8\">\n     <g id=\"line2d_8\">\n      <g>\n       <use style=\"stroke:#000000;stroke-width:0.8;\" x=\"1192.071407\" xlink:href=\"#me9139c778e\" y=\"279\"/>\n      </g>\n     </g>\n     <g id=\"text_8\">\n      <!-- 2020-09 -->\n      <g transform=\"translate(1171.180001 293.598437)scale(0.1 -0.1)\">\n       <use xlink:href=\"#DejaVuSans-50\"/>\n       <use x=\"63.623047\" xlink:href=\"#DejaVuSans-48\"/>\n       <use x=\"127.246094\" xlink:href=\"#DejaVuSans-50\"/>\n       <use x=\"190.869141\" xlink:href=\"#DejaVuSans-48\"/>\n       <use x=\"254.492188\" xlink:href=\"#DejaVuSans-45\"/>\n       <use x=\"290.576172\" xlink:href=\"#DejaVuSans-48\"/>\n       <use x=\"354.199219\" xlink:href=\"#DejaVuSans-57\"/>\n      </g>\n     </g>\n    </g>\n    <g id=\"xtick_9\">\n     <g id=\"line2d_9\">\n      <g>\n       <use style=\"stroke:#000000;stroke-width:0.8;\" x=\"1337.611231\" xlink:href=\"#me9139c778e\" y=\"279\"/>\n      </g>\n     </g>\n     <g id=\"text_9\">\n      <!-- 2021-01 -->\n      <g transform=\"translate(1316.719825 293.598437)scale(0.1 -0.1)\">\n       <use xlink:href=\"#DejaVuSans-50\"/>\n       <use x=\"63.623047\" xlink:href=\"#DejaVuSans-48\"/>\n       <use x=\"127.246094\" xlink:href=\"#DejaVuSans-50\"/>\n       <use x=\"190.869141\" xlink:href=\"#DejaVuSans-49\"/>\n       <use x=\"254.492188\" xlink:href=\"#DejaVuSans-45\"/>\n       <use x=\"290.576172\" xlink:href=\"#DejaVuSans-48\"/>\n       <use x=\"354.199219\" xlink:href=\"#DejaVuSans-49\"/>\n      </g>\n     </g>\n    </g>\n   </g>\n   <g id=\"matplotlib.axis_2\">\n    <g id=\"ytick_1\">\n     <g id=\"line2d_10\">\n      <defs>\n       <path d=\"M 0 0 \nL -3.5 0 \n\" id=\"m7901d198eb\" style=\"stroke:#000000;stroke-width:0.8;\"/>\n      </defs>\n      <g>\n       <use style=\"stroke:#000000;stroke-width:0.8;\" x=\"39.65\" xlink:href=\"#m7901d198eb\" y=\"279\"/>\n      </g>\n     </g>\n     <g id=\"text_10\">\n      <!-- 0 -->\n      <g transform=\"translate(26.2875 282.799219)scale(0.1 -0.1)\">\n       <use xlink:href=\"#DejaVuSans-48\"/>\n      </g>\n     </g>\n    </g>\n    <g id=\"ytick_2\">\n     <g id=\"line2d_11\">\n      <g>\n       <use style=\"stroke:#000000;stroke-width:0.8;\" x=\"39.65\" xlink:href=\"#m7901d198eb\" y=\"226.172012\"/>\n      </g>\n     </g>\n     <g id=\"text_11\">\n      <!-- 500 -->\n      <g transform=\"translate(13.5625 229.97123)scale(0.1 -0.1)\">\n       <use xlink:href=\"#DejaVuSans-53\"/>\n       <use x=\"63.623047\" xlink:href=\"#DejaVuSans-48\"/>\n       <use x=\"127.246094\" xlink:href=\"#DejaVuSans-48\"/>\n      </g>\n     </g>\n    </g>\n    <g id=\"ytick_3\">\n     <g id=\"line2d_12\">\n      <g>\n       <use style=\"stroke:#000000;stroke-width:0.8;\" x=\"39.65\" xlink:href=\"#m7901d198eb\" y=\"173.344023\"/>\n      </g>\n     </g>\n     <g id=\"text_12\">\n      <!-- 1000 -->\n      <g transform=\"translate(7.2 177.143242)scale(0.1 -0.1)\">\n       <use xlink:href=\"#DejaVuSans-49\"/>\n       <use x=\"63.623047\" xlink:href=\"#DejaVuSans-48\"/>\n       <use x=\"127.246094\" xlink:href=\"#DejaVuSans-48\"/>\n       <use x=\"190.869141\" xlink:href=\"#DejaVuSans-48\"/>\n      </g>\n     </g>\n    </g>\n    <g id=\"ytick_4\">\n     <g id=\"line2d_13\">\n      <g>\n       <use style=\"stroke:#000000;stroke-width:0.8;\" x=\"39.65\" xlink:href=\"#m7901d198eb\" y=\"120.516035\"/>\n      </g>\n     </g>\n     <g id=\"text_13\">\n      <!-- 1500 -->\n      <g transform=\"translate(7.2 124.315254)scale(0.1 -0.1)\">\n       <use xlink:href=\"#DejaVuSans-49\"/>\n       <use x=\"63.623047\" xlink:href=\"#DejaVuSans-53\"/>\n       <use x=\"127.246094\" xlink:href=\"#DejaVuSans-48\"/>\n       <use x=\"190.869141\" xlink:href=\"#DejaVuSans-48\"/>\n      </g>\n     </g>\n    </g>\n    <g id=\"ytick_5\">\n     <g id=\"line2d_14\">\n      <g>\n       <use style=\"stroke:#000000;stroke-width:0.8;\" x=\"39.65\" xlink:href=\"#m7901d198eb\" y=\"67.688047\"/>\n      </g>\n     </g>\n     <g id=\"text_14\">\n      <!-- 2000 -->\n      <g transform=\"translate(7.2 71.487265)scale(0.1 -0.1)\">\n       <use xlink:href=\"#DejaVuSans-50\"/>\n       <use x=\"63.623047\" xlink:href=\"#DejaVuSans-48\"/>\n       <use x=\"127.246094\" xlink:href=\"#DejaVuSans-48\"/>\n       <use x=\"190.869141\" xlink:href=\"#DejaVuSans-48\"/>\n      </g>\n     </g>\n    </g>\n    <g id=\"ytick_6\">\n     <g id=\"line2d_15\">\n      <g>\n       <use style=\"stroke:#000000;stroke-width:0.8;\" x=\"39.65\" xlink:href=\"#m7901d198eb\" y=\"14.860058\"/>\n      </g>\n     </g>\n     <g id=\"text_15\">\n      <!-- 2500 -->\n      <g transform=\"translate(7.2 18.659277)scale(0.1 -0.1)\">\n       <use xlink:href=\"#DejaVuSans-50\"/>\n       <use x=\"63.623047\" xlink:href=\"#DejaVuSans-53\"/>\n       <use x=\"127.246094\" xlink:href=\"#DejaVuSans-48\"/>\n       <use x=\"190.869141\" xlink:href=\"#DejaVuSans-48\"/>\n      </g>\n     </g>\n    </g>\n   </g>\n   <g id=\"patch_13\">\n    <path d=\"M 39.65 279 \nL 39.65 7.2 \n\" style=\"fill:none;stroke:#000000;stroke-linecap:square;stroke-linejoin:miter;stroke-width:0.8;\"/>\n   </g>\n   <g id=\"patch_14\">\n    <path d=\"M 1378.85 279 \nL 1378.85 7.2 \n\" style=\"fill:none;stroke:#000000;stroke-linecap:square;stroke-linejoin:miter;stroke-width:0.8;\"/>\n   </g>\n   <g id=\"patch_15\">\n    <path d=\"M 39.65 279 \nL 1378.85 279 \n\" style=\"fill:none;stroke:#000000;stroke-linecap:square;stroke-linejoin:miter;stroke-width:0.8;\"/>\n   </g>\n   <g id=\"patch_16\">\n    <path d=\"M 39.65 7.2 \nL 1378.85 7.2 \n\" style=\"fill:none;stroke:#000000;stroke-linecap:square;stroke-linejoin:miter;stroke-width:0.8;\"/>\n   </g>\n  </g>\n </g>\n <defs>\n  <clipPath id=\"p24c2adedab\">\n   <rect height=\"271.8\" width=\"1339.2\" x=\"39.65\" y=\"7.2\"/>\n  </clipPath>\n </defs>\n</svg>\n",
      "image/png": "[encoded data removed]"
     },
     "metadata": {
      "needs_background": "light"
     }
    }
   ],
   "source": [
    "# hist\n",
    "dj_cloud_na = dangjin_obs_interpolated[dangjin_obs_interpolated['Cloud'].isna()]\n",
    "plt.figure(figsize=(24,5))\n",
    "plt.hist(dj_cloud_na['time'])"
   ]
  },
  {
   "cell_type": "code",
   "execution_count": 17,
   "metadata": {},
   "outputs": [
    {
     "output_type": "execute_result",
     "data": {
      "text/plain": [
       "(array([512., 270.,   0.,   6.,   8.,   0.,   4.,   2.,  18.,   5.]),\n",
       " array([17591.08333333, 17690.75833333, 17790.43333333, 17890.10833333,\n",
       "        17989.78333333, 18089.45833333, 18189.13333333, 18288.80833333,\n",
       "        18388.48333333, 18488.15833333, 18587.83333333]),\n",
       " <BarContainer object of 10 artists>)"
      ]
     },
     "metadata": {},
     "execution_count": 17
    },
    {
     "output_type": "display_data",
     "data": {
      "text/plain": "<Figure size 1728x360 with 1 Axes>",
      "image/svg+xml": "<?xml version=\"1.0\" encoding=\"utf-8\" standalone=\"no\"?>\n<!DOCTYPE svg PUBLIC \"-//W3C//DTD SVG 1.1//EN\"\n  \"http://www.w3.org/Graphics/SVG/1.1/DTD/svg11.dtd\">\n<!-- Created with matplotlib (https://matplotlib.org/) -->\n<svg height=\"302.878125pt\" version=\"1.1\" viewBox=\"0 0 1388.766717 302.878125\" width=\"1388.766717pt\" xmlns=\"http://www.w3.org/2000/svg\" xmlns:xlink=\"http://www.w3.org/1999/xlink\">\n <metadata>\n  <rdf:RDF xmlns:cc=\"http://creativecommons.org/ns#\" xmlns:dc=\"http://purl.org/dc/elements/1.1/\" xmlns:rdf=\"http://www.w3.org/1999/02/22-rdf-syntax-ns#\">\n   <cc:Work>\n    <dc:type rdf:resource=\"http://purl.org/dc/dcmitype/StillImage\"/>\n    <dc:date>2021-05-26T19:09:12.974972</dc:date>\n    <dc:format>image/svg+xml</dc:format>\n    <dc:creator>\n     <cc:Agent>\n      <dc:title>Matplotlib v3.3.4, https://matplotlib.org/</dc:title>\n     </cc:Agent>\n    </dc:creator>\n   </cc:Work>\n  </rdf:RDF>\n </metadata>\n <defs>\n  <style type=\"text/css\">*{stroke-linecap:butt;stroke-linejoin:round;}</style>\n </defs>\n <g id=\"figure_1\">\n  <g id=\"patch_1\">\n   <path d=\"M 0 302.878125 \nL 1388.766717 302.878125 \nL 1388.766717 0 \nL 0 0 \nz\n\" style=\"fill:none;\"/>\n  </g>\n  <g id=\"axes_1\">\n   <g id=\"patch_2\">\n    <path d=\"M 33.2875 279 \nL 1372.4875 279 \nL 1372.4875 7.2 \nL 33.2875 7.2 \nz\n\" style=\"fill:#ffffff;\"/>\n   </g>\n   <g id=\"patch_3\">\n    <path clip-path=\"url(#p3b75c72a8c)\" d=\"M 94.160227 279 \nL 215.905682 279 \nL 215.905682 20.142857 \nL 94.160227 20.142857 \nz\n\" style=\"fill:#1f77b4;\"/>\n   </g>\n   <g id=\"patch_4\">\n    <path clip-path=\"url(#p3b75c72a8c)\" d=\"M 215.905682 279 \nL 337.651136 279 \nL 337.651136 142.493304 \nL 215.905682 142.493304 \nz\n\" style=\"fill:#1f77b4;\"/>\n   </g>\n   <g id=\"patch_5\">\n    <path clip-path=\"url(#p3b75c72a8c)\" d=\"M 337.651136 279 \nL 459.396591 279 \nL 459.396591 279 \nL 337.651136 279 \nz\n\" style=\"fill:#1f77b4;\"/>\n   </g>\n   <g id=\"patch_6\">\n    <path clip-path=\"url(#p3b75c72a8c)\" d=\"M 459.396591 279 \nL 581.142045 279 \nL 581.142045 275.966518 \nL 459.396591 275.966518 \nz\n\" style=\"fill:#1f77b4;\"/>\n   </g>\n   <g id=\"patch_7\">\n    <path clip-path=\"url(#p3b75c72a8c)\" d=\"M 581.142045 279 \nL 702.8875 279 \nL 702.8875 274.955357 \nL 581.142045 274.955357 \nz\n\" style=\"fill:#1f77b4;\"/>\n   </g>\n   <g id=\"patch_8\">\n    <path clip-path=\"url(#p3b75c72a8c)\" d=\"M 702.8875 279 \nL 824.632955 279 \nL 824.632955 279 \nL 702.8875 279 \nz\n\" style=\"fill:#1f77b4;\"/>\n   </g>\n   <g id=\"patch_9\">\n    <path clip-path=\"url(#p3b75c72a8c)\" d=\"M 824.632955 279 \nL 946.378409 279 \nL 946.378409 276.977679 \nL 824.632955 276.977679 \nz\n\" style=\"fill:#1f77b4;\"/>\n   </g>\n   <g id=\"patch_10\">\n    <path clip-path=\"url(#p3b75c72a8c)\" d=\"M 946.378409 279 \nL 1068.123864 279 \nL 1068.123864 277.988839 \nL 946.378409 277.988839 \nz\n\" style=\"fill:#1f77b4;\"/>\n   </g>\n   <g id=\"patch_11\">\n    <path clip-path=\"url(#p3b75c72a8c)\" d=\"M 1068.123864 279 \nL 1189.869318 279 \nL 1189.869318 269.899554 \nL 1068.123864 269.899554 \nz\n\" style=\"fill:#1f77b4;\"/>\n   </g>\n   <g id=\"patch_12\">\n    <path clip-path=\"url(#p3b75c72a8c)\" d=\"M 1189.869318 279 \nL 1311.614773 279 \nL 1311.614773 276.472098 \nL 1189.869318 276.472098 \nz\n\" style=\"fill:#1f77b4;\"/>\n   </g>\n   <g id=\"matplotlib.axis_1\">\n    <g id=\"xtick_1\">\n     <g id=\"line2d_1\">\n      <defs>\n       <path d=\"M 0 0 \nL 0 3.5 \n\" id=\"mb8e357da85\" style=\"stroke:#000000;stroke-width:0.8;\"/>\n      </defs>\n      <g>\n       <use style=\"stroke:#000000;stroke-width:0.8;\" x=\"168.565317\" xlink:href=\"#mb8e357da85\" y=\"279\"/>\n      </g>\n     </g>\n     <g id=\"text_1\">\n      <!-- 2018-05 -->\n      <g transform=\"translate(147.67391 293.598437)scale(0.1 -0.1)\">\n       <defs>\n        <path d=\"M 19.1875 8.296875 \nL 53.609375 8.296875 \nL 53.609375 0 \nL 7.328125 0 \nL 7.328125 8.296875 \nQ 12.9375 14.109375 22.625 23.890625 \nQ 32.328125 33.6875 34.8125 36.53125 \nQ 39.546875 41.84375 41.421875 45.53125 \nQ 43.3125 49.21875 43.3125 52.78125 \nQ 43.3125 58.59375 39.234375 62.25 \nQ 35.15625 65.921875 28.609375 65.921875 \nQ 23.96875 65.921875 18.8125 64.3125 \nQ 13.671875 62.703125 7.8125 59.421875 \nL 7.8125 69.390625 \nQ 13.765625 71.78125 18.9375 73 \nQ 24.125 74.21875 28.421875 74.21875 \nQ 39.75 74.21875 46.484375 68.546875 \nQ 53.21875 62.890625 53.21875 53.421875 \nQ 53.21875 48.921875 51.53125 44.890625 \nQ 49.859375 40.875 45.40625 35.40625 \nQ 44.1875 33.984375 37.640625 27.21875 \nQ 31.109375 20.453125 19.1875 8.296875 \nz\n\" id=\"DejaVuSans-50\"/>\n        <path d=\"M 31.78125 66.40625 \nQ 24.171875 66.40625 20.328125 58.90625 \nQ 16.5 51.421875 16.5 36.375 \nQ 16.5 21.390625 20.328125 13.890625 \nQ 24.171875 6.390625 31.78125 6.390625 \nQ 39.453125 6.390625 43.28125 13.890625 \nQ 47.125 21.390625 47.125 36.375 \nQ 47.125 51.421875 43.28125 58.90625 \nQ 39.453125 66.40625 31.78125 66.40625 \nz\nM 31.78125 74.21875 \nQ 44.046875 74.21875 50.515625 64.515625 \nQ 56.984375 54.828125 56.984375 36.375 \nQ 56.984375 17.96875 50.515625 8.265625 \nQ 44.046875 -1.421875 31.78125 -1.421875 \nQ 19.53125 -1.421875 13.0625 8.265625 \nQ 6.59375 17.96875 6.59375 36.375 \nQ 6.59375 54.828125 13.0625 64.515625 \nQ 19.53125 74.21875 31.78125 74.21875 \nz\n\" id=\"DejaVuSans-48\"/>\n        <path d=\"M 12.40625 8.296875 \nL 28.515625 8.296875 \nL 28.515625 63.921875 \nL 10.984375 60.40625 \nL 10.984375 69.390625 \nL 28.421875 72.90625 \nL 38.28125 72.90625 \nL 38.28125 8.296875 \nL 54.390625 8.296875 \nL 54.390625 0 \nL 12.40625 0 \nz\n\" id=\"DejaVuSans-49\"/>\n        <path d=\"M 31.78125 34.625 \nQ 24.75 34.625 20.71875 30.859375 \nQ 16.703125 27.09375 16.703125 20.515625 \nQ 16.703125 13.921875 20.71875 10.15625 \nQ 24.75 6.390625 31.78125 6.390625 \nQ 38.8125 6.390625 42.859375 10.171875 \nQ 46.921875 13.96875 46.921875 20.515625 \nQ 46.921875 27.09375 42.890625 30.859375 \nQ 38.875 34.625 31.78125 34.625 \nz\nM 21.921875 38.8125 \nQ 15.578125 40.375 12.03125 44.71875 \nQ 8.5 49.078125 8.5 55.328125 \nQ 8.5 64.0625 14.71875 69.140625 \nQ 20.953125 74.21875 31.78125 74.21875 \nQ 42.671875 74.21875 48.875 69.140625 \nQ 55.078125 64.0625 55.078125 55.328125 \nQ 55.078125 49.078125 51.53125 44.71875 \nQ 48 40.375 41.703125 38.8125 \nQ 48.828125 37.15625 52.796875 32.3125 \nQ 56.78125 27.484375 56.78125 20.515625 \nQ 56.78125 9.90625 50.3125 4.234375 \nQ 43.84375 -1.421875 31.78125 -1.421875 \nQ 19.734375 -1.421875 13.25 4.234375 \nQ 6.78125 9.90625 6.78125 20.515625 \nQ 6.78125 27.484375 10.78125 32.3125 \nQ 14.796875 37.15625 21.921875 38.8125 \nz\nM 18.3125 54.390625 \nQ 18.3125 48.734375 21.84375 45.5625 \nQ 25.390625 42.390625 31.78125 42.390625 \nQ 38.140625 42.390625 41.71875 45.5625 \nQ 45.3125 48.734375 45.3125 54.390625 \nQ 45.3125 60.0625 41.71875 63.234375 \nQ 38.140625 66.40625 31.78125 66.40625 \nQ 25.390625 66.40625 21.84375 63.234375 \nQ 18.3125 60.0625 18.3125 54.390625 \nz\n\" id=\"DejaVuSans-56\"/>\n        <path d=\"M 4.890625 31.390625 \nL 31.203125 31.390625 \nL 31.203125 23.390625 \nL 4.890625 23.390625 \nz\n\" id=\"DejaVuSans-45\"/>\n        <path d=\"M 10.796875 72.90625 \nL 49.515625 72.90625 \nL 49.515625 64.59375 \nL 19.828125 64.59375 \nL 19.828125 46.734375 \nQ 21.96875 47.46875 24.109375 47.828125 \nQ 26.265625 48.1875 28.421875 48.1875 \nQ 40.625 48.1875 47.75 41.5 \nQ 54.890625 34.8125 54.890625 23.390625 \nQ 54.890625 11.625 47.5625 5.09375 \nQ 40.234375 -1.421875 26.90625 -1.421875 \nQ 22.3125 -1.421875 17.546875 -0.640625 \nQ 12.796875 0.140625 7.71875 1.703125 \nL 7.71875 11.625 \nQ 12.109375 9.234375 16.796875 8.0625 \nQ 21.484375 6.890625 26.703125 6.890625 \nQ 35.15625 6.890625 40.078125 11.328125 \nQ 45.015625 15.765625 45.015625 23.390625 \nQ 45.015625 31 40.078125 35.4375 \nQ 35.15625 39.890625 26.703125 39.890625 \nQ 22.75 39.890625 18.8125 39.015625 \nQ 14.890625 38.140625 10.796875 36.28125 \nz\n\" id=\"DejaVuSans-53\"/>\n       </defs>\n       <use xlink:href=\"#DejaVuSans-50\"/>\n       <use x=\"63.623047\" xlink:href=\"#DejaVuSans-48\"/>\n       <use x=\"127.246094\" xlink:href=\"#DejaVuSans-49\"/>\n       <use x=\"190.869141\" xlink:href=\"#DejaVuSans-56\"/>\n       <use x=\"254.492188\" xlink:href=\"#DejaVuSans-45\"/>\n       <use x=\"290.576172\" xlink:href=\"#DejaVuSans-48\"/>\n       <use x=\"354.199219\" xlink:href=\"#DejaVuSans-53\"/>\n      </g>\n     </g>\n    </g>\n    <g id=\"xtick_2\">\n     <g id=\"line2d_2\">\n      <g>\n       <use style=\"stroke:#000000;stroke-width:0.8;\" x=\"318.80049\" xlink:href=\"#mb8e357da85\" y=\"279\"/>\n      </g>\n     </g>\n     <g id=\"text_2\">\n      <!-- 2018-09 -->\n      <g transform=\"translate(297.909084 293.598437)scale(0.1 -0.1)\">\n       <defs>\n        <path d=\"M 10.984375 1.515625 \nL 10.984375 10.5 \nQ 14.703125 8.734375 18.5 7.8125 \nQ 22.3125 6.890625 25.984375 6.890625 \nQ 35.75 6.890625 40.890625 13.453125 \nQ 46.046875 20.015625 46.78125 33.40625 \nQ 43.953125 29.203125 39.59375 26.953125 \nQ 35.25 24.703125 29.984375 24.703125 \nQ 19.046875 24.703125 12.671875 31.3125 \nQ 6.296875 37.9375 6.296875 49.421875 \nQ 6.296875 60.640625 12.9375 67.421875 \nQ 19.578125 74.21875 30.609375 74.21875 \nQ 43.265625 74.21875 49.921875 64.515625 \nQ 56.59375 54.828125 56.59375 36.375 \nQ 56.59375 19.140625 48.40625 8.859375 \nQ 40.234375 -1.421875 26.421875 -1.421875 \nQ 22.703125 -1.421875 18.890625 -0.6875 \nQ 15.09375 0.046875 10.984375 1.515625 \nz\nM 30.609375 32.421875 \nQ 37.25 32.421875 41.125 36.953125 \nQ 45.015625 41.5 45.015625 49.421875 \nQ 45.015625 57.28125 41.125 61.84375 \nQ 37.25 66.40625 30.609375 66.40625 \nQ 23.96875 66.40625 20.09375 61.84375 \nQ 16.21875 57.28125 16.21875 49.421875 \nQ 16.21875 41.5 20.09375 36.953125 \nQ 23.96875 32.421875 30.609375 32.421875 \nz\n\" id=\"DejaVuSans-57\"/>\n       </defs>\n       <use xlink:href=\"#DejaVuSans-50\"/>\n       <use x=\"63.623047\" xlink:href=\"#DejaVuSans-48\"/>\n       <use x=\"127.246094\" xlink:href=\"#DejaVuSans-49\"/>\n       <use x=\"190.869141\" xlink:href=\"#DejaVuSans-56\"/>\n       <use x=\"254.492188\" xlink:href=\"#DejaVuSans-45\"/>\n       <use x=\"290.576172\" xlink:href=\"#DejaVuSans-48\"/>\n       <use x=\"354.199219\" xlink:href=\"#DejaVuSans-57\"/>\n      </g>\n     </g>\n    </g>\n    <g id=\"xtick_3\">\n     <g id=\"line2d_3\">\n      <g>\n       <use style=\"stroke:#000000;stroke-width:0.8;\" x=\"467.814239\" xlink:href=\"#mb8e357da85\" y=\"279\"/>\n      </g>\n     </g>\n     <g id=\"text_3\">\n      <!-- 2019-01 -->\n      <g transform=\"translate(446.922833 293.598437)scale(0.1 -0.1)\">\n       <use xlink:href=\"#DejaVuSans-50\"/>\n       <use x=\"63.623047\" xlink:href=\"#DejaVuSans-48\"/>\n       <use x=\"127.246094\" xlink:href=\"#DejaVuSans-49\"/>\n       <use x=\"190.869141\" xlink:href=\"#DejaVuSans-57\"/>\n       <use x=\"254.492188\" xlink:href=\"#DejaVuSans-45\"/>\n       <use x=\"290.576172\" xlink:href=\"#DejaVuSans-48\"/>\n       <use x=\"354.199219\" xlink:href=\"#DejaVuSans-49\"/>\n      </g>\n     </g>\n    </g>\n    <g id=\"xtick_4\">\n     <g id=\"line2d_4\">\n      <g>\n       <use style=\"stroke:#000000;stroke-width:0.8;\" x=\"614.38514\" xlink:href=\"#mb8e357da85\" y=\"279\"/>\n      </g>\n     </g>\n     <g id=\"text_4\">\n      <!-- 2019-05 -->\n      <g transform=\"translate(593.493734 293.598437)scale(0.1 -0.1)\">\n       <use xlink:href=\"#DejaVuSans-50\"/>\n       <use x=\"63.623047\" xlink:href=\"#DejaVuSans-48\"/>\n       <use x=\"127.246094\" xlink:href=\"#DejaVuSans-49\"/>\n       <use x=\"190.869141\" xlink:href=\"#DejaVuSans-57\"/>\n       <use x=\"254.492188\" xlink:href=\"#DejaVuSans-45\"/>\n       <use x=\"290.576172\" xlink:href=\"#DejaVuSans-48\"/>\n       <use x=\"354.199219\" xlink:href=\"#DejaVuSans-53\"/>\n      </g>\n     </g>\n    </g>\n    <g id=\"xtick_5\">\n     <g id=\"line2d_5\">\n      <g>\n       <use style=\"stroke:#000000;stroke-width:0.8;\" x=\"764.620313\" xlink:href=\"#mb8e357da85\" y=\"279\"/>\n      </g>\n     </g>\n     <g id=\"text_5\">\n      <!-- 2019-09 -->\n      <g transform=\"translate(743.728907 293.598437)scale(0.1 -0.1)\">\n       <use xlink:href=\"#DejaVuSans-50\"/>\n       <use x=\"63.623047\" xlink:href=\"#DejaVuSans-48\"/>\n       <use x=\"127.246094\" xlink:href=\"#DejaVuSans-49\"/>\n       <use x=\"190.869141\" xlink:href=\"#DejaVuSans-57\"/>\n       <use x=\"254.492188\" xlink:href=\"#DejaVuSans-45\"/>\n       <use x=\"290.576172\" xlink:href=\"#DejaVuSans-48\"/>\n       <use x=\"354.199219\" xlink:href=\"#DejaVuSans-57\"/>\n      </g>\n     </g>\n    </g>\n    <g id=\"xtick_6\">\n     <g id=\"line2d_6\">\n      <g>\n       <use style=\"stroke:#000000;stroke-width:0.8;\" x=\"913.634063\" xlink:href=\"#mb8e357da85\" y=\"279\"/>\n      </g>\n     </g>\n     <g id=\"text_6\">\n      <!-- 2020-01 -->\n      <g transform=\"translate(892.742656 293.598437)scale(0.1 -0.1)\">\n       <use xlink:href=\"#DejaVuSans-50\"/>\n       <use x=\"63.623047\" xlink:href=\"#DejaVuSans-48\"/>\n       <use x=\"127.246094\" xlink:href=\"#DejaVuSans-50\"/>\n       <use x=\"190.869141\" xlink:href=\"#DejaVuSans-48\"/>\n       <use x=\"254.492188\" xlink:href=\"#DejaVuSans-45\"/>\n       <use x=\"290.576172\" xlink:href=\"#DejaVuSans-48\"/>\n       <use x=\"354.199219\" xlink:href=\"#DejaVuSans-49\"/>\n      </g>\n     </g>\n    </g>\n    <g id=\"xtick_7\">\n     <g id=\"line2d_7\">\n      <g>\n       <use style=\"stroke:#000000;stroke-width:0.8;\" x=\"1061.426388\" xlink:href=\"#mb8e357da85\" y=\"279\"/>\n      </g>\n     </g>\n     <g id=\"text_7\">\n      <!-- 2020-05 -->\n      <g transform=\"translate(1040.534981 293.598437)scale(0.1 -0.1)\">\n       <use xlink:href=\"#DejaVuSans-50\"/>\n       <use x=\"63.623047\" xlink:href=\"#DejaVuSans-48\"/>\n       <use x=\"127.246094\" xlink:href=\"#DejaVuSans-50\"/>\n       <use x=\"190.869141\" xlink:href=\"#DejaVuSans-48\"/>\n       <use x=\"254.492188\" xlink:href=\"#DejaVuSans-45\"/>\n       <use x=\"290.576172\" xlink:href=\"#DejaVuSans-48\"/>\n       <use x=\"354.199219\" xlink:href=\"#DejaVuSans-53\"/>\n      </g>\n     </g>\n    </g>\n    <g id=\"xtick_8\">\n     <g id=\"line2d_8\">\n      <g>\n       <use style=\"stroke:#000000;stroke-width:0.8;\" x=\"1211.661561\" xlink:href=\"#mb8e357da85\" y=\"279\"/>\n      </g>\n     </g>\n     <g id=\"text_8\">\n      <!-- 2020-09 -->\n      <g transform=\"translate(1190.770155 293.598437)scale(0.1 -0.1)\">\n       <use xlink:href=\"#DejaVuSans-50\"/>\n       <use x=\"63.623047\" xlink:href=\"#DejaVuSans-48\"/>\n       <use x=\"127.246094\" xlink:href=\"#DejaVuSans-50\"/>\n       <use x=\"190.869141\" xlink:href=\"#DejaVuSans-48\"/>\n       <use x=\"254.492188\" xlink:href=\"#DejaVuSans-45\"/>\n       <use x=\"290.576172\" xlink:href=\"#DejaVuSans-48\"/>\n       <use x=\"354.199219\" xlink:href=\"#DejaVuSans-57\"/>\n      </g>\n     </g>\n    </g>\n    <g id=\"xtick_9\">\n     <g id=\"line2d_9\">\n      <g>\n       <use style=\"stroke:#000000;stroke-width:0.8;\" x=\"1360.67531\" xlink:href=\"#mb8e357da85\" y=\"279\"/>\n      </g>\n     </g>\n     <g id=\"text_9\">\n      <!-- 2021-01 -->\n      <g transform=\"translate(1339.783904 293.598437)scale(0.1 -0.1)\">\n       <use xlink:href=\"#DejaVuSans-50\"/>\n       <use x=\"63.623047\" xlink:href=\"#DejaVuSans-48\"/>\n       <use x=\"127.246094\" xlink:href=\"#DejaVuSans-50\"/>\n       <use x=\"190.869141\" xlink:href=\"#DejaVuSans-49\"/>\n       <use x=\"254.492188\" xlink:href=\"#DejaVuSans-45\"/>\n       <use x=\"290.576172\" xlink:href=\"#DejaVuSans-48\"/>\n       <use x=\"354.199219\" xlink:href=\"#DejaVuSans-49\"/>\n      </g>\n     </g>\n    </g>\n   </g>\n   <g id=\"matplotlib.axis_2\">\n    <g id=\"ytick_1\">\n     <g id=\"line2d_10\">\n      <defs>\n       <path d=\"M 0 0 \nL -3.5 0 \n\" id=\"maa87daee29\" style=\"stroke:#000000;stroke-width:0.8;\"/>\n      </defs>\n      <g>\n       <use style=\"stroke:#000000;stroke-width:0.8;\" x=\"33.2875\" xlink:href=\"#maa87daee29\" y=\"279\"/>\n      </g>\n     </g>\n     <g id=\"text_10\">\n      <!-- 0 -->\n      <g transform=\"translate(19.925 282.799219)scale(0.1 -0.1)\">\n       <use xlink:href=\"#DejaVuSans-48\"/>\n      </g>\n     </g>\n    </g>\n    <g id=\"ytick_2\">\n     <g id=\"line2d_11\">\n      <g>\n       <use style=\"stroke:#000000;stroke-width:0.8;\" x=\"33.2875\" xlink:href=\"#maa87daee29\" y=\"228.441964\"/>\n      </g>\n     </g>\n     <g id=\"text_11\">\n      <!-- 100 -->\n      <g transform=\"translate(7.2 232.241183)scale(0.1 -0.1)\">\n       <use xlink:href=\"#DejaVuSans-49\"/>\n       <use x=\"63.623047\" xlink:href=\"#DejaVuSans-48\"/>\n       <use x=\"127.246094\" xlink:href=\"#DejaVuSans-48\"/>\n      </g>\n     </g>\n    </g>\n    <g id=\"ytick_3\">\n     <g id=\"line2d_12\">\n      <g>\n       <use style=\"stroke:#000000;stroke-width:0.8;\" x=\"33.2875\" xlink:href=\"#maa87daee29\" y=\"177.883929\"/>\n      </g>\n     </g>\n     <g id=\"text_12\">\n      <!-- 200 -->\n      <g transform=\"translate(7.2 181.683147)scale(0.1 -0.1)\">\n       <use xlink:href=\"#DejaVuSans-50\"/>\n       <use x=\"63.623047\" xlink:href=\"#DejaVuSans-48\"/>\n       <use x=\"127.246094\" xlink:href=\"#DejaVuSans-48\"/>\n      </g>\n     </g>\n    </g>\n    <g id=\"ytick_4\">\n     <g id=\"line2d_13\">\n      <g>\n       <use style=\"stroke:#000000;stroke-width:0.8;\" x=\"33.2875\" xlink:href=\"#maa87daee29\" y=\"127.325893\"/>\n      </g>\n     </g>\n     <g id=\"text_13\">\n      <!-- 300 -->\n      <g transform=\"translate(7.2 131.125112)scale(0.1 -0.1)\">\n       <defs>\n        <path d=\"M 40.578125 39.3125 \nQ 47.65625 37.796875 51.625 33 \nQ 55.609375 28.21875 55.609375 21.1875 \nQ 55.609375 10.40625 48.1875 4.484375 \nQ 40.765625 -1.421875 27.09375 -1.421875 \nQ 22.515625 -1.421875 17.65625 -0.515625 \nQ 12.796875 0.390625 7.625 2.203125 \nL 7.625 11.71875 \nQ 11.71875 9.328125 16.59375 8.109375 \nQ 21.484375 6.890625 26.8125 6.890625 \nQ 36.078125 6.890625 40.9375 10.546875 \nQ 45.796875 14.203125 45.796875 21.1875 \nQ 45.796875 27.640625 41.28125 31.265625 \nQ 36.765625 34.90625 28.71875 34.90625 \nL 20.21875 34.90625 \nL 20.21875 43.015625 \nL 29.109375 43.015625 \nQ 36.375 43.015625 40.234375 45.921875 \nQ 44.09375 48.828125 44.09375 54.296875 \nQ 44.09375 59.90625 40.109375 62.90625 \nQ 36.140625 65.921875 28.71875 65.921875 \nQ 24.65625 65.921875 20.015625 65.03125 \nQ 15.375 64.15625 9.8125 62.3125 \nL 9.8125 71.09375 \nQ 15.4375 72.65625 20.34375 73.4375 \nQ 25.25 74.21875 29.59375 74.21875 \nQ 40.828125 74.21875 47.359375 69.109375 \nQ 53.90625 64.015625 53.90625 55.328125 \nQ 53.90625 49.265625 50.4375 45.09375 \nQ 46.96875 40.921875 40.578125 39.3125 \nz\n\" id=\"DejaVuSans-51\"/>\n       </defs>\n       <use xlink:href=\"#DejaVuSans-51\"/>\n       <use x=\"63.623047\" xlink:href=\"#DejaVuSans-48\"/>\n       <use x=\"127.246094\" xlink:href=\"#DejaVuSans-48\"/>\n      </g>\n     </g>\n    </g>\n    <g id=\"ytick_5\">\n     <g id=\"line2d_14\">\n      <g>\n       <use style=\"stroke:#000000;stroke-width:0.8;\" x=\"33.2875\" xlink:href=\"#maa87daee29\" y=\"76.767857\"/>\n      </g>\n     </g>\n     <g id=\"text_14\">\n      <!-- 400 -->\n      <g transform=\"translate(7.2 80.567076)scale(0.1 -0.1)\">\n       <defs>\n        <path d=\"M 37.796875 64.3125 \nL 12.890625 25.390625 \nL 37.796875 25.390625 \nz\nM 35.203125 72.90625 \nL 47.609375 72.90625 \nL 47.609375 25.390625 \nL 58.015625 25.390625 \nL 58.015625 17.1875 \nL 47.609375 17.1875 \nL 47.609375 0 \nL 37.796875 0 \nL 37.796875 17.1875 \nL 4.890625 17.1875 \nL 4.890625 26.703125 \nz\n\" id=\"DejaVuSans-52\"/>\n       </defs>\n       <use xlink:href=\"#DejaVuSans-52\"/>\n       <use x=\"63.623047\" xlink:href=\"#DejaVuSans-48\"/>\n       <use x=\"127.246094\" xlink:href=\"#DejaVuSans-48\"/>\n      </g>\n     </g>\n    </g>\n    <g id=\"ytick_6\">\n     <g id=\"line2d_15\">\n      <g>\n       <use style=\"stroke:#000000;stroke-width:0.8;\" x=\"33.2875\" xlink:href=\"#maa87daee29\" y=\"26.209821\"/>\n      </g>\n     </g>\n     <g id=\"text_15\">\n      <!-- 500 -->\n      <g transform=\"translate(7.2 30.00904)scale(0.1 -0.1)\">\n       <use xlink:href=\"#DejaVuSans-53\"/>\n       <use x=\"63.623047\" xlink:href=\"#DejaVuSans-48\"/>\n       <use x=\"127.246094\" xlink:href=\"#DejaVuSans-48\"/>\n      </g>\n     </g>\n    </g>\n   </g>\n   <g id=\"patch_13\">\n    <path d=\"M 33.2875 279 \nL 33.2875 7.2 \n\" style=\"fill:none;stroke:#000000;stroke-linecap:square;stroke-linejoin:miter;stroke-width:0.8;\"/>\n   </g>\n   <g id=\"patch_14\">\n    <path d=\"M 1372.4875 279 \nL 1372.4875 7.2 \n\" style=\"fill:none;stroke:#000000;stroke-linecap:square;stroke-linejoin:miter;stroke-width:0.8;\"/>\n   </g>\n   <g id=\"patch_15\">\n    <path d=\"M 33.2875 279 \nL 1372.4875 279 \n\" style=\"fill:none;stroke:#000000;stroke-linecap:square;stroke-linejoin:miter;stroke-width:0.8;\"/>\n   </g>\n   <g id=\"patch_16\">\n    <path d=\"M 33.2875 7.2 \nL 1372.4875 7.2 \n\" style=\"fill:none;stroke:#000000;stroke-linecap:square;stroke-linejoin:miter;stroke-width:0.8;\"/>\n   </g>\n  </g>\n </g>\n <defs>\n  <clipPath id=\"p3b75c72a8c\">\n   <rect height=\"271.8\" width=\"1339.2\" x=\"33.2875\" y=\"7.2\"/>\n  </clipPath>\n </defs>\n</svg>\n",
      "image/png": "[encoded data removed]"
     },
     "metadata": {
      "needs_background": "light"
     }
    }
   ],
   "source": [
    "uls_cloud_na = ulsan_obs_interpolated[ulsan_obs_interpolated['Cloud'].isna()]\n",
    "plt.figure(figsize=(24,5))\n",
    "plt.hist(uls_cloud_na['time'])"
   ]
  },
  {
   "cell_type": "code",
   "execution_count": 18,
   "metadata": {},
   "outputs": [],
   "source": [
    "# obs는 2018-03-01 00:00:00 부터, fcst는 2018-03-02 00:00:00 부터이므로 fcst에 기준\n",
    "dangjin_obs_interpolated = dangjin_obs_interpolated[dangjin_obs_interpolated.time >= '2018-03-02 00:00:00'].reset_index(drop=True)\n",
    "ulsan_obs_interpolated = ulsan_obs_interpolated[ulsan_obs_interpolated.time >= '2018-03-02 00:00:00'].reset_index(drop=True)"
   ]
  },
  {
   "cell_type": "code",
   "execution_count": 19,
   "metadata": {},
   "outputs": [
    {
     "output_type": "execute_result",
     "data": {
      "text/plain": [
       "                     time  Temperature  Humidity  Cloud    Wind_X  \\\n",
       "0     2018-03-02 00:00:00         -2.7      56.0    NaN  3.700000   \n",
       "1     2018-03-02 01:00:00         -2.8      53.0    NaN  3.800000   \n",
       "2     2018-03-02 02:00:00         -3.2      52.0    NaN  2.500000   \n",
       "3     2018-03-02 03:00:00         -3.5      50.0    NaN  2.443201   \n",
       "4     2018-03-02 04:00:00         -4.2      55.0    NaN  0.899903   \n",
       "...                   ...          ...       ...    ...       ...   \n",
       "25597 2021-01-31 19:00:00          6.7      75.0    8.0 -1.409539   \n",
       "25598 2021-01-31 20:00:00          6.2      77.0    8.0 -0.751754   \n",
       "25599 2021-01-31 21:00:00          5.3      82.0    8.0 -0.449951   \n",
       "25600 2021-01-31 22:00:00          5.8      77.0    8.0 -0.939693   \n",
       "25601 2021-01-31 23:00:00          5.3      80.0    7.0 -0.385673   \n",
       "\n",
       "             Wind_Y  \n",
       "0     -8.817457e-14  \n",
       "1     -8.817457e-14  \n",
       "2     -8.817457e-14  \n",
       "3      6.840403e+00  \n",
       "4      3.830222e+01  \n",
       "...             ...  \n",
       "25597 -6.840403e+01  \n",
       "25598 -6.840403e+01  \n",
       "25599 -1.761902e+02  \n",
       "25600 -6.840403e+01  \n",
       "25601 -1.761902e+02  \n",
       "\n",
       "[25602 rows x 6 columns]"
      ],
      "text/html": "<div>\n<style scoped>\n    .dataframe tbody tr th:only-of-type {\n        vertical-align: middle;\n    }\n\n    .dataframe tbody tr th {\n        vertical-align: top;\n    }\n\n    .dataframe thead th {\n        text-align: right;\n    }\n</style>\n<table border=\"1\" class=\"dataframe\">\n  <thead>\n    <tr style=\"text-align: right;\">\n      <th></th>\n      <th>time</th>\n      <th>Temperature</th>\n      <th>Humidity</th>\n      <th>Cloud</th>\n      <th>Wind_X</th>\n      <th>Wind_Y</th>\n    </tr>\n  </thead>\n  <tbody>\n    <tr>\n      <th>0</th>\n      <td>2018-03-02 00:00:00</td>\n      <td>-2.7</td>\n      <td>56.0</td>\n      <td>NaN</td>\n      <td>3.700000</td>\n      <td>-8.817457e-14</td>\n    </tr>\n    <tr>\n      <th>1</th>\n      <td>2018-03-02 01:00:00</td>\n      <td>-2.8</td>\n      <td>53.0</td>\n      <td>NaN</td>\n      <td>3.800000</td>\n      <td>-8.817457e-14</td>\n    </tr>\n    <tr>\n      <th>2</th>\n      <td>2018-03-02 02:00:00</td>\n      <td>-3.2</td>\n      <td>52.0</td>\n      <td>NaN</td>\n      <td>2.500000</td>\n      <td>-8.817457e-14</td>\n    </tr>\n    <tr>\n      <th>3</th>\n      <td>2018-03-02 03:00:00</td>\n      <td>-3.5</td>\n      <td>50.0</td>\n      <td>NaN</td>\n      <td>2.443201</td>\n      <td>6.840403e+00</td>\n    </tr>\n    <tr>\n      <th>4</th>\n      <td>2018-03-02 04:00:00</td>\n      <td>-4.2</td>\n      <td>55.0</td>\n      <td>NaN</td>\n      <td>0.899903</td>\n      <td>3.830222e+01</td>\n    </tr>\n    <tr>\n      <th>...</th>\n      <td>...</td>\n      <td>...</td>\n      <td>...</td>\n      <td>...</td>\n      <td>...</td>\n      <td>...</td>\n    </tr>\n    <tr>\n      <th>25597</th>\n      <td>2021-01-31 19:00:00</td>\n      <td>6.7</td>\n      <td>75.0</td>\n      <td>8.0</td>\n      <td>-1.409539</td>\n      <td>-6.840403e+01</td>\n    </tr>\n    <tr>\n      <th>25598</th>\n      <td>2021-01-31 20:00:00</td>\n      <td>6.2</td>\n      <td>77.0</td>\n      <td>8.0</td>\n      <td>-0.751754</td>\n      <td>-6.840403e+01</td>\n    </tr>\n    <tr>\n      <th>25599</th>\n      <td>2021-01-31 21:00:00</td>\n      <td>5.3</td>\n      <td>82.0</td>\n      <td>8.0</td>\n      <td>-0.449951</td>\n      <td>-1.761902e+02</td>\n    </tr>\n    <tr>\n      <th>25600</th>\n      <td>2021-01-31 22:00:00</td>\n      <td>5.8</td>\n      <td>77.0</td>\n      <td>8.0</td>\n      <td>-0.939693</td>\n      <td>-6.840403e+01</td>\n    </tr>\n    <tr>\n      <th>25601</th>\n      <td>2021-01-31 23:00:00</td>\n      <td>5.3</td>\n      <td>80.0</td>\n      <td>7.0</td>\n      <td>-0.385673</td>\n      <td>-1.761902e+02</td>\n    </tr>\n  </tbody>\n</table>\n<p>25602 rows × 6 columns</p>\n</div>"
     },
     "metadata": {},
     "execution_count": 19
    }
   ],
   "source": [
    "dangjin_obs_interpolated"
   ]
  },
  {
   "cell_type": "code",
   "execution_count": 20,
   "metadata": {},
   "outputs": [],
   "source": [
    "# obs fill based on 'time' from fcst\n",
    "dangjin_obs_filled = dangjin_obs_interpolated.set_index('time').fillna(dangjin_fcst_interpolated.set_index('time')).reset_index()\n",
    "ulsan_obs_filled = ulsan_obs_interpolated.set_index('time').fillna(ulsan_fcst_interpolated.set_index('time')).reset_index()"
   ]
  },
  {
   "cell_type": "code",
   "execution_count": 21,
   "metadata": {},
   "outputs": [],
   "source": [
    "# fcst data (for code)\n",
    "dangjin_fcst_filled = dangjin_fcst_interpolated\n",
    "ulsan_fcst_filled = ulsan_fcst_interpolated"
   ]
  },
  {
   "cell_type": "code",
   "execution_count": 22,
   "metadata": {},
   "outputs": [
    {
     "output_type": "stream",
     "name": "stdout",
     "text": [
      "Temperature    0\nHumidity       0\nCloud          0\nWind_X         0\nWind_Y         0\ntime           0\ndtype: int64\nTemperature    0\nHumidity       0\nCloud          0\nWind_X         0\nWind_Y         0\ntime           0\ndtype: int64\ntime           0\nTemperature    0\nHumidity       0\nCloud          0\nWind_X         0\nWind_Y         0\ndtype: int64\ntime           0\nTemperature    0\nHumidity       0\nCloud          0\nWind_X         0\nWind_Y         0\ndtype: int64\n"
     ]
    }
   ],
   "source": [
    "print(dangjin_fcst_filled.isna().sum())\n",
    "print(ulsan_fcst_filled.isna().sum())\n",
    "print(dangjin_obs_filled.isna().sum())\n",
    "print(ulsan_obs_filled.isna().sum())"
   ]
  },
  {
   "cell_type": "markdown",
   "metadata": {},
   "source": [
    "## Fill missing values - energy\n",
    "\n",
    "enery:  \n",
    "- dangjin_floating과 dangjin_warehouse에서 n/a가 나타남.  \n",
    "- dangjin mean과 dangjin_floating mean, dangjin_warehouse mean과의 비를 통해 채운다."
   ]
  },
  {
   "cell_type": "code",
   "execution_count": 23,
   "metadata": {},
   "outputs": [
    {
     "output_type": "execute_result",
     "data": {
      "text/plain": [
       "                     time  dangjin_floating  dangjin_warehouse  dangjin  ulsan\n",
       "0     2018-03-02 00:00:00               0.0                0.0        0      0\n",
       "1     2018-03-02 01:00:00               0.0                0.0        0      0\n",
       "2     2018-03-02 02:00:00               0.0                0.0        0      0\n",
       "3     2018-03-02 03:00:00               0.0                0.0        0      0\n",
       "4     2018-03-02 04:00:00               0.0                0.0        0      0\n",
       "...                   ...               ...                ...      ...    ...\n",
       "25604 2021-01-31 20:00:00               0.0                0.0        0      0\n",
       "25605 2021-01-31 21:00:00               0.0                0.0        0      0\n",
       "25606 2021-01-31 22:00:00               0.0                0.0        0      0\n",
       "25607 2021-01-31 23:00:00               0.0                0.0        0      0\n",
       "25608 2021-02-01 00:00:00               0.0                0.0        0      0\n",
       "\n",
       "[25609 rows x 5 columns]"
      ],
      "text/html": "<div>\n<style scoped>\n    .dataframe tbody tr th:only-of-type {\n        vertical-align: middle;\n    }\n\n    .dataframe tbody tr th {\n        vertical-align: top;\n    }\n\n    .dataframe thead th {\n        text-align: right;\n    }\n</style>\n<table border=\"1\" class=\"dataframe\">\n  <thead>\n    <tr style=\"text-align: right;\">\n      <th></th>\n      <th>time</th>\n      <th>dangjin_floating</th>\n      <th>dangjin_warehouse</th>\n      <th>dangjin</th>\n      <th>ulsan</th>\n    </tr>\n  </thead>\n  <tbody>\n    <tr>\n      <th>0</th>\n      <td>2018-03-02 00:00:00</td>\n      <td>0.0</td>\n      <td>0.0</td>\n      <td>0</td>\n      <td>0</td>\n    </tr>\n    <tr>\n      <th>1</th>\n      <td>2018-03-02 01:00:00</td>\n      <td>0.0</td>\n      <td>0.0</td>\n      <td>0</td>\n      <td>0</td>\n    </tr>\n    <tr>\n      <th>2</th>\n      <td>2018-03-02 02:00:00</td>\n      <td>0.0</td>\n      <td>0.0</td>\n      <td>0</td>\n      <td>0</td>\n    </tr>\n    <tr>\n      <th>3</th>\n      <td>2018-03-02 03:00:00</td>\n      <td>0.0</td>\n      <td>0.0</td>\n      <td>0</td>\n      <td>0</td>\n    </tr>\n    <tr>\n      <th>4</th>\n      <td>2018-03-02 04:00:00</td>\n      <td>0.0</td>\n      <td>0.0</td>\n      <td>0</td>\n      <td>0</td>\n    </tr>\n    <tr>\n      <th>...</th>\n      <td>...</td>\n      <td>...</td>\n      <td>...</td>\n      <td>...</td>\n      <td>...</td>\n    </tr>\n    <tr>\n      <th>25604</th>\n      <td>2021-01-31 20:00:00</td>\n      <td>0.0</td>\n      <td>0.0</td>\n      <td>0</td>\n      <td>0</td>\n    </tr>\n    <tr>\n      <th>25605</th>\n      <td>2021-01-31 21:00:00</td>\n      <td>0.0</td>\n      <td>0.0</td>\n      <td>0</td>\n      <td>0</td>\n    </tr>\n    <tr>\n      <th>25606</th>\n      <td>2021-01-31 22:00:00</td>\n      <td>0.0</td>\n      <td>0.0</td>\n      <td>0</td>\n      <td>0</td>\n    </tr>\n    <tr>\n      <th>25607</th>\n      <td>2021-01-31 23:00:00</td>\n      <td>0.0</td>\n      <td>0.0</td>\n      <td>0</td>\n      <td>0</td>\n    </tr>\n    <tr>\n      <th>25608</th>\n      <td>2021-02-01 00:00:00</td>\n      <td>0.0</td>\n      <td>0.0</td>\n      <td>0</td>\n      <td>0</td>\n    </tr>\n  </tbody>\n</table>\n<p>25609 rows × 5 columns</p>\n</div>"
     },
     "metadata": {},
     "execution_count": 23
    }
   ],
   "source": [
    "energy = energy[energy.time >= '2018-03-02 00:00:00'].reset_index(drop=True)\n",
    "energy"
   ]
  },
  {
   "cell_type": "markdown",
   "metadata": {},
   "source": [
    "---"
   ]
  },
  {
   "cell_type": "code",
   "execution_count": 24,
   "metadata": {},
   "outputs": [
    {
     "output_type": "execute_result",
     "data": {
      "text/plain": [
       "time                  0\n",
       "dangjin_floating     24\n",
       "dangjin_warehouse    48\n",
       "dangjin               0\n",
       "ulsan                 0\n",
       "dtype: int64"
      ]
     },
     "metadata": {},
     "execution_count": 24
    }
   ],
   "source": [
    "energy.isna().sum()"
   ]
  },
  {
   "cell_type": "code",
   "execution_count": 25,
   "metadata": {},
   "outputs": [
    {
     "output_type": "execute_result",
     "data": {
      "text/plain": [
       "(0.6621590413217061, 0.8738813084300028)"
      ]
     },
     "metadata": {},
     "execution_count": 25
    }
   ],
   "source": [
    "# convert dangjin to dangjin_warehouse or dangjin_floating via 비율 of mean\n",
    "energy_mean_series = energy.mean(axis=0)\n",
    "dj_to_djwh = energy_mean_series['dangjin_warehouse'] / energy_mean_series['dangjin'] \n",
    "dj_to_djflt = energy_mean_series['dangjin_floating'] / energy_mean_series['dangjin']\n",
    "\n",
    "dj_to_djwh, dj_to_djflt"
   ]
  },
  {
   "cell_type": "code",
   "execution_count": 26,
   "metadata": {},
   "outputs": [],
   "source": [
    "# slice where data is na\n",
    "na_dangjin_warehouse = energy.loc[energy['dangjin_warehouse'].isna()] # df where dangjin_warehouse = na\n",
    "na_dangjin_warehouse.loc[:,'dangjin_warehouse'] = na_dangjin_warehouse['dangjin'] * dj_to_djwh\n",
    "\n",
    "na_dangjin_floating = energy.loc[energy['dangjin_floating'].isna()] # df where dangjin_floating = na\n",
    "na_dangjin_floating.loc[:,'dangjin_floating'] = na_dangjin_floating['dangjin'] * dj_to_djflt"
   ]
  },
  {
   "cell_type": "code",
   "execution_count": 27,
   "metadata": {},
   "outputs": [
    {
     "output_type": "execute_result",
     "data": {
      "text/plain": [
       "time                 0\n",
       "dangjin_floating     0\n",
       "dangjin_warehouse    0\n",
       "dangjin              0\n",
       "ulsan                0\n",
       "dtype: int64"
      ]
     },
     "metadata": {},
     "execution_count": 27
    }
   ],
   "source": [
    "# create filled df\n",
    "energy_filled = energy.copy()\n",
    "\n",
    "energy_filled[energy['dangjin_warehouse'].isna()] = na_dangjin_warehouse\n",
    "energy_filled[energy['dangjin_floating'].isna()] = na_dangjin_floating\n",
    "\n",
    "energy_filled.isna().sum()"
   ]
  },
  {
   "cell_type": "markdown",
   "metadata": {},
   "source": [
    "## Drop potential nas (where 24 target values in one day are all zero) - energy"
   ]
  },
  {
   "cell_type": "code",
   "execution_count": 28,
   "metadata": {},
   "outputs": [],
   "source": [
    "# There are days where all 24 target values are all zero.\n",
    "# This should be interpreted as an error.\n",
    "# Therefore, change all the 0 of the above situation to NA\n",
    "\n",
    "target_list = ['dangjin','dangjin_floating', 'dangjin_warehouse', 'ulsan']\n",
    "energy_is_zero_dict = {target:[] for target in target_list} # store indices where the whole day is zero\n",
    "energy_is_zero = list()\n",
    "\n",
    "for i in range(energy_filled.shape[0] // 24):\n",
    "    idx = i*24    \n",
    "    energy_sample = energy_filled.iloc[idx:idx+24]\n",
    "    energy_sample_sum = energy_sample.sum(axis=0)\n",
    "\n",
    "    for target in target_list:\n",
    "        if energy_sample_sum[target] == 0:\n",
    "            # save index(day)\n",
    "            energy_is_zero_dict[target].append(i)\n",
    "            energy_is_zero.append(i)"
   ]
  },
  {
   "cell_type": "code",
   "execution_count": 29,
   "metadata": {},
   "outputs": [],
   "source": [
    "# drop those rows\n",
    "energy_filled_dropped = energy_filled.copy()\n",
    "\n",
    "for i in set(energy_is_zero):\n",
    "    idx = i*24\n",
    "    to_drop = [idx + n for n in range(24)]\n",
    "    energy_filled_dropped.drop(index=to_drop, inplace=True)"
   ]
  },
  {
   "cell_type": "markdown",
   "metadata": {},
   "source": [
    "## Merge fcst, obs, and energy\n",
    "- inner merge on 'time'"
   ]
  },
  {
   "cell_type": "code",
   "execution_count": 30,
   "metadata": {},
   "outputs": [
    {
     "output_type": "stream",
     "name": "stdout",
     "text": [
      "(26353, 6)\n(25602, 6)\n(26353, 6)\n(25608, 6)\n(24673, 5)\n"
     ]
    }
   ],
   "source": [
    "print(dangjin_fcst_filled.shape)\n",
    "print(dangjin_obs_filled.shape)\n",
    "print(ulsan_fcst_filled.shape)\n",
    "print(ulsan_obs_filled.shape)\n",
    "print(energy_filled_dropped.shape)"
   ]
  },
  {
   "cell_type": "code",
   "execution_count": 31,
   "metadata": {},
   "outputs": [
    {
     "output_type": "execute_result",
     "data": {
      "text/plain": [
       "        Temperature      Humidity         Cloud        Wind_X        Wind_Y\n",
       "count  25602.000000  25602.000000  25602.000000  2.560200e+04  25602.000000\n",
       "mean      12.964261     72.945987      5.237653  5.152671e-01    -52.110583\n",
       "std       10.160823     20.382679      3.582834  1.830077e+00    106.241361\n",
       "min      -19.300000     10.000000      0.000000 -1.170000e+01   -272.510860\n",
       "25%        4.700000     57.150000      2.000000 -4.041334e-16   -116.286849\n",
       "50%       13.600000     76.000000      6.000000  4.000000e-01      0.000000\n",
       "75%       21.500000     92.000000      8.000000  1.436485e+00      6.840403\n",
       "max       36.800000     99.000000     10.000000  9.584865e+00    103.366188"
      ],
      "text/html": "<div>\n<style scoped>\n    .dataframe tbody tr th:only-of-type {\n        vertical-align: middle;\n    }\n\n    .dataframe tbody tr th {\n        vertical-align: top;\n    }\n\n    .dataframe thead th {\n        text-align: right;\n    }\n</style>\n<table border=\"1\" class=\"dataframe\">\n  <thead>\n    <tr style=\"text-align: right;\">\n      <th></th>\n      <th>Temperature</th>\n      <th>Humidity</th>\n      <th>Cloud</th>\n      <th>Wind_X</th>\n      <th>Wind_Y</th>\n    </tr>\n  </thead>\n  <tbody>\n    <tr>\n      <th>count</th>\n      <td>25602.000000</td>\n      <td>25602.000000</td>\n      <td>25602.000000</td>\n      <td>2.560200e+04</td>\n      <td>25602.000000</td>\n    </tr>\n    <tr>\n      <th>mean</th>\n      <td>12.964261</td>\n      <td>72.945987</td>\n      <td>5.237653</td>\n      <td>5.152671e-01</td>\n      <td>-52.110583</td>\n    </tr>\n    <tr>\n      <th>std</th>\n      <td>10.160823</td>\n      <td>20.382679</td>\n      <td>3.582834</td>\n      <td>1.830077e+00</td>\n      <td>106.241361</td>\n    </tr>\n    <tr>\n      <th>min</th>\n      <td>-19.300000</td>\n      <td>10.000000</td>\n      <td>0.000000</td>\n      <td>-1.170000e+01</td>\n      <td>-272.510860</td>\n    </tr>\n    <tr>\n      <th>25%</th>\n      <td>4.700000</td>\n      <td>57.150000</td>\n      <td>2.000000</td>\n      <td>-4.041334e-16</td>\n      <td>-116.286849</td>\n    </tr>\n    <tr>\n      <th>50%</th>\n      <td>13.600000</td>\n      <td>76.000000</td>\n      <td>6.000000</td>\n      <td>4.000000e-01</td>\n      <td>0.000000</td>\n    </tr>\n    <tr>\n      <th>75%</th>\n      <td>21.500000</td>\n      <td>92.000000</td>\n      <td>8.000000</td>\n      <td>1.436485e+00</td>\n      <td>6.840403</td>\n    </tr>\n    <tr>\n      <th>max</th>\n      <td>36.800000</td>\n      <td>99.000000</td>\n      <td>10.000000</td>\n      <td>9.584865e+00</td>\n      <td>103.366188</td>\n    </tr>\n  </tbody>\n</table>\n</div>"
     },
     "metadata": {},
     "execution_count": 31
    }
   ],
   "source": [
    "dangjin_obs_filled.describe()"
   ]
  },
  {
   "cell_type": "code",
   "execution_count": 32,
   "metadata": {},
   "outputs": [
    {
     "output_type": "display_data",
     "data": {
      "text/plain": "       Temperature_fcst  Humidity_fcst  Cloud_fcst  Wind_X_fcst  Wind_Y_fcst  \\\n0             -2.000000      50.000000    2.763537     5.298564  -136.663512   \n1             -2.333333      51.666667    2.763537     5.088343  -131.604586   \n2             -2.666667      53.333333    2.763537     4.878123  -126.545661   \n3             -3.000000      55.000000    2.763537     4.667902  -121.486735   \n4             -3.333333      56.666667    2.763537     4.468414   -95.331116   \n...                 ...            ...         ...          ...          ...   \n24661          6.000000      76.666667    7.961345    -3.521363    -3.549990   \n24662          6.000000      78.333333    7.961345    -3.668069    15.689587   \n24663          6.000000      80.000000    7.961345    -3.814776    34.929164   \n24664          6.333333      80.000000    7.961345    -4.538312    27.378489   \n24665          6.666667      80.000000    7.961345    -5.261848    19.827814   \n\n                     time  Temperature_obs  Humidity_obs  Cloud_obs  \\\n0     2018-03-02 00:00:00             -2.7          56.0   2.763537   \n1     2018-03-02 01:00:00             -2.8          53.0   2.763537   \n2     2018-03-02 02:00:00             -3.2          52.0   2.763537   \n3     2018-03-02 03:00:00             -3.5          50.0   2.763537   \n4     2018-03-02 04:00:00             -4.2          55.0   2.763537   \n...                   ...              ...           ...        ...   \n24661 2021-01-31 19:00:00              6.7          75.0   8.000000   \n24662 2021-01-31 20:00:00              6.2          77.0   8.000000   \n24663 2021-01-31 21:00:00              5.3          82.0   8.000000   \n24664 2021-01-31 22:00:00              5.8          77.0   8.000000   \n24665 2021-01-31 23:00:00              5.3          80.0   7.000000   \n\n       Wind_X_obs    Wind_Y_obs  dangjin_floating  dangjin_warehouse  dangjin  \n0        3.700000 -8.817457e-14               0.0                0.0        0  \n1        3.800000 -8.817457e-14               0.0                0.0        0  \n2        2.500000 -8.817457e-14               0.0                0.0        0  \n3        2.443201  6.840403e+00               0.0                0.0        0  \n4        0.899903  3.830222e+01               0.0                0.0        0  \n...           ...           ...               ...                ...      ...  \n24661   -1.409539 -6.840403e+01               0.0                0.0        0  \n24662   -0.751754 -6.840403e+01               0.0                0.0        0  \n24663   -0.449951 -1.761902e+02               0.0                0.0        0  \n24664   -0.939693 -6.840403e+01               0.0                0.0        0  \n24665   -0.385673 -1.761902e+02               0.0                0.0        0  \n\n[24666 rows x 14 columns]",
      "text/html": "<div>\n<style scoped>\n    .dataframe tbody tr th:only-of-type {\n        vertical-align: middle;\n    }\n\n    .dataframe tbody tr th {\n        vertical-align: top;\n    }\n\n    .dataframe thead th {\n        text-align: right;\n    }\n</style>\n<table border=\"1\" class=\"dataframe\">\n  <thead>\n    <tr style=\"text-align: right;\">\n      <th></th>\n      <th>Temperature_fcst</th>\n      <th>Humidity_fcst</th>\n      <th>Cloud_fcst</th>\n      <th>Wind_X_fcst</th>\n      <th>Wind_Y_fcst</th>\n      <th>time</th>\n      <th>Temperature_obs</th>\n      <th>Humidity_obs</th>\n      <th>Cloud_obs</th>\n      <th>Wind_X_obs</th>\n      <th>Wind_Y_obs</th>\n      <th>dangjin_floating</th>\n      <th>dangjin_warehouse</th>\n      <th>dangjin</th>\n    </tr>\n  </thead>\n  <tbody>\n    <tr>\n      <th>0</th>\n      <td>-2.000000</td>\n      <td>50.000000</td>\n      <td>2.763537</td>\n      <td>5.298564</td>\n      <td>-136.663512</td>\n      <td>2018-03-02 00:00:00</td>\n      <td>-2.7</td>\n      <td>56.0</td>\n      <td>2.763537</td>\n      <td>3.700000</td>\n      <td>-8.817457e-14</td>\n      <td>0.0</td>\n      <td>0.0</td>\n      <td>0</td>\n    </tr>\n    <tr>\n      <th>1</th>\n      <td>-2.333333</td>\n      <td>51.666667</td>\n      <td>2.763537</td>\n      <td>5.088343</td>\n      <td>-131.604586</td>\n      <td>2018-03-02 01:00:00</td>\n      <td>-2.8</td>\n      <td>53.0</td>\n      <td>2.763537</td>\n      <td>3.800000</td>\n      <td>-8.817457e-14</td>\n      <td>0.0</td>\n      <td>0.0</td>\n      <td>0</td>\n    </tr>\n    <tr>\n      <th>2</th>\n      <td>-2.666667</td>\n      <td>53.333333</td>\n      <td>2.763537</td>\n      <td>4.878123</td>\n      <td>-126.545661</td>\n      <td>2018-03-02 02:00:00</td>\n      <td>-3.2</td>\n      <td>52.0</td>\n      <td>2.763537</td>\n      <td>2.500000</td>\n      <td>-8.817457e-14</td>\n      <td>0.0</td>\n      <td>0.0</td>\n      <td>0</td>\n    </tr>\n    <tr>\n      <th>3</th>\n      <td>-3.000000</td>\n      <td>55.000000</td>\n      <td>2.763537</td>\n      <td>4.667902</td>\n      <td>-121.486735</td>\n      <td>2018-03-02 03:00:00</td>\n      <td>-3.5</td>\n      <td>50.0</td>\n      <td>2.763537</td>\n      <td>2.443201</td>\n      <td>6.840403e+00</td>\n      <td>0.0</td>\n      <td>0.0</td>\n      <td>0</td>\n    </tr>\n    <tr>\n      <th>4</th>\n      <td>-3.333333</td>\n      <td>56.666667</td>\n      <td>2.763537</td>\n      <td>4.468414</td>\n      <td>-95.331116</td>\n      <td>2018-03-02 04:00:00</td>\n      <td>-4.2</td>\n      <td>55.0</td>\n      <td>2.763537</td>\n      <td>0.899903</td>\n      <td>3.830222e+01</td>\n      <td>0.0</td>\n      <td>0.0</td>\n      <td>0</td>\n    </tr>\n    <tr>\n      <th>...</th>\n      <td>...</td>\n      <td>...</td>\n      <td>...</td>\n      <td>...</td>\n      <td>...</td>\n      <td>...</td>\n      <td>...</td>\n      <td>...</td>\n      <td>...</td>\n      <td>...</td>\n      <td>...</td>\n      <td>...</td>\n      <td>...</td>\n      <td>...</td>\n    </tr>\n    <tr>\n      <th>24661</th>\n      <td>6.000000</td>\n      <td>76.666667</td>\n      <td>7.961345</td>\n      <td>-3.521363</td>\n      <td>-3.549990</td>\n      <td>2021-01-31 19:00:00</td>\n      <td>6.7</td>\n      <td>75.0</td>\n      <td>8.000000</td>\n      <td>-1.409539</td>\n      <td>-6.840403e+01</td>\n      <td>0.0</td>\n      <td>0.0</td>\n      <td>0</td>\n    </tr>\n    <tr>\n      <th>24662</th>\n      <td>6.000000</td>\n      <td>78.333333</td>\n      <td>7.961345</td>\n      <td>-3.668069</td>\n      <td>15.689587</td>\n      <td>2021-01-31 20:00:00</td>\n      <td>6.2</td>\n      <td>77.0</td>\n      <td>8.000000</td>\n      <td>-0.751754</td>\n      <td>-6.840403e+01</td>\n      <td>0.0</td>\n      <td>0.0</td>\n      <td>0</td>\n    </tr>\n    <tr>\n      <th>24663</th>\n      <td>6.000000</td>\n      <td>80.000000</td>\n      <td>7.961345</td>\n      <td>-3.814776</td>\n      <td>34.929164</td>\n      <td>2021-01-31 21:00:00</td>\n      <td>5.3</td>\n      <td>82.0</td>\n      <td>8.000000</td>\n      <td>-0.449951</td>\n      <td>-1.761902e+02</td>\n      <td>0.0</td>\n      <td>0.0</td>\n      <td>0</td>\n    </tr>\n    <tr>\n      <th>24664</th>\n      <td>6.333333</td>\n      <td>80.000000</td>\n      <td>7.961345</td>\n      <td>-4.538312</td>\n      <td>27.378489</td>\n      <td>2021-01-31 22:00:00</td>\n      <td>5.8</td>\n      <td>77.0</td>\n      <td>8.000000</td>\n      <td>-0.939693</td>\n      <td>-6.840403e+01</td>\n      <td>0.0</td>\n      <td>0.0</td>\n      <td>0</td>\n    </tr>\n    <tr>\n      <th>24665</th>\n      <td>6.666667</td>\n      <td>80.000000</td>\n      <td>7.961345</td>\n      <td>-5.261848</td>\n      <td>19.827814</td>\n      <td>2021-01-31 23:00:00</td>\n      <td>5.3</td>\n      <td>80.0</td>\n      <td>7.000000</td>\n      <td>-0.385673</td>\n      <td>-1.761902e+02</td>\n      <td>0.0</td>\n      <td>0.0</td>\n      <td>0</td>\n    </tr>\n  </tbody>\n</table>\n<p>24666 rows × 14 columns</p>\n</div>"
     },
     "metadata": {}
    },
    {
     "output_type": "display_data",
     "data": {
      "text/plain": "       Temperature_fcst  Humidity_fcst  Cloud_fcst  Wind_X_fcst  Wind_Y_fcst  \\\n0              0.000000      40.000000    3.591006     1.010290  -202.011846   \n1             -0.333333      41.666667    3.591006     0.964412  -221.844994   \n2             -0.666667      43.333333    3.591006     0.918535  -241.678143   \n3             -1.000000      45.000000    3.591006     0.872657  -261.511292   \n4             -1.000000      45.000000    2.967691     0.917287  -258.350002   \n...                 ...            ...         ...          ...          ...   \n24667          8.666667      60.000000    8.638197    -2.629993   -75.790243   \n24668          8.333333      65.000000    8.638197    -2.787240   -90.395122   \n24669          8.000000      70.000000    8.638197    -2.944486  -105.000000   \n24670          9.000000      68.333333    8.638197    -3.476275   -86.823238   \n24671         10.000000      66.666667    8.638197    -4.008063   -68.646476   \n\n                     time  Temperature_obs  Humidity_obs  Cloud_obs  \\\n0     2018-03-02 00:00:00              1.3          37.0   7.000000   \n1     2018-03-02 01:00:00              0.5          42.0   3.591006   \n2     2018-03-02 02:00:00             -0.4          46.0   3.591006   \n3     2018-03-02 03:00:00             -0.9          48.0   9.000000   \n4     2018-03-02 04:00:00             -1.5          51.0   8.000000   \n...                   ...              ...           ...        ...   \n24667 2021-01-31 19:00:00              8.8          50.0   5.000000   \n24668 2021-01-31 20:00:00              8.7          49.0   1.000000   \n24669 2021-01-31 21:00:00              8.4          51.0   7.000000   \n24670 2021-01-31 22:00:00              9.4          51.0   8.000000   \n24671 2021-01-31 23:00:00              9.3          56.0   9.000000   \n\n       Wind_X_obs    Wind_Y_obs  ulsan  \n0        3.194955 -1.162868e+02      0  \n1        2.000000 -8.817457e-14      0  \n2        2.300000 -8.817457e-14      0  \n3        1.879385  6.840403e+00      0  \n4        2.161293 -1.162868e+02      0  \n...           ...           ...    ...  \n24667   -2.349232 -6.840403e+01      0  \n24668   -3.664801 -6.840403e+01      0  \n24669   -1.542690 -1.761902e+02      0  \n24670   -2.121199 -1.761902e+02      0  \n24671   -2.913047 -6.840403e+01      0  \n\n[24672 rows x 12 columns]",
      "text/html": "<div>\n<style scoped>\n    .dataframe tbody tr th:only-of-type {\n        vertical-align: middle;\n    }\n\n    .dataframe tbody tr th {\n        vertical-align: top;\n    }\n\n    .dataframe thead th {\n        text-align: right;\n    }\n</style>\n<table border=\"1\" class=\"dataframe\">\n  <thead>\n    <tr style=\"text-align: right;\">\n      <th></th>\n      <th>Temperature_fcst</th>\n      <th>Humidity_fcst</th>\n      <th>Cloud_fcst</th>\n      <th>Wind_X_fcst</th>\n      <th>Wind_Y_fcst</th>\n      <th>time</th>\n      <th>Temperature_obs</th>\n      <th>Humidity_obs</th>\n      <th>Cloud_obs</th>\n      <th>Wind_X_obs</th>\n      <th>Wind_Y_obs</th>\n      <th>ulsan</th>\n    </tr>\n  </thead>\n  <tbody>\n    <tr>\n      <th>0</th>\n      <td>0.000000</td>\n      <td>40.000000</td>\n      <td>3.591006</td>\n      <td>1.010290</td>\n      <td>-202.011846</td>\n      <td>2018-03-02 00:00:00</td>\n      <td>1.3</td>\n      <td>37.0</td>\n      <td>7.000000</td>\n      <td>3.194955</td>\n      <td>-1.162868e+02</td>\n      <td>0</td>\n    </tr>\n    <tr>\n      <th>1</th>\n      <td>-0.333333</td>\n      <td>41.666667</td>\n      <td>3.591006</td>\n      <td>0.964412</td>\n      <td>-221.844994</td>\n      <td>2018-03-02 01:00:00</td>\n      <td>0.5</td>\n      <td>42.0</td>\n      <td>3.591006</td>\n      <td>2.000000</td>\n      <td>-8.817457e-14</td>\n      <td>0</td>\n    </tr>\n    <tr>\n      <th>2</th>\n      <td>-0.666667</td>\n      <td>43.333333</td>\n      <td>3.591006</td>\n      <td>0.918535</td>\n      <td>-241.678143</td>\n      <td>2018-03-02 02:00:00</td>\n      <td>-0.4</td>\n      <td>46.0</td>\n      <td>3.591006</td>\n      <td>2.300000</td>\n      <td>-8.817457e-14</td>\n      <td>0</td>\n    </tr>\n    <tr>\n      <th>3</th>\n      <td>-1.000000</td>\n      <td>45.000000</td>\n      <td>3.591006</td>\n      <td>0.872657</td>\n      <td>-261.511292</td>\n      <td>2018-03-02 03:00:00</td>\n      <td>-0.9</td>\n      <td>48.0</td>\n      <td>9.000000</td>\n      <td>1.879385</td>\n      <td>6.840403e+00</td>\n      <td>0</td>\n    </tr>\n    <tr>\n      <th>4</th>\n      <td>-1.000000</td>\n      <td>45.000000</td>\n      <td>2.967691</td>\n      <td>0.917287</td>\n      <td>-258.350002</td>\n      <td>2018-03-02 04:00:00</td>\n      <td>-1.5</td>\n      <td>51.0</td>\n      <td>8.000000</td>\n      <td>2.161293</td>\n      <td>-1.162868e+02</td>\n      <td>0</td>\n    </tr>\n    <tr>\n      <th>...</th>\n      <td>...</td>\n      <td>...</td>\n      <td>...</td>\n      <td>...</td>\n      <td>...</td>\n      <td>...</td>\n      <td>...</td>\n      <td>...</td>\n      <td>...</td>\n      <td>...</td>\n      <td>...</td>\n      <td>...</td>\n    </tr>\n    <tr>\n      <th>24667</th>\n      <td>8.666667</td>\n      <td>60.000000</td>\n      <td>8.638197</td>\n      <td>-2.629993</td>\n      <td>-75.790243</td>\n      <td>2021-01-31 19:00:00</td>\n      <td>8.8</td>\n      <td>50.0</td>\n      <td>5.000000</td>\n      <td>-2.349232</td>\n      <td>-6.840403e+01</td>\n      <td>0</td>\n    </tr>\n    <tr>\n      <th>24668</th>\n      <td>8.333333</td>\n      <td>65.000000</td>\n      <td>8.638197</td>\n      <td>-2.787240</td>\n      <td>-90.395122</td>\n      <td>2021-01-31 20:00:00</td>\n      <td>8.7</td>\n      <td>49.0</td>\n      <td>1.000000</td>\n      <td>-3.664801</td>\n      <td>-6.840403e+01</td>\n      <td>0</td>\n    </tr>\n    <tr>\n      <th>24669</th>\n      <td>8.000000</td>\n      <td>70.000000</td>\n      <td>8.638197</td>\n      <td>-2.944486</td>\n      <td>-105.000000</td>\n      <td>2021-01-31 21:00:00</td>\n      <td>8.4</td>\n      <td>51.0</td>\n      <td>7.000000</td>\n      <td>-1.542690</td>\n      <td>-1.761902e+02</td>\n      <td>0</td>\n    </tr>\n    <tr>\n      <th>24670</th>\n      <td>9.000000</td>\n      <td>68.333333</td>\n      <td>8.638197</td>\n      <td>-3.476275</td>\n      <td>-86.823238</td>\n      <td>2021-01-31 22:00:00</td>\n      <td>9.4</td>\n      <td>51.0</td>\n      <td>8.000000</td>\n      <td>-2.121199</td>\n      <td>-1.761902e+02</td>\n      <td>0</td>\n    </tr>\n    <tr>\n      <th>24671</th>\n      <td>10.000000</td>\n      <td>66.666667</td>\n      <td>8.638197</td>\n      <td>-4.008063</td>\n      <td>-68.646476</td>\n      <td>2021-01-31 23:00:00</td>\n      <td>9.3</td>\n      <td>56.0</td>\n      <td>9.000000</td>\n      <td>-2.913047</td>\n      <td>-6.840403e+01</td>\n      <td>0</td>\n    </tr>\n  </tbody>\n</table>\n<p>24672 rows × 12 columns</p>\n</div>"
     },
     "metadata": {}
    }
   ],
   "source": [
    "dangjin_merged_ = pd.merge(dangjin_fcst_filled, dangjin_obs_filled, on='time', suffixes=('_fcst','_obs'))\n",
    "dangjin_merged = pd.merge(dangjin_merged_, energy_filled_dropped.loc[:,['time','dangjin_floating','dangjin_warehouse','dangjin']], on='time')\n",
    "\n",
    "ulsan_merged_ = pd.merge(ulsan_fcst_filled, ulsan_obs_filled, on='time', suffixes=('_fcst','_obs'))\n",
    "ulsan_merged = pd.merge(ulsan_merged_, energy_filled_dropped.loc[:,['time','ulsan']], on='time')\n",
    "\n",
    "display(dangjin_merged)\n",
    "display(ulsan_merged)"
   ]
  },
  {
   "cell_type": "markdown",
   "metadata": {},
   "source": [
    "## Add seasonality (day and year)"
   ]
  },
  {
   "cell_type": "code",
   "execution_count": 33,
   "metadata": {},
   "outputs": [
    {
     "output_type": "stream",
     "name": "stdout",
     "text": [
      "2018-03-02 00:00:00\n61\n"
     ]
    }
   ],
   "source": [
    "# function for day_of_year\n",
    "def day_of_year(datetime): #pd.datetime\n",
    "    return pd.Period(datetime, freq='D').dayofyear\n",
    "\n",
    "print(dangjin_fcst_filled.iloc[0]['time'])\n",
    "print(day_of_year(dangjin_fcst_filled.iloc[0]['time']))"
   ]
  },
  {
   "cell_type": "code",
   "execution_count": 34,
   "metadata": {},
   "outputs": [],
   "source": [
    "# function\n",
    "def add_seasonality(df):\n",
    "    new_df = df.copy()\n",
    "    \n",
    "    new_df['Day_cos'] = new_df['time'].apply(lambda x: np.cos(x.hour * (2 * np.pi) / 24))\n",
    "    new_df['Day_sin'] = new_df['time'].apply(lambda x: np.sin(x.hour * (2 * np.pi) / 24))\n",
    "\n",
    "    new_df['Year_cos'] = new_df['time'].apply(lambda x: np.cos(day_of_year(x) * (2 * np.pi) / 365))\n",
    "    new_df['Year_sin'] = new_df['time'].apply(lambda x: np.sin(day_of_year(x) * (2 * np.pi) / 365))\n",
    "\n",
    "    return new_df"
   ]
  },
  {
   "cell_type": "code",
   "execution_count": 35,
   "metadata": {},
   "outputs": [],
   "source": [
    "# apply\n",
    "dangjin_merged_with_season = add_seasonality(dangjin_merged)\n",
    "ulsan_merged_with_season = add_seasonality(ulsan_merged)\n",
    "\n",
    "dangjin_fcst_with_season = add_seasonality(dangjin_fcst_filled)\n",
    "ulsan_fcst_with_season = add_seasonality(ulsan_fcst_filled)\n",
    "dangjin_obs_with_season = add_seasonality(dangjin_obs_filled)\n",
    "ulsan_obs_with_season = add_seasonality(ulsan_obs_filled)"
   ]
  },
  {
   "cell_type": "code",
   "execution_count": 36,
   "metadata": {},
   "outputs": [
    {
     "output_type": "stream",
     "name": "stdout",
     "text": [
      "time        2018-03-02 04:00:00\nDay_cos                     0.5\nDay_sin                0.866025\nYear_cos               0.497513\nYear_sin               0.867456\nName: 4, dtype: object\ntime       2018-03-03 04:00:00\nDay_cos                    0.5\nDay_sin               0.866025\nName: 28, dtype: object\ntime        2019-03-02 04:00:00\nYear_cos               0.497513\nYear_sin               0.867456\nName: 8764, dtype: object\n"
     ]
    }
   ],
   "source": [
    "# check\n",
    "print(dangjin_fcst_with_season.loc[4,['time','Day_cos','Day_sin','Year_cos','Year_sin']])\n",
    "print(dangjin_fcst_with_season.loc[4 + 24,['time','Day_cos','Day_sin']])\n",
    "print(dangjin_fcst_with_season.loc[4 + 24*365,['time','Year_cos','Year_sin']])"
   ]
  },
  {
   "cell_type": "markdown",
   "metadata": {},
   "source": [
    "## Pickle dfs"
   ]
  },
  {
   "cell_type": "code",
   "execution_count": 37,
   "metadata": {},
   "outputs": [],
   "source": [
    "with open('pickles/dangjin_merged.pkl','wb') as f:\n",
    "    pickle.dump(dangjin_merged_with_season,f)\n",
    "with open('pickles/ulsan_merged.pkl','wb') as f:\n",
    "    pickle.dump(ulsan_merged_with_season,f)\n",
    "\n",
    "with open('pickles/dangjin_fcst.pkl','wb') as f:\n",
    "    pickle.dump(dangjin_fcst_with_season, f)\n",
    "with open('pickles/dangjin_obs.pkl','wb') as f:\n",
    "    pickle.dump(dangjin_obs_with_season, f)\n",
    "with open('pickles/ulsan_fcst.pkl','wb') as f:\n",
    "    pickle.dump(ulsan_fcst_with_season, f)\n",
    "with open('pickles/ulsan_obs.pkl','wb') as f:\n",
    "    pickle.dump(ulsan_obs_with_season, f)\n",
    "    "
   ]
  }
 ],
 "metadata": {
  "kernelspec": {
   "name": "python385jvsc74a57bd00a11f21c0450bb1ec4a8d90e5cdddc03f9c3302b58333d2d566c7a90a775328a",
   "display_name": "Python 3.8.5 64-bit ('base': conda)"
  },
  "language_info": {
   "codemirror_mode": {
    "name": "ipython",
    "version": 3
   },
   "file_extension": ".py",
   "mimetype": "text/x-python",
   "name": "python",
   "nbconvert_exporter": "python",
   "pygments_lexer": "ipython3",
   "version": "3.8.5"
  }
 },
 "nbformat": 4,
 "nbformat_minor": 2
}