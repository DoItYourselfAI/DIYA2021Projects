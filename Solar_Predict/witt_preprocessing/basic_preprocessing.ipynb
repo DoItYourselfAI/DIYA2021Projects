{
 "metadata": {
  "language_info": {
   "codemirror_mode": {
    "name": "ipython",
    "version": 3
   },
   "file_extension": ".py",
   "mimetype": "text/x-python",
   "name": "python",
   "nbconvert_exporter": "python",
   "pygments_lexer": "ipython3",
   "version": "3.8.5"
  },
  "orig_nbformat": 2,
  "kernelspec": {
   "name": "python385jvsc74a57bd00a11f21c0450bb1ec4a8d90e5cdddc03f9c3302b58333d2d566c7a90a775328a",
   "display_name": "Python 3.8.5 64-bit ('base': conda)"
  }
 },
 "nbformat": 4,
 "nbformat_minor": 2,
 "cells": [
  {
   "source": [
    "# Basic preprocessing"
   ],
   "cell_type": "markdown",
   "metadata": {}
  },
  {
   "source": [
    "# Table of Contents\n",
    "- Load data\n",
    "- Change column name\n",
    "- Calculate the timestamp being forecasted in `fcst`\n",
    "- Change column name of obs_data\n",
    "- Preprocess wind (windspeed and winddirection)\n",
    "- Final overview & save in pickle"
   ],
   "cell_type": "markdown",
   "metadata": {}
  },
  {
   "source": [
    "## Load data"
   ],
   "cell_type": "markdown",
   "metadata": {}
  },
  {
   "source": [
    "# load data\n",
    "import pandas as pd\n",
    "import numpy as np\n",
    "from glob import glob\n",
    "import pickle\n",
    "\n",
    "path = '../original_dataset/'\n",
    "\n",
    "files = sorted(glob(path+'*.csv'))\n",
    "\n",
    "files"
   ],
   "cell_type": "code",
   "metadata": {},
   "execution_count": 4,
   "outputs": [
    {
     "output_type": "execute_result",
     "data": {
      "text/plain": [
       "['../original_dataset/dangjin_fcst_data.csv',\n",
       " '../original_dataset/dangjin_obs_data.csv',\n",
       " '../original_dataset/energy.csv',\n",
       " '../original_dataset/sample_submission.csv',\n",
       " '../original_dataset/site_info.csv',\n",
       " '../original_dataset/ulsan_fcst_data.csv',\n",
       " '../original_dataset/ulsan_obs_data.csv']"
      ]
     },
     "metadata": {},
     "execution_count": 4
    }
   ]
  },
  {
   "cell_type": "code",
   "execution_count": 5,
   "metadata": {},
   "outputs": [],
   "source": [
    "dangjin_fcst_data = pd.read_csv(files[0])\n",
    "dangjin_obs_data = pd.read_csv(files[1])\n",
    "ulsan_fcst_data = pd.read_csv(files[5])\n",
    "ulsan_obs_data = pd.read_csv(files[6])"
   ]
  },
  {
   "source": [
    "## Change column name\n",
    "1. obs_data의 '지점'과 '지점명'은 drop\n",
    "2. Column name을 fcst_data를 기준으로 맞춘다."
   ],
   "cell_type": "markdown",
   "metadata": {}
  },
  {
   "cell_type": "code",
   "execution_count": 6,
   "metadata": {},
   "outputs": [],
   "source": [
    "# drop & re-order\n",
    "dangjin_obs_data = dangjin_obs_data.loc[:,['일시','기온(°C)','습도(%)','풍속(m/s)','풍향(16방위)','전운량(10분위)']]\n",
    "ulsan_obs_data = ulsan_obs_data.loc[:,['일시','기온(°C)','습도(%)','풍속(m/s)','풍향(16방위)','전운량(10분위)']]"
   ]
  },
  {
   "cell_type": "code",
   "execution_count": 7,
   "metadata": {},
   "outputs": [
    {
     "output_type": "execute_result",
     "data": {
      "text/plain": [
       "          Forecast time  Temperature  Humidity  WindSpeed  WindDirection  \\\n",
       "0      2018-03-01 00:00          3.1      96.0        3.6          340.0   \n",
       "1      2018-03-01 01:00          2.8      97.0        0.7          140.0   \n",
       "2      2018-03-01 02:00          2.6      95.0        3.2          320.0   \n",
       "3      2018-03-01 03:00          2.0      97.0        1.9          230.0   \n",
       "4      2018-03-01 04:00          2.2      97.0        2.1          180.0   \n",
       "...                 ...          ...       ...        ...            ...   \n",
       "25621  2021-01-31 19:00          6.7      75.0        1.5          200.0   \n",
       "25622  2021-01-31 20:00          6.2      77.0        0.8          200.0   \n",
       "25623  2021-01-31 21:00          5.3      82.0        0.7          230.0   \n",
       "25624  2021-01-31 22:00          5.8      77.0        1.0          200.0   \n",
       "25625  2021-01-31 23:00          5.3      80.0        0.6          230.0   \n",
       "\n",
       "       Cloud  \n",
       "0        NaN  \n",
       "1        NaN  \n",
       "2        NaN  \n",
       "3        NaN  \n",
       "4        NaN  \n",
       "...      ...  \n",
       "25621    8.0  \n",
       "25622    8.0  \n",
       "25623    8.0  \n",
       "25624    8.0  \n",
       "25625    7.0  \n",
       "\n",
       "[25626 rows x 6 columns]"
      ],
      "text/html": "<div>\n<style scoped>\n    .dataframe tbody tr th:only-of-type {\n        vertical-align: middle;\n    }\n\n    .dataframe tbody tr th {\n        vertical-align: top;\n    }\n\n    .dataframe thead th {\n        text-align: right;\n    }\n</style>\n<table border=\"1\" class=\"dataframe\">\n  <thead>\n    <tr style=\"text-align: right;\">\n      <th></th>\n      <th>Forecast time</th>\n      <th>Temperature</th>\n      <th>Humidity</th>\n      <th>WindSpeed</th>\n      <th>WindDirection</th>\n      <th>Cloud</th>\n    </tr>\n  </thead>\n  <tbody>\n    <tr>\n      <th>0</th>\n      <td>2018-03-01 00:00</td>\n      <td>3.1</td>\n      <td>96.0</td>\n      <td>3.6</td>\n      <td>340.0</td>\n      <td>NaN</td>\n    </tr>\n    <tr>\n      <th>1</th>\n      <td>2018-03-01 01:00</td>\n      <td>2.8</td>\n      <td>97.0</td>\n      <td>0.7</td>\n      <td>140.0</td>\n      <td>NaN</td>\n    </tr>\n    <tr>\n      <th>2</th>\n      <td>2018-03-01 02:00</td>\n      <td>2.6</td>\n      <td>95.0</td>\n      <td>3.2</td>\n      <td>320.0</td>\n      <td>NaN</td>\n    </tr>\n    <tr>\n      <th>3</th>\n      <td>2018-03-01 03:00</td>\n      <td>2.0</td>\n      <td>97.0</td>\n      <td>1.9</td>\n      <td>230.0</td>\n      <td>NaN</td>\n    </tr>\n    <tr>\n      <th>4</th>\n      <td>2018-03-01 04:00</td>\n      <td>2.2</td>\n      <td>97.0</td>\n      <td>2.1</td>\n      <td>180.0</td>\n      <td>NaN</td>\n    </tr>\n    <tr>\n      <th>...</th>\n      <td>...</td>\n      <td>...</td>\n      <td>...</td>\n      <td>...</td>\n      <td>...</td>\n      <td>...</td>\n    </tr>\n    <tr>\n      <th>25621</th>\n      <td>2021-01-31 19:00</td>\n      <td>6.7</td>\n      <td>75.0</td>\n      <td>1.5</td>\n      <td>200.0</td>\n      <td>8.0</td>\n    </tr>\n    <tr>\n      <th>25622</th>\n      <td>2021-01-31 20:00</td>\n      <td>6.2</td>\n      <td>77.0</td>\n      <td>0.8</td>\n      <td>200.0</td>\n      <td>8.0</td>\n    </tr>\n    <tr>\n      <th>25623</th>\n      <td>2021-01-31 21:00</td>\n      <td>5.3</td>\n      <td>82.0</td>\n      <td>0.7</td>\n      <td>230.0</td>\n      <td>8.0</td>\n    </tr>\n    <tr>\n      <th>25624</th>\n      <td>2021-01-31 22:00</td>\n      <td>5.8</td>\n      <td>77.0</td>\n      <td>1.0</td>\n      <td>200.0</td>\n      <td>8.0</td>\n    </tr>\n    <tr>\n      <th>25625</th>\n      <td>2021-01-31 23:00</td>\n      <td>5.3</td>\n      <td>80.0</td>\n      <td>0.6</td>\n      <td>230.0</td>\n      <td>7.0</td>\n    </tr>\n  </tbody>\n</table>\n<p>25626 rows × 6 columns</p>\n</div>"
     },
     "metadata": {},
     "execution_count": 7
    }
   ],
   "source": [
    "# change column names\n",
    "new_column_names = list(dangjin_fcst_data.columns)\n",
    "new_column_names.remove('forecast')\n",
    "new_column_names\n",
    "\n",
    "dangjin_obs_data.columns = new_column_names\n",
    "ulsan_obs_data.columns = new_column_names\n",
    "dangjin_obs_data"
   ]
  },
  {
   "source": [
    "## Calculate the timestamp being forecasted in `fcst`\n",
    ": fcst_data에서 Forecast_time과 forecast를 더해 예측 대상이 되는 timestamp를 새로운 column으로  \n",
    "\n",
    "1. Convert dtype to pd.datetime\n",
    "2. Map a timestampe-adding function to the timestamp column\n",
    "\n",
    "**'Forecast time' column은 남겨준다. 이후에 merge_to_recent를 위함.**"
   ],
   "cell_type": "markdown",
   "metadata": {}
  },
  {
   "cell_type": "code",
   "execution_count": 8,
   "metadata": {},
   "outputs": [],
   "source": [
    "# convert dtype to pd.datetime \n",
    "dangjin_fcst_data['Forecast time'] = pd.to_datetime(dangjin_fcst_data['Forecast time'])\n",
    "dangjin_obs_data['Forecast time'] = pd.to_datetime(dangjin_obs_data['Forecast time'])\n",
    "ulsan_fcst_data['Forecast time'] = pd.to_datetime(ulsan_fcst_data['Forecast time'])\n",
    "ulsan_obs_data['Forecast time'] = pd.to_datetime(ulsan_obs_data['Forecast time'])"
   ]
  },
  {
   "cell_type": "code",
   "execution_count": 9,
   "metadata": {},
   "outputs": [
    {
     "output_type": "stream",
     "name": "stderr",
     "text": [
      "/home/yejoon/anaconda3/lib/python3.8/site-packages/pandas/core/arrays/datetimelike.py:1108: PerformanceWarning: Adding/subtracting object-dtype array to DatetimeArray not vectorized\n  warnings.warn(\n"
     ]
    }
   ],
   "source": [
    "# calculate\n",
    "def to_date(x):\n",
    "    return pd.DateOffset(hours=x)\n",
    "\n",
    "dangjin_fcst_data['time'] = dangjin_fcst_data['Forecast time'] + dangjin_fcst_data['forecast'].map(to_date)\n",
    "ulsan_fcst_data['time'] = ulsan_fcst_data['Forecast time'] + ulsan_fcst_data['forecast'].map(to_date)"
   ]
  },
  {
   "cell_type": "code",
   "execution_count": 10,
   "metadata": {},
   "outputs": [],
   "source": [
    "# drop the 'forecast' column\n",
    "dangjin_fcst_data = dangjin_fcst_data.drop('forecast', axis=1)\n",
    "ulsan_fcst_data = ulsan_fcst_data.drop('forecast', axis=1)"
   ]
  },
  {
   "cell_type": "code",
   "execution_count": 11,
   "metadata": {},
   "outputs": [
    {
     "output_type": "execute_result",
     "data": {
      "text/plain": [
       "             Forecast time  Temperature  Humidity  WindSpeed  WindDirection  \\\n",
       "0      2018-03-01 11:00:00          0.0      60.0        7.3          309.0   \n",
       "1      2018-03-01 11:00:00         -2.0      60.0        7.1          314.0   \n",
       "2      2018-03-01 11:00:00         -2.0      60.0        6.7          323.0   \n",
       "3      2018-03-01 11:00:00         -2.0      55.0        6.7          336.0   \n",
       "4      2018-03-01 11:00:00         -4.0      55.0        5.5          339.0   \n",
       "...                    ...          ...       ...        ...            ...   \n",
       "162203 2021-03-01 08:00:00          7.0      40.0        3.2          187.0   \n",
       "162204 2021-03-01 08:00:00          8.0      40.0        4.5          217.0   \n",
       "162205 2021-03-01 08:00:00          5.0      55.0        2.2          210.0   \n",
       "162206 2021-03-01 08:00:00          1.0      80.0        1.9          164.0   \n",
       "162207 2021-03-01 08:00:00          1.0      80.0        2.1          152.0   \n",
       "\n",
       "        Cloud                time  \n",
       "0         2.0 2018-03-01 15:00:00  \n",
       "1         1.0 2018-03-01 18:00:00  \n",
       "2         1.0 2018-03-01 21:00:00  \n",
       "3         1.0 2018-03-02 00:00:00  \n",
       "4         1.0 2018-03-02 03:00:00  \n",
       "...       ...                 ...  \n",
       "162203    1.0 2021-03-03 12:00:00  \n",
       "162204    1.0 2021-03-03 15:00:00  \n",
       "162205    1.0 2021-03-03 18:00:00  \n",
       "162206    1.0 2021-03-03 21:00:00  \n",
       "162207    1.0 2021-03-04 00:00:00  \n",
       "\n",
       "[162208 rows x 7 columns]"
      ],
      "text/html": "<div>\n<style scoped>\n    .dataframe tbody tr th:only-of-type {\n        vertical-align: middle;\n    }\n\n    .dataframe tbody tr th {\n        vertical-align: top;\n    }\n\n    .dataframe thead th {\n        text-align: right;\n    }\n</style>\n<table border=\"1\" class=\"dataframe\">\n  <thead>\n    <tr style=\"text-align: right;\">\n      <th></th>\n      <th>Forecast time</th>\n      <th>Temperature</th>\n      <th>Humidity</th>\n      <th>WindSpeed</th>\n      <th>WindDirection</th>\n      <th>Cloud</th>\n      <th>time</th>\n    </tr>\n  </thead>\n  <tbody>\n    <tr>\n      <th>0</th>\n      <td>2018-03-01 11:00:00</td>\n      <td>0.0</td>\n      <td>60.0</td>\n      <td>7.3</td>\n      <td>309.0</td>\n      <td>2.0</td>\n      <td>2018-03-01 15:00:00</td>\n    </tr>\n    <tr>\n      <th>1</th>\n      <td>2018-03-01 11:00:00</td>\n      <td>-2.0</td>\n      <td>60.0</td>\n      <td>7.1</td>\n      <td>314.0</td>\n      <td>1.0</td>\n      <td>2018-03-01 18:00:00</td>\n    </tr>\n    <tr>\n      <th>2</th>\n      <td>2018-03-01 11:00:00</td>\n      <td>-2.0</td>\n      <td>60.0</td>\n      <td>6.7</td>\n      <td>323.0</td>\n      <td>1.0</td>\n      <td>2018-03-01 21:00:00</td>\n    </tr>\n    <tr>\n      <th>3</th>\n      <td>2018-03-01 11:00:00</td>\n      <td>-2.0</td>\n      <td>55.0</td>\n      <td>6.7</td>\n      <td>336.0</td>\n      <td>1.0</td>\n      <td>2018-03-02 00:00:00</td>\n    </tr>\n    <tr>\n      <th>4</th>\n      <td>2018-03-01 11:00:00</td>\n      <td>-4.0</td>\n      <td>55.0</td>\n      <td>5.5</td>\n      <td>339.0</td>\n      <td>1.0</td>\n      <td>2018-03-02 03:00:00</td>\n    </tr>\n    <tr>\n      <th>...</th>\n      <td>...</td>\n      <td>...</td>\n      <td>...</td>\n      <td>...</td>\n      <td>...</td>\n      <td>...</td>\n      <td>...</td>\n    </tr>\n    <tr>\n      <th>162203</th>\n      <td>2021-03-01 08:00:00</td>\n      <td>7.0</td>\n      <td>40.0</td>\n      <td>3.2</td>\n      <td>187.0</td>\n      <td>1.0</td>\n      <td>2021-03-03 12:00:00</td>\n    </tr>\n    <tr>\n      <th>162204</th>\n      <td>2021-03-01 08:00:00</td>\n      <td>8.0</td>\n      <td>40.0</td>\n      <td>4.5</td>\n      <td>217.0</td>\n      <td>1.0</td>\n      <td>2021-03-03 15:00:00</td>\n    </tr>\n    <tr>\n      <th>162205</th>\n      <td>2021-03-01 08:00:00</td>\n      <td>5.0</td>\n      <td>55.0</td>\n      <td>2.2</td>\n      <td>210.0</td>\n      <td>1.0</td>\n      <td>2021-03-03 18:00:00</td>\n    </tr>\n    <tr>\n      <th>162206</th>\n      <td>2021-03-01 08:00:00</td>\n      <td>1.0</td>\n      <td>80.0</td>\n      <td>1.9</td>\n      <td>164.0</td>\n      <td>1.0</td>\n      <td>2021-03-03 21:00:00</td>\n    </tr>\n    <tr>\n      <th>162207</th>\n      <td>2021-03-01 08:00:00</td>\n      <td>1.0</td>\n      <td>80.0</td>\n      <td>2.1</td>\n      <td>152.0</td>\n      <td>1.0</td>\n      <td>2021-03-04 00:00:00</td>\n    </tr>\n  </tbody>\n</table>\n<p>162208 rows × 7 columns</p>\n</div>"
     },
     "metadata": {},
     "execution_count": 11
    }
   ],
   "source": [
    "dangjin_fcst_data"
   ]
  },
  {
   "cell_type": "code",
   "execution_count": 12,
   "metadata": {},
   "outputs": [],
   "source": [
    "# re-order\n",
    "new_col_order = ['time', 'Forecast time', 'Temperature', 'Humidity', 'WindSpeed', 'WindDirection', 'Cloud']\n",
    "\n",
    "dangjin_fcst_data = dangjin_fcst_data.loc[:,new_col_order]\n",
    "ulsan_fcst_data = ulsan_fcst_data.loc[:,new_col_order]"
   ]
  },
  {
   "cell_type": "code",
   "execution_count": 13,
   "metadata": {},
   "outputs": [
    {
     "output_type": "execute_result",
     "data": {
      "text/plain": [
       "                      time       Forecast time  Temperature  Humidity  \\\n",
       "0      2018-03-01 15:00:00 2018-03-01 11:00:00          0.0      60.0   \n",
       "1      2018-03-01 18:00:00 2018-03-01 11:00:00         -2.0      60.0   \n",
       "2      2018-03-01 21:00:00 2018-03-01 11:00:00         -2.0      60.0   \n",
       "3      2018-03-02 00:00:00 2018-03-01 11:00:00         -2.0      55.0   \n",
       "4      2018-03-02 03:00:00 2018-03-01 11:00:00         -4.0      55.0   \n",
       "...                    ...                 ...          ...       ...   \n",
       "162203 2021-03-03 12:00:00 2021-03-01 08:00:00          7.0      40.0   \n",
       "162204 2021-03-03 15:00:00 2021-03-01 08:00:00          8.0      40.0   \n",
       "162205 2021-03-03 18:00:00 2021-03-01 08:00:00          5.0      55.0   \n",
       "162206 2021-03-03 21:00:00 2021-03-01 08:00:00          1.0      80.0   \n",
       "162207 2021-03-04 00:00:00 2021-03-01 08:00:00          1.0      80.0   \n",
       "\n",
       "        WindSpeed  WindDirection  Cloud  \n",
       "0             7.3          309.0    2.0  \n",
       "1             7.1          314.0    1.0  \n",
       "2             6.7          323.0    1.0  \n",
       "3             6.7          336.0    1.0  \n",
       "4             5.5          339.0    1.0  \n",
       "...           ...            ...    ...  \n",
       "162203        3.2          187.0    1.0  \n",
       "162204        4.5          217.0    1.0  \n",
       "162205        2.2          210.0    1.0  \n",
       "162206        1.9          164.0    1.0  \n",
       "162207        2.1          152.0    1.0  \n",
       "\n",
       "[162208 rows x 7 columns]"
      ],
      "text/html": "<div>\n<style scoped>\n    .dataframe tbody tr th:only-of-type {\n        vertical-align: middle;\n    }\n\n    .dataframe tbody tr th {\n        vertical-align: top;\n    }\n\n    .dataframe thead th {\n        text-align: right;\n    }\n</style>\n<table border=\"1\" class=\"dataframe\">\n  <thead>\n    <tr style=\"text-align: right;\">\n      <th></th>\n      <th>time</th>\n      <th>Forecast time</th>\n      <th>Temperature</th>\n      <th>Humidity</th>\n      <th>WindSpeed</th>\n      <th>WindDirection</th>\n      <th>Cloud</th>\n    </tr>\n  </thead>\n  <tbody>\n    <tr>\n      <th>0</th>\n      <td>2018-03-01 15:00:00</td>\n      <td>2018-03-01 11:00:00</td>\n      <td>0.0</td>\n      <td>60.0</td>\n      <td>7.3</td>\n      <td>309.0</td>\n      <td>2.0</td>\n    </tr>\n    <tr>\n      <th>1</th>\n      <td>2018-03-01 18:00:00</td>\n      <td>2018-03-01 11:00:00</td>\n      <td>-2.0</td>\n      <td>60.0</td>\n      <td>7.1</td>\n      <td>314.0</td>\n      <td>1.0</td>\n    </tr>\n    <tr>\n      <th>2</th>\n      <td>2018-03-01 21:00:00</td>\n      <td>2018-03-01 11:00:00</td>\n      <td>-2.0</td>\n      <td>60.0</td>\n      <td>6.7</td>\n      <td>323.0</td>\n      <td>1.0</td>\n    </tr>\n    <tr>\n      <th>3</th>\n      <td>2018-03-02 00:00:00</td>\n      <td>2018-03-01 11:00:00</td>\n      <td>-2.0</td>\n      <td>55.0</td>\n      <td>6.7</td>\n      <td>336.0</td>\n      <td>1.0</td>\n    </tr>\n    <tr>\n      <th>4</th>\n      <td>2018-03-02 03:00:00</td>\n      <td>2018-03-01 11:00:00</td>\n      <td>-4.0</td>\n      <td>55.0</td>\n      <td>5.5</td>\n      <td>339.0</td>\n      <td>1.0</td>\n    </tr>\n    <tr>\n      <th>...</th>\n      <td>...</td>\n      <td>...</td>\n      <td>...</td>\n      <td>...</td>\n      <td>...</td>\n      <td>...</td>\n      <td>...</td>\n    </tr>\n    <tr>\n      <th>162203</th>\n      <td>2021-03-03 12:00:00</td>\n      <td>2021-03-01 08:00:00</td>\n      <td>7.0</td>\n      <td>40.0</td>\n      <td>3.2</td>\n      <td>187.0</td>\n      <td>1.0</td>\n    </tr>\n    <tr>\n      <th>162204</th>\n      <td>2021-03-03 15:00:00</td>\n      <td>2021-03-01 08:00:00</td>\n      <td>8.0</td>\n      <td>40.0</td>\n      <td>4.5</td>\n      <td>217.0</td>\n      <td>1.0</td>\n    </tr>\n    <tr>\n      <th>162205</th>\n      <td>2021-03-03 18:00:00</td>\n      <td>2021-03-01 08:00:00</td>\n      <td>5.0</td>\n      <td>55.0</td>\n      <td>2.2</td>\n      <td>210.0</td>\n      <td>1.0</td>\n    </tr>\n    <tr>\n      <th>162206</th>\n      <td>2021-03-03 21:00:00</td>\n      <td>2021-03-01 08:00:00</td>\n      <td>1.0</td>\n      <td>80.0</td>\n      <td>1.9</td>\n      <td>164.0</td>\n      <td>1.0</td>\n    </tr>\n    <tr>\n      <th>162207</th>\n      <td>2021-03-04 00:00:00</td>\n      <td>2021-03-01 08:00:00</td>\n      <td>1.0</td>\n      <td>80.0</td>\n      <td>2.1</td>\n      <td>152.0</td>\n      <td>1.0</td>\n    </tr>\n  </tbody>\n</table>\n<p>162208 rows × 7 columns</p>\n</div>"
     },
     "metadata": {},
     "execution_count": 13
    }
   ],
   "source": [
    "dangjin_fcst_data"
   ]
  },
  {
   "source": [
    "## Change column name of obs_data\n",
    ": from 'Forecast time' to 'time'  \n",
    "This is convenient becuase 'time' is the column name in 'energy.csv'.  "
   ],
   "cell_type": "markdown",
   "metadata": {}
  },
  {
   "source": [
    "dangjin_obs_data = dangjin_obs_data.rename(columns={'Forecast time':'time'})\n",
    "ulsan_obs_data = ulsan_obs_data.rename(columns={'Forecast time':'time'})"
   ],
   "cell_type": "code",
   "metadata": {},
   "execution_count": 14,
   "outputs": []
  },
  {
   "source": [
    "## Preprocess wind(wind_speed and wind_direction) data"
   ],
   "cell_type": "markdown",
   "metadata": {}
  },
  {
   "cell_type": "code",
   "execution_count": 15,
   "metadata": {},
   "outputs": [],
   "source": [
    "def preprocess_wind(data):\n",
    "    '''\n",
    "    data: pd.DataFrmae which contains the columns 'WindSpeed' and 'WindDirection'\n",
    "    '''\n",
    "\n",
    "    # degree to radian\n",
    "    wind_direction_radian = data['WindDirection'] * np.pi / 180\n",
    "\n",
    "    # polar coordinate to cartesian coordinate\n",
    "    wind_x = data['WindSpeed'] * np.cos(wind_direction_radian)\n",
    "    wind_y = data['WindDirection'] * np.sin(wind_direction_radian)\n",
    "\n",
    "    # name pd.series\n",
    "    wind_x.name = 'Wind_X'\n",
    "    wind_y.name = 'Wind_Y'\n",
    "\n",
    "    return wind_x, wind_y"
   ]
  },
  {
   "cell_type": "code",
   "execution_count": 16,
   "metadata": {},
   "outputs": [],
   "source": [
    "# join 'Wind_X' and 'Wind_Y'\n",
    "dangjin_fcst_data = dangjin_fcst_data.join(preprocess_wind(dangjin_fcst_data))\n",
    "dangjin_obs_data = dangjin_obs_data.join(preprocess_wind(dangjin_obs_data))\n",
    "ulsan_fcst_data = ulsan_fcst_data.join(preprocess_wind(ulsan_fcst_data))\n",
    "ulsan_obs_data = ulsan_obs_data.join(preprocess_wind(ulsan_obs_data))\n",
    "\n",
    "# drop 'WindSpeed' and 'WindDirection'\n",
    "dangjin_fcst_data.drop(columns = ['WindSpeed','WindDirection'], inplace=True)\n",
    "dangjin_obs_data.drop(columns = ['WindSpeed','WindDirection'], inplace=True)\n",
    "ulsan_fcst_data.drop(columns = ['WindSpeed','WindDirection'], inplace=True)\n",
    "ulsan_obs_data.drop(columns = ['WindSpeed','WindDirection'], inplace=True)\n"
   ]
  },
  {
   "source": [
    "## Final overview & save in pickle"
   ],
   "cell_type": "markdown",
   "metadata": {}
  },
  {
   "cell_type": "code",
   "execution_count": 19,
   "metadata": {},
   "outputs": [
    {
     "output_type": "execute_result",
     "data": {
      "text/plain": [
       "                      time       Forecast time  Temperature  Humidity  Cloud  \\\n",
       "0      2018-03-01 15:00:00 2018-03-01 11:00:00          0.0      60.0    2.0   \n",
       "1      2018-03-01 18:00:00 2018-03-01 11:00:00         -2.0      60.0    1.0   \n",
       "2      2018-03-01 21:00:00 2018-03-01 11:00:00         -2.0      60.0    1.0   \n",
       "3      2018-03-02 00:00:00 2018-03-01 11:00:00         -2.0      55.0    1.0   \n",
       "4      2018-03-02 03:00:00 2018-03-01 11:00:00         -4.0      55.0    1.0   \n",
       "...                    ...                 ...          ...       ...    ...   \n",
       "162203 2021-03-03 12:00:00 2021-03-01 08:00:00          7.0      40.0    1.0   \n",
       "162204 2021-03-03 15:00:00 2021-03-01 08:00:00          8.0      40.0    1.0   \n",
       "162205 2021-03-03 18:00:00 2021-03-01 08:00:00          5.0      55.0    1.0   \n",
       "162206 2021-03-03 21:00:00 2021-03-01 08:00:00          1.0      80.0    1.0   \n",
       "162207 2021-03-04 00:00:00 2021-03-01 08:00:00          1.0      80.0    1.0   \n",
       "\n",
       "          Wind_X      Wind_Y  \n",
       "0       4.594039 -240.138102  \n",
       "1       4.932074 -225.872697  \n",
       "2       5.350858 -194.386252  \n",
       "3       6.120755 -136.663512  \n",
       "4       5.134692 -121.486735  \n",
       "...          ...         ...  \n",
       "162203 -3.176148  -22.789567  \n",
       "162204 -3.593860 -130.593860  \n",
       "162205 -1.905256 -105.000000  \n",
       "162206 -1.826397   45.204526  \n",
       "162207 -1.854190   71.359678  \n",
       "\n",
       "[162208 rows x 7 columns]"
      ],
      "text/html": "<div>\n<style scoped>\n    .dataframe tbody tr th:only-of-type {\n        vertical-align: middle;\n    }\n\n    .dataframe tbody tr th {\n        vertical-align: top;\n    }\n\n    .dataframe thead th {\n        text-align: right;\n    }\n</style>\n<table border=\"1\" class=\"dataframe\">\n  <thead>\n    <tr style=\"text-align: right;\">\n      <th></th>\n      <th>time</th>\n      <th>Forecast time</th>\n      <th>Temperature</th>\n      <th>Humidity</th>\n      <th>Cloud</th>\n      <th>Wind_X</th>\n      <th>Wind_Y</th>\n    </tr>\n  </thead>\n  <tbody>\n    <tr>\n      <th>0</th>\n      <td>2018-03-01 15:00:00</td>\n      <td>2018-03-01 11:00:00</td>\n      <td>0.0</td>\n      <td>60.0</td>\n      <td>2.0</td>\n      <td>4.594039</td>\n      <td>-240.138102</td>\n    </tr>\n    <tr>\n      <th>1</th>\n      <td>2018-03-01 18:00:00</td>\n      <td>2018-03-01 11:00:00</td>\n      <td>-2.0</td>\n      <td>60.0</td>\n      <td>1.0</td>\n      <td>4.932074</td>\n      <td>-225.872697</td>\n    </tr>\n    <tr>\n      <th>2</th>\n      <td>2018-03-01 21:00:00</td>\n      <td>2018-03-01 11:00:00</td>\n      <td>-2.0</td>\n      <td>60.0</td>\n      <td>1.0</td>\n      <td>5.350858</td>\n      <td>-194.386252</td>\n    </tr>\n    <tr>\n      <th>3</th>\n      <td>2018-03-02 00:00:00</td>\n      <td>2018-03-01 11:00:00</td>\n      <td>-2.0</td>\n      <td>55.0</td>\n      <td>1.0</td>\n      <td>6.120755</td>\n      <td>-136.663512</td>\n    </tr>\n    <tr>\n      <th>4</th>\n      <td>2018-03-02 03:00:00</td>\n      <td>2018-03-01 11:00:00</td>\n      <td>-4.0</td>\n      <td>55.0</td>\n      <td>1.0</td>\n      <td>5.134692</td>\n      <td>-121.486735</td>\n    </tr>\n    <tr>\n      <th>...</th>\n      <td>...</td>\n      <td>...</td>\n      <td>...</td>\n      <td>...</td>\n      <td>...</td>\n      <td>...</td>\n      <td>...</td>\n    </tr>\n    <tr>\n      <th>162203</th>\n      <td>2021-03-03 12:00:00</td>\n      <td>2021-03-01 08:00:00</td>\n      <td>7.0</td>\n      <td>40.0</td>\n      <td>1.0</td>\n      <td>-3.176148</td>\n      <td>-22.789567</td>\n    </tr>\n    <tr>\n      <th>162204</th>\n      <td>2021-03-03 15:00:00</td>\n      <td>2021-03-01 08:00:00</td>\n      <td>8.0</td>\n      <td>40.0</td>\n      <td>1.0</td>\n      <td>-3.593860</td>\n      <td>-130.593860</td>\n    </tr>\n    <tr>\n      <th>162205</th>\n      <td>2021-03-03 18:00:00</td>\n      <td>2021-03-01 08:00:00</td>\n      <td>5.0</td>\n      <td>55.0</td>\n      <td>1.0</td>\n      <td>-1.905256</td>\n      <td>-105.000000</td>\n    </tr>\n    <tr>\n      <th>162206</th>\n      <td>2021-03-03 21:00:00</td>\n      <td>2021-03-01 08:00:00</td>\n      <td>1.0</td>\n      <td>80.0</td>\n      <td>1.0</td>\n      <td>-1.826397</td>\n      <td>45.204526</td>\n    </tr>\n    <tr>\n      <th>162207</th>\n      <td>2021-03-04 00:00:00</td>\n      <td>2021-03-01 08:00:00</td>\n      <td>1.0</td>\n      <td>80.0</td>\n      <td>1.0</td>\n      <td>-1.854190</td>\n      <td>71.359678</td>\n    </tr>\n  </tbody>\n</table>\n<p>162208 rows × 7 columns</p>\n</div>"
     },
     "metadata": {},
     "execution_count": 19
    }
   ],
   "source": [
    "dangjin_fcst_data"
   ]
  },
  {
   "cell_type": "code",
   "execution_count": 18,
   "metadata": {},
   "outputs": [
    {
     "output_type": "execute_result",
     "data": {
      "text/plain": [
       "                     time  Temperature  Humidity  Cloud    Wind_X  \\\n",
       "0     2018-03-01 00:00:00          3.1      96.0    NaN  3.382893   \n",
       "1     2018-03-01 01:00:00          2.8      97.0    NaN -0.536231   \n",
       "2     2018-03-01 02:00:00          2.6      95.0    NaN  2.451342   \n",
       "3     2018-03-01 03:00:00          2.0      97.0    NaN -1.221296   \n",
       "4     2018-03-01 04:00:00          2.2      97.0    NaN -2.100000   \n",
       "...                   ...          ...       ...    ...       ...   \n",
       "25621 2021-01-31 19:00:00          6.7      75.0    8.0 -1.409539   \n",
       "25622 2021-01-31 20:00:00          6.2      77.0    8.0 -0.751754   \n",
       "25623 2021-01-31 21:00:00          5.3      82.0    8.0 -0.449951   \n",
       "25624 2021-01-31 22:00:00          5.8      77.0    8.0 -0.939693   \n",
       "25625 2021-01-31 23:00:00          5.3      80.0    7.0 -0.385673   \n",
       "\n",
       "             Wind_Y  \n",
       "0     -1.162868e+02  \n",
       "1      8.999027e+01  \n",
       "2     -2.056920e+02  \n",
       "3     -1.761902e+02  \n",
       "4      2.204364e-14  \n",
       "...             ...  \n",
       "25621 -6.840403e+01  \n",
       "25622 -6.840403e+01  \n",
       "25623 -1.761902e+02  \n",
       "25624 -6.840403e+01  \n",
       "25625 -1.761902e+02  \n",
       "\n",
       "[25626 rows x 6 columns]"
      ],
      "text/html": "<div>\n<style scoped>\n    .dataframe tbody tr th:only-of-type {\n        vertical-align: middle;\n    }\n\n    .dataframe tbody tr th {\n        vertical-align: top;\n    }\n\n    .dataframe thead th {\n        text-align: right;\n    }\n</style>\n<table border=\"1\" class=\"dataframe\">\n  <thead>\n    <tr style=\"text-align: right;\">\n      <th></th>\n      <th>time</th>\n      <th>Temperature</th>\n      <th>Humidity</th>\n      <th>Cloud</th>\n      <th>Wind_X</th>\n      <th>Wind_Y</th>\n    </tr>\n  </thead>\n  <tbody>\n    <tr>\n      <th>0</th>\n      <td>2018-03-01 00:00:00</td>\n      <td>3.1</td>\n      <td>96.0</td>\n      <td>NaN</td>\n      <td>3.382893</td>\n      <td>-1.162868e+02</td>\n    </tr>\n    <tr>\n      <th>1</th>\n      <td>2018-03-01 01:00:00</td>\n      <td>2.8</td>\n      <td>97.0</td>\n      <td>NaN</td>\n      <td>-0.536231</td>\n      <td>8.999027e+01</td>\n    </tr>\n    <tr>\n      <th>2</th>\n      <td>2018-03-01 02:00:00</td>\n      <td>2.6</td>\n      <td>95.0</td>\n      <td>NaN</td>\n      <td>2.451342</td>\n      <td>-2.056920e+02</td>\n    </tr>\n    <tr>\n      <th>3</th>\n      <td>2018-03-01 03:00:00</td>\n      <td>2.0</td>\n      <td>97.0</td>\n      <td>NaN</td>\n      <td>-1.221296</td>\n      <td>-1.761902e+02</td>\n    </tr>\n    <tr>\n      <th>4</th>\n      <td>2018-03-01 04:00:00</td>\n      <td>2.2</td>\n      <td>97.0</td>\n      <td>NaN</td>\n      <td>-2.100000</td>\n      <td>2.204364e-14</td>\n    </tr>\n    <tr>\n      <th>...</th>\n      <td>...</td>\n      <td>...</td>\n      <td>...</td>\n      <td>...</td>\n      <td>...</td>\n      <td>...</td>\n    </tr>\n    <tr>\n      <th>25621</th>\n      <td>2021-01-31 19:00:00</td>\n      <td>6.7</td>\n      <td>75.0</td>\n      <td>8.0</td>\n      <td>-1.409539</td>\n      <td>-6.840403e+01</td>\n    </tr>\n    <tr>\n      <th>25622</th>\n      <td>2021-01-31 20:00:00</td>\n      <td>6.2</td>\n      <td>77.0</td>\n      <td>8.0</td>\n      <td>-0.751754</td>\n      <td>-6.840403e+01</td>\n    </tr>\n    <tr>\n      <th>25623</th>\n      <td>2021-01-31 21:00:00</td>\n      <td>5.3</td>\n      <td>82.0</td>\n      <td>8.0</td>\n      <td>-0.449951</td>\n      <td>-1.761902e+02</td>\n    </tr>\n    <tr>\n      <th>25624</th>\n      <td>2021-01-31 22:00:00</td>\n      <td>5.8</td>\n      <td>77.0</td>\n      <td>8.0</td>\n      <td>-0.939693</td>\n      <td>-6.840403e+01</td>\n    </tr>\n    <tr>\n      <th>25625</th>\n      <td>2021-01-31 23:00:00</td>\n      <td>5.3</td>\n      <td>80.0</td>\n      <td>7.0</td>\n      <td>-0.385673</td>\n      <td>-1.761902e+02</td>\n    </tr>\n  </tbody>\n</table>\n<p>25626 rows × 6 columns</p>\n</div>"
     },
     "metadata": {},
     "execution_count": 18
    }
   ],
   "source": [
    "dangjin_obs_data"
   ]
  },
  {
   "cell_type": "code",
   "execution_count": 116,
   "metadata": {},
   "outputs": [
    {
     "output_type": "execute_result",
     "data": {
      "text/plain": [
       "                      time       Forecast time  Temperature  Humidity  Cloud  \\\n",
       "0      2018-03-01 15:00:00 2018-03-01 11:00:00          8.0      20.0    2.0   \n",
       "1      2018-03-01 18:00:00 2018-03-01 11:00:00          4.0      20.0    2.0   \n",
       "2      2018-03-01 21:00:00 2018-03-01 11:00:00          3.0      30.0    2.0   \n",
       "3      2018-03-02 00:00:00 2018-03-01 11:00:00          0.0      40.0    2.0   \n",
       "4      2018-03-02 03:00:00 2018-03-01 11:00:00         -1.0      45.0    2.0   \n",
       "...                    ...                 ...          ...       ...    ...   \n",
       "162203 2021-03-03 12:00:00 2021-03-01 08:00:00          9.0      45.0    3.0   \n",
       "162204 2021-03-03 15:00:00 2021-03-01 08:00:00          9.0      45.0    3.0   \n",
       "162205 2021-03-03 18:00:00 2021-03-01 08:00:00          8.0      55.0    3.0   \n",
       "162206 2021-03-03 21:00:00 2021-03-01 08:00:00          6.0      65.0    3.0   \n",
       "162207 2021-03-04 00:00:00 2021-03-01 08:00:00          4.0      80.0    3.0   \n",
       "\n",
       "          Wind_X      Wind_Y  \n",
       "0       6.572602 -263.118383  \n",
       "1       2.018728 -263.118383  \n",
       "2       1.195709 -240.138102  \n",
       "3       1.114717 -212.783533  \n",
       "4       1.108191 -242.707312  \n",
       "...          ...         ...  \n",
       "162203  0.377795   82.381331  \n",
       "162204 -1.075104  103.627427  \n",
       "162205 -1.165822  103.461868  \n",
       "162206 -0.590453   98.866955  \n",
       "162207 -0.693188  -26.164543  \n",
       "\n",
       "[162208 rows x 7 columns]"
      ],
      "text/html": "<div>\n<style scoped>\n    .dataframe tbody tr th:only-of-type {\n        vertical-align: middle;\n    }\n\n    .dataframe tbody tr th {\n        vertical-align: top;\n    }\n\n    .dataframe thead th {\n        text-align: right;\n    }\n</style>\n<table border=\"1\" class=\"dataframe\">\n  <thead>\n    <tr style=\"text-align: right;\">\n      <th></th>\n      <th>time</th>\n      <th>Forecast time</th>\n      <th>Temperature</th>\n      <th>Humidity</th>\n      <th>Cloud</th>\n      <th>Wind_X</th>\n      <th>Wind_Y</th>\n    </tr>\n  </thead>\n  <tbody>\n    <tr>\n      <th>0</th>\n      <td>2018-03-01 15:00:00</td>\n      <td>2018-03-01 11:00:00</td>\n      <td>8.0</td>\n      <td>20.0</td>\n      <td>2.0</td>\n      <td>6.572602</td>\n      <td>-263.118383</td>\n    </tr>\n    <tr>\n      <th>1</th>\n      <td>2018-03-01 18:00:00</td>\n      <td>2018-03-01 11:00:00</td>\n      <td>4.0</td>\n      <td>20.0</td>\n      <td>2.0</td>\n      <td>2.018728</td>\n      <td>-263.118383</td>\n    </tr>\n    <tr>\n      <th>2</th>\n      <td>2018-03-01 21:00:00</td>\n      <td>2018-03-01 11:00:00</td>\n      <td>3.0</td>\n      <td>30.0</td>\n      <td>2.0</td>\n      <td>1.195709</td>\n      <td>-240.138102</td>\n    </tr>\n    <tr>\n      <th>3</th>\n      <td>2018-03-02 00:00:00</td>\n      <td>2018-03-01 11:00:00</td>\n      <td>0.0</td>\n      <td>40.0</td>\n      <td>2.0</td>\n      <td>1.114717</td>\n      <td>-212.783533</td>\n    </tr>\n    <tr>\n      <th>4</th>\n      <td>2018-03-02 03:00:00</td>\n      <td>2018-03-01 11:00:00</td>\n      <td>-1.0</td>\n      <td>45.0</td>\n      <td>2.0</td>\n      <td>1.108191</td>\n      <td>-242.707312</td>\n    </tr>\n    <tr>\n      <th>...</th>\n      <td>...</td>\n      <td>...</td>\n      <td>...</td>\n      <td>...</td>\n      <td>...</td>\n      <td>...</td>\n      <td>...</td>\n    </tr>\n    <tr>\n      <th>162203</th>\n      <td>2021-03-03 12:00:00</td>\n      <td>2021-03-01 08:00:00</td>\n      <td>9.0</td>\n      <td>45.0</td>\n      <td>3.0</td>\n      <td>0.377795</td>\n      <td>82.381331</td>\n    </tr>\n    <tr>\n      <th>162204</th>\n      <td>2021-03-03 15:00:00</td>\n      <td>2021-03-01 08:00:00</td>\n      <td>9.0</td>\n      <td>45.0</td>\n      <td>3.0</td>\n      <td>-1.075104</td>\n      <td>103.627427</td>\n    </tr>\n    <tr>\n      <th>162205</th>\n      <td>2021-03-03 18:00:00</td>\n      <td>2021-03-01 08:00:00</td>\n      <td>8.0</td>\n      <td>55.0</td>\n      <td>3.0</td>\n      <td>-1.165822</td>\n      <td>103.461868</td>\n    </tr>\n    <tr>\n      <th>162206</th>\n      <td>2021-03-03 21:00:00</td>\n      <td>2021-03-01 08:00:00</td>\n      <td>6.0</td>\n      <td>65.0</td>\n      <td>3.0</td>\n      <td>-0.590453</td>\n      <td>98.866955</td>\n    </tr>\n    <tr>\n      <th>162207</th>\n      <td>2021-03-04 00:00:00</td>\n      <td>2021-03-01 08:00:00</td>\n      <td>4.0</td>\n      <td>80.0</td>\n      <td>3.0</td>\n      <td>-0.693188</td>\n      <td>-26.164543</td>\n    </tr>\n  </tbody>\n</table>\n<p>162208 rows × 7 columns</p>\n</div>"
     },
     "metadata": {},
     "execution_count": 116
    }
   ],
   "source": [
    "ulsan_fcst_data"
   ]
  },
  {
   "cell_type": "code",
   "execution_count": 117,
   "metadata": {},
   "outputs": [
    {
     "output_type": "execute_result",
     "data": {
      "text/plain": [
       "                     time  Temperature  Humidity  Cloud    Wind_X      Wind_Y\n",
       "0     2018-03-01 00:00:00          8.2      98.0   10.0  3.664801 -116.286849\n",
       "1     2018-03-01 01:00:00          7.0      97.0   10.0  3.140782 -205.692035\n",
       "2     2018-03-01 02:00:00          6.5      80.0    NaN  2.017919 -272.510860\n",
       "3     2018-03-01 03:00:00          6.2      79.0    3.0  3.523804 -205.692035\n",
       "4     2018-03-01 04:00:00          6.7      73.0    1.0  3.447200 -205.692035\n",
       "...                   ...          ...       ...    ...       ...         ...\n",
       "25627 2021-01-31 19:00:00          8.8      50.0    5.0 -2.349232  -68.404029\n",
       "25628 2021-01-31 20:00:00          8.7      49.0    1.0 -3.664801  -68.404029\n",
       "25629 2021-01-31 21:00:00          8.4      51.0    7.0 -1.542690 -176.190222\n",
       "25630 2021-01-31 22:00:00          9.4      51.0    8.0 -2.121199 -176.190222\n",
       "25631 2021-01-31 23:00:00          9.3      56.0    9.0 -2.913047  -68.404029\n",
       "\n",
       "[25632 rows x 6 columns]"
      ],
      "text/html": "<div>\n<style scoped>\n    .dataframe tbody tr th:only-of-type {\n        vertical-align: middle;\n    }\n\n    .dataframe tbody tr th {\n        vertical-align: top;\n    }\n\n    .dataframe thead th {\n        text-align: right;\n    }\n</style>\n<table border=\"1\" class=\"dataframe\">\n  <thead>\n    <tr style=\"text-align: right;\">\n      <th></th>\n      <th>time</th>\n      <th>Temperature</th>\n      <th>Humidity</th>\n      <th>Cloud</th>\n      <th>Wind_X</th>\n      <th>Wind_Y</th>\n    </tr>\n  </thead>\n  <tbody>\n    <tr>\n      <th>0</th>\n      <td>2018-03-01 00:00:00</td>\n      <td>8.2</td>\n      <td>98.0</td>\n      <td>10.0</td>\n      <td>3.664801</td>\n      <td>-116.286849</td>\n    </tr>\n    <tr>\n      <th>1</th>\n      <td>2018-03-01 01:00:00</td>\n      <td>7.0</td>\n      <td>97.0</td>\n      <td>10.0</td>\n      <td>3.140782</td>\n      <td>-205.692035</td>\n    </tr>\n    <tr>\n      <th>2</th>\n      <td>2018-03-01 02:00:00</td>\n      <td>6.5</td>\n      <td>80.0</td>\n      <td>NaN</td>\n      <td>2.017919</td>\n      <td>-272.510860</td>\n    </tr>\n    <tr>\n      <th>3</th>\n      <td>2018-03-01 03:00:00</td>\n      <td>6.2</td>\n      <td>79.0</td>\n      <td>3.0</td>\n      <td>3.523804</td>\n      <td>-205.692035</td>\n    </tr>\n    <tr>\n      <th>4</th>\n      <td>2018-03-01 04:00:00</td>\n      <td>6.7</td>\n      <td>73.0</td>\n      <td>1.0</td>\n      <td>3.447200</td>\n      <td>-205.692035</td>\n    </tr>\n    <tr>\n      <th>...</th>\n      <td>...</td>\n      <td>...</td>\n      <td>...</td>\n      <td>...</td>\n      <td>...</td>\n      <td>...</td>\n    </tr>\n    <tr>\n      <th>25627</th>\n      <td>2021-01-31 19:00:00</td>\n      <td>8.8</td>\n      <td>50.0</td>\n      <td>5.0</td>\n      <td>-2.349232</td>\n      <td>-68.404029</td>\n    </tr>\n    <tr>\n      <th>25628</th>\n      <td>2021-01-31 20:00:00</td>\n      <td>8.7</td>\n      <td>49.0</td>\n      <td>1.0</td>\n      <td>-3.664801</td>\n      <td>-68.404029</td>\n    </tr>\n    <tr>\n      <th>25629</th>\n      <td>2021-01-31 21:00:00</td>\n      <td>8.4</td>\n      <td>51.0</td>\n      <td>7.0</td>\n      <td>-1.542690</td>\n      <td>-176.190222</td>\n    </tr>\n    <tr>\n      <th>25630</th>\n      <td>2021-01-31 22:00:00</td>\n      <td>9.4</td>\n      <td>51.0</td>\n      <td>8.0</td>\n      <td>-2.121199</td>\n      <td>-176.190222</td>\n    </tr>\n    <tr>\n      <th>25631</th>\n      <td>2021-01-31 23:00:00</td>\n      <td>9.3</td>\n      <td>56.0</td>\n      <td>9.0</td>\n      <td>-2.913047</td>\n      <td>-68.404029</td>\n    </tr>\n  </tbody>\n</table>\n<p>25632 rows × 6 columns</p>\n</div>"
     },
     "metadata": {},
     "execution_count": 117
    }
   ],
   "source": [
    "ulsan_obs_data"
   ]
  },
  {
   "cell_type": "code",
   "execution_count": 118,
   "metadata": {},
   "outputs": [],
   "source": [
    "# pickle the data\n",
    "with open('pickles/dangjin_fcst_data.pkl','wb') as f:\n",
    "    pickle.dump(dangjin_fcst_data,f)\n",
    "with open('pickles/dangjin_obs_data.pkl','wb') as f:\n",
    "    pickle.dump(dangjin_obs_data,f)\n",
    "with open('pickles/ulsan_fcst_data.pkl','wb') as f:\n",
    "    pickle.dump(ulsan_fcst_data,f)\n",
    "with open('pickles/ulsan_obs_data.pkl','wb') as f:\n",
    "    pickle.dump(ulsan_obs_data,f)"
   ]
  }
 ]
}