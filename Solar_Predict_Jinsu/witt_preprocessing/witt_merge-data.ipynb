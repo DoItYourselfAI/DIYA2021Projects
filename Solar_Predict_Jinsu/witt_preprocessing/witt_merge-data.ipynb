{
 "metadata": {
  "language_info": {
   "codemirror_mode": {
    "name": "ipython",
    "version": 3
   },
   "file_extension": ".py",
   "mimetype": "text/x-python",
   "name": "python",
   "nbconvert_exporter": "python",
   "pygments_lexer": "ipython3",
   "version": "3.8.5-final"
  },
  "orig_nbformat": 2,
  "kernelspec": {
   "name": "python385jvsc74a57bd004ea7ace90161599ec6d78d07446b37a096d4a387e9d731f9667125926f2c1ca",
   "display_name": "Python 3.8.5 64-bit (conda)"
  }
 },
 "nbformat": 4,
 "nbformat_minor": 2,
 "cells": [
  {
   "cell_type": "code",
   "execution_count": 8,
   "metadata": {},
   "outputs": [],
   "source": [
    "import pickle\n",
    "import pandas as pd"
   ]
  },
  {
   "cell_type": "code",
   "execution_count": 9,
   "metadata": {},
   "outputs": [],
   "source": [
    "with open('dangjin_fcst_data.pkl','rb') as f:\n",
    "    dangjin_fcst_data = pickle.load(f)\n",
    "with open('dangjin_obs_data.pkl','rb') as f:\n",
    "    dangjin_obs_data = pickle.load(f)"
   ]
  },
  {
   "cell_type": "code",
   "execution_count": 12,
   "metadata": {},
   "outputs": [
    {
     "output_type": "execute_result",
     "data": {
      "text/plain": [
       "                      time  Temperature  Humidity  WindSpeed  WindDirection  \\\n",
       "0      2018-03-01 15:00:00          0.0      60.0        7.3          309.0   \n",
       "1      2018-03-01 18:00:00         -2.0      60.0        7.1          314.0   \n",
       "2      2018-03-01 21:00:00         -2.0      60.0        6.7          323.0   \n",
       "3      2018-03-02 00:00:00         -2.0      55.0        6.7          336.0   \n",
       "4      2018-03-02 03:00:00         -4.0      55.0        5.5          339.0   \n",
       "...                    ...          ...       ...        ...            ...   \n",
       "162203 2021-03-03 12:00:00          7.0      40.0        3.2          187.0   \n",
       "162204 2021-03-03 15:00:00          8.0      40.0        4.5          217.0   \n",
       "162205 2021-03-03 18:00:00          5.0      55.0        2.2          210.0   \n",
       "162206 2021-03-03 21:00:00          1.0      80.0        1.9          164.0   \n",
       "162207 2021-03-04 00:00:00          1.0      80.0        2.1          152.0   \n",
       "\n",
       "        Cloud  \n",
       "0         2.0  \n",
       "1         1.0  \n",
       "2         1.0  \n",
       "3         1.0  \n",
       "4         1.0  \n",
       "...       ...  \n",
       "162203    1.0  \n",
       "162204    1.0  \n",
       "162205    1.0  \n",
       "162206    1.0  \n",
       "162207    1.0  \n",
       "\n",
       "[162208 rows x 6 columns]"
      ],
      "text/html": "<div>\n<style scoped>\n    .dataframe tbody tr th:only-of-type {\n        vertical-align: middle;\n    }\n\n    .dataframe tbody tr th {\n        vertical-align: top;\n    }\n\n    .dataframe thead th {\n        text-align: right;\n    }\n</style>\n<table border=\"1\" class=\"dataframe\">\n  <thead>\n    <tr style=\"text-align: right;\">\n      <th></th>\n      <th>time</th>\n      <th>Temperature</th>\n      <th>Humidity</th>\n      <th>WindSpeed</th>\n      <th>WindDirection</th>\n      <th>Cloud</th>\n    </tr>\n  </thead>\n  <tbody>\n    <tr>\n      <th>0</th>\n      <td>2018-03-01 15:00:00</td>\n      <td>0.0</td>\n      <td>60.0</td>\n      <td>7.3</td>\n      <td>309.0</td>\n      <td>2.0</td>\n    </tr>\n    <tr>\n      <th>1</th>\n      <td>2018-03-01 18:00:00</td>\n      <td>-2.0</td>\n      <td>60.0</td>\n      <td>7.1</td>\n      <td>314.0</td>\n      <td>1.0</td>\n    </tr>\n    <tr>\n      <th>2</th>\n      <td>2018-03-01 21:00:00</td>\n      <td>-2.0</td>\n      <td>60.0</td>\n      <td>6.7</td>\n      <td>323.0</td>\n      <td>1.0</td>\n    </tr>\n    <tr>\n      <th>3</th>\n      <td>2018-03-02 00:00:00</td>\n      <td>-2.0</td>\n      <td>55.0</td>\n      <td>6.7</td>\n      <td>336.0</td>\n      <td>1.0</td>\n    </tr>\n    <tr>\n      <th>4</th>\n      <td>2018-03-02 03:00:00</td>\n      <td>-4.0</td>\n      <td>55.0</td>\n      <td>5.5</td>\n      <td>339.0</td>\n      <td>1.0</td>\n    </tr>\n    <tr>\n      <th>...</th>\n      <td>...</td>\n      <td>...</td>\n      <td>...</td>\n      <td>...</td>\n      <td>...</td>\n      <td>...</td>\n    </tr>\n    <tr>\n      <th>162203</th>\n      <td>2021-03-03 12:00:00</td>\n      <td>7.0</td>\n      <td>40.0</td>\n      <td>3.2</td>\n      <td>187.0</td>\n      <td>1.0</td>\n    </tr>\n    <tr>\n      <th>162204</th>\n      <td>2021-03-03 15:00:00</td>\n      <td>8.0</td>\n      <td>40.0</td>\n      <td>4.5</td>\n      <td>217.0</td>\n      <td>1.0</td>\n    </tr>\n    <tr>\n      <th>162205</th>\n      <td>2021-03-03 18:00:00</td>\n      <td>5.0</td>\n      <td>55.0</td>\n      <td>2.2</td>\n      <td>210.0</td>\n      <td>1.0</td>\n    </tr>\n    <tr>\n      <th>162206</th>\n      <td>2021-03-03 21:00:00</td>\n      <td>1.0</td>\n      <td>80.0</td>\n      <td>1.9</td>\n      <td>164.0</td>\n      <td>1.0</td>\n    </tr>\n    <tr>\n      <th>162207</th>\n      <td>2021-03-04 00:00:00</td>\n      <td>1.0</td>\n      <td>80.0</td>\n      <td>2.1</td>\n      <td>152.0</td>\n      <td>1.0</td>\n    </tr>\n  </tbody>\n</table>\n<p>162208 rows × 6 columns</p>\n</div>"
     },
     "metadata": {},
     "execution_count": 12
    }
   ],
   "source": [
    "dangjin_fcst_data"
   ]
  },
  {
   "cell_type": "code",
   "execution_count": 24,
   "metadata": {},
   "outputs": [
    {
     "output_type": "execute_result",
     "data": {
      "text/plain": [
       "                     time  Temperature  Humidity  WindSpeed  WindDirection  \\\n",
       "0     2018-03-01 00:00:00          3.1      96.0        3.6          340.0   \n",
       "1     2018-03-01 01:00:00          2.8      97.0        0.7          140.0   \n",
       "2     2018-03-01 02:00:00          2.6      95.0        3.2          320.0   \n",
       "3     2018-03-01 03:00:00          2.0      97.0        1.9          230.0   \n",
       "4     2018-03-01 04:00:00          2.2      97.0        2.1          180.0   \n",
       "...                   ...          ...       ...        ...            ...   \n",
       "25621 2021-01-31 19:00:00          6.7      75.0        1.5          200.0   \n",
       "25622 2021-01-31 20:00:00          6.2      77.0        0.8          200.0   \n",
       "25623 2021-01-31 21:00:00          5.3      82.0        0.7          230.0   \n",
       "25624 2021-01-31 22:00:00          5.8      77.0        1.0          200.0   \n",
       "25625 2021-01-31 23:00:00          5.3      80.0        0.6          230.0   \n",
       "\n",
       "       Cloud  \n",
       "0        NaN  \n",
       "1        NaN  \n",
       "2        NaN  \n",
       "3        NaN  \n",
       "4        NaN  \n",
       "...      ...  \n",
       "25621    8.0  \n",
       "25622    8.0  \n",
       "25623    8.0  \n",
       "25624    8.0  \n",
       "25625    7.0  \n",
       "\n",
       "[25626 rows x 6 columns]"
      ],
      "text/html": "<div>\n<style scoped>\n    .dataframe tbody tr th:only-of-type {\n        vertical-align: middle;\n    }\n\n    .dataframe tbody tr th {\n        vertical-align: top;\n    }\n\n    .dataframe thead th {\n        text-align: right;\n    }\n</style>\n<table border=\"1\" class=\"dataframe\">\n  <thead>\n    <tr style=\"text-align: right;\">\n      <th></th>\n      <th>time</th>\n      <th>Temperature</th>\n      <th>Humidity</th>\n      <th>WindSpeed</th>\n      <th>WindDirection</th>\n      <th>Cloud</th>\n    </tr>\n  </thead>\n  <tbody>\n    <tr>\n      <th>0</th>\n      <td>2018-03-01 00:00:00</td>\n      <td>3.1</td>\n      <td>96.0</td>\n      <td>3.6</td>\n      <td>340.0</td>\n      <td>NaN</td>\n    </tr>\n    <tr>\n      <th>1</th>\n      <td>2018-03-01 01:00:00</td>\n      <td>2.8</td>\n      <td>97.0</td>\n      <td>0.7</td>\n      <td>140.0</td>\n      <td>NaN</td>\n    </tr>\n    <tr>\n      <th>2</th>\n      <td>2018-03-01 02:00:00</td>\n      <td>2.6</td>\n      <td>95.0</td>\n      <td>3.2</td>\n      <td>320.0</td>\n      <td>NaN</td>\n    </tr>\n    <tr>\n      <th>3</th>\n      <td>2018-03-01 03:00:00</td>\n      <td>2.0</td>\n      <td>97.0</td>\n      <td>1.9</td>\n      <td>230.0</td>\n      <td>NaN</td>\n    </tr>\n    <tr>\n      <th>4</th>\n      <td>2018-03-01 04:00:00</td>\n      <td>2.2</td>\n      <td>97.0</td>\n      <td>2.1</td>\n      <td>180.0</td>\n      <td>NaN</td>\n    </tr>\n    <tr>\n      <th>...</th>\n      <td>...</td>\n      <td>...</td>\n      <td>...</td>\n      <td>...</td>\n      <td>...</td>\n      <td>...</td>\n    </tr>\n    <tr>\n      <th>25621</th>\n      <td>2021-01-31 19:00:00</td>\n      <td>6.7</td>\n      <td>75.0</td>\n      <td>1.5</td>\n      <td>200.0</td>\n      <td>8.0</td>\n    </tr>\n    <tr>\n      <th>25622</th>\n      <td>2021-01-31 20:00:00</td>\n      <td>6.2</td>\n      <td>77.0</td>\n      <td>0.8</td>\n      <td>200.0</td>\n      <td>8.0</td>\n    </tr>\n    <tr>\n      <th>25623</th>\n      <td>2021-01-31 21:00:00</td>\n      <td>5.3</td>\n      <td>82.0</td>\n      <td>0.7</td>\n      <td>230.0</td>\n      <td>8.0</td>\n    </tr>\n    <tr>\n      <th>25624</th>\n      <td>2021-01-31 22:00:00</td>\n      <td>5.8</td>\n      <td>77.0</td>\n      <td>1.0</td>\n      <td>200.0</td>\n      <td>8.0</td>\n    </tr>\n    <tr>\n      <th>25625</th>\n      <td>2021-01-31 23:00:00</td>\n      <td>5.3</td>\n      <td>80.0</td>\n      <td>0.6</td>\n      <td>230.0</td>\n      <td>7.0</td>\n    </tr>\n  </tbody>\n</table>\n<p>25626 rows × 6 columns</p>\n</div>"
     },
     "metadata": {},
     "execution_count": 24
    }
   ],
   "source": [
    "dangjin_obs_data"
   ]
  },
  {
   "cell_type": "code",
   "execution_count": 25,
   "metadata": {},
   "outputs": [
    {
     "output_type": "execute_result",
     "data": {
      "text/plain": [
       "                      time  Temperature_fcst  Humidity_fcst  WindSpeed_fcst  \\\n",
       "0      2018-03-01 15:00:00               0.0           60.0             7.3   \n",
       "1      2018-03-01 18:00:00              -2.0           60.0             7.1   \n",
       "2      2018-03-01 18:00:00              -2.0           60.0             7.1   \n",
       "3      2018-03-01 21:00:00              -2.0           60.0             6.7   \n",
       "4      2018-03-01 21:00:00              -2.0           60.0             6.7   \n",
       "...                    ...               ...            ...             ...   \n",
       "157766 2021-01-31 21:00:00               6.0           80.0             4.3   \n",
       "157767 2021-01-31 21:00:00               6.0           80.0             4.3   \n",
       "157768 2021-01-31 21:00:00               6.0           80.0             4.3   \n",
       "157769 2021-01-31 21:00:00               6.0           80.0             4.3   \n",
       "157770 2021-01-31 21:00:00               6.0           80.0             4.0   \n",
       "\n",
       "        WindDirection_fcst  Cloud_fcst  Temperature_obs  Humidity_obs  \\\n",
       "0                    309.0         2.0              0.4          56.0   \n",
       "1                    314.0         1.0             -1.3          62.0   \n",
       "2                    314.0         1.0             -1.3          62.0   \n",
       "3                    323.0         1.0             -1.8          61.0   \n",
       "4                    323.0         1.0             -1.8          61.0   \n",
       "...                    ...         ...              ...           ...   \n",
       "157766               176.0         4.0              5.3          82.0   \n",
       "157767               176.0         4.0              5.3          82.0   \n",
       "157768               176.0         4.0              5.3          82.0   \n",
       "157769               176.0         4.0              5.3          82.0   \n",
       "157770               174.0         4.0              5.3          82.0   \n",
       "\n",
       "        WindSpeed_obs  WindDirection_obs  Cloud_obs  \n",
       "0                 5.0              320.0        NaN  \n",
       "1                 5.4              290.0        NaN  \n",
       "2                 5.4              290.0        NaN  \n",
       "3                 4.7              320.0        NaN  \n",
       "4                 4.7              320.0        NaN  \n",
       "...               ...                ...        ...  \n",
       "157766            0.7              230.0        8.0  \n",
       "157767            0.7              230.0        8.0  \n",
       "157768            0.7              230.0        8.0  \n",
       "157769            0.7              230.0        8.0  \n",
       "157770            0.7              230.0        8.0  \n",
       "\n",
       "[157771 rows x 11 columns]"
      ],
      "text/html": "<div>\n<style scoped>\n    .dataframe tbody tr th:only-of-type {\n        vertical-align: middle;\n    }\n\n    .dataframe tbody tr th {\n        vertical-align: top;\n    }\n\n    .dataframe thead th {\n        text-align: right;\n    }\n</style>\n<table border=\"1\" class=\"dataframe\">\n  <thead>\n    <tr style=\"text-align: right;\">\n      <th></th>\n      <th>time</th>\n      <th>Temperature_fcst</th>\n      <th>Humidity_fcst</th>\n      <th>WindSpeed_fcst</th>\n      <th>WindDirection_fcst</th>\n      <th>Cloud_fcst</th>\n      <th>Temperature_obs</th>\n      <th>Humidity_obs</th>\n      <th>WindSpeed_obs</th>\n      <th>WindDirection_obs</th>\n      <th>Cloud_obs</th>\n    </tr>\n  </thead>\n  <tbody>\n    <tr>\n      <th>0</th>\n      <td>2018-03-01 15:00:00</td>\n      <td>0.0</td>\n      <td>60.0</td>\n      <td>7.3</td>\n      <td>309.0</td>\n      <td>2.0</td>\n      <td>0.4</td>\n      <td>56.0</td>\n      <td>5.0</td>\n      <td>320.0</td>\n      <td>NaN</td>\n    </tr>\n    <tr>\n      <th>1</th>\n      <td>2018-03-01 18:00:00</td>\n      <td>-2.0</td>\n      <td>60.0</td>\n      <td>7.1</td>\n      <td>314.0</td>\n      <td>1.0</td>\n      <td>-1.3</td>\n      <td>62.0</td>\n      <td>5.4</td>\n      <td>290.0</td>\n      <td>NaN</td>\n    </tr>\n    <tr>\n      <th>2</th>\n      <td>2018-03-01 18:00:00</td>\n      <td>-2.0</td>\n      <td>60.0</td>\n      <td>7.1</td>\n      <td>314.0</td>\n      <td>1.0</td>\n      <td>-1.3</td>\n      <td>62.0</td>\n      <td>5.4</td>\n      <td>290.0</td>\n      <td>NaN</td>\n    </tr>\n    <tr>\n      <th>3</th>\n      <td>2018-03-01 21:00:00</td>\n      <td>-2.0</td>\n      <td>60.0</td>\n      <td>6.7</td>\n      <td>323.0</td>\n      <td>1.0</td>\n      <td>-1.8</td>\n      <td>61.0</td>\n      <td>4.7</td>\n      <td>320.0</td>\n      <td>NaN</td>\n    </tr>\n    <tr>\n      <th>4</th>\n      <td>2018-03-01 21:00:00</td>\n      <td>-2.0</td>\n      <td>60.0</td>\n      <td>6.7</td>\n      <td>323.0</td>\n      <td>1.0</td>\n      <td>-1.8</td>\n      <td>61.0</td>\n      <td>4.7</td>\n      <td>320.0</td>\n      <td>NaN</td>\n    </tr>\n    <tr>\n      <th>...</th>\n      <td>...</td>\n      <td>...</td>\n      <td>...</td>\n      <td>...</td>\n      <td>...</td>\n      <td>...</td>\n      <td>...</td>\n      <td>...</td>\n      <td>...</td>\n      <td>...</td>\n      <td>...</td>\n    </tr>\n    <tr>\n      <th>157766</th>\n      <td>2021-01-31 21:00:00</td>\n      <td>6.0</td>\n      <td>80.0</td>\n      <td>4.3</td>\n      <td>176.0</td>\n      <td>4.0</td>\n      <td>5.3</td>\n      <td>82.0</td>\n      <td>0.7</td>\n      <td>230.0</td>\n      <td>8.0</td>\n    </tr>\n    <tr>\n      <th>157767</th>\n      <td>2021-01-31 21:00:00</td>\n      <td>6.0</td>\n      <td>80.0</td>\n      <td>4.3</td>\n      <td>176.0</td>\n      <td>4.0</td>\n      <td>5.3</td>\n      <td>82.0</td>\n      <td>0.7</td>\n      <td>230.0</td>\n      <td>8.0</td>\n    </tr>\n    <tr>\n      <th>157768</th>\n      <td>2021-01-31 21:00:00</td>\n      <td>6.0</td>\n      <td>80.0</td>\n      <td>4.3</td>\n      <td>176.0</td>\n      <td>4.0</td>\n      <td>5.3</td>\n      <td>82.0</td>\n      <td>0.7</td>\n      <td>230.0</td>\n      <td>8.0</td>\n    </tr>\n    <tr>\n      <th>157769</th>\n      <td>2021-01-31 21:00:00</td>\n      <td>6.0</td>\n      <td>80.0</td>\n      <td>4.3</td>\n      <td>176.0</td>\n      <td>4.0</td>\n      <td>5.3</td>\n      <td>82.0</td>\n      <td>0.7</td>\n      <td>230.0</td>\n      <td>8.0</td>\n    </tr>\n    <tr>\n      <th>157770</th>\n      <td>2021-01-31 21:00:00</td>\n      <td>6.0</td>\n      <td>80.0</td>\n      <td>4.0</td>\n      <td>174.0</td>\n      <td>4.0</td>\n      <td>5.3</td>\n      <td>82.0</td>\n      <td>0.7</td>\n      <td>230.0</td>\n      <td>8.0</td>\n    </tr>\n  </tbody>\n</table>\n<p>157771 rows × 11 columns</p>\n</div>"
     },
     "metadata": {},
     "execution_count": 25
    }
   ],
   "source": [
    "dangjin_inner_merged = pd.merge(dangjin_fcst_data, dangjin_obs_data, on='time', suffixes=('_fcst','_obs'))\n",
    "dangjin_inner_merged"
   ]
  },
  {
   "cell_type": "code",
   "execution_count": 31,
   "metadata": {},
   "outputs": [
    {
     "output_type": "execute_result",
     "data": {
      "text/plain": [
       "                      time  Temperature_obs  Humidity_obs  WindSpeed_obs  \\\n",
       "0      2018-03-01 00:00:00              3.1          96.0            3.6   \n",
       "1      2018-03-01 01:00:00              2.8          97.0            0.7   \n",
       "2      2018-03-01 02:00:00              2.6          95.0            3.2   \n",
       "3      2018-03-01 03:00:00              2.0          97.0            1.9   \n",
       "4      2018-03-01 04:00:00              2.2          97.0            2.1   \n",
       "...                    ...              ...           ...            ...   \n",
       "179292 2021-03-03 18:00:00              NaN           NaN            NaN   \n",
       "179293 2021-03-03 21:00:00              NaN           NaN            NaN   \n",
       "179294 2021-03-03 21:00:00              NaN           NaN            NaN   \n",
       "179295 2021-03-04 00:00:00              NaN           NaN            NaN   \n",
       "179296 2021-03-04 00:00:00              NaN           NaN            NaN   \n",
       "\n",
       "        WindDirection_obs  Cloud_obs  Temperature_fcst  Humidity_fcst  \\\n",
       "0                   340.0        NaN               NaN            NaN   \n",
       "1                   140.0        NaN               NaN            NaN   \n",
       "2                   320.0        NaN               NaN            NaN   \n",
       "3                   230.0        NaN               NaN            NaN   \n",
       "4                   180.0        NaN               NaN            NaN   \n",
       "...                   ...        ...               ...            ...   \n",
       "179292                NaN        NaN               5.0           55.0   \n",
       "179293                NaN        NaN               1.0           80.0   \n",
       "179294                NaN        NaN               1.0           80.0   \n",
       "179295                NaN        NaN               1.0           80.0   \n",
       "179296                NaN        NaN               1.0           80.0   \n",
       "\n",
       "        WindSpeed_fcst  WindDirection_fcst  Cloud_fcst  \n",
       "0                  NaN                 NaN         NaN  \n",
       "1                  NaN                 NaN         NaN  \n",
       "2                  NaN                 NaN         NaN  \n",
       "3                  NaN                 NaN         NaN  \n",
       "4                  NaN                 NaN         NaN  \n",
       "...                ...                 ...         ...  \n",
       "179292             2.2               210.0         1.0  \n",
       "179293             1.9               164.0         1.0  \n",
       "179294             1.9               164.0         1.0  \n",
       "179295             2.1               152.0         1.0  \n",
       "179296             2.1               152.0         1.0  \n",
       "\n",
       "[179297 rows x 11 columns]"
      ],
      "text/html": "<div>\n<style scoped>\n    .dataframe tbody tr th:only-of-type {\n        vertical-align: middle;\n    }\n\n    .dataframe tbody tr th {\n        vertical-align: top;\n    }\n\n    .dataframe thead th {\n        text-align: right;\n    }\n</style>\n<table border=\"1\" class=\"dataframe\">\n  <thead>\n    <tr style=\"text-align: right;\">\n      <th></th>\n      <th>time</th>\n      <th>Temperature_obs</th>\n      <th>Humidity_obs</th>\n      <th>WindSpeed_obs</th>\n      <th>WindDirection_obs</th>\n      <th>Cloud_obs</th>\n      <th>Temperature_fcst</th>\n      <th>Humidity_fcst</th>\n      <th>WindSpeed_fcst</th>\n      <th>WindDirection_fcst</th>\n      <th>Cloud_fcst</th>\n    </tr>\n  </thead>\n  <tbody>\n    <tr>\n      <th>0</th>\n      <td>2018-03-01 00:00:00</td>\n      <td>3.1</td>\n      <td>96.0</td>\n      <td>3.6</td>\n      <td>340.0</td>\n      <td>NaN</td>\n      <td>NaN</td>\n      <td>NaN</td>\n      <td>NaN</td>\n      <td>NaN</td>\n      <td>NaN</td>\n    </tr>\n    <tr>\n      <th>1</th>\n      <td>2018-03-01 01:00:00</td>\n      <td>2.8</td>\n      <td>97.0</td>\n      <td>0.7</td>\n      <td>140.0</td>\n      <td>NaN</td>\n      <td>NaN</td>\n      <td>NaN</td>\n      <td>NaN</td>\n      <td>NaN</td>\n      <td>NaN</td>\n    </tr>\n    <tr>\n      <th>2</th>\n      <td>2018-03-01 02:00:00</td>\n      <td>2.6</td>\n      <td>95.0</td>\n      <td>3.2</td>\n      <td>320.0</td>\n      <td>NaN</td>\n      <td>NaN</td>\n      <td>NaN</td>\n      <td>NaN</td>\n      <td>NaN</td>\n      <td>NaN</td>\n    </tr>\n    <tr>\n      <th>3</th>\n      <td>2018-03-01 03:00:00</td>\n      <td>2.0</td>\n      <td>97.0</td>\n      <td>1.9</td>\n      <td>230.0</td>\n      <td>NaN</td>\n      <td>NaN</td>\n      <td>NaN</td>\n      <td>NaN</td>\n      <td>NaN</td>\n      <td>NaN</td>\n    </tr>\n    <tr>\n      <th>4</th>\n      <td>2018-03-01 04:00:00</td>\n      <td>2.2</td>\n      <td>97.0</td>\n      <td>2.1</td>\n      <td>180.0</td>\n      <td>NaN</td>\n      <td>NaN</td>\n      <td>NaN</td>\n      <td>NaN</td>\n      <td>NaN</td>\n      <td>NaN</td>\n    </tr>\n    <tr>\n      <th>...</th>\n      <td>...</td>\n      <td>...</td>\n      <td>...</td>\n      <td>...</td>\n      <td>...</td>\n      <td>...</td>\n      <td>...</td>\n      <td>...</td>\n      <td>...</td>\n      <td>...</td>\n      <td>...</td>\n    </tr>\n    <tr>\n      <th>179292</th>\n      <td>2021-03-03 18:00:00</td>\n      <td>NaN</td>\n      <td>NaN</td>\n      <td>NaN</td>\n      <td>NaN</td>\n      <td>NaN</td>\n      <td>5.0</td>\n      <td>55.0</td>\n      <td>2.2</td>\n      <td>210.0</td>\n      <td>1.0</td>\n    </tr>\n    <tr>\n      <th>179293</th>\n      <td>2021-03-03 21:00:00</td>\n      <td>NaN</td>\n      <td>NaN</td>\n      <td>NaN</td>\n      <td>NaN</td>\n      <td>NaN</td>\n      <td>1.0</td>\n      <td>80.0</td>\n      <td>1.9</td>\n      <td>164.0</td>\n      <td>1.0</td>\n    </tr>\n    <tr>\n      <th>179294</th>\n      <td>2021-03-03 21:00:00</td>\n      <td>NaN</td>\n      <td>NaN</td>\n      <td>NaN</td>\n      <td>NaN</td>\n      <td>NaN</td>\n      <td>1.0</td>\n      <td>80.0</td>\n      <td>1.9</td>\n      <td>164.0</td>\n      <td>1.0</td>\n    </tr>\n    <tr>\n      <th>179295</th>\n      <td>2021-03-04 00:00:00</td>\n      <td>NaN</td>\n      <td>NaN</td>\n      <td>NaN</td>\n      <td>NaN</td>\n      <td>NaN</td>\n      <td>1.0</td>\n      <td>80.0</td>\n      <td>2.1</td>\n      <td>152.0</td>\n      <td>1.0</td>\n    </tr>\n    <tr>\n      <th>179296</th>\n      <td>2021-03-04 00:00:00</td>\n      <td>NaN</td>\n      <td>NaN</td>\n      <td>NaN</td>\n      <td>NaN</td>\n      <td>NaN</td>\n      <td>1.0</td>\n      <td>80.0</td>\n      <td>2.1</td>\n      <td>152.0</td>\n      <td>1.0</td>\n    </tr>\n  </tbody>\n</table>\n<p>179297 rows × 11 columns</p>\n</div>"
     },
     "metadata": {},
     "execution_count": 31
    }
   ],
   "source": [
    "dangjin_outer_merged = dangjin_obs_data.merge(dangjin_fcst_data,how='outer',on='time',suffixes=('_obs','_fcst'))\n",
    "dangjin_outer_merged"
   ]
  },
  {
   "source": [
    "## Problem: duplicated rows"
   ],
   "cell_type": "markdown",
   "metadata": {}
  },
  {
   "cell_type": "code",
   "execution_count": 34,
   "metadata": {},
   "outputs": [
    {
     "output_type": "execute_result",
     "data": {
      "text/plain": [
       "(117528, 0)"
      ]
     },
     "metadata": {},
     "execution_count": 34
    }
   ],
   "source": [
    "dangjin_fcst_data.duplicated().sum(), dangjin_obs_data.duplicated().sum()"
   ]
  },
  {
   "cell_type": "code",
   "execution_count": 33,
   "metadata": {},
   "outputs": [
    {
     "output_type": "execute_result",
     "data": {
      "text/plain": [
       "(114289, 117528)"
      ]
     },
     "metadata": {},
     "execution_count": 33
    }
   ],
   "source": [
    "dangjin_inner_merged.duplicated().sum(), dangjin_outer_merged.duplicated().sum()"
   ]
  }
 ]
}