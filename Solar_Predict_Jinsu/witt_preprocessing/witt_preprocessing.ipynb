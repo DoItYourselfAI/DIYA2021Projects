{
 "metadata": {
  "language_info": {
   "codemirror_mode": {
    "name": "ipython",
    "version": 3
   },
   "file_extension": ".py",
   "mimetype": "text/x-python",
   "name": "python",
   "nbconvert_exporter": "python",
   "pygments_lexer": "ipython3",
   "version": "3.8.5-final"
  },
  "orig_nbformat": 2,
  "kernelspec": {
   "name": "python385jvsc74a57bd004ea7ace90161599ec6d78d07446b37a096d4a387e9d731f9667125926f2c1ca",
   "display_name": "Python 3.8.5 64-bit (conda)"
  }
 },
 "nbformat": 4,
 "nbformat_minor": 2,
 "cells": [
  {
   "source": [
    "### Load data"
   ],
   "cell_type": "markdown",
   "metadata": {}
  },
  {
   "source": [
    "# load data\n",
    "import pandas as pd\n",
    "from glob import glob\n",
    "import pickle\n",
    "\n",
    "path = r'../original_dataset/'\n",
    "\n",
    "files = sorted(glob(path+'*.csv'))\n",
    "\n",
    "files"
   ],
   "cell_type": "code",
   "metadata": {},
   "execution_count": 229,
   "outputs": [
    {
     "output_type": "execute_result",
     "data": {
      "text/plain": [
       "['../original_dataset\\\\dangjin_fcst_data.csv',\n",
       " '../original_dataset\\\\dangjin_obs_data.csv',\n",
       " '../original_dataset\\\\energy.csv',\n",
       " '../original_dataset\\\\sample_submission.csv',\n",
       " '../original_dataset\\\\site_info.csv',\n",
       " '../original_dataset\\\\ulsan_fcst_data.csv',\n",
       " '../original_dataset\\\\ulsan_obs_data.csv']"
      ]
     },
     "metadata": {},
     "execution_count": 229
    }
   ]
  },
  {
   "cell_type": "code",
   "execution_count": 230,
   "metadata": {},
   "outputs": [],
   "source": [
    "dangjin_fcst_data = pd.read_csv(files[0])\n",
    "dangjin_obs_data = pd.read_csv(files[1])\n",
    "ulsan_fcst_data = pd.read_csv(files[5])\n",
    "ulsan_obs_data = pd.read_csv(files[6])\n",
    "\n",
    "energy = pd.read_csv(files[2])"
   ]
  },
  {
   "source": [
    "### Quick look at the data"
   ],
   "cell_type": "markdown",
   "metadata": {}
  },
  {
   "cell_type": "code",
   "execution_count": 231,
   "metadata": {},
   "outputs": [
    {
     "output_type": "execute_result",
     "data": {
      "text/plain": [
       "              Forecast time  forecast  Temperature  Humidity  WindSpeed  \\\n",
       "0       2018-03-01 11:00:00       4.0          0.0      60.0        7.3   \n",
       "1       2018-03-01 11:00:00       7.0         -2.0      60.0        7.1   \n",
       "2       2018-03-01 11:00:00      10.0         -2.0      60.0        6.7   \n",
       "3       2018-03-01 11:00:00      13.0         -2.0      55.0        6.7   \n",
       "4       2018-03-01 11:00:00      16.0         -4.0      55.0        5.5   \n",
       "...                     ...       ...          ...       ...        ...   \n",
       "162203  2021-03-01 08:00:00      52.0          7.0      40.0        3.2   \n",
       "162204  2021-03-01 08:00:00      55.0          8.0      40.0        4.5   \n",
       "162205  2021-03-01 08:00:00      58.0          5.0      55.0        2.2   \n",
       "162206  2021-03-01 08:00:00      61.0          1.0      80.0        1.9   \n",
       "162207  2021-03-01 08:00:00      64.0          1.0      80.0        2.1   \n",
       "\n",
       "        WindDirection  Cloud  \n",
       "0               309.0    2.0  \n",
       "1               314.0    1.0  \n",
       "2               323.0    1.0  \n",
       "3               336.0    1.0  \n",
       "4               339.0    1.0  \n",
       "...               ...    ...  \n",
       "162203          187.0    1.0  \n",
       "162204          217.0    1.0  \n",
       "162205          210.0    1.0  \n",
       "162206          164.0    1.0  \n",
       "162207          152.0    1.0  \n",
       "\n",
       "[162208 rows x 7 columns]"
      ],
      "text/html": "<div>\n<style scoped>\n    .dataframe tbody tr th:only-of-type {\n        vertical-align: middle;\n    }\n\n    .dataframe tbody tr th {\n        vertical-align: top;\n    }\n\n    .dataframe thead th {\n        text-align: right;\n    }\n</style>\n<table border=\"1\" class=\"dataframe\">\n  <thead>\n    <tr style=\"text-align: right;\">\n      <th></th>\n      <th>Forecast time</th>\n      <th>forecast</th>\n      <th>Temperature</th>\n      <th>Humidity</th>\n      <th>WindSpeed</th>\n      <th>WindDirection</th>\n      <th>Cloud</th>\n    </tr>\n  </thead>\n  <tbody>\n    <tr>\n      <th>0</th>\n      <td>2018-03-01 11:00:00</td>\n      <td>4.0</td>\n      <td>0.0</td>\n      <td>60.0</td>\n      <td>7.3</td>\n      <td>309.0</td>\n      <td>2.0</td>\n    </tr>\n    <tr>\n      <th>1</th>\n      <td>2018-03-01 11:00:00</td>\n      <td>7.0</td>\n      <td>-2.0</td>\n      <td>60.0</td>\n      <td>7.1</td>\n      <td>314.0</td>\n      <td>1.0</td>\n    </tr>\n    <tr>\n      <th>2</th>\n      <td>2018-03-01 11:00:00</td>\n      <td>10.0</td>\n      <td>-2.0</td>\n      <td>60.0</td>\n      <td>6.7</td>\n      <td>323.0</td>\n      <td>1.0</td>\n    </tr>\n    <tr>\n      <th>3</th>\n      <td>2018-03-01 11:00:00</td>\n      <td>13.0</td>\n      <td>-2.0</td>\n      <td>55.0</td>\n      <td>6.7</td>\n      <td>336.0</td>\n      <td>1.0</td>\n    </tr>\n    <tr>\n      <th>4</th>\n      <td>2018-03-01 11:00:00</td>\n      <td>16.0</td>\n      <td>-4.0</td>\n      <td>55.0</td>\n      <td>5.5</td>\n      <td>339.0</td>\n      <td>1.0</td>\n    </tr>\n    <tr>\n      <th>...</th>\n      <td>...</td>\n      <td>...</td>\n      <td>...</td>\n      <td>...</td>\n      <td>...</td>\n      <td>...</td>\n      <td>...</td>\n    </tr>\n    <tr>\n      <th>162203</th>\n      <td>2021-03-01 08:00:00</td>\n      <td>52.0</td>\n      <td>7.0</td>\n      <td>40.0</td>\n      <td>3.2</td>\n      <td>187.0</td>\n      <td>1.0</td>\n    </tr>\n    <tr>\n      <th>162204</th>\n      <td>2021-03-01 08:00:00</td>\n      <td>55.0</td>\n      <td>8.0</td>\n      <td>40.0</td>\n      <td>4.5</td>\n      <td>217.0</td>\n      <td>1.0</td>\n    </tr>\n    <tr>\n      <th>162205</th>\n      <td>2021-03-01 08:00:00</td>\n      <td>58.0</td>\n      <td>5.0</td>\n      <td>55.0</td>\n      <td>2.2</td>\n      <td>210.0</td>\n      <td>1.0</td>\n    </tr>\n    <tr>\n      <th>162206</th>\n      <td>2021-03-01 08:00:00</td>\n      <td>61.0</td>\n      <td>1.0</td>\n      <td>80.0</td>\n      <td>1.9</td>\n      <td>164.0</td>\n      <td>1.0</td>\n    </tr>\n    <tr>\n      <th>162207</th>\n      <td>2021-03-01 08:00:00</td>\n      <td>64.0</td>\n      <td>1.0</td>\n      <td>80.0</td>\n      <td>2.1</td>\n      <td>152.0</td>\n      <td>1.0</td>\n    </tr>\n  </tbody>\n</table>\n<p>162208 rows × 7 columns</p>\n</div>"
     },
     "metadata": {},
     "execution_count": 231
    }
   ],
   "source": [
    "dangjin_fcst_data"
   ]
  },
  {
   "cell_type": "code",
   "execution_count": 232,
   "metadata": {},
   "outputs": [
    {
     "output_type": "execute_result",
     "data": {
      "text/plain": [
       "        지점 지점명                일시  기온(°C)  풍속(m/s)  풍향(16방위)  습도(%)  전운량(10분위)\n",
       "0      129  서산  2018-03-01 00:00     3.1      3.6     340.0   96.0        NaN\n",
       "1      129  서산  2018-03-01 01:00     2.8      0.7     140.0   97.0        NaN\n",
       "2      129  서산  2018-03-01 02:00     2.6      3.2     320.0   95.0        NaN\n",
       "3      129  서산  2018-03-01 03:00     2.0      1.9     230.0   97.0        NaN\n",
       "4      129  서산  2018-03-01 04:00     2.2      2.1     180.0   97.0        NaN\n",
       "...    ...  ..               ...     ...      ...       ...    ...        ...\n",
       "25621  129  서산  2021-01-31 19:00     6.7      1.5     200.0   75.0        8.0\n",
       "25622  129  서산  2021-01-31 20:00     6.2      0.8     200.0   77.0        8.0\n",
       "25623  129  서산  2021-01-31 21:00     5.3      0.7     230.0   82.0        8.0\n",
       "25624  129  서산  2021-01-31 22:00     5.8      1.0     200.0   77.0        8.0\n",
       "25625  129  서산  2021-01-31 23:00     5.3      0.6     230.0   80.0        7.0\n",
       "\n",
       "[25626 rows x 8 columns]"
      ],
      "text/html": "<div>\n<style scoped>\n    .dataframe tbody tr th:only-of-type {\n        vertical-align: middle;\n    }\n\n    .dataframe tbody tr th {\n        vertical-align: top;\n    }\n\n    .dataframe thead th {\n        text-align: right;\n    }\n</style>\n<table border=\"1\" class=\"dataframe\">\n  <thead>\n    <tr style=\"text-align: right;\">\n      <th></th>\n      <th>지점</th>\n      <th>지점명</th>\n      <th>일시</th>\n      <th>기온(°C)</th>\n      <th>풍속(m/s)</th>\n      <th>풍향(16방위)</th>\n      <th>습도(%)</th>\n      <th>전운량(10분위)</th>\n    </tr>\n  </thead>\n  <tbody>\n    <tr>\n      <th>0</th>\n      <td>129</td>\n      <td>서산</td>\n      <td>2018-03-01 00:00</td>\n      <td>3.1</td>\n      <td>3.6</td>\n      <td>340.0</td>\n      <td>96.0</td>\n      <td>NaN</td>\n    </tr>\n    <tr>\n      <th>1</th>\n      <td>129</td>\n      <td>서산</td>\n      <td>2018-03-01 01:00</td>\n      <td>2.8</td>\n      <td>0.7</td>\n      <td>140.0</td>\n      <td>97.0</td>\n      <td>NaN</td>\n    </tr>\n    <tr>\n      <th>2</th>\n      <td>129</td>\n      <td>서산</td>\n      <td>2018-03-01 02:00</td>\n      <td>2.6</td>\n      <td>3.2</td>\n      <td>320.0</td>\n      <td>95.0</td>\n      <td>NaN</td>\n    </tr>\n    <tr>\n      <th>3</th>\n      <td>129</td>\n      <td>서산</td>\n      <td>2018-03-01 03:00</td>\n      <td>2.0</td>\n      <td>1.9</td>\n      <td>230.0</td>\n      <td>97.0</td>\n      <td>NaN</td>\n    </tr>\n    <tr>\n      <th>4</th>\n      <td>129</td>\n      <td>서산</td>\n      <td>2018-03-01 04:00</td>\n      <td>2.2</td>\n      <td>2.1</td>\n      <td>180.0</td>\n      <td>97.0</td>\n      <td>NaN</td>\n    </tr>\n    <tr>\n      <th>...</th>\n      <td>...</td>\n      <td>...</td>\n      <td>...</td>\n      <td>...</td>\n      <td>...</td>\n      <td>...</td>\n      <td>...</td>\n      <td>...</td>\n    </tr>\n    <tr>\n      <th>25621</th>\n      <td>129</td>\n      <td>서산</td>\n      <td>2021-01-31 19:00</td>\n      <td>6.7</td>\n      <td>1.5</td>\n      <td>200.0</td>\n      <td>75.0</td>\n      <td>8.0</td>\n    </tr>\n    <tr>\n      <th>25622</th>\n      <td>129</td>\n      <td>서산</td>\n      <td>2021-01-31 20:00</td>\n      <td>6.2</td>\n      <td>0.8</td>\n      <td>200.0</td>\n      <td>77.0</td>\n      <td>8.0</td>\n    </tr>\n    <tr>\n      <th>25623</th>\n      <td>129</td>\n      <td>서산</td>\n      <td>2021-01-31 21:00</td>\n      <td>5.3</td>\n      <td>0.7</td>\n      <td>230.0</td>\n      <td>82.0</td>\n      <td>8.0</td>\n    </tr>\n    <tr>\n      <th>25624</th>\n      <td>129</td>\n      <td>서산</td>\n      <td>2021-01-31 22:00</td>\n      <td>5.8</td>\n      <td>1.0</td>\n      <td>200.0</td>\n      <td>77.0</td>\n      <td>8.0</td>\n    </tr>\n    <tr>\n      <th>25625</th>\n      <td>129</td>\n      <td>서산</td>\n      <td>2021-01-31 23:00</td>\n      <td>5.3</td>\n      <td>0.6</td>\n      <td>230.0</td>\n      <td>80.0</td>\n      <td>7.0</td>\n    </tr>\n  </tbody>\n</table>\n<p>25626 rows × 8 columns</p>\n</div>"
     },
     "metadata": {},
     "execution_count": 232
    }
   ],
   "source": [
    "dangjin_obs_data"
   ]
  },
  {
   "cell_type": "code",
   "execution_count": 233,
   "metadata": {},
   "outputs": [
    {
     "output_type": "execute_result",
     "data": {
      "text/plain": [
       "              Forecast time  forecast  Temperature  Humidity  WindSpeed  \\\n",
       "0       2018-03-01 11:00:00       4.0          8.0      20.0       14.0   \n",
       "1       2018-03-01 11:00:00       7.0          4.0      20.0        4.3   \n",
       "2       2018-03-01 11:00:00      10.0          3.0      30.0        1.9   \n",
       "3       2018-03-01 11:00:00      13.0          0.0      40.0        1.5   \n",
       "4       2018-03-01 11:00:00      16.0         -1.0      45.0        1.8   \n",
       "...                     ...       ...          ...       ...        ...   \n",
       "162203  2021-03-01 08:00:00      52.0          9.0      45.0        3.1   \n",
       "162204  2021-03-01 08:00:00      55.0          9.0      45.0        3.0   \n",
       "162205  2021-03-01 08:00:00      58.0          8.0      55.0        2.2   \n",
       "162206  2021-03-01 08:00:00      61.0          6.0      65.0        0.9   \n",
       "162207  2021-03-01 08:00:00      64.0          4.0      80.0        0.7   \n",
       "\n",
       "        WindDirection  Cloud  \n",
       "0               298.0    2.0  \n",
       "1               298.0    2.0  \n",
       "2               309.0    2.0  \n",
       "3               318.0    2.0  \n",
       "4               308.0    2.0  \n",
       "...               ...    ...  \n",
       "162203           83.0    3.0  \n",
       "162204          111.0    3.0  \n",
       "162205          122.0    3.0  \n",
       "162206          131.0    3.0  \n",
       "162207          188.0    3.0  \n",
       "\n",
       "[162208 rows x 7 columns]"
      ],
      "text/html": "<div>\n<style scoped>\n    .dataframe tbody tr th:only-of-type {\n        vertical-align: middle;\n    }\n\n    .dataframe tbody tr th {\n        vertical-align: top;\n    }\n\n    .dataframe thead th {\n        text-align: right;\n    }\n</style>\n<table border=\"1\" class=\"dataframe\">\n  <thead>\n    <tr style=\"text-align: right;\">\n      <th></th>\n      <th>Forecast time</th>\n      <th>forecast</th>\n      <th>Temperature</th>\n      <th>Humidity</th>\n      <th>WindSpeed</th>\n      <th>WindDirection</th>\n      <th>Cloud</th>\n    </tr>\n  </thead>\n  <tbody>\n    <tr>\n      <th>0</th>\n      <td>2018-03-01 11:00:00</td>\n      <td>4.0</td>\n      <td>8.0</td>\n      <td>20.0</td>\n      <td>14.0</td>\n      <td>298.0</td>\n      <td>2.0</td>\n    </tr>\n    <tr>\n      <th>1</th>\n      <td>2018-03-01 11:00:00</td>\n      <td>7.0</td>\n      <td>4.0</td>\n      <td>20.0</td>\n      <td>4.3</td>\n      <td>298.0</td>\n      <td>2.0</td>\n    </tr>\n    <tr>\n      <th>2</th>\n      <td>2018-03-01 11:00:00</td>\n      <td>10.0</td>\n      <td>3.0</td>\n      <td>30.0</td>\n      <td>1.9</td>\n      <td>309.0</td>\n      <td>2.0</td>\n    </tr>\n    <tr>\n      <th>3</th>\n      <td>2018-03-01 11:00:00</td>\n      <td>13.0</td>\n      <td>0.0</td>\n      <td>40.0</td>\n      <td>1.5</td>\n      <td>318.0</td>\n      <td>2.0</td>\n    </tr>\n    <tr>\n      <th>4</th>\n      <td>2018-03-01 11:00:00</td>\n      <td>16.0</td>\n      <td>-1.0</td>\n      <td>45.0</td>\n      <td>1.8</td>\n      <td>308.0</td>\n      <td>2.0</td>\n    </tr>\n    <tr>\n      <th>...</th>\n      <td>...</td>\n      <td>...</td>\n      <td>...</td>\n      <td>...</td>\n      <td>...</td>\n      <td>...</td>\n      <td>...</td>\n    </tr>\n    <tr>\n      <th>162203</th>\n      <td>2021-03-01 08:00:00</td>\n      <td>52.0</td>\n      <td>9.0</td>\n      <td>45.0</td>\n      <td>3.1</td>\n      <td>83.0</td>\n      <td>3.0</td>\n    </tr>\n    <tr>\n      <th>162204</th>\n      <td>2021-03-01 08:00:00</td>\n      <td>55.0</td>\n      <td>9.0</td>\n      <td>45.0</td>\n      <td>3.0</td>\n      <td>111.0</td>\n      <td>3.0</td>\n    </tr>\n    <tr>\n      <th>162205</th>\n      <td>2021-03-01 08:00:00</td>\n      <td>58.0</td>\n      <td>8.0</td>\n      <td>55.0</td>\n      <td>2.2</td>\n      <td>122.0</td>\n      <td>3.0</td>\n    </tr>\n    <tr>\n      <th>162206</th>\n      <td>2021-03-01 08:00:00</td>\n      <td>61.0</td>\n      <td>6.0</td>\n      <td>65.0</td>\n      <td>0.9</td>\n      <td>131.0</td>\n      <td>3.0</td>\n    </tr>\n    <tr>\n      <th>162207</th>\n      <td>2021-03-01 08:00:00</td>\n      <td>64.0</td>\n      <td>4.0</td>\n      <td>80.0</td>\n      <td>0.7</td>\n      <td>188.0</td>\n      <td>3.0</td>\n    </tr>\n  </tbody>\n</table>\n<p>162208 rows × 7 columns</p>\n</div>"
     },
     "metadata": {},
     "execution_count": 233
    }
   ],
   "source": [
    "ulsan_fcst_data"
   ]
  },
  {
   "cell_type": "code",
   "execution_count": 234,
   "metadata": {},
   "outputs": [
    {
     "output_type": "execute_result",
     "data": {
      "text/plain": [
       "        지점 지점명                일시  기온(°C)  풍속(m/s)  풍향(16방위)  습도(%)  전운량(10분위)\n",
       "0      152  울산  2018-03-01 00:00     8.2      3.9     340.0   98.0       10.0\n",
       "1      152  울산  2018-03-01 01:00     7.0      4.1     320.0   97.0       10.0\n",
       "2      152  울산  2018-03-01 02:00     6.5      5.9     290.0   80.0        NaN\n",
       "3      152  울산  2018-03-01 03:00     6.2      4.6     320.0   79.0        3.0\n",
       "4      152  울산  2018-03-01 04:00     6.7      4.5     320.0   73.0        1.0\n",
       "...    ...  ..               ...     ...      ...       ...    ...        ...\n",
       "25627  152  울산  2021-01-31 19:00     8.8      2.5     200.0   50.0        5.0\n",
       "25628  152  울산  2021-01-31 20:00     8.7      3.9     200.0   49.0        1.0\n",
       "25629  152  울산  2021-01-31 21:00     8.4      2.4     230.0   51.0        7.0\n",
       "25630  152  울산  2021-01-31 22:00     9.4      3.3     230.0   51.0        8.0\n",
       "25631  152  울산  2021-01-31 23:00     9.3      3.1     200.0   56.0        9.0\n",
       "\n",
       "[25632 rows x 8 columns]"
      ],
      "text/html": "<div>\n<style scoped>\n    .dataframe tbody tr th:only-of-type {\n        vertical-align: middle;\n    }\n\n    .dataframe tbody tr th {\n        vertical-align: top;\n    }\n\n    .dataframe thead th {\n        text-align: right;\n    }\n</style>\n<table border=\"1\" class=\"dataframe\">\n  <thead>\n    <tr style=\"text-align: right;\">\n      <th></th>\n      <th>지점</th>\n      <th>지점명</th>\n      <th>일시</th>\n      <th>기온(°C)</th>\n      <th>풍속(m/s)</th>\n      <th>풍향(16방위)</th>\n      <th>습도(%)</th>\n      <th>전운량(10분위)</th>\n    </tr>\n  </thead>\n  <tbody>\n    <tr>\n      <th>0</th>\n      <td>152</td>\n      <td>울산</td>\n      <td>2018-03-01 00:00</td>\n      <td>8.2</td>\n      <td>3.9</td>\n      <td>340.0</td>\n      <td>98.0</td>\n      <td>10.0</td>\n    </tr>\n    <tr>\n      <th>1</th>\n      <td>152</td>\n      <td>울산</td>\n      <td>2018-03-01 01:00</td>\n      <td>7.0</td>\n      <td>4.1</td>\n      <td>320.0</td>\n      <td>97.0</td>\n      <td>10.0</td>\n    </tr>\n    <tr>\n      <th>2</th>\n      <td>152</td>\n      <td>울산</td>\n      <td>2018-03-01 02:00</td>\n      <td>6.5</td>\n      <td>5.9</td>\n      <td>290.0</td>\n      <td>80.0</td>\n      <td>NaN</td>\n    </tr>\n    <tr>\n      <th>3</th>\n      <td>152</td>\n      <td>울산</td>\n      <td>2018-03-01 03:00</td>\n      <td>6.2</td>\n      <td>4.6</td>\n      <td>320.0</td>\n      <td>79.0</td>\n      <td>3.0</td>\n    </tr>\n    <tr>\n      <th>4</th>\n      <td>152</td>\n      <td>울산</td>\n      <td>2018-03-01 04:00</td>\n      <td>6.7</td>\n      <td>4.5</td>\n      <td>320.0</td>\n      <td>73.0</td>\n      <td>1.0</td>\n    </tr>\n    <tr>\n      <th>...</th>\n      <td>...</td>\n      <td>...</td>\n      <td>...</td>\n      <td>...</td>\n      <td>...</td>\n      <td>...</td>\n      <td>...</td>\n      <td>...</td>\n    </tr>\n    <tr>\n      <th>25627</th>\n      <td>152</td>\n      <td>울산</td>\n      <td>2021-01-31 19:00</td>\n      <td>8.8</td>\n      <td>2.5</td>\n      <td>200.0</td>\n      <td>50.0</td>\n      <td>5.0</td>\n    </tr>\n    <tr>\n      <th>25628</th>\n      <td>152</td>\n      <td>울산</td>\n      <td>2021-01-31 20:00</td>\n      <td>8.7</td>\n      <td>3.9</td>\n      <td>200.0</td>\n      <td>49.0</td>\n      <td>1.0</td>\n    </tr>\n    <tr>\n      <th>25629</th>\n      <td>152</td>\n      <td>울산</td>\n      <td>2021-01-31 21:00</td>\n      <td>8.4</td>\n      <td>2.4</td>\n      <td>230.0</td>\n      <td>51.0</td>\n      <td>7.0</td>\n    </tr>\n    <tr>\n      <th>25630</th>\n      <td>152</td>\n      <td>울산</td>\n      <td>2021-01-31 22:00</td>\n      <td>9.4</td>\n      <td>3.3</td>\n      <td>230.0</td>\n      <td>51.0</td>\n      <td>8.0</td>\n    </tr>\n    <tr>\n      <th>25631</th>\n      <td>152</td>\n      <td>울산</td>\n      <td>2021-01-31 23:00</td>\n      <td>9.3</td>\n      <td>3.1</td>\n      <td>200.0</td>\n      <td>56.0</td>\n      <td>9.0</td>\n    </tr>\n  </tbody>\n</table>\n<p>25632 rows × 8 columns</p>\n</div>"
     },
     "metadata": {},
     "execution_count": 234
    }
   ],
   "source": [
    "ulsan_obs_data"
   ]
  },
  {
   "source": [
    "### Change column name\n",
    "1. obs_data의 '지점'과 '지점명'은 drop\n",
    "2. Column name을 fcst_data를 기준으로 맞춘다."
   ],
   "cell_type": "markdown",
   "metadata": {}
  },
  {
   "cell_type": "code",
   "execution_count": 235,
   "metadata": {},
   "outputs": [],
   "source": [
    "# drop & re-order\r\n",
    "dangjin_obs_data = dangjin_obs_data.loc[:,['일시','기온(°C)','습도(%)','풍속(m/s)','풍향(16방위)','전운량(10분위)']]\r\n",
    "ulsan_obs_data = ulsan_obs_data.loc[:,['일시','기온(°C)','습도(%)','풍속(m/s)','풍향(16방위)','전운량(10분위)']]"
   ]
  },
  {
   "cell_type": "code",
   "execution_count": 236,
   "metadata": {},
   "outputs": [
    {
     "output_type": "execute_result",
     "data": {
      "text/plain": [
       "          Forecast time  Temperature  Humidity  WindSpeed  WindDirection  \\\n",
       "0      2018-03-01 00:00          3.1      96.0        3.6          340.0   \n",
       "1      2018-03-01 01:00          2.8      97.0        0.7          140.0   \n",
       "2      2018-03-01 02:00          2.6      95.0        3.2          320.0   \n",
       "3      2018-03-01 03:00          2.0      97.0        1.9          230.0   \n",
       "4      2018-03-01 04:00          2.2      97.0        2.1          180.0   \n",
       "...                 ...          ...       ...        ...            ...   \n",
       "25621  2021-01-31 19:00          6.7      75.0        1.5          200.0   \n",
       "25622  2021-01-31 20:00          6.2      77.0        0.8          200.0   \n",
       "25623  2021-01-31 21:00          5.3      82.0        0.7          230.0   \n",
       "25624  2021-01-31 22:00          5.8      77.0        1.0          200.0   \n",
       "25625  2021-01-31 23:00          5.3      80.0        0.6          230.0   \n",
       "\n",
       "       Cloud  \n",
       "0        NaN  \n",
       "1        NaN  \n",
       "2        NaN  \n",
       "3        NaN  \n",
       "4        NaN  \n",
       "...      ...  \n",
       "25621    8.0  \n",
       "25622    8.0  \n",
       "25623    8.0  \n",
       "25624    8.0  \n",
       "25625    7.0  \n",
       "\n",
       "[25626 rows x 6 columns]"
      ],
      "text/html": "<div>\n<style scoped>\n    .dataframe tbody tr th:only-of-type {\n        vertical-align: middle;\n    }\n\n    .dataframe tbody tr th {\n        vertical-align: top;\n    }\n\n    .dataframe thead th {\n        text-align: right;\n    }\n</style>\n<table border=\"1\" class=\"dataframe\">\n  <thead>\n    <tr style=\"text-align: right;\">\n      <th></th>\n      <th>Forecast time</th>\n      <th>Temperature</th>\n      <th>Humidity</th>\n      <th>WindSpeed</th>\n      <th>WindDirection</th>\n      <th>Cloud</th>\n    </tr>\n  </thead>\n  <tbody>\n    <tr>\n      <th>0</th>\n      <td>2018-03-01 00:00</td>\n      <td>3.1</td>\n      <td>96.0</td>\n      <td>3.6</td>\n      <td>340.0</td>\n      <td>NaN</td>\n    </tr>\n    <tr>\n      <th>1</th>\n      <td>2018-03-01 01:00</td>\n      <td>2.8</td>\n      <td>97.0</td>\n      <td>0.7</td>\n      <td>140.0</td>\n      <td>NaN</td>\n    </tr>\n    <tr>\n      <th>2</th>\n      <td>2018-03-01 02:00</td>\n      <td>2.6</td>\n      <td>95.0</td>\n      <td>3.2</td>\n      <td>320.0</td>\n      <td>NaN</td>\n    </tr>\n    <tr>\n      <th>3</th>\n      <td>2018-03-01 03:00</td>\n      <td>2.0</td>\n      <td>97.0</td>\n      <td>1.9</td>\n      <td>230.0</td>\n      <td>NaN</td>\n    </tr>\n    <tr>\n      <th>4</th>\n      <td>2018-03-01 04:00</td>\n      <td>2.2</td>\n      <td>97.0</td>\n      <td>2.1</td>\n      <td>180.0</td>\n      <td>NaN</td>\n    </tr>\n    <tr>\n      <th>...</th>\n      <td>...</td>\n      <td>...</td>\n      <td>...</td>\n      <td>...</td>\n      <td>...</td>\n      <td>...</td>\n    </tr>\n    <tr>\n      <th>25621</th>\n      <td>2021-01-31 19:00</td>\n      <td>6.7</td>\n      <td>75.0</td>\n      <td>1.5</td>\n      <td>200.0</td>\n      <td>8.0</td>\n    </tr>\n    <tr>\n      <th>25622</th>\n      <td>2021-01-31 20:00</td>\n      <td>6.2</td>\n      <td>77.0</td>\n      <td>0.8</td>\n      <td>200.0</td>\n      <td>8.0</td>\n    </tr>\n    <tr>\n      <th>25623</th>\n      <td>2021-01-31 21:00</td>\n      <td>5.3</td>\n      <td>82.0</td>\n      <td>0.7</td>\n      <td>230.0</td>\n      <td>8.0</td>\n    </tr>\n    <tr>\n      <th>25624</th>\n      <td>2021-01-31 22:00</td>\n      <td>5.8</td>\n      <td>77.0</td>\n      <td>1.0</td>\n      <td>200.0</td>\n      <td>8.0</td>\n    </tr>\n    <tr>\n      <th>25625</th>\n      <td>2021-01-31 23:00</td>\n      <td>5.3</td>\n      <td>80.0</td>\n      <td>0.6</td>\n      <td>230.0</td>\n      <td>7.0</td>\n    </tr>\n  </tbody>\n</table>\n<p>25626 rows × 6 columns</p>\n</div>"
     },
     "metadata": {},
     "execution_count": 236
    }
   ],
   "source": [
    "# change column names\n",
    "new_column_names = list(dangjin_fcst_data.columns)\n",
    "new_column_names.remove('forecast')\n",
    "new_column_names\n",
    "\n",
    "dangjin_obs_data.columns = new_column_names\n",
    "ulsan_obs_data.columns = new_column_names\n",
    "dangjin_obs_data"
   ]
  },
  {
   "source": [
    "### Check datatype"
   ],
   "cell_type": "markdown",
   "metadata": {}
  },
  {
   "cell_type": "code",
   "execution_count": 237,
   "metadata": {},
   "outputs": [
    {
     "output_type": "execute_result",
     "data": {
      "text/plain": [
       "Forecast time     object\n",
       "forecast         float64\n",
       "Temperature      float64\n",
       "Humidity         float64\n",
       "WindSpeed        float64\n",
       "WindDirection    float64\n",
       "Cloud            float64\n",
       "dtype: object"
      ]
     },
     "metadata": {},
     "execution_count": 237
    }
   ],
   "source": [
    "dangjin_fcst_data.dtypes"
   ]
  },
  {
   "cell_type": "code",
   "execution_count": 238,
   "metadata": {},
   "outputs": [
    {
     "output_type": "execute_result",
     "data": {
      "text/plain": [
       "Forecast time     object\n",
       "Temperature      float64\n",
       "Humidity         float64\n",
       "WindSpeed        float64\n",
       "WindDirection    float64\n",
       "Cloud            float64\n",
       "dtype: object"
      ]
     },
     "metadata": {},
     "execution_count": 238
    }
   ],
   "source": [
    "dangjin_obs_data.dtypes"
   ]
  },
  {
   "source": [
    "### Missing values (결측값)"
   ],
   "cell_type": "markdown",
   "metadata": {}
  },
  {
   "cell_type": "code",
   "execution_count": 239,
   "metadata": {},
   "outputs": [
    {
     "output_type": "execute_result",
     "data": {
      "text/plain": [
       "Forecast time    0\n",
       "forecast         0\n",
       "Temperature      0\n",
       "Humidity         0\n",
       "WindSpeed        0\n",
       "WindDirection    0\n",
       "Cloud            0\n",
       "dtype: int64"
      ]
     },
     "metadata": {},
     "execution_count": 239
    }
   ],
   "source": [
    "dangjin_fcst_data.isna().sum(axis=0)"
   ]
  },
  {
   "cell_type": "code",
   "execution_count": 240,
   "metadata": {},
   "outputs": [
    {
     "output_type": "execute_result",
     "data": {
      "text/plain": [
       "Forecast time       0\n",
       "Temperature        37\n",
       "Humidity           35\n",
       "WindSpeed          36\n",
       "WindDirection      36\n",
       "Cloud            3970\n",
       "dtype: int64"
      ]
     },
     "metadata": {},
     "execution_count": 240
    }
   ],
   "source": [
    "dangjin_obs_data.isna().sum(axis=0)"
   ]
  },
  {
   "cell_type": "code",
   "execution_count": 241,
   "metadata": {},
   "outputs": [
    {
     "output_type": "execute_result",
     "data": {
      "text/plain": [
       "Forecast time    0\n",
       "forecast         0\n",
       "Temperature      0\n",
       "Humidity         0\n",
       "WindSpeed        0\n",
       "WindDirection    0\n",
       "Cloud            0\n",
       "dtype: int64"
      ]
     },
     "metadata": {},
     "execution_count": 241
    }
   ],
   "source": [
    "ulsan_fcst_data.isna().sum(axis=0)"
   ]
  },
  {
   "cell_type": "code",
   "execution_count": 242,
   "metadata": {},
   "outputs": [
    {
     "output_type": "execute_result",
     "data": {
      "text/plain": [
       "Forecast time      0\n",
       "Temperature        4\n",
       "Humidity           1\n",
       "WindSpeed          1\n",
       "WindDirection      1\n",
       "Cloud            825\n",
       "dtype: int64"
      ]
     },
     "metadata": {},
     "execution_count": 242
    }
   ],
   "source": [
    "ulsan_obs_data.isna().sum(axis=0)"
   ]
  },
  {
   "source": [
    "### Calculate the timestamp being forecasted (in fcst_data)\n",
    ": fcst_data에서 Forecast_time과 forecast를 더해 예측 대상이 되는 timestamp를 새로운 column으로  \n",
    "\n",
    "1. Convert dtype to pd.datetime\n",
    "2. Map a timestampe-adding function to the timestamp column"
   ],
   "cell_type": "markdown",
   "metadata": {}
  },
  {
   "cell_type": "code",
   "execution_count": 243,
   "metadata": {},
   "outputs": [
    {
     "output_type": "execute_result",
     "data": {
      "text/plain": [
       "Forecast time    datetime64[ns]\n",
       "forecast                float64\n",
       "Temperature             float64\n",
       "Humidity                float64\n",
       "WindSpeed               float64\n",
       "WindDirection           float64\n",
       "Cloud                   float64\n",
       "dtype: object"
      ]
     },
     "metadata": {},
     "execution_count": 243
    }
   ],
   "source": [
    "# convert dtype to pd.datetime \n",
    "dangjin_fcst_data['Forecast time'] = pd.to_datetime(dangjin_fcst_data['Forecast time'])\n",
    "dangjin_obs_data['Forecast time'] = pd.to_datetime(dangjin_obs_data['Forecast time'])\n",
    "ulsan_fcst_data['Forecast time'] = pd.to_datetime(ulsan_fcst_data['Forecast time'])\n",
    "ulsan_obs_data['Forecast time'] = pd.to_datetime(ulsan_obs_data['Forecast time'])"
   ]
  },
  {
   "cell_type": "code",
   "execution_count": 244,
   "metadata": {},
   "outputs": [
    {
     "output_type": "stream",
     "name": "stderr",
     "text": [
      "C:\\Users\\IBK\\Anaconda\\lib\\site-packages\\pandas\\core\\arrays\\datetimelike.py:1342: PerformanceWarning: Adding/subtracting object-dtype array to DatetimeArray not vectorized\n  warnings.warn(\n"
     ]
    }
   ],
   "source": [
    "# calculate\n",
    "def to_date(x):\n",
    "    return pd.DateOffset(hours=x)\n",
    "\n",
    "dangjin_fcst_data['time'] = dangjin_fcst_data['Forecast time'] + dangjin_fcst_data['forecast'].map(to_date)\n",
    "ulsan_fcst_data['time'] = ulsan_fcst_data['Forecast time'] + ulsan_fcst_data['forecast'].map(to_date)"
   ]
  },
  {
   "cell_type": "code",
   "execution_count": 245,
   "metadata": {},
   "outputs": [],
   "source": [
    "# drop the original columns\r\n",
    "dangjin_fcst_data = dangjin_fcst_data.iloc[:,2:]\r\n",
    "ulsan_fcst_data = ulsan_fcst_data.iloc[:,2:]"
   ]
  },
  {
   "cell_type": "code",
   "execution_count": 246,
   "metadata": {},
   "outputs": [],
   "source": [
    "# re-order\n",
    "dangjin_fcst_data = dangjin_fcst_data.iloc[:,[-1,0,1,2,3,4]]\n",
    "ulsan_fcst_data = ulsan_fcst_data.iloc[:,[-1,0,1,2,3,4]]"
   ]
  },
  {
   "cell_type": "code",
   "execution_count": 247,
   "metadata": {},
   "outputs": [
    {
     "output_type": "execute_result",
     "data": {
      "text/plain": [
       "                      time  Temperature  Humidity  WindSpeed  WindDirection  \\\n",
       "0      2018-03-01 15:00:00          0.0      60.0        7.3          309.0   \n",
       "1      2018-03-01 18:00:00         -2.0      60.0        7.1          314.0   \n",
       "2      2018-03-01 21:00:00         -2.0      60.0        6.7          323.0   \n",
       "3      2018-03-02 00:00:00         -2.0      55.0        6.7          336.0   \n",
       "4      2018-03-02 03:00:00         -4.0      55.0        5.5          339.0   \n",
       "...                    ...          ...       ...        ...            ...   \n",
       "162203 2021-03-03 12:00:00          7.0      40.0        3.2          187.0   \n",
       "162204 2021-03-03 15:00:00          8.0      40.0        4.5          217.0   \n",
       "162205 2021-03-03 18:00:00          5.0      55.0        2.2          210.0   \n",
       "162206 2021-03-03 21:00:00          1.0      80.0        1.9          164.0   \n",
       "162207 2021-03-04 00:00:00          1.0      80.0        2.1          152.0   \n",
       "\n",
       "        Cloud  \n",
       "0         2.0  \n",
       "1         1.0  \n",
       "2         1.0  \n",
       "3         1.0  \n",
       "4         1.0  \n",
       "...       ...  \n",
       "162203    1.0  \n",
       "162204    1.0  \n",
       "162205    1.0  \n",
       "162206    1.0  \n",
       "162207    1.0  \n",
       "\n",
       "[162208 rows x 6 columns]"
      ],
      "text/html": "<div>\n<style scoped>\n    .dataframe tbody tr th:only-of-type {\n        vertical-align: middle;\n    }\n\n    .dataframe tbody tr th {\n        vertical-align: top;\n    }\n\n    .dataframe thead th {\n        text-align: right;\n    }\n</style>\n<table border=\"1\" class=\"dataframe\">\n  <thead>\n    <tr style=\"text-align: right;\">\n      <th></th>\n      <th>time</th>\n      <th>Temperature</th>\n      <th>Humidity</th>\n      <th>WindSpeed</th>\n      <th>WindDirection</th>\n      <th>Cloud</th>\n    </tr>\n  </thead>\n  <tbody>\n    <tr>\n      <th>0</th>\n      <td>2018-03-01 15:00:00</td>\n      <td>0.0</td>\n      <td>60.0</td>\n      <td>7.3</td>\n      <td>309.0</td>\n      <td>2.0</td>\n    </tr>\n    <tr>\n      <th>1</th>\n      <td>2018-03-01 18:00:00</td>\n      <td>-2.0</td>\n      <td>60.0</td>\n      <td>7.1</td>\n      <td>314.0</td>\n      <td>1.0</td>\n    </tr>\n    <tr>\n      <th>2</th>\n      <td>2018-03-01 21:00:00</td>\n      <td>-2.0</td>\n      <td>60.0</td>\n      <td>6.7</td>\n      <td>323.0</td>\n      <td>1.0</td>\n    </tr>\n    <tr>\n      <th>3</th>\n      <td>2018-03-02 00:00:00</td>\n      <td>-2.0</td>\n      <td>55.0</td>\n      <td>6.7</td>\n      <td>336.0</td>\n      <td>1.0</td>\n    </tr>\n    <tr>\n      <th>4</th>\n      <td>2018-03-02 03:00:00</td>\n      <td>-4.0</td>\n      <td>55.0</td>\n      <td>5.5</td>\n      <td>339.0</td>\n      <td>1.0</td>\n    </tr>\n    <tr>\n      <th>...</th>\n      <td>...</td>\n      <td>...</td>\n      <td>...</td>\n      <td>...</td>\n      <td>...</td>\n      <td>...</td>\n    </tr>\n    <tr>\n      <th>162203</th>\n      <td>2021-03-03 12:00:00</td>\n      <td>7.0</td>\n      <td>40.0</td>\n      <td>3.2</td>\n      <td>187.0</td>\n      <td>1.0</td>\n    </tr>\n    <tr>\n      <th>162204</th>\n      <td>2021-03-03 15:00:00</td>\n      <td>8.0</td>\n      <td>40.0</td>\n      <td>4.5</td>\n      <td>217.0</td>\n      <td>1.0</td>\n    </tr>\n    <tr>\n      <th>162205</th>\n      <td>2021-03-03 18:00:00</td>\n      <td>5.0</td>\n      <td>55.0</td>\n      <td>2.2</td>\n      <td>210.0</td>\n      <td>1.0</td>\n    </tr>\n    <tr>\n      <th>162206</th>\n      <td>2021-03-03 21:00:00</td>\n      <td>1.0</td>\n      <td>80.0</td>\n      <td>1.9</td>\n      <td>164.0</td>\n      <td>1.0</td>\n    </tr>\n    <tr>\n      <th>162207</th>\n      <td>2021-03-04 00:00:00</td>\n      <td>1.0</td>\n      <td>80.0</td>\n      <td>2.1</td>\n      <td>152.0</td>\n      <td>1.0</td>\n    </tr>\n  </tbody>\n</table>\n<p>162208 rows × 6 columns</p>\n</div>"
     },
     "metadata": {},
     "execution_count": 247
    }
   ],
   "source": [
    "dangjin_fcst_data"
   ]
  },
  {
   "source": [
    "### Change column name of obs_data\n",
    ": from 'Forecast time' to 'time'  \n",
    "This is convineint becuase 'time' is the column name in 'energy.csv'.  "
   ],
   "cell_type": "markdown",
   "metadata": {}
  },
  {
   "source": [
    "dangjin_obs_data = dangjin_obs_data.rename(columns={'Forecast time':'time'})\n",
    "ulsan_obs_data = ulsan_obs_data.rename(columns={'Forecast time':'time'})"
   ],
   "cell_type": "code",
   "metadata": {},
   "execution_count": 248,
   "outputs": []
  },
  {
   "source": [
    "### Final overview & save in pickle"
   ],
   "cell_type": "markdown",
   "metadata": {}
  },
  {
   "cell_type": "code",
   "execution_count": 249,
   "metadata": {},
   "outputs": [
    {
     "output_type": "execute_result",
     "data": {
      "text/plain": [
       "                      time  Temperature  Humidity  WindSpeed  WindDirection  \\\n",
       "0      2018-03-01 15:00:00          0.0      60.0        7.3          309.0   \n",
       "1      2018-03-01 18:00:00         -2.0      60.0        7.1          314.0   \n",
       "2      2018-03-01 21:00:00         -2.0      60.0        6.7          323.0   \n",
       "3      2018-03-02 00:00:00         -2.0      55.0        6.7          336.0   \n",
       "4      2018-03-02 03:00:00         -4.0      55.0        5.5          339.0   \n",
       "...                    ...          ...       ...        ...            ...   \n",
       "162203 2021-03-03 12:00:00          7.0      40.0        3.2          187.0   \n",
       "162204 2021-03-03 15:00:00          8.0      40.0        4.5          217.0   \n",
       "162205 2021-03-03 18:00:00          5.0      55.0        2.2          210.0   \n",
       "162206 2021-03-03 21:00:00          1.0      80.0        1.9          164.0   \n",
       "162207 2021-03-04 00:00:00          1.0      80.0        2.1          152.0   \n",
       "\n",
       "        Cloud  \n",
       "0         2.0  \n",
       "1         1.0  \n",
       "2         1.0  \n",
       "3         1.0  \n",
       "4         1.0  \n",
       "...       ...  \n",
       "162203    1.0  \n",
       "162204    1.0  \n",
       "162205    1.0  \n",
       "162206    1.0  \n",
       "162207    1.0  \n",
       "\n",
       "[162208 rows x 6 columns]"
      ],
      "text/html": "<div>\n<style scoped>\n    .dataframe tbody tr th:only-of-type {\n        vertical-align: middle;\n    }\n\n    .dataframe tbody tr th {\n        vertical-align: top;\n    }\n\n    .dataframe thead th {\n        text-align: right;\n    }\n</style>\n<table border=\"1\" class=\"dataframe\">\n  <thead>\n    <tr style=\"text-align: right;\">\n      <th></th>\n      <th>time</th>\n      <th>Temperature</th>\n      <th>Humidity</th>\n      <th>WindSpeed</th>\n      <th>WindDirection</th>\n      <th>Cloud</th>\n    </tr>\n  </thead>\n  <tbody>\n    <tr>\n      <th>0</th>\n      <td>2018-03-01 15:00:00</td>\n      <td>0.0</td>\n      <td>60.0</td>\n      <td>7.3</td>\n      <td>309.0</td>\n      <td>2.0</td>\n    </tr>\n    <tr>\n      <th>1</th>\n      <td>2018-03-01 18:00:00</td>\n      <td>-2.0</td>\n      <td>60.0</td>\n      <td>7.1</td>\n      <td>314.0</td>\n      <td>1.0</td>\n    </tr>\n    <tr>\n      <th>2</th>\n      <td>2018-03-01 21:00:00</td>\n      <td>-2.0</td>\n      <td>60.0</td>\n      <td>6.7</td>\n      <td>323.0</td>\n      <td>1.0</td>\n    </tr>\n    <tr>\n      <th>3</th>\n      <td>2018-03-02 00:00:00</td>\n      <td>-2.0</td>\n      <td>55.0</td>\n      <td>6.7</td>\n      <td>336.0</td>\n      <td>1.0</td>\n    </tr>\n    <tr>\n      <th>4</th>\n      <td>2018-03-02 03:00:00</td>\n      <td>-4.0</td>\n      <td>55.0</td>\n      <td>5.5</td>\n      <td>339.0</td>\n      <td>1.0</td>\n    </tr>\n    <tr>\n      <th>...</th>\n      <td>...</td>\n      <td>...</td>\n      <td>...</td>\n      <td>...</td>\n      <td>...</td>\n      <td>...</td>\n    </tr>\n    <tr>\n      <th>162203</th>\n      <td>2021-03-03 12:00:00</td>\n      <td>7.0</td>\n      <td>40.0</td>\n      <td>3.2</td>\n      <td>187.0</td>\n      <td>1.0</td>\n    </tr>\n    <tr>\n      <th>162204</th>\n      <td>2021-03-03 15:00:00</td>\n      <td>8.0</td>\n      <td>40.0</td>\n      <td>4.5</td>\n      <td>217.0</td>\n      <td>1.0</td>\n    </tr>\n    <tr>\n      <th>162205</th>\n      <td>2021-03-03 18:00:00</td>\n      <td>5.0</td>\n      <td>55.0</td>\n      <td>2.2</td>\n      <td>210.0</td>\n      <td>1.0</td>\n    </tr>\n    <tr>\n      <th>162206</th>\n      <td>2021-03-03 21:00:00</td>\n      <td>1.0</td>\n      <td>80.0</td>\n      <td>1.9</td>\n      <td>164.0</td>\n      <td>1.0</td>\n    </tr>\n    <tr>\n      <th>162207</th>\n      <td>2021-03-04 00:00:00</td>\n      <td>1.0</td>\n      <td>80.0</td>\n      <td>2.1</td>\n      <td>152.0</td>\n      <td>1.0</td>\n    </tr>\n  </tbody>\n</table>\n<p>162208 rows × 6 columns</p>\n</div>"
     },
     "metadata": {},
     "execution_count": 249
    }
   ],
   "source": [
    "dangjin_fcst_data"
   ]
  },
  {
   "cell_type": "code",
   "execution_count": 250,
   "metadata": {},
   "outputs": [
    {
     "output_type": "execute_result",
     "data": {
      "text/plain": [
       "                     time  Temperature  Humidity  WindSpeed  WindDirection  \\\n",
       "0     2018-03-01 00:00:00          3.1      96.0        3.6          340.0   \n",
       "1     2018-03-01 01:00:00          2.8      97.0        0.7          140.0   \n",
       "2     2018-03-01 02:00:00          2.6      95.0        3.2          320.0   \n",
       "3     2018-03-01 03:00:00          2.0      97.0        1.9          230.0   \n",
       "4     2018-03-01 04:00:00          2.2      97.0        2.1          180.0   \n",
       "...                   ...          ...       ...        ...            ...   \n",
       "25621 2021-01-31 19:00:00          6.7      75.0        1.5          200.0   \n",
       "25622 2021-01-31 20:00:00          6.2      77.0        0.8          200.0   \n",
       "25623 2021-01-31 21:00:00          5.3      82.0        0.7          230.0   \n",
       "25624 2021-01-31 22:00:00          5.8      77.0        1.0          200.0   \n",
       "25625 2021-01-31 23:00:00          5.3      80.0        0.6          230.0   \n",
       "\n",
       "       Cloud  \n",
       "0        NaN  \n",
       "1        NaN  \n",
       "2        NaN  \n",
       "3        NaN  \n",
       "4        NaN  \n",
       "...      ...  \n",
       "25621    8.0  \n",
       "25622    8.0  \n",
       "25623    8.0  \n",
       "25624    8.0  \n",
       "25625    7.0  \n",
       "\n",
       "[25626 rows x 6 columns]"
      ],
      "text/html": "<div>\n<style scoped>\n    .dataframe tbody tr th:only-of-type {\n        vertical-align: middle;\n    }\n\n    .dataframe tbody tr th {\n        vertical-align: top;\n    }\n\n    .dataframe thead th {\n        text-align: right;\n    }\n</style>\n<table border=\"1\" class=\"dataframe\">\n  <thead>\n    <tr style=\"text-align: right;\">\n      <th></th>\n      <th>time</th>\n      <th>Temperature</th>\n      <th>Humidity</th>\n      <th>WindSpeed</th>\n      <th>WindDirection</th>\n      <th>Cloud</th>\n    </tr>\n  </thead>\n  <tbody>\n    <tr>\n      <th>0</th>\n      <td>2018-03-01 00:00:00</td>\n      <td>3.1</td>\n      <td>96.0</td>\n      <td>3.6</td>\n      <td>340.0</td>\n      <td>NaN</td>\n    </tr>\n    <tr>\n      <th>1</th>\n      <td>2018-03-01 01:00:00</td>\n      <td>2.8</td>\n      <td>97.0</td>\n      <td>0.7</td>\n      <td>140.0</td>\n      <td>NaN</td>\n    </tr>\n    <tr>\n      <th>2</th>\n      <td>2018-03-01 02:00:00</td>\n      <td>2.6</td>\n      <td>95.0</td>\n      <td>3.2</td>\n      <td>320.0</td>\n      <td>NaN</td>\n    </tr>\n    <tr>\n      <th>3</th>\n      <td>2018-03-01 03:00:00</td>\n      <td>2.0</td>\n      <td>97.0</td>\n      <td>1.9</td>\n      <td>230.0</td>\n      <td>NaN</td>\n    </tr>\n    <tr>\n      <th>4</th>\n      <td>2018-03-01 04:00:00</td>\n      <td>2.2</td>\n      <td>97.0</td>\n      <td>2.1</td>\n      <td>180.0</td>\n      <td>NaN</td>\n    </tr>\n    <tr>\n      <th>...</th>\n      <td>...</td>\n      <td>...</td>\n      <td>...</td>\n      <td>...</td>\n      <td>...</td>\n      <td>...</td>\n    </tr>\n    <tr>\n      <th>25621</th>\n      <td>2021-01-31 19:00:00</td>\n      <td>6.7</td>\n      <td>75.0</td>\n      <td>1.5</td>\n      <td>200.0</td>\n      <td>8.0</td>\n    </tr>\n    <tr>\n      <th>25622</th>\n      <td>2021-01-31 20:00:00</td>\n      <td>6.2</td>\n      <td>77.0</td>\n      <td>0.8</td>\n      <td>200.0</td>\n      <td>8.0</td>\n    </tr>\n    <tr>\n      <th>25623</th>\n      <td>2021-01-31 21:00:00</td>\n      <td>5.3</td>\n      <td>82.0</td>\n      <td>0.7</td>\n      <td>230.0</td>\n      <td>8.0</td>\n    </tr>\n    <tr>\n      <th>25624</th>\n      <td>2021-01-31 22:00:00</td>\n      <td>5.8</td>\n      <td>77.0</td>\n      <td>1.0</td>\n      <td>200.0</td>\n      <td>8.0</td>\n    </tr>\n    <tr>\n      <th>25625</th>\n      <td>2021-01-31 23:00:00</td>\n      <td>5.3</td>\n      <td>80.0</td>\n      <td>0.6</td>\n      <td>230.0</td>\n      <td>7.0</td>\n    </tr>\n  </tbody>\n</table>\n<p>25626 rows × 6 columns</p>\n</div>"
     },
     "metadata": {},
     "execution_count": 250
    }
   ],
   "source": [
    "dangjin_obs_data"
   ]
  },
  {
   "cell_type": "code",
   "execution_count": 251,
   "metadata": {},
   "outputs": [
    {
     "output_type": "execute_result",
     "data": {
      "text/plain": [
       "                      time  Temperature  Humidity  WindSpeed  WindDirection  \\\n",
       "0      2018-03-01 15:00:00          8.0      20.0       14.0          298.0   \n",
       "1      2018-03-01 18:00:00          4.0      20.0        4.3          298.0   \n",
       "2      2018-03-01 21:00:00          3.0      30.0        1.9          309.0   \n",
       "3      2018-03-02 00:00:00          0.0      40.0        1.5          318.0   \n",
       "4      2018-03-02 03:00:00         -1.0      45.0        1.8          308.0   \n",
       "...                    ...          ...       ...        ...            ...   \n",
       "162203 2021-03-03 12:00:00          9.0      45.0        3.1           83.0   \n",
       "162204 2021-03-03 15:00:00          9.0      45.0        3.0          111.0   \n",
       "162205 2021-03-03 18:00:00          8.0      55.0        2.2          122.0   \n",
       "162206 2021-03-03 21:00:00          6.0      65.0        0.9          131.0   \n",
       "162207 2021-03-04 00:00:00          4.0      80.0        0.7          188.0   \n",
       "\n",
       "        Cloud  \n",
       "0         2.0  \n",
       "1         2.0  \n",
       "2         2.0  \n",
       "3         2.0  \n",
       "4         2.0  \n",
       "...       ...  \n",
       "162203    3.0  \n",
       "162204    3.0  \n",
       "162205    3.0  \n",
       "162206    3.0  \n",
       "162207    3.0  \n",
       "\n",
       "[162208 rows x 6 columns]"
      ],
      "text/html": "<div>\n<style scoped>\n    .dataframe tbody tr th:only-of-type {\n        vertical-align: middle;\n    }\n\n    .dataframe tbody tr th {\n        vertical-align: top;\n    }\n\n    .dataframe thead th {\n        text-align: right;\n    }\n</style>\n<table border=\"1\" class=\"dataframe\">\n  <thead>\n    <tr style=\"text-align: right;\">\n      <th></th>\n      <th>time</th>\n      <th>Temperature</th>\n      <th>Humidity</th>\n      <th>WindSpeed</th>\n      <th>WindDirection</th>\n      <th>Cloud</th>\n    </tr>\n  </thead>\n  <tbody>\n    <tr>\n      <th>0</th>\n      <td>2018-03-01 15:00:00</td>\n      <td>8.0</td>\n      <td>20.0</td>\n      <td>14.0</td>\n      <td>298.0</td>\n      <td>2.0</td>\n    </tr>\n    <tr>\n      <th>1</th>\n      <td>2018-03-01 18:00:00</td>\n      <td>4.0</td>\n      <td>20.0</td>\n      <td>4.3</td>\n      <td>298.0</td>\n      <td>2.0</td>\n    </tr>\n    <tr>\n      <th>2</th>\n      <td>2018-03-01 21:00:00</td>\n      <td>3.0</td>\n      <td>30.0</td>\n      <td>1.9</td>\n      <td>309.0</td>\n      <td>2.0</td>\n    </tr>\n    <tr>\n      <th>3</th>\n      <td>2018-03-02 00:00:00</td>\n      <td>0.0</td>\n      <td>40.0</td>\n      <td>1.5</td>\n      <td>318.0</td>\n      <td>2.0</td>\n    </tr>\n    <tr>\n      <th>4</th>\n      <td>2018-03-02 03:00:00</td>\n      <td>-1.0</td>\n      <td>45.0</td>\n      <td>1.8</td>\n      <td>308.0</td>\n      <td>2.0</td>\n    </tr>\n    <tr>\n      <th>...</th>\n      <td>...</td>\n      <td>...</td>\n      <td>...</td>\n      <td>...</td>\n      <td>...</td>\n      <td>...</td>\n    </tr>\n    <tr>\n      <th>162203</th>\n      <td>2021-03-03 12:00:00</td>\n      <td>9.0</td>\n      <td>45.0</td>\n      <td>3.1</td>\n      <td>83.0</td>\n      <td>3.0</td>\n    </tr>\n    <tr>\n      <th>162204</th>\n      <td>2021-03-03 15:00:00</td>\n      <td>9.0</td>\n      <td>45.0</td>\n      <td>3.0</td>\n      <td>111.0</td>\n      <td>3.0</td>\n    </tr>\n    <tr>\n      <th>162205</th>\n      <td>2021-03-03 18:00:00</td>\n      <td>8.0</td>\n      <td>55.0</td>\n      <td>2.2</td>\n      <td>122.0</td>\n      <td>3.0</td>\n    </tr>\n    <tr>\n      <th>162206</th>\n      <td>2021-03-03 21:00:00</td>\n      <td>6.0</td>\n      <td>65.0</td>\n      <td>0.9</td>\n      <td>131.0</td>\n      <td>3.0</td>\n    </tr>\n    <tr>\n      <th>162207</th>\n      <td>2021-03-04 00:00:00</td>\n      <td>4.0</td>\n      <td>80.0</td>\n      <td>0.7</td>\n      <td>188.0</td>\n      <td>3.0</td>\n    </tr>\n  </tbody>\n</table>\n<p>162208 rows × 6 columns</p>\n</div>"
     },
     "metadata": {},
     "execution_count": 251
    }
   ],
   "source": [
    "ulsan_fcst_data"
   ]
  },
  {
   "cell_type": "code",
   "execution_count": 252,
   "metadata": {},
   "outputs": [
    {
     "output_type": "execute_result",
     "data": {
      "text/plain": [
       "                     time  Temperature  Humidity  WindSpeed  WindDirection  \\\n",
       "0     2018-03-01 00:00:00          8.2      98.0        3.9          340.0   \n",
       "1     2018-03-01 01:00:00          7.0      97.0        4.1          320.0   \n",
       "2     2018-03-01 02:00:00          6.5      80.0        5.9          290.0   \n",
       "3     2018-03-01 03:00:00          6.2      79.0        4.6          320.0   \n",
       "4     2018-03-01 04:00:00          6.7      73.0        4.5          320.0   \n",
       "...                   ...          ...       ...        ...            ...   \n",
       "25627 2021-01-31 19:00:00          8.8      50.0        2.5          200.0   \n",
       "25628 2021-01-31 20:00:00          8.7      49.0        3.9          200.0   \n",
       "25629 2021-01-31 21:00:00          8.4      51.0        2.4          230.0   \n",
       "25630 2021-01-31 22:00:00          9.4      51.0        3.3          230.0   \n",
       "25631 2021-01-31 23:00:00          9.3      56.0        3.1          200.0   \n",
       "\n",
       "       Cloud  \n",
       "0       10.0  \n",
       "1       10.0  \n",
       "2        NaN  \n",
       "3        3.0  \n",
       "4        1.0  \n",
       "...      ...  \n",
       "25627    5.0  \n",
       "25628    1.0  \n",
       "25629    7.0  \n",
       "25630    8.0  \n",
       "25631    9.0  \n",
       "\n",
       "[25632 rows x 6 columns]"
      ],
      "text/html": "<div>\n<style scoped>\n    .dataframe tbody tr th:only-of-type {\n        vertical-align: middle;\n    }\n\n    .dataframe tbody tr th {\n        vertical-align: top;\n    }\n\n    .dataframe thead th {\n        text-align: right;\n    }\n</style>\n<table border=\"1\" class=\"dataframe\">\n  <thead>\n    <tr style=\"text-align: right;\">\n      <th></th>\n      <th>time</th>\n      <th>Temperature</th>\n      <th>Humidity</th>\n      <th>WindSpeed</th>\n      <th>WindDirection</th>\n      <th>Cloud</th>\n    </tr>\n  </thead>\n  <tbody>\n    <tr>\n      <th>0</th>\n      <td>2018-03-01 00:00:00</td>\n      <td>8.2</td>\n      <td>98.0</td>\n      <td>3.9</td>\n      <td>340.0</td>\n      <td>10.0</td>\n    </tr>\n    <tr>\n      <th>1</th>\n      <td>2018-03-01 01:00:00</td>\n      <td>7.0</td>\n      <td>97.0</td>\n      <td>4.1</td>\n      <td>320.0</td>\n      <td>10.0</td>\n    </tr>\n    <tr>\n      <th>2</th>\n      <td>2018-03-01 02:00:00</td>\n      <td>6.5</td>\n      <td>80.0</td>\n      <td>5.9</td>\n      <td>290.0</td>\n      <td>NaN</td>\n    </tr>\n    <tr>\n      <th>3</th>\n      <td>2018-03-01 03:00:00</td>\n      <td>6.2</td>\n      <td>79.0</td>\n      <td>4.6</td>\n      <td>320.0</td>\n      <td>3.0</td>\n    </tr>\n    <tr>\n      <th>4</th>\n      <td>2018-03-01 04:00:00</td>\n      <td>6.7</td>\n      <td>73.0</td>\n      <td>4.5</td>\n      <td>320.0</td>\n      <td>1.0</td>\n    </tr>\n    <tr>\n      <th>...</th>\n      <td>...</td>\n      <td>...</td>\n      <td>...</td>\n      <td>...</td>\n      <td>...</td>\n      <td>...</td>\n    </tr>\n    <tr>\n      <th>25627</th>\n      <td>2021-01-31 19:00:00</td>\n      <td>8.8</td>\n      <td>50.0</td>\n      <td>2.5</td>\n      <td>200.0</td>\n      <td>5.0</td>\n    </tr>\n    <tr>\n      <th>25628</th>\n      <td>2021-01-31 20:00:00</td>\n      <td>8.7</td>\n      <td>49.0</td>\n      <td>3.9</td>\n      <td>200.0</td>\n      <td>1.0</td>\n    </tr>\n    <tr>\n      <th>25629</th>\n      <td>2021-01-31 21:00:00</td>\n      <td>8.4</td>\n      <td>51.0</td>\n      <td>2.4</td>\n      <td>230.0</td>\n      <td>7.0</td>\n    </tr>\n    <tr>\n      <th>25630</th>\n      <td>2021-01-31 22:00:00</td>\n      <td>9.4</td>\n      <td>51.0</td>\n      <td>3.3</td>\n      <td>230.0</td>\n      <td>8.0</td>\n    </tr>\n    <tr>\n      <th>25631</th>\n      <td>2021-01-31 23:00:00</td>\n      <td>9.3</td>\n      <td>56.0</td>\n      <td>3.1</td>\n      <td>200.0</td>\n      <td>9.0</td>\n    </tr>\n  </tbody>\n</table>\n<p>25632 rows × 6 columns</p>\n</div>"
     },
     "metadata": {},
     "execution_count": 252
    }
   ],
   "source": [
    "ulsan_obs_data"
   ]
  },
  {
   "cell_type": "code",
   "execution_count": 253,
   "metadata": {},
   "outputs": [],
   "source": [
    "# pickle the data\n",
    "with open('dangjin_fcst_data.pkl','wb') as f:\n",
    "    pickle.dump(dangjin_fcst_data,f)\n",
    "with open('dangjin_obs_data.pkl','wb') as f:\n",
    "    pickle.dump(dangjin_obs_data,f)\n",
    "with open('ulsan_fcst_data.pkl','wb') as f:\n",
    "    pickle.dump(ulsan_fcst_data,f)\n",
    "with open('ulsan_obs_data.pkl','wb') as f:\n",
    "    pickle.dump(ulsan_obs_data,f)"
   ]
  },
  {
   "cell_type": "code",
   "execution_count": 254,
   "metadata": {},
   "outputs": [
    {
     "output_type": "execute_result",
     "data": {
      "text/plain": [
       "                      time  Temperature  Humidity  WindSpeed  WindDirection  \\\n",
       "0      2018-03-01 15:00:00          0.0      60.0        7.3          309.0   \n",
       "1      2018-03-01 18:00:00         -2.0      60.0        7.1          314.0   \n",
       "2      2018-03-01 21:00:00         -2.0      60.0        6.7          323.0   \n",
       "3      2018-03-02 00:00:00         -2.0      55.0        6.7          336.0   \n",
       "4      2018-03-02 03:00:00         -4.0      55.0        5.5          339.0   \n",
       "...                    ...          ...       ...        ...            ...   \n",
       "162203 2021-03-03 12:00:00          7.0      40.0        3.2          187.0   \n",
       "162204 2021-03-03 15:00:00          8.0      40.0        4.5          217.0   \n",
       "162205 2021-03-03 18:00:00          5.0      55.0        2.2          210.0   \n",
       "162206 2021-03-03 21:00:00          1.0      80.0        1.9          164.0   \n",
       "162207 2021-03-04 00:00:00          1.0      80.0        2.1          152.0   \n",
       "\n",
       "        Cloud  \n",
       "0         2.0  \n",
       "1         1.0  \n",
       "2         1.0  \n",
       "3         1.0  \n",
       "4         1.0  \n",
       "...       ...  \n",
       "162203    1.0  \n",
       "162204    1.0  \n",
       "162205    1.0  \n",
       "162206    1.0  \n",
       "162207    1.0  \n",
       "\n",
       "[162208 rows x 6 columns]"
      ],
      "text/html": "<div>\n<style scoped>\n    .dataframe tbody tr th:only-of-type {\n        vertical-align: middle;\n    }\n\n    .dataframe tbody tr th {\n        vertical-align: top;\n    }\n\n    .dataframe thead th {\n        text-align: right;\n    }\n</style>\n<table border=\"1\" class=\"dataframe\">\n  <thead>\n    <tr style=\"text-align: right;\">\n      <th></th>\n      <th>time</th>\n      <th>Temperature</th>\n      <th>Humidity</th>\n      <th>WindSpeed</th>\n      <th>WindDirection</th>\n      <th>Cloud</th>\n    </tr>\n  </thead>\n  <tbody>\n    <tr>\n      <th>0</th>\n      <td>2018-03-01 15:00:00</td>\n      <td>0.0</td>\n      <td>60.0</td>\n      <td>7.3</td>\n      <td>309.0</td>\n      <td>2.0</td>\n    </tr>\n    <tr>\n      <th>1</th>\n      <td>2018-03-01 18:00:00</td>\n      <td>-2.0</td>\n      <td>60.0</td>\n      <td>7.1</td>\n      <td>314.0</td>\n      <td>1.0</td>\n    </tr>\n    <tr>\n      <th>2</th>\n      <td>2018-03-01 21:00:00</td>\n      <td>-2.0</td>\n      <td>60.0</td>\n      <td>6.7</td>\n      <td>323.0</td>\n      <td>1.0</td>\n    </tr>\n    <tr>\n      <th>3</th>\n      <td>2018-03-02 00:00:00</td>\n      <td>-2.0</td>\n      <td>55.0</td>\n      <td>6.7</td>\n      <td>336.0</td>\n      <td>1.0</td>\n    </tr>\n    <tr>\n      <th>4</th>\n      <td>2018-03-02 03:00:00</td>\n      <td>-4.0</td>\n      <td>55.0</td>\n      <td>5.5</td>\n      <td>339.0</td>\n      <td>1.0</td>\n    </tr>\n    <tr>\n      <th>...</th>\n      <td>...</td>\n      <td>...</td>\n      <td>...</td>\n      <td>...</td>\n      <td>...</td>\n      <td>...</td>\n    </tr>\n    <tr>\n      <th>162203</th>\n      <td>2021-03-03 12:00:00</td>\n      <td>7.0</td>\n      <td>40.0</td>\n      <td>3.2</td>\n      <td>187.0</td>\n      <td>1.0</td>\n    </tr>\n    <tr>\n      <th>162204</th>\n      <td>2021-03-03 15:00:00</td>\n      <td>8.0</td>\n      <td>40.0</td>\n      <td>4.5</td>\n      <td>217.0</td>\n      <td>1.0</td>\n    </tr>\n    <tr>\n      <th>162205</th>\n      <td>2021-03-03 18:00:00</td>\n      <td>5.0</td>\n      <td>55.0</td>\n      <td>2.2</td>\n      <td>210.0</td>\n      <td>1.0</td>\n    </tr>\n    <tr>\n      <th>162206</th>\n      <td>2021-03-03 21:00:00</td>\n      <td>1.0</td>\n      <td>80.0</td>\n      <td>1.9</td>\n      <td>164.0</td>\n      <td>1.0</td>\n    </tr>\n    <tr>\n      <th>162207</th>\n      <td>2021-03-04 00:00:00</td>\n      <td>1.0</td>\n      <td>80.0</td>\n      <td>2.1</td>\n      <td>152.0</td>\n      <td>1.0</td>\n    </tr>\n  </tbody>\n</table>\n<p>162208 rows × 6 columns</p>\n</div>"
     },
     "metadata": {},
     "execution_count": 254
    }
   ],
   "source": [
    "# how to load pickle (for future works)\n",
    "with open('dangjin_fcst_data.pkl','rb') as f:\n",
    "    loaded_dangjin_fcst_data = pickle.load(f)\n",
    "loaded_dangjin_fcst_data"
   ]
  }
 ]
}